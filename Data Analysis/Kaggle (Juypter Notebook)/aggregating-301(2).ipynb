{
 "cells": [
  {
   "cell_type": "markdown",
   "id": "67a05db0",
   "metadata": {
    "papermill": {
     "duration": 0.019588,
     "end_time": "2023-04-19T09:11:06.232788",
     "exception": false,
     "start_time": "2023-04-19T09:11:06.213200",
     "status": "completed"
    },
    "tags": []
   },
   "source": [
    "# Data reading, cleaning and general initialisation"
   ]
  },
  {
   "cell_type": "code",
   "execution_count": 1,
   "id": "94947384",
   "metadata": {
    "_cell_guid": "b1076dfc-b9ad-4769-8c92-a6c4dae69d19",
    "_uuid": "8f2839f25d086af736a60e9eeb907d3b93b6e0e5",
    "execution": {
     "iopub.execute_input": "2023-04-19T09:11:06.274336Z",
     "iopub.status.busy": "2023-04-19T09:11:06.272829Z",
     "iopub.status.idle": "2023-04-19T09:11:06.298019Z",
     "shell.execute_reply": "2023-04-19T09:11:06.296559Z"
    },
    "papermill": {
     "duration": 0.050176,
     "end_time": "2023-04-19T09:11:06.301353",
     "exception": false,
     "start_time": "2023-04-19T09:11:06.251177",
     "status": "completed"
    },
    "tags": []
   },
   "outputs": [
    {
     "name": "stdout",
     "output_type": "stream",
     "text": [
      "/kaggle/input/301-330-days/Data_5IAL_3_301.csv\n",
      "/kaggle/input/601-330-days/Data_5IAL_3_601.csv\n",
      "/kaggle/input/301-17mar-1day/Data_5IAL_3_30114-3.csv\n"
     ]
    }
   ],
   "source": [
    "# This Python 3 environment comes with many helpful analytics libraries installed\n",
    "# It is defined by the kaggle/python Docker image: https://github.com/kaggle/docker-python\n",
    "# For example, here's several helpful packages to load\n",
    "\n",
    "import numpy as np # linear algebra\n",
    "import pandas as pd # data processing, CSV file I/O (e.g. pd.read_csv)\n",
    "\n",
    "# Input data files are available in the read-only \"../input/\" directory\n",
    "# For example, running this (by clicking run or pressing Shift+Enter) will list all files under the input directory\n",
    "\n",
    "import os\n",
    "for dirname, _, filenames in os.walk('/kaggle/input'):\n",
    "    for filename in filenames:\n",
    "        print(os.path.join(dirname, filename))\n",
    "\n",
    "# You can write up to 20GB to the current directory (/kaggle/working/) that gets preserved as output when you create a version using \"Save & Run All\" \n",
    "# You can also write temporary files to /kaggle/temp/, but they won't be saved outside of the current session"
   ]
  },
  {
   "cell_type": "markdown",
   "id": "0b53b8fb",
   "metadata": {
    "papermill": {
     "duration": 0.01696,
     "end_time": "2023-04-19T09:11:06.335895",
     "exception": false,
     "start_time": "2023-04-19T09:11:06.318935",
     "status": "completed"
    },
    "tags": []
   },
   "source": [
    "## importing Packages"
   ]
  },
  {
   "cell_type": "code",
   "execution_count": 2,
   "id": "e3a4af98",
   "metadata": {
    "execution": {
     "iopub.execute_input": "2023-04-19T09:11:06.373741Z",
     "iopub.status.busy": "2023-04-19T09:11:06.372843Z",
     "iopub.status.idle": "2023-04-19T09:11:10.985580Z",
     "shell.execute_reply": "2023-04-19T09:11:10.983579Z"
    },
    "papermill": {
     "duration": 4.635185,
     "end_time": "2023-04-19T09:11:10.988820",
     "exception": false,
     "start_time": "2023-04-19T09:11:06.353635",
     "status": "completed"
    },
    "tags": []
   },
   "outputs": [
    {
     "name": "stdout",
     "output_type": "stream",
     "text": [
      "Importing all done!\n"
     ]
    }
   ],
   "source": [
    "from pandas_profiling import ProfileReport\n",
    "import sys\n",
    "import datetime\n",
    "import matplotlib.pyplot as plt\n",
    "import seaborn as sns\n",
    "\n",
    "print('Importing all done!')"
   ]
  },
  {
   "cell_type": "markdown",
   "id": "66bc8bc7",
   "metadata": {
    "papermill": {
     "duration": 0.017156,
     "end_time": "2023-04-19T09:11:11.023932",
     "exception": false,
     "start_time": "2023-04-19T09:11:11.006776",
     "status": "completed"
    },
    "tags": []
   },
   "source": [
    "## Reading data from CSV\n",
    "Reading both data from unit 301 and 601 from the masterplant"
   ]
  },
  {
   "cell_type": "code",
   "execution_count": 3,
   "id": "cd37d61b",
   "metadata": {
    "execution": {
     "iopub.execute_input": "2023-04-19T09:11:11.060932Z",
     "iopub.status.busy": "2023-04-19T09:11:11.060511Z",
     "iopub.status.idle": "2023-04-19T09:11:15.025073Z",
     "shell.execute_reply": "2023-04-19T09:11:15.023719Z"
    },
    "papermill": {
     "duration": 3.986605,
     "end_time": "2023-04-19T09:11:15.027965",
     "exception": false,
     "start_time": "2023-04-19T09:11:11.041360",
     "status": "completed"
    },
    "tags": []
   },
   "outputs": [
    {
     "name": "stderr",
     "output_type": "stream",
     "text": [
      "/opt/conda/lib/python3.7/site-packages/IPython/core/interactiveshell.py:3553: DtypeWarning: Columns (14) have mixed types.Specify dtype option on import or set low_memory=False.\n",
      "  exec(code_obj, self.user_global_ns, self.user_ns)\n"
     ]
    },
    {
     "data": {
      "text/html": [
       "<div>\n",
       "<style scoped>\n",
       "    .dataframe tbody tr th:only-of-type {\n",
       "        vertical-align: middle;\n",
       "    }\n",
       "\n",
       "    .dataframe tbody tr th {\n",
       "        vertical-align: top;\n",
       "    }\n",
       "\n",
       "    .dataframe thead th {\n",
       "        text-align: right;\n",
       "    }\n",
       "</style>\n",
       "<table border=\"1\" class=\"dataframe\">\n",
       "  <thead>\n",
       "    <tr style=\"text-align: right;\">\n",
       "      <th></th>\n",
       "      <th>Date</th>\n",
       "      <th>5IAL_3_TT301.50</th>\n",
       "      <th>5IAL_3_QIT301.52</th>\n",
       "      <th>5IAL_3_PIT 301.55</th>\n",
       "      <th>5IAL_3_QIT301.57</th>\n",
       "      <th>5IAL_3_PIT301.60</th>\n",
       "      <th>5IAL_3_FIT301.61MF</th>\n",
       "      <th>5IAL_3_FIT301.61VF</th>\n",
       "      <th>5IAL_3_FIT301.61D</th>\n",
       "      <th>5IAL_3_PIT301.63</th>\n",
       "      <th>...</th>\n",
       "      <th>5IAL_3_GSC301.44</th>\n",
       "      <th>5IAL_3_GSO301.44</th>\n",
       "      <th>5IAL_3_LSL301.64</th>\n",
       "      <th>5IAL_3_LSL301.68</th>\n",
       "      <th>5IAL_3_LSLL301.69</th>\n",
       "      <th>5IAL_3_301.OCCUPIED</th>\n",
       "      <th>5IAL_3_LIT301.54</th>\n",
       "      <th>5IAL_3_LSH301.56</th>\n",
       "      <th>5IAL_3_XPV301.13</th>\n",
       "      <th>5IAL_3_WY301.54</th>\n",
       "    </tr>\n",
       "  </thead>\n",
       "  <tbody>\n",
       "    <tr>\n",
       "      <th>0</th>\n",
       "      <td>2022-04-10 12:00:00</td>\n",
       "      <td>21.80</td>\n",
       "      <td>9.84</td>\n",
       "      <td>-0.02</td>\n",
       "      <td>0.0</td>\n",
       "      <td>0.0</td>\n",
       "      <td>0.0</td>\n",
       "      <td>0.0</td>\n",
       "      <td>0.00105</td>\n",
       "      <td>2.07</td>\n",
       "      <td>...</td>\n",
       "      <td>0</td>\n",
       "      <td>0</td>\n",
       "      <td>0</td>\n",
       "      <td>0</td>\n",
       "      <td>0</td>\n",
       "      <td>0</td>\n",
       "      <td>1.40</td>\n",
       "      <td>0</td>\n",
       "      <td>0.0</td>\n",
       "      <td>0.0</td>\n",
       "    </tr>\n",
       "    <tr>\n",
       "      <th>1</th>\n",
       "      <td>2022-04-10 12:01:00</td>\n",
       "      <td>21.80</td>\n",
       "      <td>9.84</td>\n",
       "      <td>-0.02</td>\n",
       "      <td>0.0</td>\n",
       "      <td>0.0</td>\n",
       "      <td>0.0</td>\n",
       "      <td>0.0</td>\n",
       "      <td>0.00106</td>\n",
       "      <td>2.07</td>\n",
       "      <td>...</td>\n",
       "      <td>0</td>\n",
       "      <td>0</td>\n",
       "      <td>0</td>\n",
       "      <td>0</td>\n",
       "      <td>0</td>\n",
       "      <td>0</td>\n",
       "      <td>1.40</td>\n",
       "      <td>0</td>\n",
       "      <td>0.0</td>\n",
       "      <td>0.0</td>\n",
       "    </tr>\n",
       "    <tr>\n",
       "      <th>2</th>\n",
       "      <td>2022-04-10 12:02:00</td>\n",
       "      <td>21.80</td>\n",
       "      <td>9.84</td>\n",
       "      <td>-0.02</td>\n",
       "      <td>0.0</td>\n",
       "      <td>0.0</td>\n",
       "      <td>0.0</td>\n",
       "      <td>0.0</td>\n",
       "      <td>0.00102</td>\n",
       "      <td>2.07</td>\n",
       "      <td>...</td>\n",
       "      <td>0</td>\n",
       "      <td>0</td>\n",
       "      <td>0</td>\n",
       "      <td>0</td>\n",
       "      <td>0</td>\n",
       "      <td>0</td>\n",
       "      <td>1.41</td>\n",
       "      <td>0</td>\n",
       "      <td>0.0</td>\n",
       "      <td>0.0</td>\n",
       "    </tr>\n",
       "    <tr>\n",
       "      <th>3</th>\n",
       "      <td>2022-04-10 12:03:00</td>\n",
       "      <td>21.78</td>\n",
       "      <td>9.84</td>\n",
       "      <td>-0.02</td>\n",
       "      <td>0.0</td>\n",
       "      <td>0.0</td>\n",
       "      <td>0.0</td>\n",
       "      <td>0.0</td>\n",
       "      <td>0.00105</td>\n",
       "      <td>2.07</td>\n",
       "      <td>...</td>\n",
       "      <td>0</td>\n",
       "      <td>0</td>\n",
       "      <td>0</td>\n",
       "      <td>0</td>\n",
       "      <td>0</td>\n",
       "      <td>0</td>\n",
       "      <td>1.40</td>\n",
       "      <td>0</td>\n",
       "      <td>0.0</td>\n",
       "      <td>0.0</td>\n",
       "    </tr>\n",
       "    <tr>\n",
       "      <th>4</th>\n",
       "      <td>2022-04-10 12:04:00</td>\n",
       "      <td>21.78</td>\n",
       "      <td>9.84</td>\n",
       "      <td>-0.02</td>\n",
       "      <td>0.0</td>\n",
       "      <td>0.0</td>\n",
       "      <td>0.0</td>\n",
       "      <td>0.0</td>\n",
       "      <td>0.00104</td>\n",
       "      <td>2.07</td>\n",
       "      <td>...</td>\n",
       "      <td>0</td>\n",
       "      <td>0</td>\n",
       "      <td>0</td>\n",
       "      <td>0</td>\n",
       "      <td>0</td>\n",
       "      <td>0</td>\n",
       "      <td>1.40</td>\n",
       "      <td>0</td>\n",
       "      <td>0.0</td>\n",
       "      <td>0.0</td>\n",
       "    </tr>\n",
       "  </tbody>\n",
       "</table>\n",
       "<p>5 rows × 39 columns</p>\n",
       "</div>"
      ],
      "text/plain": [
       "                 Date  5IAL_3_TT301.50  5IAL_3_QIT301.52  5IAL_3_PIT 301.55  \\\n",
       "0 2022-04-10 12:00:00            21.80              9.84              -0.02   \n",
       "1 2022-04-10 12:01:00            21.80              9.84              -0.02   \n",
       "2 2022-04-10 12:02:00            21.80              9.84              -0.02   \n",
       "3 2022-04-10 12:03:00            21.78              9.84              -0.02   \n",
       "4 2022-04-10 12:04:00            21.78              9.84              -0.02   \n",
       "\n",
       "   5IAL_3_QIT301.57  5IAL_3_PIT301.60  5IAL_3_FIT301.61MF  5IAL_3_FIT301.61VF  \\\n",
       "0               0.0               0.0                 0.0                 0.0   \n",
       "1               0.0               0.0                 0.0                 0.0   \n",
       "2               0.0               0.0                 0.0                 0.0   \n",
       "3               0.0               0.0                 0.0                 0.0   \n",
       "4               0.0               0.0                 0.0                 0.0   \n",
       "\n",
       "   5IAL_3_FIT301.61D  5IAL_3_PIT301.63  ...  5IAL_3_GSC301.44  \\\n",
       "0            0.00105              2.07  ...                 0   \n",
       "1            0.00106              2.07  ...                 0   \n",
       "2            0.00102              2.07  ...                 0   \n",
       "3            0.00105              2.07  ...                 0   \n",
       "4            0.00104              2.07  ...                 0   \n",
       "\n",
       "   5IAL_3_GSO301.44  5IAL_3_LSL301.64 5IAL_3_LSL301.68  5IAL_3_LSLL301.69  \\\n",
       "0                 0                 0                0                  0   \n",
       "1                 0                 0                0                  0   \n",
       "2                 0                 0                0                  0   \n",
       "3                 0                 0                0                  0   \n",
       "4                 0                 0                0                  0   \n",
       "\n",
       "   5IAL_3_301.OCCUPIED  5IAL_3_LIT301.54  5IAL_3_LSH301.56  5IAL_3_XPV301.13  \\\n",
       "0                    0              1.40                 0               0.0   \n",
       "1                    0              1.40                 0               0.0   \n",
       "2                    0              1.41                 0               0.0   \n",
       "3                    0              1.40                 0               0.0   \n",
       "4                    0              1.40                 0               0.0   \n",
       "\n",
       "   5IAL_3_WY301.54  \n",
       "0              0.0  \n",
       "1              0.0  \n",
       "2              0.0  \n",
       "3              0.0  \n",
       "4              0.0  \n",
       "\n",
       "[5 rows x 39 columns]"
      ]
     },
     "execution_count": 3,
     "metadata": {},
     "output_type": "execute_result"
    }
   ],
   "source": [
    "data=pd.read_csv('/kaggle/input/301-330-days/Data_5IAL_3_301.csv',parse_dates=[1],index_col=[0])\n",
    "data.rename(columns={'0':'Date'},inplace=True)\n",
    "data.head()"
   ]
  },
  {
   "cell_type": "markdown",
   "id": "60432186",
   "metadata": {
    "papermill": {
     "duration": 0.01767,
     "end_time": "2023-04-19T09:11:15.063626",
     "exception": false,
     "start_time": "2023-04-19T09:11:15.045956",
     "status": "completed"
    },
    "tags": []
   },
   "source": [
    "## Readin CIP Data"
   ]
  },
  {
   "cell_type": "code",
   "execution_count": 4,
   "id": "033bfe6e",
   "metadata": {
    "execution": {
     "iopub.execute_input": "2023-04-19T09:11:15.101719Z",
     "iopub.status.busy": "2023-04-19T09:11:15.100548Z",
     "iopub.status.idle": "2023-04-19T09:11:16.682146Z",
     "shell.execute_reply": "2023-04-19T09:11:16.680697Z"
    },
    "papermill": {
     "duration": 1.603874,
     "end_time": "2023-04-19T09:11:16.685178",
     "exception": false,
     "start_time": "2023-04-19T09:11:15.081304",
     "status": "completed"
    },
    "tags": []
   },
   "outputs": [
    {
     "data": {
      "text/html": [
       "<div>\n",
       "<style scoped>\n",
       "    .dataframe tbody tr th:only-of-type {\n",
       "        vertical-align: middle;\n",
       "    }\n",
       "\n",
       "    .dataframe tbody tr th {\n",
       "        vertical-align: top;\n",
       "    }\n",
       "\n",
       "    .dataframe thead th {\n",
       "        text-align: right;\n",
       "    }\n",
       "</style>\n",
       "<table border=\"1\" class=\"dataframe\">\n",
       "  <thead>\n",
       "    <tr style=\"text-align: right;\">\n",
       "      <th></th>\n",
       "      <th>0</th>\n",
       "      <th>5IAL_3_PIT601.55</th>\n",
       "      <th>5IAL_3_PC601.70FSP</th>\n",
       "      <th>5IAL_3_PC601.70PSP</th>\n",
       "    </tr>\n",
       "  </thead>\n",
       "  <tbody>\n",
       "    <tr>\n",
       "      <th>0</th>\n",
       "      <td>2022-04-10 12:00:00</td>\n",
       "      <td>1.31</td>\n",
       "      <td>5.0</td>\n",
       "      <td>1.31</td>\n",
       "    </tr>\n",
       "    <tr>\n",
       "      <th>1</th>\n",
       "      <td>2022-04-10 12:01:00</td>\n",
       "      <td>1.30</td>\n",
       "      <td>5.0</td>\n",
       "      <td>1.30</td>\n",
       "    </tr>\n",
       "    <tr>\n",
       "      <th>2</th>\n",
       "      <td>2022-04-10 12:02:00</td>\n",
       "      <td>1.30</td>\n",
       "      <td>5.0</td>\n",
       "      <td>1.30</td>\n",
       "    </tr>\n",
       "    <tr>\n",
       "      <th>3</th>\n",
       "      <td>2022-04-10 12:03:00</td>\n",
       "      <td>1.30</td>\n",
       "      <td>5.0</td>\n",
       "      <td>1.30</td>\n",
       "    </tr>\n",
       "    <tr>\n",
       "      <th>4</th>\n",
       "      <td>2022-04-10 12:04:00</td>\n",
       "      <td>1.30</td>\n",
       "      <td>5.0</td>\n",
       "      <td>1.30</td>\n",
       "    </tr>\n",
       "  </tbody>\n",
       "</table>\n",
       "</div>"
      ],
      "text/plain": [
       "                    0  5IAL_3_PIT601.55  5IAL_3_PC601.70FSP  \\\n",
       "0 2022-04-10 12:00:00              1.31                 5.0   \n",
       "1 2022-04-10 12:01:00              1.30                 5.0   \n",
       "2 2022-04-10 12:02:00              1.30                 5.0   \n",
       "3 2022-04-10 12:03:00              1.30                 5.0   \n",
       "4 2022-04-10 12:04:00              1.30                 5.0   \n",
       "\n",
       "   5IAL_3_PC601.70PSP  \n",
       "0                1.31  \n",
       "1                1.30  \n",
       "2                1.30  \n",
       "3                1.30  \n",
       "4                1.30  "
      ]
     },
     "execution_count": 4,
     "metadata": {},
     "output_type": "execute_result"
    }
   ],
   "source": [
    "fields = ['0', '5IAL_3_PC601.70FSP','5IAL_3_PC601.70PSP','5IAL_3_PIT601.55']\n",
    "\n",
    "data_cip = pd.read_csv('/kaggle/input/601-330-days/Data_5IAL_3_601.csv', skipinitialspace=True, usecols=fields,parse_dates=[0])\n",
    "\n",
    "data_cip.head()"
   ]
  },
  {
   "cell_type": "code",
   "execution_count": 5,
   "id": "16716dbe",
   "metadata": {
    "execution": {
     "iopub.execute_input": "2023-04-19T09:11:16.724380Z",
     "iopub.status.busy": "2023-04-19T09:11:16.723530Z",
     "iopub.status.idle": "2023-04-19T09:11:16.732212Z",
     "shell.execute_reply": "2023-04-19T09:11:16.730879Z"
    },
    "papermill": {
     "duration": 0.031057,
     "end_time": "2023-04-19T09:11:16.734739",
     "exception": false,
     "start_time": "2023-04-19T09:11:16.703682",
     "status": "completed"
    },
    "tags": []
   },
   "outputs": [
    {
     "name": "stdout",
     "output_type": "stream",
     "text": [
      "Date                    datetime64[ns]\n",
      "5IAL_3_TT301.50                float64\n",
      "5IAL_3_QIT301.52               float64\n",
      "5IAL_3_PIT 301.55              float64\n",
      "5IAL_3_QIT301.57               float64\n",
      "5IAL_3_PIT301.60               float64\n",
      "5IAL_3_FIT301.61MF             float64\n",
      "5IAL_3_FIT301.61VF             float64\n",
      "5IAL_3_FIT301.61D              float64\n",
      "5IAL_3_PIT301.63               float64\n",
      "5IAL_3_P301.70                 float64\n",
      "5IAL_3_R301.71                 float64\n",
      "5IAL_3_P301.72                 float64\n",
      "5IAL_3_301.BatchName            object\n",
      "5IAL_3_XPV301.05                 int64\n",
      "5IAL_3_XPV301.06                 int64\n",
      "5IAL_3_XPV301.08                 int64\n",
      "5IAL_3_XPV301.09                 int64\n",
      "5IAL_3_XPV301.22                 int64\n",
      "5IAL_3_XPV301.35                 int64\n",
      "5IAL_3_XPV301.36                 int64\n",
      "5IAL_3_XPV301.42                 int64\n",
      "5IAL_3_XPV301.43                 int64\n",
      "5IAL_3_XPV301.46                 int64\n",
      "5IAL_3_XPV301.53                 int64\n",
      "5IAL_3_XPV301.54                 int64\n",
      "5IAL_3_XPV301.63                 int64\n",
      "5IAL_3_LSL301.51                 int64\n",
      "5IAL_3_LSL301.53                 int64\n",
      "5IAL_3_GSC301.44                 int64\n",
      "5IAL_3_GSO301.44                 int64\n",
      "5IAL_3_LSL301.64                 int64\n",
      "5IAL_3_LSL301.68                 int64\n",
      "5IAL_3_LSLL301.69                int64\n",
      "5IAL_3_301.OCCUPIED              int64\n",
      "5IAL_3_LIT301.54               float64\n",
      "5IAL_3_LSH301.56                 int64\n",
      "5IAL_3_XPV301.13               float64\n",
      "5IAL_3_WY301.54                float64\n",
      "dtype: object\n"
     ]
    }
   ],
   "source": [
    "print(data.dtypes)"
   ]
  },
  {
   "cell_type": "markdown",
   "id": "98ee731b",
   "metadata": {
    "papermill": {
     "duration": 0.017735,
     "end_time": "2023-04-19T09:11:16.770736",
     "exception": false,
     "start_time": "2023-04-19T09:11:16.753001",
     "status": "completed"
    },
    "tags": []
   },
   "source": [
    "# Data Analysis"
   ]
  },
  {
   "cell_type": "markdown",
   "id": "a1d2cf50",
   "metadata": {
    "papermill": {
     "duration": 0.017995,
     "end_time": "2023-04-19T09:11:16.806774",
     "exception": false,
     "start_time": "2023-04-19T09:11:16.788779",
     "status": "completed"
    },
    "tags": []
   },
   "source": [
    "## Look how many unique batches there are"
   ]
  },
  {
   "cell_type": "code",
   "execution_count": 6,
   "id": "ca20bead",
   "metadata": {
    "execution": {
     "iopub.execute_input": "2023-04-19T09:11:16.844754Z",
     "iopub.status.busy": "2023-04-19T09:11:16.844316Z",
     "iopub.status.idle": "2023-04-19T09:11:16.915789Z",
     "shell.execute_reply": "2023-04-19T09:11:16.914339Z"
    },
    "papermill": {
     "duration": 0.094154,
     "end_time": "2023-04-19T09:11:16.919030",
     "exception": false,
     "start_time": "2023-04-19T09:11:16.824876",
     "status": "completed"
    },
    "tags": []
   },
   "outputs": [
    {
     "name": "stdout",
     "output_type": "stream",
     "text": [
      "[nan 'YP5812210101' 'YP5812210102' ... 'KB212306501' 'NA KB212306501'\n",
      " 'KC112306501']\n"
     ]
    }
   ],
   "source": [
    "Batch_Names=data['5IAL_3_301.BatchName']\n",
    "\n",
    "unieque_names=Batch_Names.unique()\n",
    "\n",
    "#np.set_printoptions(threshold=sys.maxsize)\n",
    "\n",
    "data['5IAL_3_301.BatchName']= data['5IAL_3_301.BatchName'].fillna('No Batch Specified')\n",
    "\n",
    "print(unieque_names)"
   ]
  },
  {
   "cell_type": "code",
   "execution_count": 7,
   "id": "d6ccceec",
   "metadata": {
    "execution": {
     "iopub.execute_input": "2023-04-19T09:11:16.958574Z",
     "iopub.status.busy": "2023-04-19T09:11:16.958089Z",
     "iopub.status.idle": "2023-04-19T09:11:17.014759Z",
     "shell.execute_reply": "2023-04-19T09:11:17.013261Z"
    },
    "papermill": {
     "duration": 0.079941,
     "end_time": "2023-04-19T09:11:17.017913",
     "exception": false,
     "start_time": "2023-04-19T09:11:16.937972",
     "status": "completed"
    },
    "tags": []
   },
   "outputs": [
    {
     "data": {
      "text/plain": [
       "5IAL_3_301.BatchName\n",
       "CB212211501        179\n",
       "CB212211502        124\n",
       "CB212215401        111\n",
       "CB212215402        113\n",
       "CB212220801        179\n",
       "                  ... \n",
       "na MP7012305403     20\n",
       "na YC112225904      22\n",
       "na YP5812212302     19\n",
       "na YP7012229902     28\n",
       "na-kp7012226604     22\n",
       "Length: 1629, dtype: int64"
      ]
     },
     "execution_count": 7,
     "metadata": {},
     "output_type": "execute_result"
    }
   ],
   "source": [
    "data.groupby(data['5IAL_3_301.BatchName']).size()"
   ]
  },
  {
   "cell_type": "code",
   "execution_count": 8,
   "id": "55268451",
   "metadata": {
    "execution": {
     "iopub.execute_input": "2023-04-19T09:11:17.057205Z",
     "iopub.status.busy": "2023-04-19T09:11:17.056790Z",
     "iopub.status.idle": "2023-04-19T09:11:17.251741Z",
     "shell.execute_reply": "2023-04-19T09:11:17.250465Z"
    },
    "papermill": {
     "duration": 0.217551,
     "end_time": "2023-04-19T09:11:17.254519",
     "exception": false,
     "start_time": "2023-04-19T09:11:17.036968",
     "status": "completed"
    },
    "tags": []
   },
   "outputs": [
    {
     "data": {
      "text/plain": [
       "18    294955\n",
       "12     99133\n",
       "11     54318\n",
       "15      8175\n",
       "24      6066\n",
       "14      5952\n",
       "19      4533\n",
       "10       687\n",
       "23       339\n",
       "17       283\n",
       "20       210\n",
       "6        174\n",
       "27        92\n",
       "16        87\n",
       "26        69\n",
       "13        57\n",
       "32        47\n",
       "22        42\n",
       "21        41\n",
       "Name: 5IAL_3_301.BatchName, dtype: int64"
      ]
     },
     "execution_count": 8,
     "metadata": {},
     "output_type": "execute_result"
    }
   ],
   "source": [
    "data['5IAL_3_301.BatchName'].str.len().value_counts()"
   ]
  },
  {
   "cell_type": "markdown",
   "id": "eb628a9f",
   "metadata": {
    "papermill": {
     "duration": 0.017866,
     "end_time": "2023-04-19T09:11:17.290862",
     "exception": false,
     "start_time": "2023-04-19T09:11:17.272996",
     "status": "completed"
    },
    "tags": []
   },
   "source": [
    "## make a subset of the pressure related variables for easier selection"
   ]
  },
  {
   "cell_type": "code",
   "execution_count": 9,
   "id": "a934964c",
   "metadata": {
    "execution": {
     "iopub.execute_input": "2023-04-19T09:11:17.329632Z",
     "iopub.status.busy": "2023-04-19T09:11:17.329159Z",
     "iopub.status.idle": "2023-04-19T09:11:17.347235Z",
     "shell.execute_reply": "2023-04-19T09:11:17.345769Z"
    },
    "papermill": {
     "duration": 0.04053,
     "end_time": "2023-04-19T09:11:17.349801",
     "exception": false,
     "start_time": "2023-04-19T09:11:17.309271",
     "status": "completed"
    },
    "tags": []
   },
   "outputs": [
    {
     "data": {
      "text/html": [
       "<div>\n",
       "<style scoped>\n",
       "    .dataframe tbody tr th:only-of-type {\n",
       "        vertical-align: middle;\n",
       "    }\n",
       "\n",
       "    .dataframe tbody tr th {\n",
       "        vertical-align: top;\n",
       "    }\n",
       "\n",
       "    .dataframe thead th {\n",
       "        text-align: right;\n",
       "    }\n",
       "</style>\n",
       "<table border=\"1\" class=\"dataframe\">\n",
       "  <thead>\n",
       "    <tr style=\"text-align: right;\">\n",
       "      <th></th>\n",
       "      <th>5IAL_3_FIT301.61MF</th>\n",
       "      <th>5IAL_3_XPV301.13</th>\n",
       "      <th>5IAL_3_P301.70</th>\n",
       "      <th>5IAL_3_PIT 301.55</th>\n",
       "    </tr>\n",
       "  </thead>\n",
       "  <tbody>\n",
       "    <tr>\n",
       "      <th>0</th>\n",
       "      <td>0.0</td>\n",
       "      <td>0.0</td>\n",
       "      <td>0.0</td>\n",
       "      <td>-0.02</td>\n",
       "    </tr>\n",
       "    <tr>\n",
       "      <th>1</th>\n",
       "      <td>0.0</td>\n",
       "      <td>0.0</td>\n",
       "      <td>0.0</td>\n",
       "      <td>-0.02</td>\n",
       "    </tr>\n",
       "    <tr>\n",
       "      <th>2</th>\n",
       "      <td>0.0</td>\n",
       "      <td>0.0</td>\n",
       "      <td>0.0</td>\n",
       "      <td>-0.02</td>\n",
       "    </tr>\n",
       "    <tr>\n",
       "      <th>3</th>\n",
       "      <td>0.0</td>\n",
       "      <td>0.0</td>\n",
       "      <td>0.0</td>\n",
       "      <td>-0.02</td>\n",
       "    </tr>\n",
       "    <tr>\n",
       "      <th>4</th>\n",
       "      <td>0.0</td>\n",
       "      <td>0.0</td>\n",
       "      <td>0.0</td>\n",
       "      <td>-0.02</td>\n",
       "    </tr>\n",
       "  </tbody>\n",
       "</table>\n",
       "</div>"
      ],
      "text/plain": [
       "   5IAL_3_FIT301.61MF  5IAL_3_XPV301.13  5IAL_3_P301.70  5IAL_3_PIT 301.55\n",
       "0                 0.0               0.0             0.0              -0.02\n",
       "1                 0.0               0.0             0.0              -0.02\n",
       "2                 0.0               0.0             0.0              -0.02\n",
       "3                 0.0               0.0             0.0              -0.02\n",
       "4                 0.0               0.0             0.0              -0.02"
      ]
     },
     "execution_count": 9,
     "metadata": {},
     "output_type": "execute_result"
    }
   ],
   "source": [
    "pressure=data.loc[:, ['5IAL_3_FIT301.61MF', '5IAL_3_XPV301.13', '5IAL_3_P301.70','5IAL_3_PIT 301.55']] \n",
    "pressure.head()"
   ]
  },
  {
   "cell_type": "markdown",
   "id": "8b825042",
   "metadata": {
    "papermill": {
     "duration": 0.018215,
     "end_time": "2023-04-19T09:11:17.386545",
     "exception": false,
     "start_time": "2023-04-19T09:11:17.368330",
     "status": "completed"
    },
    "tags": []
   },
   "source": [
    "## Normalise the selection with use of the Z-Score\n",
    "The Z-score can be described as:\n",
    "$$ Z=\\frac{x-\\mu}{\\sigma} $$\n",
    "Herein $x$ is your value, $\\mu$ is the average of the population that value is taken from, and $\\sigma$ is the standard deviation of the population.\n",
    "It is basicaly a measure of how far a given value is away from its mean in standard deviations.\n",
    "To give you a good feeling, in a normal distribution 66% of values are within 1 std of the mean. 99% are withing 2 std and 99.9 is within 3\\\n",
    "\\\n",
    "Note that i am not yet sure how representative all of this is for the data, it just allows me to use Massflow and resulting pressure more easaly because the range of values are simalar and i dont have to specify two seperate axis with values within 1 figure."
   ]
  },
  {
   "cell_type": "code",
   "execution_count": 10,
   "id": "c8f476a5",
   "metadata": {
    "execution": {
     "iopub.execute_input": "2023-04-19T09:11:17.426690Z",
     "iopub.status.busy": "2023-04-19T09:11:17.425121Z",
     "iopub.status.idle": "2023-04-19T09:11:17.963710Z",
     "shell.execute_reply": "2023-04-19T09:11:17.962458Z"
    },
    "papermill": {
     "duration": 0.561596,
     "end_time": "2023-04-19T09:11:17.966639",
     "exception": false,
     "start_time": "2023-04-19T09:11:17.405043",
     "status": "completed"
    },
    "tags": []
   },
   "outputs": [
    {
     "data": {
      "text/html": [
       "<div>\n",
       "<style scoped>\n",
       "    .dataframe tbody tr th:only-of-type {\n",
       "        vertical-align: middle;\n",
       "    }\n",
       "\n",
       "    .dataframe tbody tr th {\n",
       "        vertical-align: top;\n",
       "    }\n",
       "\n",
       "    .dataframe thead th {\n",
       "        text-align: right;\n",
       "    }\n",
       "</style>\n",
       "<table border=\"1\" class=\"dataframe\">\n",
       "  <thead>\n",
       "    <tr style=\"text-align: right;\">\n",
       "      <th></th>\n",
       "      <th>5IAL_3_FIT301.61MF</th>\n",
       "      <th>5IAL_3_XPV301.13</th>\n",
       "      <th>5IAL_3_P301.70</th>\n",
       "      <th>5IAL_3_PIT 301.55</th>\n",
       "    </tr>\n",
       "  </thead>\n",
       "  <tbody>\n",
       "    <tr>\n",
       "      <th>0</th>\n",
       "      <td>-0.657435</td>\n",
       "      <td>-0.566649</td>\n",
       "      <td>-0.566645</td>\n",
       "      <td>-0.557907</td>\n",
       "    </tr>\n",
       "    <tr>\n",
       "      <th>1</th>\n",
       "      <td>-0.657435</td>\n",
       "      <td>-0.566649</td>\n",
       "      <td>-0.566645</td>\n",
       "      <td>-0.557907</td>\n",
       "    </tr>\n",
       "    <tr>\n",
       "      <th>2</th>\n",
       "      <td>-0.657435</td>\n",
       "      <td>-0.566649</td>\n",
       "      <td>-0.566645</td>\n",
       "      <td>-0.557907</td>\n",
       "    </tr>\n",
       "    <tr>\n",
       "      <th>3</th>\n",
       "      <td>-0.657435</td>\n",
       "      <td>-0.566649</td>\n",
       "      <td>-0.566645</td>\n",
       "      <td>-0.557907</td>\n",
       "    </tr>\n",
       "    <tr>\n",
       "      <th>4</th>\n",
       "      <td>-0.657435</td>\n",
       "      <td>-0.566649</td>\n",
       "      <td>-0.566645</td>\n",
       "      <td>-0.557907</td>\n",
       "    </tr>\n",
       "  </tbody>\n",
       "</table>\n",
       "</div>"
      ],
      "text/plain": [
       "   5IAL_3_FIT301.61MF  5IAL_3_XPV301.13  5IAL_3_P301.70  5IAL_3_PIT 301.55\n",
       "0           -0.657435         -0.566649       -0.566645          -0.557907\n",
       "1           -0.657435         -0.566649       -0.566645          -0.557907\n",
       "2           -0.657435         -0.566649       -0.566645          -0.557907\n",
       "3           -0.657435         -0.566649       -0.566645          -0.557907\n",
       "4           -0.657435         -0.566649       -0.566645          -0.557907"
      ]
     },
     "execution_count": 10,
     "metadata": {},
     "output_type": "execute_result"
    }
   ],
   "source": [
    "pres_norm=pd.DataFrame()\n",
    "for col in pressure:\n",
    "    zval=(pressure[col]-np.mean(pressure[col]))/np.std(pressure[col])\n",
    "    pres_norm=pd.concat([pres_norm,zval],axis=1)\n",
    "    \n",
    "pres_norm.head()"
   ]
  },
  {
   "cell_type": "markdown",
   "id": "48aa72ce",
   "metadata": {
    "papermill": {
     "duration": 0.01932,
     "end_time": "2023-04-19T09:11:18.005030",
     "exception": false,
     "start_time": "2023-04-19T09:11:17.985710",
     "status": "completed"
    },
    "tags": []
   },
   "source": []
  },
  {
   "cell_type": "markdown",
   "id": "589401fb",
   "metadata": {
    "papermill": {
     "duration": 0.018541,
     "end_time": "2023-04-19T09:11:18.042723",
     "exception": false,
     "start_time": "2023-04-19T09:11:18.024182",
     "status": "completed"
    },
    "tags": []
   },
   "source": [
    "# Create non-leakage Frac\n",
    "My normalised frac uses averages and standerd deviation of the WHOLE dataset to normalize pressure and flow.\\\n",
    "However, these also include values that would now be placed in the val or test sets. That data leakage.\\\n",
    "\n",
    "To fix this ill make a frac only using values that are available\\"
   ]
  },
  {
   "cell_type": "code",
   "execution_count": 11,
   "id": "76ff3eca",
   "metadata": {
    "execution": {
     "iopub.execute_input": "2023-04-19T09:11:18.083249Z",
     "iopub.status.busy": "2023-04-19T09:11:18.082775Z",
     "iopub.status.idle": "2023-04-19T09:11:18.102367Z",
     "shell.execute_reply": "2023-04-19T09:11:18.100914Z"
    },
    "papermill": {
     "duration": 0.042827,
     "end_time": "2023-04-19T09:11:18.104866",
     "exception": false,
     "start_time": "2023-04-19T09:11:18.062039",
     "status": "completed"
    },
    "tags": []
   },
   "outputs": [
    {
     "data": {
      "text/html": [
       "<div>\n",
       "<style scoped>\n",
       "    .dataframe tbody tr th:only-of-type {\n",
       "        vertical-align: middle;\n",
       "    }\n",
       "\n",
       "    .dataframe tbody tr th {\n",
       "        vertical-align: top;\n",
       "    }\n",
       "\n",
       "    .dataframe thead th {\n",
       "        text-align: right;\n",
       "    }\n",
       "</style>\n",
       "<table border=\"1\" class=\"dataframe\">\n",
       "  <thead>\n",
       "    <tr style=\"text-align: right;\">\n",
       "      <th></th>\n",
       "      <th>5IAL_3_FIT301.61MF</th>\n",
       "      <th>5IAL_3_XPV301.13</th>\n",
       "      <th>5IAL_3_P301.70</th>\n",
       "      <th>5IAL_3_PIT 301.55</th>\n",
       "    </tr>\n",
       "  </thead>\n",
       "  <tbody>\n",
       "    <tr>\n",
       "      <th>0</th>\n",
       "      <td>0.0</td>\n",
       "      <td>0.0</td>\n",
       "      <td>0.0</td>\n",
       "      <td>-0.02</td>\n",
       "    </tr>\n",
       "    <tr>\n",
       "      <th>1</th>\n",
       "      <td>0.0</td>\n",
       "      <td>0.0</td>\n",
       "      <td>0.0</td>\n",
       "      <td>-0.02</td>\n",
       "    </tr>\n",
       "    <tr>\n",
       "      <th>2</th>\n",
       "      <td>0.0</td>\n",
       "      <td>0.0</td>\n",
       "      <td>0.0</td>\n",
       "      <td>-0.02</td>\n",
       "    </tr>\n",
       "    <tr>\n",
       "      <th>3</th>\n",
       "      <td>0.0</td>\n",
       "      <td>0.0</td>\n",
       "      <td>0.0</td>\n",
       "      <td>-0.02</td>\n",
       "    </tr>\n",
       "    <tr>\n",
       "      <th>4</th>\n",
       "      <td>0.0</td>\n",
       "      <td>0.0</td>\n",
       "      <td>0.0</td>\n",
       "      <td>-0.02</td>\n",
       "    </tr>\n",
       "  </tbody>\n",
       "</table>\n",
       "</div>"
      ],
      "text/plain": [
       "   5IAL_3_FIT301.61MF  5IAL_3_XPV301.13  5IAL_3_P301.70  5IAL_3_PIT 301.55\n",
       "0                 0.0               0.0             0.0              -0.02\n",
       "1                 0.0               0.0             0.0              -0.02\n",
       "2                 0.0               0.0             0.0              -0.02\n",
       "3                 0.0               0.0             0.0              -0.02\n",
       "4                 0.0               0.0             0.0              -0.02"
      ]
     },
     "execution_count": 11,
     "metadata": {},
     "output_type": "execute_result"
    }
   ],
   "source": [
    "pressure=data.loc[:, ['5IAL_3_FIT301.61MF', '5IAL_3_XPV301.13', '5IAL_3_P301.70','5IAL_3_PIT 301.55']] \n",
    "pressure.head()"
   ]
  },
  {
   "cell_type": "code",
   "execution_count": 12,
   "id": "be3af417",
   "metadata": {
    "execution": {
     "iopub.execute_input": "2023-04-19T09:11:18.146486Z",
     "iopub.status.busy": "2023-04-19T09:11:18.145362Z",
     "iopub.status.idle": "2023-04-19T09:11:24.321863Z",
     "shell.execute_reply": "2023-04-19T09:11:24.320643Z"
    },
    "papermill": {
     "duration": 6.200488,
     "end_time": "2023-04-19T09:11:24.324765",
     "exception": false,
     "start_time": "2023-04-19T09:11:18.124277",
     "status": "completed"
    },
    "tags": []
   },
   "outputs": [
    {
     "data": {
      "text/html": [
       "<div>\n",
       "<style scoped>\n",
       "    .dataframe tbody tr th:only-of-type {\n",
       "        vertical-align: middle;\n",
       "    }\n",
       "\n",
       "    .dataframe tbody tr th {\n",
       "        vertical-align: top;\n",
       "    }\n",
       "\n",
       "    .dataframe thead th {\n",
       "        text-align: right;\n",
       "    }\n",
       "</style>\n",
       "<table border=\"1\" class=\"dataframe\">\n",
       "  <thead>\n",
       "    <tr style=\"text-align: right;\">\n",
       "      <th></th>\n",
       "      <th>Date</th>\n",
       "      <th>5IAL_3_TT301.50</th>\n",
       "      <th>5IAL_3_QIT301.52</th>\n",
       "      <th>5IAL_3_PIT 301.55</th>\n",
       "      <th>5IAL_3_QIT301.57</th>\n",
       "      <th>5IAL_3_PIT301.60</th>\n",
       "      <th>5IAL_3_FIT301.61MF</th>\n",
       "      <th>5IAL_3_FIT301.61VF</th>\n",
       "      <th>5IAL_3_FIT301.61D</th>\n",
       "      <th>5IAL_3_PIT301.63</th>\n",
       "      <th>...</th>\n",
       "      <th>5IAL_3_LSL301.64</th>\n",
       "      <th>5IAL_3_LSL301.68</th>\n",
       "      <th>5IAL_3_LSLL301.69</th>\n",
       "      <th>5IAL_3_301.OCCUPIED</th>\n",
       "      <th>5IAL_3_LIT301.54</th>\n",
       "      <th>5IAL_3_LSH301.56</th>\n",
       "      <th>5IAL_3_XPV301.13</th>\n",
       "      <th>5IAL_3_WY301.54</th>\n",
       "      <th>5IAL_3_301.BatchName</th>\n",
       "      <th>frac</th>\n",
       "    </tr>\n",
       "  </thead>\n",
       "  <tbody>\n",
       "    <tr>\n",
       "      <th>0</th>\n",
       "      <td>-1.732047</td>\n",
       "      <td>-0.303589</td>\n",
       "      <td>0.745491</td>\n",
       "      <td>-0.557907</td>\n",
       "      <td>-0.181282</td>\n",
       "      <td>0.67215</td>\n",
       "      <td>-0.657435</td>\n",
       "      <td>-0.01498</td>\n",
       "      <td>-0.805631</td>\n",
       "      <td>0.008043</td>\n",
       "      <td>...</td>\n",
       "      <td>-0.385754</td>\n",
       "      <td>-0.096767</td>\n",
       "      <td>-0.072646</td>\n",
       "      <td>-0.732724</td>\n",
       "      <td>-0.564607</td>\n",
       "      <td>-0.067254</td>\n",
       "      <td>-0.566649</td>\n",
       "      <td>-0.60207</td>\n",
       "      <td>No Batch Specified</td>\n",
       "      <td>0.861902</td>\n",
       "    </tr>\n",
       "    <tr>\n",
       "      <th>1</th>\n",
       "      <td>-1.732040</td>\n",
       "      <td>-0.303589</td>\n",
       "      <td>0.745491</td>\n",
       "      <td>-0.557907</td>\n",
       "      <td>-0.181282</td>\n",
       "      <td>0.67215</td>\n",
       "      <td>-0.657435</td>\n",
       "      <td>-0.01498</td>\n",
       "      <td>-0.805611</td>\n",
       "      <td>0.008043</td>\n",
       "      <td>...</td>\n",
       "      <td>-0.385754</td>\n",
       "      <td>-0.096767</td>\n",
       "      <td>-0.072646</td>\n",
       "      <td>-0.732724</td>\n",
       "      <td>-0.564607</td>\n",
       "      <td>-0.067254</td>\n",
       "      <td>-0.566649</td>\n",
       "      <td>-0.60207</td>\n",
       "      <td>No Batch Specified</td>\n",
       "      <td>0.861902</td>\n",
       "    </tr>\n",
       "    <tr>\n",
       "      <th>2</th>\n",
       "      <td>-1.732033</td>\n",
       "      <td>-0.303589</td>\n",
       "      <td>0.745491</td>\n",
       "      <td>-0.557907</td>\n",
       "      <td>-0.181282</td>\n",
       "      <td>0.67215</td>\n",
       "      <td>-0.657435</td>\n",
       "      <td>-0.01498</td>\n",
       "      <td>-0.805691</td>\n",
       "      <td>0.008043</td>\n",
       "      <td>...</td>\n",
       "      <td>-0.385754</td>\n",
       "      <td>-0.096767</td>\n",
       "      <td>-0.072646</td>\n",
       "      <td>-0.732724</td>\n",
       "      <td>-0.564334</td>\n",
       "      <td>-0.067254</td>\n",
       "      <td>-0.566649</td>\n",
       "      <td>-0.60207</td>\n",
       "      <td>No Batch Specified</td>\n",
       "      <td>0.861902</td>\n",
       "    </tr>\n",
       "    <tr>\n",
       "      <th>3</th>\n",
       "      <td>-1.732025</td>\n",
       "      <td>-0.307931</td>\n",
       "      <td>0.745491</td>\n",
       "      <td>-0.557907</td>\n",
       "      <td>-0.181282</td>\n",
       "      <td>0.67215</td>\n",
       "      <td>-0.657435</td>\n",
       "      <td>-0.01498</td>\n",
       "      <td>-0.805631</td>\n",
       "      <td>0.008043</td>\n",
       "      <td>...</td>\n",
       "      <td>-0.385754</td>\n",
       "      <td>-0.096767</td>\n",
       "      <td>-0.072646</td>\n",
       "      <td>-0.732724</td>\n",
       "      <td>-0.564607</td>\n",
       "      <td>-0.067254</td>\n",
       "      <td>-0.566649</td>\n",
       "      <td>-0.60207</td>\n",
       "      <td>No Batch Specified</td>\n",
       "      <td>0.861902</td>\n",
       "    </tr>\n",
       "    <tr>\n",
       "      <th>4</th>\n",
       "      <td>-1.732018</td>\n",
       "      <td>-0.307931</td>\n",
       "      <td>0.745491</td>\n",
       "      <td>-0.557907</td>\n",
       "      <td>-0.181282</td>\n",
       "      <td>0.67215</td>\n",
       "      <td>-0.657435</td>\n",
       "      <td>-0.01498</td>\n",
       "      <td>-0.805651</td>\n",
       "      <td>0.008043</td>\n",
       "      <td>...</td>\n",
       "      <td>-0.385754</td>\n",
       "      <td>-0.096767</td>\n",
       "      <td>-0.072646</td>\n",
       "      <td>-0.732724</td>\n",
       "      <td>-0.564607</td>\n",
       "      <td>-0.067254</td>\n",
       "      <td>-0.566649</td>\n",
       "      <td>-0.60207</td>\n",
       "      <td>No Batch Specified</td>\n",
       "      <td>0.861902</td>\n",
       "    </tr>\n",
       "  </tbody>\n",
       "</table>\n",
       "<p>5 rows × 40 columns</p>\n",
       "</div>"
      ],
      "text/plain": [
       "       Date  5IAL_3_TT301.50  5IAL_3_QIT301.52  5IAL_3_PIT 301.55  \\\n",
       "0 -1.732047        -0.303589          0.745491          -0.557907   \n",
       "1 -1.732040        -0.303589          0.745491          -0.557907   \n",
       "2 -1.732033        -0.303589          0.745491          -0.557907   \n",
       "3 -1.732025        -0.307931          0.745491          -0.557907   \n",
       "4 -1.732018        -0.307931          0.745491          -0.557907   \n",
       "\n",
       "   5IAL_3_QIT301.57  5IAL_3_PIT301.60  5IAL_3_FIT301.61MF  5IAL_3_FIT301.61VF  \\\n",
       "0         -0.181282           0.67215           -0.657435            -0.01498   \n",
       "1         -0.181282           0.67215           -0.657435            -0.01498   \n",
       "2         -0.181282           0.67215           -0.657435            -0.01498   \n",
       "3         -0.181282           0.67215           -0.657435            -0.01498   \n",
       "4         -0.181282           0.67215           -0.657435            -0.01498   \n",
       "\n",
       "   5IAL_3_FIT301.61D  5IAL_3_PIT301.63  ...  5IAL_3_LSL301.64  \\\n",
       "0          -0.805631          0.008043  ...         -0.385754   \n",
       "1          -0.805611          0.008043  ...         -0.385754   \n",
       "2          -0.805691          0.008043  ...         -0.385754   \n",
       "3          -0.805631          0.008043  ...         -0.385754   \n",
       "4          -0.805651          0.008043  ...         -0.385754   \n",
       "\n",
       "   5IAL_3_LSL301.68  5IAL_3_LSLL301.69  5IAL_3_301.OCCUPIED  5IAL_3_LIT301.54  \\\n",
       "0         -0.096767          -0.072646            -0.732724         -0.564607   \n",
       "1         -0.096767          -0.072646            -0.732724         -0.564607   \n",
       "2         -0.096767          -0.072646            -0.732724         -0.564334   \n",
       "3         -0.096767          -0.072646            -0.732724         -0.564607   \n",
       "4         -0.096767          -0.072646            -0.732724         -0.564607   \n",
       "\n",
       "   5IAL_3_LSH301.56  5IAL_3_XPV301.13  5IAL_3_WY301.54  5IAL_3_301.BatchName  \\\n",
       "0         -0.067254         -0.566649         -0.60207    No Batch Specified   \n",
       "1         -0.067254         -0.566649         -0.60207    No Batch Specified   \n",
       "2         -0.067254         -0.566649         -0.60207    No Batch Specified   \n",
       "3         -0.067254         -0.566649         -0.60207    No Batch Specified   \n",
       "4         -0.067254         -0.566649         -0.60207    No Batch Specified   \n",
       "\n",
       "       frac  \n",
       "0  0.861902  \n",
       "1  0.861902  \n",
       "2  0.861902  \n",
       "3  0.861902  \n",
       "4  0.861902  \n",
       "\n",
       "[5 rows x 40 columns]"
      ]
     },
     "execution_count": 12,
     "metadata": {},
     "output_type": "execute_result"
    }
   ],
   "source": [
    "BatchName=data['5IAL_3_301.BatchName']\n",
    "\n",
    "data.drop(['5IAL_3_301.BatchName'],axis=1,inplace=True)\n",
    "\n",
    "data_norm=pd.DataFrame()\n",
    "for col in data:\n",
    "    zval=(data[col]-np.mean(data[col]))/np.std(data[col])\n",
    "    data_norm=pd.concat([data_norm,zval],axis=1)\n",
    "    \n",
    "data_norm['5IAL_3_301.BatchName']=BatchName\n",
    "data['5IAL_3_301.BatchName']=BatchName\n",
    "\n",
    "data_norm['frac']=data_norm['5IAL_3_P301.70']/data_norm['5IAL_3_FIT301.61MF']\n",
    "\n",
    "data_norm.head()"
   ]
  },
  {
   "cell_type": "markdown",
   "id": "20427a17",
   "metadata": {
    "papermill": {
     "duration": 0.018839,
     "end_time": "2023-04-19T09:11:24.363114",
     "exception": false,
     "start_time": "2023-04-19T09:11:24.344275",
     "status": "completed"
    },
    "tags": []
   },
   "source": [
    "# Agregating data"
   ]
  },
  {
   "cell_type": "markdown",
   "id": "7367b066",
   "metadata": {
    "papermill": {
     "duration": 0.018875,
     "end_time": "2023-04-19T09:11:24.401054",
     "exception": false,
     "start_time": "2023-04-19T09:11:24.382179",
     "status": "completed"
    },
    "tags": []
   },
   "source": [
    "## Filtering out unwanted data"
   ]
  },
  {
   "cell_type": "code",
   "execution_count": 13,
   "id": "73529c4c",
   "metadata": {
    "execution": {
     "iopub.execute_input": "2023-04-19T09:11:24.442145Z",
     "iopub.status.busy": "2023-04-19T09:11:24.440882Z",
     "iopub.status.idle": "2023-04-19T09:11:24.932803Z",
     "shell.execute_reply": "2023-04-19T09:11:24.931183Z"
    },
    "papermill": {
     "duration": 0.515638,
     "end_time": "2023-04-19T09:11:24.935962",
     "exception": false,
     "start_time": "2023-04-19T09:11:24.420324",
     "status": "completed"
    },
    "tags": []
   },
   "outputs": [
    {
     "data": {
      "text/html": [
       "<div>\n",
       "<style scoped>\n",
       "    .dataframe tbody tr th:only-of-type {\n",
       "        vertical-align: middle;\n",
       "    }\n",
       "\n",
       "    .dataframe tbody tr th {\n",
       "        vertical-align: top;\n",
       "    }\n",
       "\n",
       "    .dataframe thead th {\n",
       "        text-align: right;\n",
       "    }\n",
       "</style>\n",
       "<table border=\"1\" class=\"dataframe\">\n",
       "  <thead>\n",
       "    <tr style=\"text-align: right;\">\n",
       "      <th></th>\n",
       "      <th>Date</th>\n",
       "      <th>5IAL_3_TT301.50</th>\n",
       "      <th>5IAL_3_QIT301.52</th>\n",
       "      <th>5IAL_3_PIT 301.55</th>\n",
       "      <th>5IAL_3_QIT301.57</th>\n",
       "      <th>5IAL_3_PIT301.60</th>\n",
       "      <th>5IAL_3_FIT301.61MF</th>\n",
       "      <th>5IAL_3_FIT301.61VF</th>\n",
       "      <th>5IAL_3_FIT301.61D</th>\n",
       "      <th>5IAL_3_PIT301.63</th>\n",
       "      <th>...</th>\n",
       "      <th>5IAL_3_LSL301.64</th>\n",
       "      <th>5IAL_3_LSL301.68</th>\n",
       "      <th>5IAL_3_LSLL301.69</th>\n",
       "      <th>5IAL_3_301.OCCUPIED</th>\n",
       "      <th>5IAL_3_LIT301.54</th>\n",
       "      <th>5IAL_3_LSH301.56</th>\n",
       "      <th>5IAL_3_XPV301.13</th>\n",
       "      <th>5IAL_3_WY301.54</th>\n",
       "      <th>5IAL_3_301.BatchName</th>\n",
       "      <th>frac</th>\n",
       "    </tr>\n",
       "  </thead>\n",
       "  <tbody>\n",
       "    <tr>\n",
       "      <th>1169</th>\n",
       "      <td>-1.723525</td>\n",
       "      <td>-0.314444</td>\n",
       "      <td>0.929021</td>\n",
       "      <td>-0.557907</td>\n",
       "      <td>-0.181282</td>\n",
       "      <td>0.67215</td>\n",
       "      <td>-0.657435</td>\n",
       "      <td>-0.014980</td>\n",
       "      <td>-0.805172</td>\n",
       "      <td>0.008043</td>\n",
       "      <td>...</td>\n",
       "      <td>-0.385754</td>\n",
       "      <td>-0.096767</td>\n",
       "      <td>-0.072646</td>\n",
       "      <td>-0.732724</td>\n",
       "      <td>-0.543533</td>\n",
       "      <td>-0.067254</td>\n",
       "      <td>-0.566649</td>\n",
       "      <td>-0.602070</td>\n",
       "      <td>YP5812210101</td>\n",
       "      <td>0.861902</td>\n",
       "    </tr>\n",
       "    <tr>\n",
       "      <th>1170</th>\n",
       "      <td>-1.723518</td>\n",
       "      <td>0.580062</td>\n",
       "      <td>0.929021</td>\n",
       "      <td>-0.557907</td>\n",
       "      <td>-0.181282</td>\n",
       "      <td>1.39459</td>\n",
       "      <td>-0.657435</td>\n",
       "      <td>-0.014980</td>\n",
       "      <td>-0.805232</td>\n",
       "      <td>0.008043</td>\n",
       "      <td>...</td>\n",
       "      <td>-0.385754</td>\n",
       "      <td>-0.096767</td>\n",
       "      <td>-0.072646</td>\n",
       "      <td>1.364770</td>\n",
       "      <td>-0.422016</td>\n",
       "      <td>-0.067254</td>\n",
       "      <td>-0.566649</td>\n",
       "      <td>-0.498183</td>\n",
       "      <td>YP5812210101</td>\n",
       "      <td>0.861902</td>\n",
       "    </tr>\n",
       "    <tr>\n",
       "      <th>1171</th>\n",
       "      <td>-1.723511</td>\n",
       "      <td>0.567035</td>\n",
       "      <td>0.793368</td>\n",
       "      <td>2.323822</td>\n",
       "      <td>-0.162484</td>\n",
       "      <td>1.39459</td>\n",
       "      <td>1.233181</td>\n",
       "      <td>0.010380</td>\n",
       "      <td>1.243098</td>\n",
       "      <td>0.008043</td>\n",
       "      <td>...</td>\n",
       "      <td>-0.385754</td>\n",
       "      <td>-0.096767</td>\n",
       "      <td>-0.072646</td>\n",
       "      <td>1.364770</td>\n",
       "      <td>0.007949</td>\n",
       "      <td>-0.067254</td>\n",
       "      <td>1.762495</td>\n",
       "      <td>-0.259970</td>\n",
       "      <td>YP5812210101</td>\n",
       "      <td>1.456354</td>\n",
       "    </tr>\n",
       "    <tr>\n",
       "      <th>1172</th>\n",
       "      <td>-1.723504</td>\n",
       "      <td>0.653881</td>\n",
       "      <td>0.809327</td>\n",
       "      <td>2.350019</td>\n",
       "      <td>-0.157636</td>\n",
       "      <td>1.39459</td>\n",
       "      <td>1.259766</td>\n",
       "      <td>0.010795</td>\n",
       "      <td>1.239704</td>\n",
       "      <td>0.008043</td>\n",
       "      <td>...</td>\n",
       "      <td>-0.385754</td>\n",
       "      <td>-0.096767</td>\n",
       "      <td>-0.072646</td>\n",
       "      <td>1.364770</td>\n",
       "      <td>0.275890</td>\n",
       "      <td>-0.067254</td>\n",
       "      <td>1.692621</td>\n",
       "      <td>-0.011302</td>\n",
       "      <td>YP5812210101</td>\n",
       "      <td>1.416383</td>\n",
       "    </tr>\n",
       "    <tr>\n",
       "      <th>1173</th>\n",
       "      <td>-1.723496</td>\n",
       "      <td>0.790662</td>\n",
       "      <td>0.944980</td>\n",
       "      <td>1.144933</td>\n",
       "      <td>-0.154875</td>\n",
       "      <td>0.67215</td>\n",
       "      <td>1.790307</td>\n",
       "      <td>0.017615</td>\n",
       "      <td>1.257273</td>\n",
       "      <td>0.008043</td>\n",
       "      <td>...</td>\n",
       "      <td>-0.385754</td>\n",
       "      <td>-0.096767</td>\n",
       "      <td>-0.072646</td>\n",
       "      <td>1.364770</td>\n",
       "      <td>0.290122</td>\n",
       "      <td>-0.067254</td>\n",
       "      <td>1.750849</td>\n",
       "      <td>0.091270</td>\n",
       "      <td>YP5812210101</td>\n",
       "      <td>0.983649</td>\n",
       "    </tr>\n",
       "  </tbody>\n",
       "</table>\n",
       "<p>5 rows × 40 columns</p>\n",
       "</div>"
      ],
      "text/plain": [
       "          Date  5IAL_3_TT301.50  5IAL_3_QIT301.52  5IAL_3_PIT 301.55  \\\n",
       "1169 -1.723525        -0.314444          0.929021          -0.557907   \n",
       "1170 -1.723518         0.580062          0.929021          -0.557907   \n",
       "1171 -1.723511         0.567035          0.793368           2.323822   \n",
       "1172 -1.723504         0.653881          0.809327           2.350019   \n",
       "1173 -1.723496         0.790662          0.944980           1.144933   \n",
       "\n",
       "      5IAL_3_QIT301.57  5IAL_3_PIT301.60  5IAL_3_FIT301.61MF  \\\n",
       "1169         -0.181282           0.67215           -0.657435   \n",
       "1170         -0.181282           1.39459           -0.657435   \n",
       "1171         -0.162484           1.39459            1.233181   \n",
       "1172         -0.157636           1.39459            1.259766   \n",
       "1173         -0.154875           0.67215            1.790307   \n",
       "\n",
       "      5IAL_3_FIT301.61VF  5IAL_3_FIT301.61D  5IAL_3_PIT301.63  ...  \\\n",
       "1169           -0.014980          -0.805172          0.008043  ...   \n",
       "1170           -0.014980          -0.805232          0.008043  ...   \n",
       "1171            0.010380           1.243098          0.008043  ...   \n",
       "1172            0.010795           1.239704          0.008043  ...   \n",
       "1173            0.017615           1.257273          0.008043  ...   \n",
       "\n",
       "      5IAL_3_LSL301.64  5IAL_3_LSL301.68  5IAL_3_LSLL301.69  \\\n",
       "1169         -0.385754         -0.096767          -0.072646   \n",
       "1170         -0.385754         -0.096767          -0.072646   \n",
       "1171         -0.385754         -0.096767          -0.072646   \n",
       "1172         -0.385754         -0.096767          -0.072646   \n",
       "1173         -0.385754         -0.096767          -0.072646   \n",
       "\n",
       "      5IAL_3_301.OCCUPIED  5IAL_3_LIT301.54  5IAL_3_LSH301.56  \\\n",
       "1169            -0.732724         -0.543533         -0.067254   \n",
       "1170             1.364770         -0.422016         -0.067254   \n",
       "1171             1.364770          0.007949         -0.067254   \n",
       "1172             1.364770          0.275890         -0.067254   \n",
       "1173             1.364770          0.290122         -0.067254   \n",
       "\n",
       "      5IAL_3_XPV301.13  5IAL_3_WY301.54  5IAL_3_301.BatchName      frac  \n",
       "1169         -0.566649        -0.602070          YP5812210101  0.861902  \n",
       "1170         -0.566649        -0.498183          YP5812210101  0.861902  \n",
       "1171          1.762495        -0.259970          YP5812210101  1.456354  \n",
       "1172          1.692621        -0.011302          YP5812210101  1.416383  \n",
       "1173          1.750849         0.091270          YP5812210101  0.983649  \n",
       "\n",
       "[5 rows x 40 columns]"
      ]
     },
     "execution_count": 13,
     "metadata": {},
     "output_type": "execute_result"
    }
   ],
   "source": [
    "# Specify the name of the column to check the string length\n",
    "column_name = '5IAL_3_301.BatchName'\n",
    "\n",
    "# Create a boolean mask to select rows where the length of the specified column is between 11 and 12 characters (inclusive)\n",
    "mask = (data_norm[column_name].str.len() >= 11) & (data_norm[column_name].str.len() <= 12)\n",
    "\n",
    "# Use the boolean mask to select only the rows that meet the criteria\n",
    "data_selected = data_norm[mask]\n",
    "\n",
    "data_selected.head()"
   ]
  },
  {
   "cell_type": "code",
   "execution_count": 14,
   "id": "f9fa01d9",
   "metadata": {
    "execution": {
     "iopub.execute_input": "2023-04-19T09:11:24.979242Z",
     "iopub.status.busy": "2023-04-19T09:11:24.978039Z",
     "iopub.status.idle": "2023-04-19T09:11:25.003631Z",
     "shell.execute_reply": "2023-04-19T09:11:25.002559Z"
    },
    "papermill": {
     "duration": 0.050514,
     "end_time": "2023-04-19T09:11:25.006632",
     "exception": false,
     "start_time": "2023-04-19T09:11:24.956118",
     "status": "completed"
    },
    "tags": []
   },
   "outputs": [
    {
     "data": {
      "text/plain": [
       "127.34522821576763"
      ]
     },
     "execution_count": 14,
     "metadata": {},
     "output_type": "execute_result"
    }
   ],
   "source": [
    "\n",
    "#  with pd.option_context('display.max_rows', None, 'display.max_columns', None):  # more options can be specified also\n",
    "#      print(data_selected.groupby(data_selected['5IAL_3_301.BatchName']).size())\n",
    "\n",
    "np.mean(data_selected.groupby(data_selected['5IAL_3_301.BatchName']).size())"
   ]
  },
  {
   "cell_type": "markdown",
   "id": "a26588d7",
   "metadata": {
    "papermill": {
     "duration": 0.020341,
     "end_time": "2023-04-19T09:11:25.047164",
     "exception": false,
     "start_time": "2023-04-19T09:11:25.026823",
     "status": "completed"
    },
    "tags": []
   },
   "source": [
    "## Last succesfull batch\n",
    "26-6-22: CP7012217502 (24 june, 2 days prior) \\\\\n",
    "6-10-22: MD112227901 (mid batch) \\\\\n",
    "14-2-23: MD112304504 (mid batch) \\\\"
   ]
  },
  {
   "cell_type": "code",
   "execution_count": 15,
   "id": "008fe048",
   "metadata": {
    "execution": {
     "iopub.execute_input": "2023-04-19T09:11:25.090425Z",
     "iopub.status.busy": "2023-04-19T09:11:25.089180Z",
     "iopub.status.idle": "2023-04-19T09:11:25.113249Z",
     "shell.execute_reply": "2023-04-19T09:11:25.111353Z"
    },
    "papermill": {
     "duration": 0.048199,
     "end_time": "2023-04-19T09:11:25.116330",
     "exception": false,
     "start_time": "2023-04-19T09:11:25.068131",
     "status": "completed"
    },
    "tags": []
   },
   "outputs": [
    {
     "name": "stdout",
     "output_type": "stream",
     "text": [
      "110400    No Batch Specified\n",
      "Name: 5IAL_3_301.BatchName, dtype: object\n"
     ]
    }
   ],
   "source": [
    "print(data[\"5IAL_3_301.BatchName\"][((data.index[data['Date'] == datetime.datetime(2022,6,26,4,0)]))])\n",
    "#(2022,10,6,11,23),(2023,2,14,12,51)"
   ]
  },
  {
   "cell_type": "code",
   "execution_count": 16,
   "id": "303d08a1",
   "metadata": {
    "execution": {
     "iopub.execute_input": "2023-04-19T09:11:25.159850Z",
     "iopub.status.busy": "2023-04-19T09:11:25.159380Z",
     "iopub.status.idle": "2023-04-19T09:11:25.273581Z",
     "shell.execute_reply": "2023-04-19T09:11:25.272239Z"
    },
    "papermill": {
     "duration": 0.139739,
     "end_time": "2023-04-19T09:11:25.276209",
     "exception": false,
     "start_time": "2023-04-19T09:11:25.136470",
     "status": "completed"
    },
    "tags": []
   },
   "outputs": [
    {
     "name": "stdout",
     "output_type": "stream",
     "text": [
      "46995\n"
     ]
    },
    {
     "data": {
      "text/html": [
       "<div>\n",
       "<style scoped>\n",
       "    .dataframe tbody tr th:only-of-type {\n",
       "        vertical-align: middle;\n",
       "    }\n",
       "\n",
       "    .dataframe tbody tr th {\n",
       "        vertical-align: top;\n",
       "    }\n",
       "\n",
       "    .dataframe thead th {\n",
       "        text-align: right;\n",
       "    }\n",
       "</style>\n",
       "<table border=\"1\" class=\"dataframe\">\n",
       "  <thead>\n",
       "    <tr style=\"text-align: right;\">\n",
       "      <th></th>\n",
       "      <th>Date_mean</th>\n",
       "      <th>5IAL_3_TT301.50_mean</th>\n",
       "      <th>5IAL_3_QIT301.52_mean</th>\n",
       "      <th>5IAL_3_PIT 301.55_mean</th>\n",
       "      <th>5IAL_3_QIT301.57_mean</th>\n",
       "      <th>5IAL_3_PIT301.60_mean</th>\n",
       "      <th>5IAL_3_FIT301.61MF_mean</th>\n",
       "      <th>5IAL_3_FIT301.61VF_mean</th>\n",
       "      <th>5IAL_3_FIT301.61D_mean</th>\n",
       "      <th>5IAL_3_PIT301.63_mean</th>\n",
       "      <th>...</th>\n",
       "      <th>5IAL_3_GSO301.44_mean</th>\n",
       "      <th>5IAL_3_LSL301.64_mean</th>\n",
       "      <th>5IAL_3_LSL301.68_mean</th>\n",
       "      <th>5IAL_3_LSLL301.69_mean</th>\n",
       "      <th>5IAL_3_301.OCCUPIED_mean</th>\n",
       "      <th>5IAL_3_LIT301.54_mean</th>\n",
       "      <th>5IAL_3_LSH301.56_mean</th>\n",
       "      <th>5IAL_3_XPV301.13_mean</th>\n",
       "      <th>5IAL_3_WY301.54_mean</th>\n",
       "      <th>frac_mean</th>\n",
       "    </tr>\n",
       "    <tr>\n",
       "      <th>5IAL_3_301.BatchName</th>\n",
       "      <th></th>\n",
       "      <th></th>\n",
       "      <th></th>\n",
       "      <th></th>\n",
       "      <th></th>\n",
       "      <th></th>\n",
       "      <th></th>\n",
       "      <th></th>\n",
       "      <th></th>\n",
       "      <th></th>\n",
       "      <th></th>\n",
       "      <th></th>\n",
       "      <th></th>\n",
       "      <th></th>\n",
       "      <th></th>\n",
       "      <th></th>\n",
       "      <th></th>\n",
       "      <th></th>\n",
       "      <th></th>\n",
       "      <th></th>\n",
       "      <th></th>\n",
       "    </tr>\n",
       "  </thead>\n",
       "  <tbody>\n",
       "    <tr>\n",
       "      <th>YP5812210101</th>\n",
       "      <td>-1.723124</td>\n",
       "      <td>1.278854</td>\n",
       "      <td>-0.035934</td>\n",
       "      <td>0.948097</td>\n",
       "      <td>-0.123006</td>\n",
       "      <td>0.691675</td>\n",
       "      <td>1.143608</td>\n",
       "      <td>0.007764</td>\n",
       "      <td>1.057347</td>\n",
       "      <td>0.008043</td>\n",
       "      <td>...</td>\n",
       "      <td>-1.049978</td>\n",
       "      <td>-0.385754</td>\n",
       "      <td>-0.096767</td>\n",
       "      <td>-0.072646</td>\n",
       "      <td>1.100222</td>\n",
       "      <td>0.997656</td>\n",
       "      <td>-0.067254</td>\n",
       "      <td>1.165416</td>\n",
       "      <td>1.028024</td>\n",
       "      <td>0.962653</td>\n",
       "    </tr>\n",
       "    <tr>\n",
       "      <th>YP5812210102</th>\n",
       "      <td>-1.722344</td>\n",
       "      <td>1.361691</td>\n",
       "      <td>-0.139623</td>\n",
       "      <td>1.139846</td>\n",
       "      <td>-0.124932</td>\n",
       "      <td>0.686178</td>\n",
       "      <td>1.291588</td>\n",
       "      <td>0.009624</td>\n",
       "      <td>1.075105</td>\n",
       "      <td>0.008043</td>\n",
       "      <td>...</td>\n",
       "      <td>-1.067173</td>\n",
       "      <td>-0.385754</td>\n",
       "      <td>1.017206</td>\n",
       "      <td>-0.072646</td>\n",
       "      <td>1.364770</td>\n",
       "      <td>0.937194</td>\n",
       "      <td>-0.067254</td>\n",
       "      <td>1.304581</td>\n",
       "      <td>0.996690</td>\n",
       "      <td>0.967200</td>\n",
       "    </tr>\n",
       "    <tr>\n",
       "      <th>CD112210101</th>\n",
       "      <td>-1.717825</td>\n",
       "      <td>0.090477</td>\n",
       "      <td>0.734658</td>\n",
       "      <td>0.788717</td>\n",
       "      <td>0.309596</td>\n",
       "      <td>0.675419</td>\n",
       "      <td>1.269400</td>\n",
       "      <td>0.010706</td>\n",
       "      <td>1.019767</td>\n",
       "      <td>0.007837</td>\n",
       "      <td>...</td>\n",
       "      <td>-1.114857</td>\n",
       "      <td>-0.385754</td>\n",
       "      <td>-0.096767</td>\n",
       "      <td>-0.072646</td>\n",
       "      <td>1.279352</td>\n",
       "      <td>0.564483</td>\n",
       "      <td>-0.067254</td>\n",
       "      <td>1.297140</td>\n",
       "      <td>0.519023</td>\n",
       "      <td>0.975246</td>\n",
       "    </tr>\n",
       "    <tr>\n",
       "      <th>CD112210102</th>\n",
       "      <td>-1.716640</td>\n",
       "      <td>0.194394</td>\n",
       "      <td>-0.030908</td>\n",
       "      <td>1.008403</td>\n",
       "      <td>0.018614</td>\n",
       "      <td>0.672150</td>\n",
       "      <td>1.314924</td>\n",
       "      <td>0.010715</td>\n",
       "      <td>1.020273</td>\n",
       "      <td>0.007547</td>\n",
       "      <td>...</td>\n",
       "      <td>-1.150344</td>\n",
       "      <td>-0.385754</td>\n",
       "      <td>-0.096767</td>\n",
       "      <td>-0.072646</td>\n",
       "      <td>1.364770</td>\n",
       "      <td>0.867537</td>\n",
       "      <td>-0.067254</td>\n",
       "      <td>1.372923</td>\n",
       "      <td>0.898247</td>\n",
       "      <td>1.000935</td>\n",
       "    </tr>\n",
       "    <tr>\n",
       "      <th>CD112210103</th>\n",
       "      <td>-1.715893</td>\n",
       "      <td>0.349406</td>\n",
       "      <td>-0.086993</td>\n",
       "      <td>0.996826</td>\n",
       "      <td>0.019674</td>\n",
       "      <td>0.672150</td>\n",
       "      <td>1.287703</td>\n",
       "      <td>0.010276</td>\n",
       "      <td>1.184275</td>\n",
       "      <td>0.007343</td>\n",
       "      <td>...</td>\n",
       "      <td>-1.247905</td>\n",
       "      <td>-0.385754</td>\n",
       "      <td>-0.096767</td>\n",
       "      <td>-0.072646</td>\n",
       "      <td>1.364770</td>\n",
       "      <td>1.119721</td>\n",
       "      <td>-0.067254</td>\n",
       "      <td>1.324109</td>\n",
       "      <td>1.146439</td>\n",
       "      <td>0.971669</td>\n",
       "    </tr>\n",
       "  </tbody>\n",
       "</table>\n",
       "<p>5 rows × 39 columns</p>\n",
       "</div>"
      ],
      "text/plain": [
       "                      Date_mean  5IAL_3_TT301.50_mean  5IAL_3_QIT301.52_mean  \\\n",
       "5IAL_3_301.BatchName                                                           \n",
       "YP5812210101          -1.723124              1.278854              -0.035934   \n",
       "YP5812210102          -1.722344              1.361691              -0.139623   \n",
       "CD112210101           -1.717825              0.090477               0.734658   \n",
       "CD112210102           -1.716640              0.194394              -0.030908   \n",
       "CD112210103           -1.715893              0.349406              -0.086993   \n",
       "\n",
       "                      5IAL_3_PIT 301.55_mean  5IAL_3_QIT301.57_mean  \\\n",
       "5IAL_3_301.BatchName                                                  \n",
       "YP5812210101                        0.948097              -0.123006   \n",
       "YP5812210102                        1.139846              -0.124932   \n",
       "CD112210101                         0.788717               0.309596   \n",
       "CD112210102                         1.008403               0.018614   \n",
       "CD112210103                         0.996826               0.019674   \n",
       "\n",
       "                      5IAL_3_PIT301.60_mean  5IAL_3_FIT301.61MF_mean  \\\n",
       "5IAL_3_301.BatchName                                                   \n",
       "YP5812210101                       0.691675                 1.143608   \n",
       "YP5812210102                       0.686178                 1.291588   \n",
       "CD112210101                        0.675419                 1.269400   \n",
       "CD112210102                        0.672150                 1.314924   \n",
       "CD112210103                        0.672150                 1.287703   \n",
       "\n",
       "                      5IAL_3_FIT301.61VF_mean  5IAL_3_FIT301.61D_mean  \\\n",
       "5IAL_3_301.BatchName                                                    \n",
       "YP5812210101                         0.007764                1.057347   \n",
       "YP5812210102                         0.009624                1.075105   \n",
       "CD112210101                          0.010706                1.019767   \n",
       "CD112210102                          0.010715                1.020273   \n",
       "CD112210103                          0.010276                1.184275   \n",
       "\n",
       "                      5IAL_3_PIT301.63_mean  ...  5IAL_3_GSO301.44_mean  \\\n",
       "5IAL_3_301.BatchName                         ...                          \n",
       "YP5812210101                       0.008043  ...              -1.049978   \n",
       "YP5812210102                       0.008043  ...              -1.067173   \n",
       "CD112210101                        0.007837  ...              -1.114857   \n",
       "CD112210102                        0.007547  ...              -1.150344   \n",
       "CD112210103                        0.007343  ...              -1.247905   \n",
       "\n",
       "                      5IAL_3_LSL301.64_mean  5IAL_3_LSL301.68_mean  \\\n",
       "5IAL_3_301.BatchName                                                 \n",
       "YP5812210101                      -0.385754              -0.096767   \n",
       "YP5812210102                      -0.385754               1.017206   \n",
       "CD112210101                       -0.385754              -0.096767   \n",
       "CD112210102                       -0.385754              -0.096767   \n",
       "CD112210103                       -0.385754              -0.096767   \n",
       "\n",
       "                      5IAL_3_LSLL301.69_mean  5IAL_3_301.OCCUPIED_mean  \\\n",
       "5IAL_3_301.BatchName                                                     \n",
       "YP5812210101                       -0.072646                  1.100222   \n",
       "YP5812210102                       -0.072646                  1.364770   \n",
       "CD112210101                        -0.072646                  1.279352   \n",
       "CD112210102                        -0.072646                  1.364770   \n",
       "CD112210103                        -0.072646                  1.364770   \n",
       "\n",
       "                      5IAL_3_LIT301.54_mean  5IAL_3_LSH301.56_mean  \\\n",
       "5IAL_3_301.BatchName                                                 \n",
       "YP5812210101                       0.997656              -0.067254   \n",
       "YP5812210102                       0.937194              -0.067254   \n",
       "CD112210101                        0.564483              -0.067254   \n",
       "CD112210102                        0.867537              -0.067254   \n",
       "CD112210103                        1.119721              -0.067254   \n",
       "\n",
       "                      5IAL_3_XPV301.13_mean  5IAL_3_WY301.54_mean  frac_mean  \n",
       "5IAL_3_301.BatchName                                                          \n",
       "YP5812210101                       1.165416              1.028024   0.962653  \n",
       "YP5812210102                       1.304581              0.996690   0.967200  \n",
       "CD112210101                        1.297140              0.519023   0.975246  \n",
       "CD112210102                        1.372923              0.898247   1.000935  \n",
       "CD112210103                        1.324109              1.146439   0.971669  \n",
       "\n",
       "[5 rows x 39 columns]"
      ]
     },
     "execution_count": 16,
     "metadata": {},
     "output_type": "execute_result"
    }
   ],
   "source": [
    "mean_grouped=data_selected.groupby(pd.Grouper(key=\"5IAL_3_301.BatchName\")).mean()\n",
    "mean_grouped=mean_grouped.add_suffix('_mean')\n",
    "\n",
    "print(mean_grouped.size)\n",
    "mean_grouped.head()"
   ]
  },
  {
   "cell_type": "code",
   "execution_count": 17,
   "id": "0426fe89",
   "metadata": {
    "execution": {
     "iopub.execute_input": "2023-04-19T09:11:25.319358Z",
     "iopub.status.busy": "2023-04-19T09:11:25.318901Z",
     "iopub.status.idle": "2023-04-19T09:11:25.444759Z",
     "shell.execute_reply": "2023-04-19T09:11:25.443822Z"
    },
    "papermill": {
     "duration": 0.150507,
     "end_time": "2023-04-19T09:11:25.447459",
     "exception": false,
     "start_time": "2023-04-19T09:11:25.296952",
     "status": "completed"
    },
    "tags": []
   },
   "outputs": [
    {
     "data": {
      "text/html": [
       "<div>\n",
       "<style scoped>\n",
       "    .dataframe tbody tr th:only-of-type {\n",
       "        vertical-align: middle;\n",
       "    }\n",
       "\n",
       "    .dataframe tbody tr th {\n",
       "        vertical-align: top;\n",
       "    }\n",
       "\n",
       "    .dataframe thead th {\n",
       "        text-align: right;\n",
       "    }\n",
       "</style>\n",
       "<table border=\"1\" class=\"dataframe\">\n",
       "  <thead>\n",
       "    <tr style=\"text-align: right;\">\n",
       "      <th></th>\n",
       "      <th>Date_std</th>\n",
       "      <th>5IAL_3_TT301.50_std</th>\n",
       "      <th>5IAL_3_QIT301.52_std</th>\n",
       "      <th>5IAL_3_PIT 301.55_std</th>\n",
       "      <th>5IAL_3_QIT301.57_std</th>\n",
       "      <th>5IAL_3_PIT301.60_std</th>\n",
       "      <th>5IAL_3_FIT301.61MF_std</th>\n",
       "      <th>5IAL_3_FIT301.61VF_std</th>\n",
       "      <th>5IAL_3_FIT301.61D_std</th>\n",
       "      <th>5IAL_3_PIT301.63_std</th>\n",
       "      <th>...</th>\n",
       "      <th>5IAL_3_GSO301.44_std</th>\n",
       "      <th>5IAL_3_LSL301.64_std</th>\n",
       "      <th>5IAL_3_LSL301.68_std</th>\n",
       "      <th>5IAL_3_LSLL301.69_std</th>\n",
       "      <th>5IAL_3_301.OCCUPIED_std</th>\n",
       "      <th>5IAL_3_LIT301.54_std</th>\n",
       "      <th>5IAL_3_LSH301.56_std</th>\n",
       "      <th>5IAL_3_XPV301.13_std</th>\n",
       "      <th>5IAL_3_WY301.54_std</th>\n",
       "      <th>frac_std</th>\n",
       "    </tr>\n",
       "    <tr>\n",
       "      <th>5IAL_3_301.BatchName</th>\n",
       "      <th></th>\n",
       "      <th></th>\n",
       "      <th></th>\n",
       "      <th></th>\n",
       "      <th></th>\n",
       "      <th></th>\n",
       "      <th></th>\n",
       "      <th></th>\n",
       "      <th></th>\n",
       "      <th></th>\n",
       "      <th></th>\n",
       "      <th></th>\n",
       "      <th></th>\n",
       "      <th></th>\n",
       "      <th></th>\n",
       "      <th></th>\n",
       "      <th></th>\n",
       "      <th></th>\n",
       "      <th></th>\n",
       "      <th></th>\n",
       "      <th></th>\n",
       "    </tr>\n",
       "  </thead>\n",
       "  <tbody>\n",
       "    <tr>\n",
       "      <th>YP5812210101</th>\n",
       "      <td>0.000235</td>\n",
       "      <td>0.401954</td>\n",
       "      <td>0.793668</td>\n",
       "      <td>0.898679</td>\n",
       "      <td>0.045965</td>\n",
       "      <td>0.117684</td>\n",
       "      <td>1.064863</td>\n",
       "      <td>0.013445</td>\n",
       "      <td>0.768804</td>\n",
       "      <td>0.000000</td>\n",
       "      <td>...</td>\n",
       "      <td>0.737903</td>\n",
       "      <td>0.0</td>\n",
       "      <td>0.00000</td>\n",
       "      <td>0.0</td>\n",
       "      <td>0.699508</td>\n",
       "      <td>0.916163</td>\n",
       "      <td>0.0</td>\n",
       "      <td>1.011264</td>\n",
       "      <td>0.924662</td>\n",
       "      <td>0.100506</td>\n",
       "    </tr>\n",
       "    <tr>\n",
       "      <th>YP5812210102</th>\n",
       "      <td>0.000218</td>\n",
       "      <td>0.386031</td>\n",
       "      <td>0.861026</td>\n",
       "      <td>0.775307</td>\n",
       "      <td>0.045137</td>\n",
       "      <td>0.100175</td>\n",
       "      <td>0.941757</td>\n",
       "      <td>0.011884</td>\n",
       "      <td>0.750691</td>\n",
       "      <td>0.000000</td>\n",
       "      <td>...</td>\n",
       "      <td>0.720237</td>\n",
       "      <td>0.0</td>\n",
       "      <td>3.23736</td>\n",
       "      <td>0.0</td>\n",
       "      <td>0.000000</td>\n",
       "      <td>0.877580</td>\n",
       "      <td>0.0</td>\n",
       "      <td>0.923479</td>\n",
       "      <td>0.907031</td>\n",
       "      <td>0.193178</td>\n",
       "    </tr>\n",
       "    <tr>\n",
       "      <th>CD112210101</th>\n",
       "      <td>0.000466</td>\n",
       "      <td>0.444474</td>\n",
       "      <td>1.489412</td>\n",
       "      <td>0.697101</td>\n",
       "      <td>0.647035</td>\n",
       "      <td>0.048597</td>\n",
       "      <td>0.963998</td>\n",
       "      <td>0.012897</td>\n",
       "      <td>0.670736</td>\n",
       "      <td>0.000135</td>\n",
       "      <td>...</td>\n",
       "      <td>0.663935</td>\n",
       "      <td>0.0</td>\n",
       "      <td>0.00000</td>\n",
       "      <td>0.0</td>\n",
       "      <td>0.415511</td>\n",
       "      <td>0.955195</td>\n",
       "      <td>0.0</td>\n",
       "      <td>0.931821</td>\n",
       "      <td>1.020371</td>\n",
       "      <td>0.067517</td>\n",
       "    </tr>\n",
       "    <tr>\n",
       "      <th>CD112210102</th>\n",
       "      <td>0.000220</td>\n",
       "      <td>0.249685</td>\n",
       "      <td>1.162813</td>\n",
       "      <td>0.704617</td>\n",
       "      <td>0.313112</td>\n",
       "      <td>0.000000</td>\n",
       "      <td>0.880706</td>\n",
       "      <td>0.011489</td>\n",
       "      <td>0.725316</td>\n",
       "      <td>0.000132</td>\n",
       "      <td>...</td>\n",
       "      <td>0.619532</td>\n",
       "      <td>0.0</td>\n",
       "      <td>0.00000</td>\n",
       "      <td>0.0</td>\n",
       "      <td>0.000000</td>\n",
       "      <td>0.923870</td>\n",
       "      <td>0.0</td>\n",
       "      <td>0.863703</td>\n",
       "      <td>0.971097</td>\n",
       "      <td>0.079667</td>\n",
       "    </tr>\n",
       "    <tr>\n",
       "      <th>CD112210103</th>\n",
       "      <td>0.000214</td>\n",
       "      <td>0.226093</td>\n",
       "      <td>1.019104</td>\n",
       "      <td>0.762636</td>\n",
       "      <td>0.309712</td>\n",
       "      <td>0.000000</td>\n",
       "      <td>0.932641</td>\n",
       "      <td>0.012119</td>\n",
       "      <td>0.503539</td>\n",
       "      <td>0.000144</td>\n",
       "      <td>...</td>\n",
       "      <td>0.455927</td>\n",
       "      <td>0.0</td>\n",
       "      <td>0.00000</td>\n",
       "      <td>0.0</td>\n",
       "      <td>0.000000</td>\n",
       "      <td>0.854166</td>\n",
       "      <td>0.0</td>\n",
       "      <td>0.908170</td>\n",
       "      <td>0.875797</td>\n",
       "      <td>0.153641</td>\n",
       "    </tr>\n",
       "  </tbody>\n",
       "</table>\n",
       "<p>5 rows × 39 columns</p>\n",
       "</div>"
      ],
      "text/plain": [
       "                      Date_std  5IAL_3_TT301.50_std  5IAL_3_QIT301.52_std  \\\n",
       "5IAL_3_301.BatchName                                                        \n",
       "YP5812210101          0.000235             0.401954              0.793668   \n",
       "YP5812210102          0.000218             0.386031              0.861026   \n",
       "CD112210101           0.000466             0.444474              1.489412   \n",
       "CD112210102           0.000220             0.249685              1.162813   \n",
       "CD112210103           0.000214             0.226093              1.019104   \n",
       "\n",
       "                      5IAL_3_PIT 301.55_std  5IAL_3_QIT301.57_std  \\\n",
       "5IAL_3_301.BatchName                                                \n",
       "YP5812210101                       0.898679              0.045965   \n",
       "YP5812210102                       0.775307              0.045137   \n",
       "CD112210101                        0.697101              0.647035   \n",
       "CD112210102                        0.704617              0.313112   \n",
       "CD112210103                        0.762636              0.309712   \n",
       "\n",
       "                      5IAL_3_PIT301.60_std  5IAL_3_FIT301.61MF_std  \\\n",
       "5IAL_3_301.BatchName                                                 \n",
       "YP5812210101                      0.117684                1.064863   \n",
       "YP5812210102                      0.100175                0.941757   \n",
       "CD112210101                       0.048597                0.963998   \n",
       "CD112210102                       0.000000                0.880706   \n",
       "CD112210103                       0.000000                0.932641   \n",
       "\n",
       "                      5IAL_3_FIT301.61VF_std  5IAL_3_FIT301.61D_std  \\\n",
       "5IAL_3_301.BatchName                                                  \n",
       "YP5812210101                        0.013445               0.768804   \n",
       "YP5812210102                        0.011884               0.750691   \n",
       "CD112210101                         0.012897               0.670736   \n",
       "CD112210102                         0.011489               0.725316   \n",
       "CD112210103                         0.012119               0.503539   \n",
       "\n",
       "                      5IAL_3_PIT301.63_std  ...  5IAL_3_GSO301.44_std  \\\n",
       "5IAL_3_301.BatchName                        ...                         \n",
       "YP5812210101                      0.000000  ...              0.737903   \n",
       "YP5812210102                      0.000000  ...              0.720237   \n",
       "CD112210101                       0.000135  ...              0.663935   \n",
       "CD112210102                       0.000132  ...              0.619532   \n",
       "CD112210103                       0.000144  ...              0.455927   \n",
       "\n",
       "                      5IAL_3_LSL301.64_std  5IAL_3_LSL301.68_std  \\\n",
       "5IAL_3_301.BatchName                                               \n",
       "YP5812210101                           0.0               0.00000   \n",
       "YP5812210102                           0.0               3.23736   \n",
       "CD112210101                            0.0               0.00000   \n",
       "CD112210102                            0.0               0.00000   \n",
       "CD112210103                            0.0               0.00000   \n",
       "\n",
       "                      5IAL_3_LSLL301.69_std  5IAL_3_301.OCCUPIED_std  \\\n",
       "5IAL_3_301.BatchName                                                   \n",
       "YP5812210101                            0.0                 0.699508   \n",
       "YP5812210102                            0.0                 0.000000   \n",
       "CD112210101                             0.0                 0.415511   \n",
       "CD112210102                             0.0                 0.000000   \n",
       "CD112210103                             0.0                 0.000000   \n",
       "\n",
       "                      5IAL_3_LIT301.54_std  5IAL_3_LSH301.56_std  \\\n",
       "5IAL_3_301.BatchName                                               \n",
       "YP5812210101                      0.916163                   0.0   \n",
       "YP5812210102                      0.877580                   0.0   \n",
       "CD112210101                       0.955195                   0.0   \n",
       "CD112210102                       0.923870                   0.0   \n",
       "CD112210103                       0.854166                   0.0   \n",
       "\n",
       "                      5IAL_3_XPV301.13_std  5IAL_3_WY301.54_std  frac_std  \n",
       "5IAL_3_301.BatchName                                                       \n",
       "YP5812210101                      1.011264             0.924662  0.100506  \n",
       "YP5812210102                      0.923479             0.907031  0.193178  \n",
       "CD112210101                       0.931821             1.020371  0.067517  \n",
       "CD112210102                       0.863703             0.971097  0.079667  \n",
       "CD112210103                       0.908170             0.875797  0.153641  \n",
       "\n",
       "[5 rows x 39 columns]"
      ]
     },
     "execution_count": 17,
     "metadata": {},
     "output_type": "execute_result"
    }
   ],
   "source": [
    "std_grouped=data_selected.groupby(pd.Grouper(key=\"5IAL_3_301.BatchName\")).std()\n",
    "std_grouped=std_grouped.add_suffix('_std')\n",
    "\n",
    "std_grouped.head()"
   ]
  },
  {
   "cell_type": "code",
   "execution_count": 18,
   "id": "2e8618a1",
   "metadata": {
    "execution": {
     "iopub.execute_input": "2023-04-19T09:11:25.491996Z",
     "iopub.status.busy": "2023-04-19T09:11:25.490406Z",
     "iopub.status.idle": "2023-04-19T09:11:25.800105Z",
     "shell.execute_reply": "2023-04-19T09:11:25.798984Z"
    },
    "papermill": {
     "duration": 0.334701,
     "end_time": "2023-04-19T09:11:25.803016",
     "exception": false,
     "start_time": "2023-04-19T09:11:25.468315",
     "status": "completed"
    },
    "tags": []
   },
   "outputs": [],
   "source": [
    "#data_selected.drop(['Date'],axis=1,inplace=True)\n",
    "\n",
    "\n",
    "from scipy.stats import skew, kurtosis\n",
    "\n",
    "\n",
    "#skew_kurt_grouped = data_selected.groupby(\"5IAL_3_301.BatchName\").apply(lambda x: pd.Series({'skewness': skew(x), 'kurtosis': kurtosis(x)})).reset_index()\n",
    "\n",
    "\n",
    "max_grouped=data_selected.groupby(pd.Grouper(key=\"5IAL_3_301.BatchName\")).max()\n",
    "max_grouped=max_grouped.add_suffix('_max')\n",
    "\n",
    "min_grouped=data_selected.groupby(pd.Grouper(key=\"5IAL_3_301.BatchName\")).min()\n",
    "min_grouped=min_grouped.add_suffix('_min')\n",
    "\n",
    "var_grouped=data_selected.groupby(pd.Grouper(key=\"5IAL_3_301.BatchName\")).var()\n",
    "var_grouped=var_grouped.add_suffix('_var')\n",
    "\n",
    "sum_grouped=data_selected.groupby(pd.Grouper(key=\"5IAL_3_301.BatchName\")).sum()\n",
    "sum_grouped=sum_grouped.add_suffix('_sum')\n",
    "\n",
    "\n",
    "#skew_kurt_grouped.head()"
   ]
  },
  {
   "cell_type": "code",
   "execution_count": 19,
   "id": "f1aa8f21",
   "metadata": {
    "execution": {
     "iopub.execute_input": "2023-04-19T09:11:25.847010Z",
     "iopub.status.busy": "2023-04-19T09:11:25.846567Z",
     "iopub.status.idle": "2023-04-19T09:11:25.850986Z",
     "shell.execute_reply": "2023-04-19T09:11:25.849863Z"
    },
    "papermill": {
     "duration": 0.02937,
     "end_time": "2023-04-19T09:11:25.853321",
     "exception": false,
     "start_time": "2023-04-19T09:11:25.823951",
     "status": "completed"
    },
    "tags": []
   },
   "outputs": [],
   "source": [
    "# print(np.mean(mean_grouped['frac']))\n",
    "\n",
    "# p90 = mean_grouped['frac'].quantile(0.95)\n",
    "\n",
    "# print(p90)"
   ]
  },
  {
   "cell_type": "code",
   "execution_count": 20,
   "id": "db329fc4",
   "metadata": {
    "execution": {
     "iopub.execute_input": "2023-04-19T09:11:25.897102Z",
     "iopub.status.busy": "2023-04-19T09:11:25.896317Z",
     "iopub.status.idle": "2023-04-19T09:11:25.901395Z",
     "shell.execute_reply": "2023-04-19T09:11:25.900447Z"
    },
    "papermill": {
     "duration": 0.030099,
     "end_time": "2023-04-19T09:11:25.904023",
     "exception": false,
     "start_time": "2023-04-19T09:11:25.873924",
     "status": "completed"
    },
    "tags": []
   },
   "outputs": [],
   "source": [
    "# fig, ax = plt.subplots(figsize=(20,10))\n",
    "\n",
    "# ax.plot(mean_grouped['frac'].rolling(10).mean())\n",
    "\n",
    "\n",
    "# plt.xlabel('Batch Name', fontsize=18)\n",
    "# plt.ylabel('Fraction of normaliszed pressure and flow', fontsize=18)\n",
    "\n",
    "# plt.tick_params(axis='both', labelsize=14)\n",
    "\n",
    "# ax.xaxis.set_major_locator(plt.MaxNLocator(6))\n",
    "\n",
    "# ax.axhline(mean_grouped['frac'].quantile(0.90),color='r')\n",
    "\n",
    "# ax.axvline('MD112304504',color='y')\n",
    "# ax.axvline('MD112227901',color='y')\n",
    "# ax.axvline('CP7012217502',color='y')\n",
    "\n",
    "# plt.legend(['Normalised fraction of input pressure and flow','Historical errors'], fontsize=18)\n",
    "\n",
    "# fig.savefig('plaatje',bbox_inches=\"tight\")\n",
    "\n",
    "# fig.show()"
   ]
  },
  {
   "cell_type": "code",
   "execution_count": 21,
   "id": "5313c86b",
   "metadata": {
    "execution": {
     "iopub.execute_input": "2023-04-19T09:11:25.948791Z",
     "iopub.status.busy": "2023-04-19T09:11:25.947978Z",
     "iopub.status.idle": "2023-04-19T09:11:26.005064Z",
     "shell.execute_reply": "2023-04-19T09:11:26.003637Z"
    },
    "papermill": {
     "duration": 0.082331,
     "end_time": "2023-04-19T09:11:26.008095",
     "exception": false,
     "start_time": "2023-04-19T09:11:25.925764",
     "status": "completed"
    },
    "tags": []
   },
   "outputs": [
    {
     "data": {
      "text/html": [
       "<div>\n",
       "<style scoped>\n",
       "    .dataframe tbody tr th:only-of-type {\n",
       "        vertical-align: middle;\n",
       "    }\n",
       "\n",
       "    .dataframe tbody tr th {\n",
       "        vertical-align: top;\n",
       "    }\n",
       "\n",
       "    .dataframe thead th {\n",
       "        text-align: right;\n",
       "    }\n",
       "</style>\n",
       "<table border=\"1\" class=\"dataframe\">\n",
       "  <thead>\n",
       "    <tr style=\"text-align: right;\">\n",
       "      <th></th>\n",
       "      <th>Batch_duration</th>\n",
       "    </tr>\n",
       "    <tr>\n",
       "      <th>5IAL_3_301.BatchName</th>\n",
       "      <th></th>\n",
       "    </tr>\n",
       "  </thead>\n",
       "  <tbody>\n",
       "    <tr>\n",
       "      <th>CB212211501</th>\n",
       "      <td>179</td>\n",
       "    </tr>\n",
       "    <tr>\n",
       "      <th>CB212211502</th>\n",
       "      <td>124</td>\n",
       "    </tr>\n",
       "    <tr>\n",
       "      <th>CB212215401</th>\n",
       "      <td>111</td>\n",
       "    </tr>\n",
       "    <tr>\n",
       "      <th>CB212215402</th>\n",
       "      <td>113</td>\n",
       "    </tr>\n",
       "    <tr>\n",
       "      <th>CB212220801</th>\n",
       "      <td>179</td>\n",
       "    </tr>\n",
       "    <tr>\n",
       "      <th>...</th>\n",
       "      <td>...</td>\n",
       "    </tr>\n",
       "    <tr>\n",
       "      <th>na MP7012305403</th>\n",
       "      <td>20</td>\n",
       "    </tr>\n",
       "    <tr>\n",
       "      <th>na YC112225904</th>\n",
       "      <td>22</td>\n",
       "    </tr>\n",
       "    <tr>\n",
       "      <th>na YP5812212302</th>\n",
       "      <td>19</td>\n",
       "    </tr>\n",
       "    <tr>\n",
       "      <th>na YP7012229902</th>\n",
       "      <td>28</td>\n",
       "    </tr>\n",
       "    <tr>\n",
       "      <th>na-kp7012226604</th>\n",
       "      <td>22</td>\n",
       "    </tr>\n",
       "  </tbody>\n",
       "</table>\n",
       "<p>1629 rows × 1 columns</p>\n",
       "</div>"
      ],
      "text/plain": [
       "                      Batch_duration\n",
       "5IAL_3_301.BatchName                \n",
       "CB212211501                      179\n",
       "CB212211502                      124\n",
       "CB212215401                      111\n",
       "CB212215402                      113\n",
       "CB212220801                      179\n",
       "...                              ...\n",
       "na MP7012305403                   20\n",
       "na YC112225904                    22\n",
       "na YP5812212302                   19\n",
       "na YP7012229902                   28\n",
       "na-kp7012226604                   22\n",
       "\n",
       "[1629 rows x 1 columns]"
      ]
     },
     "metadata": {},
     "output_type": "display_data"
    }
   ],
   "source": [
    "Batch_duration=data.groupby(data['5IAL_3_301.BatchName']).size()\n",
    "\n",
    "Batch_duration=pd.DataFrame(Batch_duration, columns=['Batch_duration'])\n",
    "\n",
    "display(Batch_duration)"
   ]
  },
  {
   "cell_type": "markdown",
   "id": "5143ba0c",
   "metadata": {
    "papermill": {
     "duration": 0.020782,
     "end_time": "2023-04-19T09:11:26.051874",
     "exception": false,
     "start_time": "2023-04-19T09:11:26.031092",
     "status": "completed"
    },
    "tags": []
   },
   "source": [
    "CP7012217502"
   ]
  },
  {
   "cell_type": "code",
   "execution_count": 22,
   "id": "54c6199f",
   "metadata": {
    "execution": {
     "iopub.execute_input": "2023-04-19T09:11:26.095743Z",
     "iopub.status.busy": "2023-04-19T09:11:26.095266Z",
     "iopub.status.idle": "2023-04-19T09:11:26.366211Z",
     "shell.execute_reply": "2023-04-19T09:11:26.364810Z"
    },
    "papermill": {
     "duration": 0.296219,
     "end_time": "2023-04-19T09:11:26.369212",
     "exception": false,
     "start_time": "2023-04-19T09:11:26.072993",
     "status": "completed"
    },
    "tags": []
   },
   "outputs": [
    {
     "name": "stdout",
     "output_type": "stream",
     "text": [
      "     5IAL_3_301.BatchName\n",
      "0            YP5812210101\n",
      "1            YP5812210102\n",
      "2             CD112210101\n",
      "3             CD112210102\n",
      "4             CD112210103\n",
      "...                   ...\n",
      "1200          CB212306201\n",
      "1201          KB212306201\n",
      "1202          KB212306202\n",
      "1203          KB212306501\n",
      "1204          KC112306501\n",
      "\n",
      "[1205 rows x 1 columns]\n",
      "YP\n",
      "0       YP58\n",
      "1       YP58\n",
      "2        CD1\n",
      "3        CD1\n",
      "4        CD1\n",
      "        ... \n",
      "1200     CB2\n",
      "1201     KB2\n",
      "1202     KB2\n",
      "1203     KB2\n",
      "1204     KC1\n",
      "Length: 1205, dtype: object\n",
      "['YP58' 'CD1' 'KD1' 'MD1' 'YD1' 'YP70' 'KP70' 'CP70' 'MP70' 'YB2' 'CB2'\n",
      " 'KC1' 'KB2' 'MB2' 'MP55' 'CP55' 'KP55' 'YP55' 'KP58' 'CP58' 'MP58' 'YC1'\n",
      " 'CC1' 'MC1' 'IU70' 'CGB2' 'CGD1']\n"
     ]
    }
   ],
   "source": [
    "Batch_Names=data['5IAL_3_301.BatchName'][mask]\n",
    "unieque_names=pd.DataFrame(Batch_Names.unique(),columns=['5IAL_3_301.BatchName'])\n",
    "\n",
    "print(unieque_names)\n",
    "print(unieque_names.loc[0][0][0:2])\n",
    "\n",
    "batch_types_list=[]\n",
    "\n",
    "for i in range(len(unieque_names)):\n",
    "    if len(unieque_names.loc[i][0]) == 11:\n",
    "        substring=unieque_names.loc[i][0][0:3]\n",
    "    else:\n",
    "        substring=unieque_names.loc[i][0][0:4]\n",
    "    batch_types_list.append(substring.upper())\n",
    "\n",
    "series=pd.Series(batch_types_list)\n",
    "series= series.replace({'IU7':'IU70'})\n",
    "print(series)\n",
    "series_unieque=series.unique()\n",
    "print(series_unieque)"
   ]
  },
  {
   "cell_type": "markdown",
   "id": "778bfe23",
   "metadata": {
    "papermill": {
     "duration": 0.020543,
     "end_time": "2023-04-19T09:11:26.410793",
     "exception": false,
     "start_time": "2023-04-19T09:11:26.390250",
     "status": "completed"
    },
    "tags": []
   },
   "source": [
    "# Mark batches\n",
    "Mark thes batches that are within 10 batches of a failure,"
   ]
  },
  {
   "cell_type": "code",
   "execution_count": 23,
   "id": "5d090fda",
   "metadata": {
    "execution": {
     "iopub.execute_input": "2023-04-19T09:11:26.455133Z",
     "iopub.status.busy": "2023-04-19T09:11:26.454376Z",
     "iopub.status.idle": "2023-04-19T09:11:26.672596Z",
     "shell.execute_reply": "2023-04-19T09:11:26.670991Z"
    },
    "papermill": {
     "duration": 0.243586,
     "end_time": "2023-04-19T09:11:26.675375",
     "exception": false,
     "start_time": "2023-04-19T09:11:26.431789",
     "status": "completed"
    },
    "tags": []
   },
   "outputs": [
    {
     "name": "stdout",
     "output_type": "stream",
     "text": [
      "     5IAL_3_301.BatchName  contains_search_string\n",
      "0            YP5812210101                   False\n",
      "1            YP5812210102                   False\n",
      "2             CD112210101                   False\n",
      "3             CD112210102                   False\n",
      "4             CD112210103                   False\n",
      "...                   ...                     ...\n",
      "1200          CB212306201                   False\n",
      "1201          KB212306201                   False\n",
      "1202          KB212306202                   False\n",
      "1203          KB212306501                   False\n",
      "1204          KC112306501                   False\n",
      "\n",
      "[1205 rows x 2 columns]\n",
      "10\n"
     ]
    }
   ],
   "source": [
    "Batch_Names=data['5IAL_3_301.BatchName'][mask] #gets all batches\n",
    "\n",
    "unieque_names=pd.DataFrame(Batch_Names.unique(),columns=['5IAL_3_301.BatchName'])\n",
    "\n",
    "\n",
    "\n",
    "search_strings = ['MD112304504', 'CP7012217502'] # ['MD112304504','MD112227901', 'CP7012217502'] -MD112227901\n",
    "\n",
    "# # Create a new column with boolean values\n",
    "unieque_names['contains_search_string'] = False\n",
    "\n",
    "print(unieque_names)\n",
    "\n",
    "\n",
    "for i in range(len(unieque_names)):\n",
    "    for j in range(i+1, min(i+6, len(unieque_names))):\n",
    "        if any([search_str == unieque_names.loc[j, '5IAL_3_301.BatchName'] for search_str in search_strings]):\n",
    "            unieque_names.loc[i, 'contains_search_string'] = True\n",
    "            break\n",
    "            \n",
    "print(np.sum(unieque_names['contains_search_string']))"
   ]
  },
  {
   "cell_type": "code",
   "execution_count": 24,
   "id": "123a5f84",
   "metadata": {
    "execution": {
     "iopub.execute_input": "2023-04-19T09:11:26.719648Z",
     "iopub.status.busy": "2023-04-19T09:11:26.719233Z",
     "iopub.status.idle": "2023-04-19T09:11:26.727065Z",
     "shell.execute_reply": "2023-04-19T09:11:26.725693Z"
    },
    "papermill": {
     "duration": 0.033173,
     "end_time": "2023-04-19T09:11:26.729815",
     "exception": false,
     "start_time": "2023-04-19T09:11:26.696642",
     "status": "completed"
    },
    "tags": []
   },
   "outputs": [
    {
     "name": "stdout",
     "output_type": "stream",
     "text": [
      "310     KP7012217402\n",
      "311     CP7012217401\n",
      "312     CP7012217402\n",
      "313     CP7012217403\n",
      "314     CP7012217501\n",
      "1103     MD112304407\n",
      "1104     MD112304408\n",
      "1105     MD112304501\n",
      "1106     MD112304502\n",
      "1107     MD112304503\n",
      "Name: 5IAL_3_301.BatchName, dtype: object\n"
     ]
    }
   ],
   "source": [
    "print(unieque_names['5IAL_3_301.BatchName'][unieque_names['contains_search_string']])"
   ]
  },
  {
   "cell_type": "code",
   "execution_count": 25,
   "id": "71548284",
   "metadata": {
    "execution": {
     "iopub.execute_input": "2023-04-19T09:11:26.775453Z",
     "iopub.status.busy": "2023-04-19T09:11:26.774960Z",
     "iopub.status.idle": "2023-04-19T09:11:26.812977Z",
     "shell.execute_reply": "2023-04-19T09:11:26.811479Z"
    },
    "papermill": {
     "duration": 0.064096,
     "end_time": "2023-04-19T09:11:26.815576",
     "exception": false,
     "start_time": "2023-04-19T09:11:26.751480",
     "status": "completed"
    },
    "tags": []
   },
   "outputs": [
    {
     "name": "stdout",
     "output_type": "stream",
     "text": [
      "10\n"
     ]
    }
   ],
   "source": [
    "Eind=pd.merge(pd.merge(mean_grouped,std_grouped,on=['5IAL_3_301.BatchName']), unieque_names, on=['5IAL_3_301.BatchName'])\n",
    "print(np.sum(Eind['contains_search_string']))\n",
    "\n",
    "# Add in Batch duration\n",
    "Eind=pd.merge(Eind,Batch_duration,on=['5IAL_3_301.BatchName'])\n",
    "Eind=pd.merge(Eind,max_grouped,on=['5IAL_3_301.BatchName'])\n",
    "#Eind=pd.merge(Eind,min_grouped,on=['5IAL_3_301.BatchName'])\n",
    "Eind=pd.merge(Eind,var_grouped,on=['5IAL_3_301.BatchName'])\n",
    "Eind=pd.merge(Eind,sum_grouped,on=['5IAL_3_301.BatchName'])\n"
   ]
  },
  {
   "cell_type": "markdown",
   "id": "66bb8980",
   "metadata": {
    "papermill": {
     "duration": 0.021012,
     "end_time": "2023-04-19T09:11:26.858449",
     "exception": false,
     "start_time": "2023-04-19T09:11:26.837437",
     "status": "completed"
    },
    "tags": []
   },
   "source": [
    "# Preparing Data for ML Models"
   ]
  },
  {
   "cell_type": "code",
   "execution_count": 26,
   "id": "c23982b2",
   "metadata": {
    "execution": {
     "iopub.execute_input": "2023-04-19T09:11:26.903471Z",
     "iopub.status.busy": "2023-04-19T09:11:26.902175Z",
     "iopub.status.idle": "2023-04-19T09:11:26.918885Z",
     "shell.execute_reply": "2023-04-19T09:11:26.917172Z"
    },
    "papermill": {
     "duration": 0.042164,
     "end_time": "2023-04-19T09:11:26.921612",
     "exception": false,
     "start_time": "2023-04-19T09:11:26.879448",
     "status": "completed"
    },
    "tags": []
   },
   "outputs": [
    {
     "name": "stdout",
     "output_type": "stream",
     "text": [
      "      CB2  CC1  CD1  CGB2  CGD1  CP55  CP58  CP70  IU70  KB2  ...  MD1  MP55  \\\n",
      "0       0    0    0     0     0     0     0     0     0    0  ...    0     0   \n",
      "1       0    0    0     0     0     0     0     0     0    0  ...    0     0   \n",
      "2       0    0    1     0     0     0     0     0     0    0  ...    0     0   \n",
      "3       0    0    1     0     0     0     0     0     0    0  ...    0     0   \n",
      "4       0    0    1     0     0     0     0     0     0    0  ...    0     0   \n",
      "...   ...  ...  ...   ...   ...   ...   ...   ...   ...  ...  ...  ...   ...   \n",
      "1200    1    0    0     0     0     0     0     0     0    0  ...    0     0   \n",
      "1201    0    0    0     0     0     0     0     0     0    1  ...    0     0   \n",
      "1202    0    0    0     0     0     0     0     0     0    1  ...    0     0   \n",
      "1203    0    0    0     0     0     0     0     0     0    1  ...    0     0   \n",
      "1204    0    0    0     0     0     0     0     0     0    0  ...    0     0   \n",
      "\n",
      "      MP58  MP70  YB2  YC1  YD1  YP55  YP58  YP70  \n",
      "0        0     0    0    0    0     0     1     0  \n",
      "1        0     0    0    0    0     0     1     0  \n",
      "2        0     0    0    0    0     0     0     0  \n",
      "3        0     0    0    0    0     0     0     0  \n",
      "4        0     0    0    0    0     0     0     0  \n",
      "...    ...   ...  ...  ...  ...   ...   ...   ...  \n",
      "1200     0     0    0    0    0     0     0     0  \n",
      "1201     0     0    0    0    0     0     0     0  \n",
      "1202     0     0    0    0    0     0     0     0  \n",
      "1203     0     0    0    0    0     0     0     0  \n",
      "1204     0     0    0    0    0     0     0     0  \n",
      "\n",
      "[1205 rows x 27 columns]\n"
     ]
    }
   ],
   "source": [
    "One_hot=pd.get_dummies(series)\n",
    "print(One_hot)"
   ]
  },
  {
   "cell_type": "markdown",
   "id": "9028bcac",
   "metadata": {
    "papermill": {
     "duration": 0.021281,
     "end_time": "2023-04-19T09:11:26.965761",
     "exception": false,
     "start_time": "2023-04-19T09:11:26.944480",
     "status": "completed"
    },
    "tags": []
   },
   "source": [
    "## All ML imports"
   ]
  },
  {
   "cell_type": "code",
   "execution_count": 27,
   "id": "8ed64b46",
   "metadata": {
    "execution": {
     "iopub.execute_input": "2023-04-19T09:11:27.011500Z",
     "iopub.status.busy": "2023-04-19T09:11:27.011067Z",
     "iopub.status.idle": "2023-04-19T09:11:40.249176Z",
     "shell.execute_reply": "2023-04-19T09:11:40.247619Z"
    },
    "papermill": {
     "duration": 13.265108,
     "end_time": "2023-04-19T09:11:40.252640",
     "exception": false,
     "start_time": "2023-04-19T09:11:26.987532",
     "status": "completed"
    },
    "tags": []
   },
   "outputs": [
    {
     "data": {
      "text/html": [
       "<style type='text/css'>\n",
       ".datatable table.frame { margin-bottom: 0; }\n",
       ".datatable table.frame thead { border-bottom: none; }\n",
       ".datatable table.frame tr.coltypes td {  color: #FFFFFF;  line-height: 6px;  padding: 0 0.5em;}\n",
       ".datatable .bool    { background: #DDDD99; }\n",
       ".datatable .object  { background: #565656; }\n",
       ".datatable .int     { background: #5D9E5D; }\n",
       ".datatable .float   { background: #4040CC; }\n",
       ".datatable .str     { background: #CC4040; }\n",
       ".datatable .time    { background: #40CC40; }\n",
       ".datatable .row_index {  background: var(--jp-border-color3);  border-right: 1px solid var(--jp-border-color0);  color: var(--jp-ui-font-color3);  font-size: 9px;}\n",
       ".datatable .frame tbody td { text-align: left; }\n",
       ".datatable .frame tr.coltypes .row_index {  background: var(--jp-border-color0);}\n",
       ".datatable th:nth-child(2) { padding-left: 12px; }\n",
       ".datatable .hellipsis {  color: var(--jp-cell-editor-border-color);}\n",
       ".datatable .vellipsis {  background: var(--jp-layout-color0);  color: var(--jp-cell-editor-border-color);}\n",
       ".datatable .na {  color: var(--jp-cell-editor-border-color);  font-size: 80%;}\n",
       ".datatable .sp {  opacity: 0.25;}\n",
       ".datatable .footer { font-size: 9px; }\n",
       ".datatable .frame_dimensions {  background: var(--jp-border-color3);  border-top: 1px solid var(--jp-border-color0);  color: var(--jp-ui-font-color3);  display: inline-block;  opacity: 0.6;  padding: 1px 10px 1px 5px;}\n",
       "</style>\n"
      ],
      "text/plain": [
       "<IPython.core.display.HTML object>"
      ]
     },
     "metadata": {},
     "output_type": "display_data"
    }
   ],
   "source": [
    "from sklearn.neural_network import MLPClassifier #(https://scikit-learn.org/stable/modules/generated/sklearn.neural_network.MLPClassifier.html)\n",
    "from sklearn.model_selection import train_test_split\n",
    "from sklearn.metrics import confusion_matrix\n",
    "from sklearn import metrics \n",
    "\n",
    "from imblearn.over_sampling import SMOTE\n",
    "\n",
    "import eli5\n",
    "from eli5.sklearn import PermutationImportance\n",
    "\n",
    "from sklearn.ensemble import RandomForestClassifier\n",
    "\n",
    "import shap\n",
    "\n",
    "from keras import layers"
   ]
  },
  {
   "cell_type": "code",
   "execution_count": 28,
   "id": "8d82c53f",
   "metadata": {
    "execution": {
     "iopub.execute_input": "2023-04-19T09:11:40.299016Z",
     "iopub.status.busy": "2023-04-19T09:11:40.297032Z",
     "iopub.status.idle": "2023-04-19T09:11:40.427148Z",
     "shell.execute_reply": "2023-04-19T09:11:40.425751Z"
    },
    "papermill": {
     "duration": 0.157688,
     "end_time": "2023-04-19T09:11:40.431739",
     "exception": false,
     "start_time": "2023-04-19T09:11:40.274051",
     "status": "completed"
    },
    "tags": []
   },
   "outputs": [
    {
     "data": {
      "text/html": [
       "<div>\n",
       "<style scoped>\n",
       "    .dataframe tbody tr th:only-of-type {\n",
       "        vertical-align: middle;\n",
       "    }\n",
       "\n",
       "    .dataframe tbody tr th {\n",
       "        vertical-align: top;\n",
       "    }\n",
       "\n",
       "    .dataframe thead th {\n",
       "        text-align: right;\n",
       "    }\n",
       "</style>\n",
       "<table border=\"1\" class=\"dataframe\">\n",
       "  <thead>\n",
       "    <tr style=\"text-align: right;\">\n",
       "      <th></th>\n",
       "      <th>PC1</th>\n",
       "      <th>PC2</th>\n",
       "      <th>PC3</th>\n",
       "      <th>PC4</th>\n",
       "      <th>PC5</th>\n",
       "      <th>PC6</th>\n",
       "      <th>PC7</th>\n",
       "      <th>PC8</th>\n",
       "      <th>PC9</th>\n",
       "      <th>PC10</th>\n",
       "      <th>...</th>\n",
       "      <th>PC187</th>\n",
       "      <th>PC188</th>\n",
       "      <th>PC189</th>\n",
       "      <th>PC190</th>\n",
       "      <th>PC191</th>\n",
       "      <th>PC192</th>\n",
       "      <th>PC193</th>\n",
       "      <th>PC194</th>\n",
       "      <th>PC195</th>\n",
       "      <th>PC196</th>\n",
       "    </tr>\n",
       "  </thead>\n",
       "  <tbody>\n",
       "    <tr>\n",
       "      <th>0</th>\n",
       "      <td>-296.056686</td>\n",
       "      <td>-72.522423</td>\n",
       "      <td>-87.477844</td>\n",
       "      <td>-24.877292</td>\n",
       "      <td>-69.530762</td>\n",
       "      <td>-152.898785</td>\n",
       "      <td>2.061774</td>\n",
       "      <td>-6.984018</td>\n",
       "      <td>4.195218</td>\n",
       "      <td>-5.972992</td>\n",
       "      <td>...</td>\n",
       "      <td>7.709294e-13</td>\n",
       "      <td>-1.592984e-12</td>\n",
       "      <td>2.718832e-12</td>\n",
       "      <td>-2.222992e-12</td>\n",
       "      <td>-1.916560e-12</td>\n",
       "      <td>1.482410e-12</td>\n",
       "      <td>2.144885e-12</td>\n",
       "      <td>2.221590e-12</td>\n",
       "      <td>2.475468e-12</td>\n",
       "      <td>2.946609e-12</td>\n",
       "    </tr>\n",
       "    <tr>\n",
       "      <th>1</th>\n",
       "      <td>-295.849848</td>\n",
       "      <td>-83.436113</td>\n",
       "      <td>-97.305942</td>\n",
       "      <td>-54.483292</td>\n",
       "      <td>37.483767</td>\n",
       "      <td>-174.591500</td>\n",
       "      <td>-5.458564</td>\n",
       "      <td>-39.924265</td>\n",
       "      <td>-3.076057</td>\n",
       "      <td>-7.680211</td>\n",
       "      <td>...</td>\n",
       "      <td>1.230483e-12</td>\n",
       "      <td>-7.074911e-13</td>\n",
       "      <td>-4.874013e-13</td>\n",
       "      <td>-3.278869e-13</td>\n",
       "      <td>-1.334007e-12</td>\n",
       "      <td>9.446158e-13</td>\n",
       "      <td>-1.946088e-13</td>\n",
       "      <td>1.689971e-12</td>\n",
       "      <td>-1.488776e-12</td>\n",
       "      <td>-2.042129e-12</td>\n",
       "    </tr>\n",
       "    <tr>\n",
       "      <th>2</th>\n",
       "      <td>-299.205378</td>\n",
       "      <td>341.538514</td>\n",
       "      <td>-121.767985</td>\n",
       "      <td>-91.287878</td>\n",
       "      <td>-107.358092</td>\n",
       "      <td>-199.788188</td>\n",
       "      <td>51.044460</td>\n",
       "      <td>-84.825864</td>\n",
       "      <td>308.039258</td>\n",
       "      <td>-26.357155</td>\n",
       "      <td>...</td>\n",
       "      <td>-3.869468e-13</td>\n",
       "      <td>-8.383178e-14</td>\n",
       "      <td>4.903437e-13</td>\n",
       "      <td>-9.487596e-14</td>\n",
       "      <td>-1.662305e-13</td>\n",
       "      <td>-7.738747e-13</td>\n",
       "      <td>5.297642e-13</td>\n",
       "      <td>-1.429079e-12</td>\n",
       "      <td>1.397635e-12</td>\n",
       "      <td>2.147434e-12</td>\n",
       "    </tr>\n",
       "    <tr>\n",
       "      <th>3</th>\n",
       "      <td>-295.998996</td>\n",
       "      <td>-95.052458</td>\n",
       "      <td>-87.910293</td>\n",
       "      <td>-63.737706</td>\n",
       "      <td>-62.119731</td>\n",
       "      <td>-112.158705</td>\n",
       "      <td>5.380579</td>\n",
       "      <td>-17.592873</td>\n",
       "      <td>110.940976</td>\n",
       "      <td>-1.563111</td>\n",
       "      <td>...</td>\n",
       "      <td>-9.731781e-13</td>\n",
       "      <td>6.203632e-13</td>\n",
       "      <td>-1.136532e-12</td>\n",
       "      <td>7.703469e-13</td>\n",
       "      <td>1.804323e-12</td>\n",
       "      <td>-1.268900e-12</td>\n",
       "      <td>-2.038353e-12</td>\n",
       "      <td>-1.053645e-12</td>\n",
       "      <td>-6.224594e-13</td>\n",
       "      <td>9.163035e-13</td>\n",
       "    </tr>\n",
       "    <tr>\n",
       "      <th>4</th>\n",
       "      <td>-295.866762</td>\n",
       "      <td>-79.289275</td>\n",
       "      <td>-71.050498</td>\n",
       "      <td>-38.253214</td>\n",
       "      <td>-58.512668</td>\n",
       "      <td>-111.619038</td>\n",
       "      <td>-5.395393</td>\n",
       "      <td>-11.753392</td>\n",
       "      <td>95.749080</td>\n",
       "      <td>1.229246</td>\n",
       "      <td>...</td>\n",
       "      <td>6.063048e-13</td>\n",
       "      <td>-4.472731e-13</td>\n",
       "      <td>-8.149146e-14</td>\n",
       "      <td>3.198912e-13</td>\n",
       "      <td>-5.004266e-13</td>\n",
       "      <td>5.703610e-13</td>\n",
       "      <td>1.298928e-12</td>\n",
       "      <td>-1.431777e-13</td>\n",
       "      <td>3.949657e-13</td>\n",
       "      <td>3.087724e-13</td>\n",
       "    </tr>\n",
       "  </tbody>\n",
       "</table>\n",
       "<p>5 rows × 196 columns</p>\n",
       "</div>"
      ],
      "text/plain": [
       "          PC1         PC2         PC3        PC4         PC5         PC6  \\\n",
       "0 -296.056686  -72.522423  -87.477844 -24.877292  -69.530762 -152.898785   \n",
       "1 -295.849848  -83.436113  -97.305942 -54.483292   37.483767 -174.591500   \n",
       "2 -299.205378  341.538514 -121.767985 -91.287878 -107.358092 -199.788188   \n",
       "3 -295.998996  -95.052458  -87.910293 -63.737706  -62.119731 -112.158705   \n",
       "4 -295.866762  -79.289275  -71.050498 -38.253214  -58.512668 -111.619038   \n",
       "\n",
       "         PC7        PC8         PC9       PC10  ...         PC187  \\\n",
       "0   2.061774  -6.984018    4.195218  -5.972992  ...  7.709294e-13   \n",
       "1  -5.458564 -39.924265   -3.076057  -7.680211  ...  1.230483e-12   \n",
       "2  51.044460 -84.825864  308.039258 -26.357155  ... -3.869468e-13   \n",
       "3   5.380579 -17.592873  110.940976  -1.563111  ... -9.731781e-13   \n",
       "4  -5.395393 -11.753392   95.749080   1.229246  ...  6.063048e-13   \n",
       "\n",
       "          PC188         PC189         PC190         PC191         PC192  \\\n",
       "0 -1.592984e-12  2.718832e-12 -2.222992e-12 -1.916560e-12  1.482410e-12   \n",
       "1 -7.074911e-13 -4.874013e-13 -3.278869e-13 -1.334007e-12  9.446158e-13   \n",
       "2 -8.383178e-14  4.903437e-13 -9.487596e-14 -1.662305e-13 -7.738747e-13   \n",
       "3  6.203632e-13 -1.136532e-12  7.703469e-13  1.804323e-12 -1.268900e-12   \n",
       "4 -4.472731e-13 -8.149146e-14  3.198912e-13 -5.004266e-13  5.703610e-13   \n",
       "\n",
       "          PC193         PC194         PC195         PC196  \n",
       "0  2.144885e-12  2.221590e-12  2.475468e-12  2.946609e-12  \n",
       "1 -1.946088e-13  1.689971e-12 -1.488776e-12 -2.042129e-12  \n",
       "2  5.297642e-13 -1.429079e-12  1.397635e-12  2.147434e-12  \n",
       "3 -2.038353e-12 -1.053645e-12 -6.224594e-13  9.163035e-13  \n",
       "4  1.298928e-12 -1.431777e-13  3.949657e-13  3.087724e-13  \n",
       "\n",
       "[5 rows x 196 columns]"
      ]
     },
     "execution_count": 28,
     "metadata": {},
     "output_type": "execute_result"
    }
   ],
   "source": [
    "from sklearn.decomposition import PCA\n",
    "\n",
    "X_t = Eind.drop(['5IAL_3_301.BatchName','contains_search_string'],axis=1)\n",
    "\n",
    "X_t=X_t.fillna(0)\n",
    "\n",
    "# Create principal components\n",
    "pca = PCA()\n",
    "X_pca = pca.fit_transform(X_t)\n",
    "\n",
    "# Convert to dataframe\n",
    "component_names = [f\"PC{i+1}\" for i in range(X_pca.shape[1])]\n",
    "X_pca = pd.DataFrame(X_pca, columns=component_names)\n",
    "\n",
    "X_pca.head()"
   ]
  },
  {
   "cell_type": "markdown",
   "id": "162ec2f1",
   "metadata": {
    "papermill": {
     "duration": 0.022746,
     "end_time": "2023-04-19T09:11:40.508085",
     "exception": false,
     "start_time": "2023-04-19T09:11:40.485339",
     "status": "completed"
    },
    "tags": []
   },
   "source": [
    "## Proper data splitting\n",
    "y contain a True the last 10 batches that got produced before a breakdown.\\\n",
    "Another way to put it is the question: 'Will there be a failure within the next 11 batches?'\\\n",
    "\\\n",
    "The data is spilt into train, test and validation"
   ]
  },
  {
   "cell_type": "code",
   "execution_count": 29,
   "id": "a308e9a5",
   "metadata": {
    "execution": {
     "iopub.execute_input": "2023-04-19T09:11:40.553807Z",
     "iopub.status.busy": "2023-04-19T09:11:40.553363Z",
     "iopub.status.idle": "2023-04-19T09:11:40.567916Z",
     "shell.execute_reply": "2023-04-19T09:11:40.566380Z"
    },
    "papermill": {
     "duration": 0.04055,
     "end_time": "2023-04-19T09:11:40.570690",
     "exception": false,
     "start_time": "2023-04-19T09:11:40.530140",
     "status": "completed"
    },
    "tags": []
   },
   "outputs": [
    {
     "name": "stdout",
     "output_type": "stream",
     "text": [
      "1205\n",
      "903\n"
     ]
    }
   ],
   "source": [
    "y = Eind['contains_search_string']\n",
    "\n",
    "X=pd.concat([X_pca,One_hot],axis=1)\n",
    "\n",
    "\n",
    "X_train, X_test, y_train, y_test = train_test_split(X,y,test_size=0.25,shuffle=True) #split data into validation and train+test\n",
    "\n",
    "\n",
    "\n",
    "print(len(X))\n",
    "print(len(X_train))\n"
   ]
  },
  {
   "cell_type": "code",
   "execution_count": 30,
   "id": "b749efb6",
   "metadata": {
    "execution": {
     "iopub.execute_input": "2023-04-19T09:11:40.618678Z",
     "iopub.status.busy": "2023-04-19T09:11:40.618209Z",
     "iopub.status.idle": "2023-04-19T09:11:40.636456Z",
     "shell.execute_reply": "2023-04-19T09:11:40.634216Z"
    },
    "papermill": {
     "duration": 0.045012,
     "end_time": "2023-04-19T09:11:40.639324",
     "exception": false,
     "start_time": "2023-04-19T09:11:40.594312",
     "status": "completed"
    },
    "tags": []
   },
   "outputs": [
    {
     "name": "stdout",
     "output_type": "stream",
     "text": [
      "             PC1         PC2         PC3         PC4         PC5         PC6  \\\n",
      "0    -296.056686  -72.522423  -87.477844  -24.877292  -69.530762 -152.898785   \n",
      "1    -295.849848  -83.436113  -97.305942  -54.483292   37.483767 -174.591500   \n",
      "2    -299.205378  341.538514 -121.767985  -91.287878 -107.358092 -199.788188   \n",
      "3    -295.998996  -95.052458  -87.910293  -63.737706  -62.119731 -112.158705   \n",
      "4    -295.866762  -79.289275  -71.050498  -38.253214  -58.512668 -111.619038   \n",
      "...          ...         ...         ...         ...         ...         ...   \n",
      "1200 -296.734011  -81.834180   27.265496  147.361564   75.548759  255.890206   \n",
      "1201 -296.494136  -96.581239  -88.950513  -56.873125   60.334586  256.599205   \n",
      "1202 -299.543504  454.557747 -136.747524 -121.093895  127.919908  480.125407   \n",
      "1203 -294.950441  249.215737  -47.259209   52.863182  119.144316  414.654783   \n",
      "1204 -295.768001 -175.922447 -113.932288  -89.291067    3.570364  107.834749   \n",
      "\n",
      "            PC7        PC8         PC9        PC10  ...  MD1  MP55  MP58  \\\n",
      "0      2.061774  -6.984018    4.195218   -5.972992  ...    0     0     0   \n",
      "1     -5.458564 -39.924265   -3.076057   -7.680211  ...    0     0     0   \n",
      "2     51.044460 -84.825864  308.039258  -26.357155  ...    0     0     0   \n",
      "3      5.380579 -17.592873  110.940976   -1.563111  ...    0     0     0   \n",
      "4     -5.395393 -11.753392   95.749080    1.229246  ...    0     0     0   \n",
      "...         ...        ...         ...         ...  ...  ...   ...   ...   \n",
      "1200 -22.209900  18.989404   12.487161    5.120906  ...    0     0     0   \n",
      "1201  -0.756222   8.126302   44.441672   34.682383  ...    0     0     0   \n",
      "1202  -6.959410   4.674307  104.553720   -3.227634  ...    0     0     0   \n",
      "1203 -85.075160  17.506969   46.456505  177.738770  ...    0     0     0   \n",
      "1204  -2.349909 -23.886626  114.627718   -2.018486  ...    0     0     0   \n",
      "\n",
      "      MP70  YB2  YC1  YD1  YP55  YP58  YP70  \n",
      "0        0    0    0    0     0     1     0  \n",
      "1        0    0    0    0     0     1     0  \n",
      "2        0    0    0    0     0     0     0  \n",
      "3        0    0    0    0     0     0     0  \n",
      "4        0    0    0    0     0     0     0  \n",
      "...    ...  ...  ...  ...   ...   ...   ...  \n",
      "1200     0    0    0    0     0     0     0  \n",
      "1201     0    0    0    0     0     0     0  \n",
      "1202     0    0    0    0     0     0     0  \n",
      "1203     0    0    0    0     0     0     0  \n",
      "1204     0    0    0    0     0     0     0  \n",
      "\n",
      "[1205 rows x 223 columns]\n"
     ]
    }
   ],
   "source": [
    "print(X)"
   ]
  },
  {
   "cell_type": "code",
   "execution_count": 31,
   "id": "630ea53d",
   "metadata": {
    "execution": {
     "iopub.execute_input": "2023-04-19T09:11:40.687660Z",
     "iopub.status.busy": "2023-04-19T09:11:40.686874Z",
     "iopub.status.idle": "2023-04-19T09:11:40.692937Z",
     "shell.execute_reply": "2023-04-19T09:11:40.691749Z"
    },
    "papermill": {
     "duration": 0.031875,
     "end_time": "2023-04-19T09:11:40.695284",
     "exception": false,
     "start_time": "2023-04-19T09:11:40.663409",
     "status": "completed"
    },
    "tags": []
   },
   "outputs": [
    {
     "name": "stdout",
     "output_type": "stream",
     "text": [
      "302\n"
     ]
    }
   ],
   "source": [
    "print(len(X_test))"
   ]
  },
  {
   "cell_type": "code",
   "execution_count": 32,
   "id": "86e6c55a",
   "metadata": {
    "execution": {
     "iopub.execute_input": "2023-04-19T09:11:40.742799Z",
     "iopub.status.busy": "2023-04-19T09:11:40.741751Z",
     "iopub.status.idle": "2023-04-19T09:11:41.144856Z",
     "shell.execute_reply": "2023-04-19T09:11:41.143573Z"
    },
    "papermill": {
     "duration": 0.430871,
     "end_time": "2023-04-19T09:11:41.148423",
     "exception": false,
     "start_time": "2023-04-19T09:11:40.717552",
     "status": "completed"
    },
    "tags": []
   },
   "outputs": [
    {
     "data": {
      "text/plain": [
       "<AxesSubplot:xlabel='PC17', ylabel='PC16'>"
      ]
     },
     "execution_count": 32,
     "metadata": {},
     "output_type": "execute_result"
    },
    {
     "data": {
      "image/png": "[encoded data removed]",
      "text/plain": [
       "<Figure size 640x480 with 1 Axes>"
      ]
     },
     "metadata": {},
     "output_type": "display_data"
    }
   ],
   "source": [
    "sns.scatterplot(x=X_pca['PC17'],y=X_pca['PC16'],hue=y)"
   ]
  },
  {
   "cell_type": "code",
   "execution_count": 33,
   "id": "aff0f47a",
   "metadata": {
    "execution": {
     "iopub.execute_input": "2023-04-19T09:11:41.197806Z",
     "iopub.status.busy": "2023-04-19T09:11:41.197352Z",
     "iopub.status.idle": "2023-04-19T09:11:41.202033Z",
     "shell.execute_reply": "2023-04-19T09:11:41.201051Z"
    },
    "papermill": {
     "duration": 0.031277,
     "end_time": "2023-04-19T09:11:41.204334",
     "exception": false,
     "start_time": "2023-04-19T09:11:41.173057",
     "status": "completed"
    },
    "tags": []
   },
   "outputs": [],
   "source": [
    "# print(X[X == np.inf].count().sum())\n",
    "# print(X.isna().sum())"
   ]
  },
  {
   "cell_type": "markdown",
   "id": "e5c5e96d",
   "metadata": {
    "papermill": {
     "duration": 0.022543,
     "end_time": "2023-04-19T09:11:41.250725",
     "exception": false,
     "start_time": "2023-04-19T09:11:41.228182",
     "status": "completed"
    },
    "tags": []
   },
   "source": [
    "## SMOTE\n",
    "SMOTE stands for Synthetic Minority Oversampeling Technique.\n",
    "It is a way to fix unbalanced datasets by oversampeling closely related plausible values."
   ]
  },
  {
   "cell_type": "code",
   "execution_count": 34,
   "id": "3f8ff32e",
   "metadata": {
    "execution": {
     "iopub.execute_input": "2023-04-19T09:11:41.298833Z",
     "iopub.status.busy": "2023-04-19T09:11:41.297999Z",
     "iopub.status.idle": "2023-04-19T09:11:41.359130Z",
     "shell.execute_reply": "2023-04-19T09:11:41.357717Z"
    },
    "papermill": {
     "duration": 0.088422,
     "end_time": "2023-04-19T09:11:41.361841",
     "exception": false,
     "start_time": "2023-04-19T09:11:41.273419",
     "status": "completed"
    },
    "tags": []
   },
   "outputs": [
    {
     "name": "stdout",
     "output_type": "stream",
     "text": [
      "False    896\n",
      "True     896\n",
      "Name: contains_search_string, dtype: int64\n"
     ]
    }
   ],
   "source": [
    "oversample = SMOTE()\n",
    "X_train_o, y_train_o = oversample.fit_resample(X_train, y_train)\n",
    "\n",
    "print(y_train_o.value_counts())\n"
   ]
  },
  {
   "cell_type": "code",
   "execution_count": 35,
   "id": "00cec467",
   "metadata": {
    "execution": {
     "iopub.execute_input": "2023-04-19T09:11:41.410403Z",
     "iopub.status.busy": "2023-04-19T09:11:41.409971Z",
     "iopub.status.idle": "2023-04-19T09:11:41.416225Z",
     "shell.execute_reply": "2023-04-19T09:11:41.414755Z"
    },
    "papermill": {
     "duration": 0.033498,
     "end_time": "2023-04-19T09:11:41.418550",
     "exception": false,
     "start_time": "2023-04-19T09:11:41.385052",
     "status": "completed"
    },
    "tags": []
   },
   "outputs": [],
   "source": [
    "def devide(x,y):\n",
    "    if ((x == 0) | (y == 0)):\n",
    "        return 0\n",
    "    else: \n",
    "        return x/y\n"
   ]
  },
  {
   "cell_type": "markdown",
   "id": "707e32db",
   "metadata": {
    "papermill": {
     "duration": 0.022869,
     "end_time": "2023-04-19T09:11:41.465211",
     "exception": false,
     "start_time": "2023-04-19T09:11:41.442342",
     "status": "completed"
    },
    "tags": []
   },
   "source": [
    "# Neural network classifier"
   ]
  },
  {
   "cell_type": "code",
   "execution_count": 36,
   "id": "1ef0cf1d",
   "metadata": {
    "execution": {
     "iopub.execute_input": "2023-04-19T09:11:41.513847Z",
     "iopub.status.busy": "2023-04-19T09:11:41.513352Z",
     "iopub.status.idle": "2023-04-19T09:11:43.182161Z",
     "shell.execute_reply": "2023-04-19T09:11:43.180131Z"
    },
    "papermill": {
     "duration": 1.696976,
     "end_time": "2023-04-19T09:11:43.185184",
     "exception": false,
     "start_time": "2023-04-19T09:11:41.488208",
     "status": "completed"
    },
    "tags": []
   },
   "outputs": [
    {
     "name": "stdout",
     "output_type": "stream",
     "text": [
      "[[299   0]\n",
      " [  2   1]]\n"
     ]
    },
    {
     "data": {
      "image/png": "[encoded data removed]",
      "text/plain": [
       "<Figure size 640x480 with 2 Axes>"
      ]
     },
     "metadata": {},
     "output_type": "display_data"
    }
   ],
   "source": [
    "model_MLPC=MLPClassifier()\n",
    "\n",
    "model_MLPC.fit(X_train,y_train)\n",
    "\n",
    "y_fit=model_MLPC.predict(X_train)\n",
    "y_pred=model_MLPC.predict(X_test)\n",
    "y_tot=model_MLPC.predict(X)\n",
    "\n",
    "\n",
    "\n",
    "cf=confusion_matrix(y_test,y_pred)\n",
    "\n",
    "\n",
    "\n",
    "print(cf)\n",
    "cm_display = metrics.ConfusionMatrixDisplay(confusion_matrix = cf, display_labels = [False, True])\n",
    "\n",
    "cm_display.plot()\n",
    "plt.show()"
   ]
  },
  {
   "cell_type": "markdown",
   "id": "86e93b22",
   "metadata": {
    "papermill": {
     "duration": 0.022948,
     "end_time": "2023-04-19T09:11:43.231505",
     "exception": false,
     "start_time": "2023-04-19T09:11:43.208557",
     "status": "completed"
    },
    "tags": []
   },
   "source": [
    "## Neural Network Classifier with SMOTE "
   ]
  },
  {
   "cell_type": "code",
   "execution_count": 37,
   "id": "e5fce8a9",
   "metadata": {
    "execution": {
     "iopub.execute_input": "2023-04-19T09:11:43.281073Z",
     "iopub.status.busy": "2023-04-19T09:11:43.279843Z",
     "iopub.status.idle": "2023-04-19T09:12:03.116106Z",
     "shell.execute_reply": "2023-04-19T09:12:03.115082Z"
    },
    "papermill": {
     "duration": 19.863864,
     "end_time": "2023-04-19T09:12:03.118686",
     "exception": false,
     "start_time": "2023-04-19T09:11:43.254822",
     "status": "completed"
    },
    "tags": []
   },
   "outputs": [
    {
     "name": "stdout",
     "output_type": "stream",
     "text": [
      "0.4\n"
     ]
    },
    {
     "data": {
      "image/png": "[encoded data removed]",
      "text/plain": [
       "<Figure size 640x480 with 2 Axes>"
      ]
     },
     "metadata": {},
     "output_type": "display_data"
    },
    {
     "name": "stdout",
     "output_type": "stream",
     "text": [
      "0.9333333333333333\n"
     ]
    },
    {
     "data": {
      "image/png": "[encoded data removed]",
      "text/plain": [
       "<Figure size 640x480 with 2 Axes>"
      ]
     },
     "metadata": {},
     "output_type": "display_data"
    }
   ],
   "source": [
    "model=MLPClassifier(max_iter=1000,hidden_layer_sizes=(200,3))\n",
    "\n",
    "#Using SMOTE\n",
    "model.fit(X_train_o,y_train_o)\n",
    "\n",
    "# Only train using SMOTE, it should predict on the normal data\n",
    "y_fit=model.predict(X_train)\n",
    "y_pred=model.predict(X_test)\n",
    "y_tot=model.predict(X)\n",
    "\n",
    "# Get stuff from confusion matrix to be able to calculate F1-score\n",
    "cf=confusion_matrix(y_test,y_pred)\n",
    "TN=cf[0][0]\n",
    "TP=cf[1][1]\n",
    "FP=cf[0][1]\n",
    "FN=cf[1][0]\n",
    "\n",
    "Recall=devide(TP,(TP+FN))\n",
    "Precision=devide(TP,(TP+FP))\n",
    "F1=2*devide((Recall*Precision),(Precision+Recall))\n",
    "        \n",
    "print(F1)\n",
    "\n",
    "#Make neat plot\n",
    "cm_display = metrics.ConfusionMatrixDisplay(confusion_matrix = cf, display_labels = [False, True])\n",
    "\n",
    "cm_display.plot()\n",
    "plt.show()\n",
    "\n",
    "\n",
    "\n",
    "\n",
    "\n",
    "cf=confusion_matrix(y_train,y_fit)\n",
    "TN=cf[0][0]\n",
    "TP=cf[1][1]\n",
    "FP=cf[0][1]\n",
    "FN=cf[1][0]\n",
    "\n",
    "Recall=devide(TP,(TP+FN))\n",
    "Precision=devide(TP,(TP+FP))\n",
    "F1=2*devide((Recall*Precision),(Precision+Recall))\n",
    "        \n",
    "print(F1)\n",
    "\n",
    "#Make neat plot\n",
    "cm_display = metrics.ConfusionMatrixDisplay(confusion_matrix = cf, display_labels = [False, True])\n",
    "\n",
    "cm_display.plot()\n",
    "plt.show()"
   ]
  },
  {
   "cell_type": "code",
   "execution_count": 38,
   "id": "fa553a44",
   "metadata": {
    "execution": {
     "iopub.execute_input": "2023-04-19T09:12:03.170684Z",
     "iopub.status.busy": "2023-04-19T09:12:03.169110Z",
     "iopub.status.idle": "2023-04-19T09:12:03.175734Z",
     "shell.execute_reply": "2023-04-19T09:12:03.174761Z"
    },
    "papermill": {
     "duration": 0.035157,
     "end_time": "2023-04-19T09:12:03.178198",
     "exception": false,
     "start_time": "2023-04-19T09:12:03.143041",
     "status": "completed"
    },
    "tags": []
   },
   "outputs": [],
   "source": [
    "# result_arr=[]\n",
    "# for layers in range(100,300,10):\n",
    "#     loop_arr=[]\n",
    "#     for i in range(5):\n",
    "#         model=MLPClassifier(max_iter=1000, hidden_layer_sizes=(layers,3))\n",
    "\n",
    "#         #Using SMOTE\n",
    "#         model.fit(X_train_o,y_train_o)\n",
    "\n",
    "#         # Only train using SMOTE, it should predict on the normal data\n",
    "#         y_fit=model.predict(X_train)\n",
    "#         y_pred=model.predict(X_test)\n",
    "#         y_tot=model.predict(X)\n",
    "\n",
    "#         # Get stuff from confusion matrix to be able to calculate F1-score\n",
    "#         cf=confusion_matrix(y_test,y_pred)\n",
    "#         TN=cf[0][0]\n",
    "#         TP=cf[1][1]\n",
    "#         FP=cf[0][1]\n",
    "#         FN=cf[1][0]\n",
    "\n",
    "#         Recall=devide(TP,(TP+FN))\n",
    "#         Precision=devide(TP,(TP+FP))\n",
    "#         F1=2*devide((Recall*Precision),(Precision+Recall))\n",
    "        \n",
    "#         loop_arr.append(F1)\n",
    "#     result_arr.append(np.mean(loop_arr))\n",
    "    \n"
   ]
  },
  {
   "cell_type": "code",
   "execution_count": null,
   "id": "d6a70c60",
   "metadata": {
    "papermill": {
     "duration": 0.024073,
     "end_time": "2023-04-19T09:12:03.226534",
     "exception": false,
     "start_time": "2023-04-19T09:12:03.202461",
     "status": "completed"
    },
    "tags": []
   },
   "outputs": [],
   "source": []
  },
  {
   "cell_type": "code",
   "execution_count": 39,
   "id": "7200c074",
   "metadata": {
    "execution": {
     "iopub.execute_input": "2023-04-19T09:12:03.278153Z",
     "iopub.status.busy": "2023-04-19T09:12:03.277293Z",
     "iopub.status.idle": "2023-04-19T09:12:03.282171Z",
     "shell.execute_reply": "2023-04-19T09:12:03.281009Z"
    },
    "papermill": {
     "duration": 0.033773,
     "end_time": "2023-04-19T09:12:03.284522",
     "exception": false,
     "start_time": "2023-04-19T09:12:03.250749",
     "status": "completed"
    },
    "tags": []
   },
   "outputs": [],
   "source": [
    "# Permutation importance\n",
    "# perm = PermutationImportance(model).fit(X_test, y_test)\n",
    "# eli5.show_weights(perm, feature_names = X_test.columns.tolist(),top=100)"
   ]
  },
  {
   "cell_type": "markdown",
   "id": "c0dd26be",
   "metadata": {
    "papermill": {
     "duration": 0.023468,
     "end_time": "2023-04-19T09:12:03.332145",
     "exception": false,
     "start_time": "2023-04-19T09:12:03.308677",
     "status": "completed"
    },
    "tags": []
   },
   "source": [
    "## Optemising ANN SMOTE \n",
    "\n",
    "This model seems very prone to overfitting, so reducing layer size seems smart.\\\n",
    "What the ideal size is will be tested using the below loop.\n"
   ]
  },
  {
   "cell_type": "code",
   "execution_count": 40,
   "id": "e2899f4a",
   "metadata": {
    "execution": {
     "iopub.execute_input": "2023-04-19T09:12:03.382465Z",
     "iopub.status.busy": "2023-04-19T09:12:03.381622Z",
     "iopub.status.idle": "2023-04-19T09:12:03.386594Z",
     "shell.execute_reply": "2023-04-19T09:12:03.385596Z"
    },
    "papermill": {
     "duration": 0.033494,
     "end_time": "2023-04-19T09:12:03.389628",
     "exception": false,
     "start_time": "2023-04-19T09:12:03.356134",
     "status": "completed"
    },
    "tags": []
   },
   "outputs": [],
   "source": [
    "# empt_arr=[]\n",
    "# f1_arr=[]\n",
    "# for i in range(1,100,3):\n",
    "#     for j in range(5):\n",
    "#         model=MLPClassifier(hidden_layer_sizes=50)\n",
    "\n",
    "#         model.fit(X_traino,y_traino)\n",
    "\n",
    "#         y_fit=model.predict(X_train)\n",
    "#         y_pred=model.predict(X_test)\n",
    "#         y_tot=model.predict(X)\n",
    "\n",
    "#         cf=confusion_matrix(y,y_tot)\n",
    "#         TN=cf[0][0]\n",
    "#         TP=cf[1][1]\n",
    "#         FP=cf[0][1]\n",
    "#         FN=cf[1][0]\n",
    "\n",
    "#         Recall=TP/(TP+FN)\n",
    "#         Precision=TP/(TP+FP)\n",
    "#         F1=2*((Recall*Precision)/(Precision+Recall))\n",
    "        \n",
    "#         f1_arr.append(F1)\n",
    "        \n",
    "\n",
    "#     empt_arr.append(np.mean(f1_arr))\n",
    "\n",
    "    \n",
    "# print(empt_arr)\n",
    "# plt.plot(range(1,100,3),empt_arr)"
   ]
  },
  {
   "cell_type": "markdown",
   "id": "6f104eb7",
   "metadata": {
    "papermill": {
     "duration": 0.023548,
     "end_time": "2023-04-19T09:12:03.437197",
     "exception": false,
     "start_time": "2023-04-19T09:12:03.413649",
     "status": "completed"
    },
    "tags": []
   },
   "source": []
  },
  {
   "cell_type": "markdown",
   "id": "ec518f98",
   "metadata": {
    "papermill": {
     "duration": 0.023545,
     "end_time": "2023-04-19T09:12:03.485268",
     "exception": false,
     "start_time": "2023-04-19T09:12:03.461723",
     "status": "completed"
    },
    "tags": []
   },
   "source": [
    "# Random Forest (RF) Classifier"
   ]
  },
  {
   "cell_type": "markdown",
   "id": "54c56c53",
   "metadata": {
    "papermill": {
     "duration": 0.025026,
     "end_time": "2023-04-19T09:12:03.534324",
     "exception": false,
     "start_time": "2023-04-19T09:12:03.509298",
     "status": "completed"
    },
    "tags": []
   },
   "source": [
    "## RF model trainen + CFM"
   ]
  },
  {
   "cell_type": "code",
   "execution_count": 41,
   "id": "c325133d",
   "metadata": {
    "execution": {
     "iopub.execute_input": "2023-04-19T09:12:03.584295Z",
     "iopub.status.busy": "2023-04-19T09:12:03.583856Z",
     "iopub.status.idle": "2023-04-19T09:12:04.881495Z",
     "shell.execute_reply": "2023-04-19T09:12:04.879794Z"
    },
    "papermill": {
     "duration": 1.327599,
     "end_time": "2023-04-19T09:12:04.886026",
     "exception": false,
     "start_time": "2023-04-19T09:12:03.558427",
     "status": "completed"
    },
    "tags": []
   },
   "outputs": [
    {
     "name": "stdout",
     "output_type": "stream",
     "text": [
      "0\n"
     ]
    },
    {
     "data": {
      "image/png": "[encoded data removed]",
      "text/plain": [
       "<Figure size 640x480 with 2 Axes>"
      ]
     },
     "metadata": {},
     "output_type": "display_data"
    }
   ],
   "source": [
    "model =  RandomForestClassifier()\n",
    "\n",
    "model.fit(X_train_o,y_train_o)\n",
    "\n",
    "y_fit=model.predict(X_train)\n",
    "y_pred=model.predict(X_test)\n",
    "y_tot=model.predict(X)\n",
    "\n",
    "\n",
    "\n",
    "cf=confusion_matrix(y_test,y_pred)\n",
    "TN=cf[0][0]\n",
    "TP=cf[1][1]\n",
    "FP=cf[0][1]\n",
    "FN=cf[1][0]\n",
    "\n",
    "Recall=devide(TP,(TP+FN))\n",
    "Precision=devide(TP,(TP+FP))\n",
    "F1=2*devide((Recall*Precision),(Precision+Recall))\n",
    "        \n",
    "print(F1)\n",
    "\n",
    "cm_display = metrics.ConfusionMatrixDisplay(confusion_matrix = cf, display_labels = [False, True])\n",
    "\n",
    "cm_display.plot()\n",
    "plt.show()\n",
    "\n",
    "\n",
    "# perm = PermutationImportance(model).fit(X_test, y_test)\n",
    "# eli5.show_weights(perm, feature_names = X_test.columns.tolist(),top=1000)"
   ]
  },
  {
   "cell_type": "markdown",
   "id": "34fbf0d6",
   "metadata": {
    "papermill": {
     "duration": 0.024218,
     "end_time": "2023-04-19T09:12:04.936093",
     "exception": false,
     "start_time": "2023-04-19T09:12:04.911875",
     "status": "completed"
    },
    "tags": []
   },
   "source": [
    "## RF Train CFM"
   ]
  },
  {
   "cell_type": "markdown",
   "id": "d50cdc2d",
   "metadata": {
    "papermill": {
     "duration": 0.02433,
     "end_time": "2023-04-19T09:12:04.984889",
     "exception": false,
     "start_time": "2023-04-19T09:12:04.960559",
     "status": "completed"
    },
    "tags": []
   },
   "source": []
  },
  {
   "cell_type": "code",
   "execution_count": 42,
   "id": "c869f9db",
   "metadata": {
    "execution": {
     "iopub.execute_input": "2023-04-19T09:12:05.036538Z",
     "iopub.status.busy": "2023-04-19T09:12:05.035777Z",
     "iopub.status.idle": "2023-04-19T09:12:05.300697Z",
     "shell.execute_reply": "2023-04-19T09:12:05.299281Z"
    },
    "papermill": {
     "duration": 0.293784,
     "end_time": "2023-04-19T09:12:05.303221",
     "exception": false,
     "start_time": "2023-04-19T09:12:05.009437",
     "status": "completed"
    },
    "tags": []
   },
   "outputs": [
    {
     "name": "stdout",
     "output_type": "stream",
     "text": [
      "1.0\n"
     ]
    },
    {
     "data": {
      "image/png": "[encoded data removed]",
      "text/plain": [
       "<Figure size 640x480 with 2 Axes>"
      ]
     },
     "metadata": {},
     "output_type": "display_data"
    }
   ],
   "source": [
    "cf=confusion_matrix(y_train,y_fit)\n",
    "TN=cf[0][0]\n",
    "TP=cf[1][1]\n",
    "FP=cf[0][1]\n",
    "FN=cf[1][0]\n",
    "\n",
    "\n",
    "Recall=devide(TP,(TP+FN))\n",
    "Precision=devide(TP,(TP+FP))\n",
    "F1=2*devide((Recall*Precision),(Precision+Recall))\n",
    "        \n",
    "\n",
    "print(F1)\n",
    "\n",
    "cm_display = metrics.ConfusionMatrixDisplay(confusion_matrix = cf, display_labels = [False, True])\n",
    "\n",
    "cm_display.plot()\n",
    "plt.show()"
   ]
  },
  {
   "cell_type": "code",
   "execution_count": 43,
   "id": "78b30d31",
   "metadata": {
    "execution": {
     "iopub.execute_input": "2023-04-19T09:12:05.355616Z",
     "iopub.status.busy": "2023-04-19T09:12:05.355148Z",
     "iopub.status.idle": "2023-04-19T09:12:05.361195Z",
     "shell.execute_reply": "2023-04-19T09:12:05.359947Z"
    },
    "papermill": {
     "duration": 0.035382,
     "end_time": "2023-04-19T09:12:05.363849",
     "exception": false,
     "start_time": "2023-04-19T09:12:05.328467",
     "status": "completed"
    },
    "tags": []
   },
   "outputs": [],
   "source": [
    "# empty_arr=[]\n",
    "# depth_arr=[]\n",
    "\n",
    "# for depth in range(1,40):\n",
    "#     F1_arr=[]\n",
    "#     for i in range(5):\n",
    "#         model =  RandomForestClassifier(max_depth=depth)\n",
    "\n",
    "#         model.fit(X_train_o,y_train_o)\n",
    "\n",
    "#         y_fit=model.predict(X_train)\n",
    "#         y_pred=model.predict(X_test)\n",
    "#         y_tot=model.predict(X)\n",
    "\n",
    "\n",
    "\n",
    "#         cf=confusion_matrix(y_test,y_pred)\n",
    "#         TN=cf[0][0]\n",
    "#         TP=cf[1][1]\n",
    "#         FP=cf[0][1]\n",
    "#         FN=cf[1][0]\n",
    "\n",
    "#         Recall=devide(TP,(TP+FN))\n",
    "#         Precision=devide(TP,(TP+FP))\n",
    "#         F1=2*devide((Recall*Precision),(Precision+Recall))\n",
    "        \n",
    "#         F1_arr.append(F1)\n",
    "        \n",
    "        \n",
    "#     empty_arr.append(np.mean(F1_arr))\n",
    "#     depth_arr.append(depth)\n",
    "    \n",
    "# plt.plot(depth_arr,empty_arr)"
   ]
  },
  {
   "cell_type": "markdown",
   "id": "0b57e6cb",
   "metadata": {
    "papermill": {
     "duration": 0.025151,
     "end_time": "2023-04-19T09:12:05.415693",
     "exception": false,
     "start_time": "2023-04-19T09:12:05.390542",
     "status": "completed"
    },
    "tags": []
   },
   "source": [
    "## Feature importance using SHAP"
   ]
  },
  {
   "cell_type": "code",
   "execution_count": 44,
   "id": "5839faa1",
   "metadata": {
    "execution": {
     "iopub.execute_input": "2023-04-19T09:12:05.468789Z",
     "iopub.status.busy": "2023-04-19T09:12:05.467439Z",
     "iopub.status.idle": "2023-04-19T09:12:06.664799Z",
     "shell.execute_reply": "2023-04-19T09:12:06.663490Z"
    },
    "papermill": {
     "duration": 1.228738,
     "end_time": "2023-04-19T09:12:06.669531",
     "exception": false,
     "start_time": "2023-04-19T09:12:05.440793",
     "status": "completed"
    },
    "tags": []
   },
   "outputs": [
    {
     "data": {
      "image/png": "[encoded data removed]",
      "text/plain": [
       "<Figure size 800x950 with 2 Axes>"
      ]
     },
     "metadata": {},
     "output_type": "display_data"
    }
   ],
   "source": [
    "import shap  # package used to calculate Shap values\n",
    "\n",
    "# Create object that can calculate shap values\n",
    "explainer = shap.TreeExplainer(model)\n",
    "\n",
    "# calculate shap values. This is what we will plot.\n",
    "# Calculate shap_values for all of val_X rather than a single row, to have more data for plot.\n",
    "shap_values = explainer.shap_values(X_test)\n",
    "\n",
    "# Make plot. Index of [1] is explained in text below.\n",
    "shap.summary_plot(shap_values[1], X_test)"
   ]
  },
  {
   "cell_type": "markdown",
   "id": "86f8da92",
   "metadata": {
    "papermill": {
     "duration": 0.02781,
     "end_time": "2023-04-19T09:12:06.727606",
     "exception": false,
     "start_time": "2023-04-19T09:12:06.699796",
     "status": "completed"
    },
    "tags": []
   },
   "source": [
    "# XGBoost"
   ]
  },
  {
   "cell_type": "code",
   "execution_count": 45,
   "id": "38a45b40",
   "metadata": {
    "execution": {
     "iopub.execute_input": "2023-04-19T09:12:06.785402Z",
     "iopub.status.busy": "2023-04-19T09:12:06.784964Z",
     "iopub.status.idle": "2023-04-19T09:12:08.145436Z",
     "shell.execute_reply": "2023-04-19T09:12:08.144475Z"
    },
    "papermill": {
     "duration": 1.392236,
     "end_time": "2023-04-19T09:12:08.147990",
     "exception": false,
     "start_time": "2023-04-19T09:12:06.755754",
     "status": "completed"
    },
    "tags": []
   },
   "outputs": [
    {
     "name": "stdout",
     "output_type": "stream",
     "text": [
      "0\n"
     ]
    },
    {
     "data": {
      "image/png": "[encoded data removed]",
      "text/plain": [
       "<Figure size 640x480 with 2 Axes>"
      ]
     },
     "metadata": {},
     "output_type": "display_data"
    }
   ],
   "source": [
    "import xgboost as xgb\n",
    "\n",
    "model = xgb.XGBClassifier()\n",
    "model.fit(X_train_o, y_train_o)\n",
    "\n",
    "y_fit=model.predict(X_train)\n",
    "y_pred=model.predict(X_test)\n",
    "y_tot=model.predict(X)\n",
    "\n",
    "cf=confusion_matrix(y_test,y_pred)\n",
    "TN=cf[0][0]\n",
    "TP=cf[1][1]\n",
    "FP=cf[0][1]\n",
    "FN=cf[1][0]\n",
    "\n",
    "Recall=devide(TP,(TP+FN))\n",
    "Precision=devide(TP,(TP+FP))\n",
    "if ((Recall == 0) & (Precision == 0)):\n",
    "    F1=0\n",
    "else: \n",
    "    F1=2*devide((Recall*Precision),(Precision+Recall))\n",
    "        \n",
    "print(F1)\n",
    "\n",
    "cm_display = metrics.ConfusionMatrixDisplay(confusion_matrix = cf, display_labels = [False, True])\n",
    "\n",
    "cm_display.plot()\n",
    "plt.show()\n"
   ]
  },
  {
   "cell_type": "markdown",
   "id": "58da4077",
   "metadata": {
    "papermill": {
     "duration": 0.028893,
     "end_time": "2023-04-19T09:12:08.205620",
     "exception": false,
     "start_time": "2023-04-19T09:12:08.176727",
     "status": "completed"
    },
    "tags": []
   },
   "source": [
    "# Keras Neural network"
   ]
  },
  {
   "cell_type": "code",
   "execution_count": 46,
   "id": "77875c3c",
   "metadata": {
    "execution": {
     "iopub.execute_input": "2023-04-19T09:12:08.264802Z",
     "iopub.status.busy": "2023-04-19T09:12:08.264074Z",
     "iopub.status.idle": "2023-04-19T09:12:08.940764Z",
     "shell.execute_reply": "2023-04-19T09:12:08.939094Z"
    },
    "papermill": {
     "duration": 0.712643,
     "end_time": "2023-04-19T09:12:08.946794",
     "exception": false,
     "start_time": "2023-04-19T09:12:08.234151",
     "status": "completed"
    },
    "tags": []
   },
   "outputs": [
    {
     "name": "stdout",
     "output_type": "stream",
     "text": [
      "Model: \"sequential\"\n",
      "_________________________________________________________________\n",
      " Layer (type)                Output Shape              Param #   \n",
      "=================================================================\n",
      " dense (Dense)               (None, 1200)              268800    \n",
      "                                                                 \n",
      " dropout (Dropout)           (None, 1200)              0         \n",
      "                                                                 \n",
      " dense_1 (Dense)             (None, 600)               720600    \n",
      "                                                                 \n",
      " dropout_1 (Dropout)         (None, 600)               0         \n",
      "                                                                 \n",
      " dense_2 (Dense)             (None, 300)               180300    \n",
      "                                                                 \n",
      " dropout_2 (Dropout)         (None, 300)               0         \n",
      "                                                                 \n",
      " dense_3 (Dense)             (None, 100)               30100     \n",
      "                                                                 \n",
      " dense_4 (Dense)             (None, 1)                 101       \n",
      "                                                                 \n",
      "=================================================================\n",
      "Total params: 1,199,901\n",
      "Trainable params: 1,199,901\n",
      "Non-trainable params: 0\n",
      "_________________________________________________________________\n"
     ]
    }
   ],
   "source": [
    "from keras.models import Sequential\n",
    "from keras.layers import Dense\n",
    "from tensorflow.keras import regularizers\n",
    "\n",
    "import keras\n",
    "\n",
    "Dropout_rate=0.2\n",
    "\n",
    "model = Sequential(\n",
    "    [\n",
    "        layers.Input(shape=(X_train.shape[1])),\n",
    "        \n",
    "        layers.Dense(1200, activation='relu'),\n",
    "        \n",
    "        layers.Dropout(rate=Dropout_rate),\n",
    "        \n",
    "        layers.Dense(600, activation='relu'),\n",
    "        \n",
    "        layers.Dropout(rate=Dropout_rate),\n",
    "        \n",
    "        layers.Dense(300, activation='relu'),\n",
    "        \n",
    "        layers.Dropout(rate=Dropout_rate),\n",
    "        \n",
    "        layers.Dense(100, activation='relu'),\n",
    "    \n",
    "        layers.Dense(1, activation='sigmoid')\n",
    "    ])\n",
    "\n",
    "model.compile(optimizer=keras.optimizers.Adam(learning_rate=0.0001),loss='binary_crossentropy',metrics=['binary_accuracy'],)\n",
    "model.summary()"
   ]
  },
  {
   "cell_type": "code",
   "execution_count": 47,
   "id": "5a6ddbce",
   "metadata": {
    "execution": {
     "iopub.execute_input": "2023-04-19T09:12:09.008330Z",
     "iopub.status.busy": "2023-04-19T09:12:09.007420Z",
     "iopub.status.idle": "2023-04-19T09:13:58.743086Z",
     "shell.execute_reply": "2023-04-19T09:13:58.742101Z"
    },
    "papermill": {
     "duration": 109.769791,
     "end_time": "2023-04-19T09:13:58.745723",
     "exception": false,
     "start_time": "2023-04-19T09:12:08.975932",
     "status": "completed"
    },
    "tags": []
   },
   "outputs": [
    {
     "name": "stdout",
     "output_type": "stream",
     "text": [
      "Epoch 1/300\n",
      "40/40 [==============================] - 2s 22ms/step - loss: 5.0033 - binary_accuracy: 0.6667 - val_loss: 0.6740 - val_binary_accuracy: 0.6022\n",
      "Epoch 2/300\n",
      "40/40 [==============================] - 1s 17ms/step - loss: 0.5997 - binary_accuracy: 0.8054 - val_loss: 0.3738 - val_binary_accuracy: 0.8253\n",
      "Epoch 3/300\n",
      "40/40 [==============================] - 1s 14ms/step - loss: 0.5127 - binary_accuracy: 0.8238 - val_loss: 0.0573 - val_binary_accuracy: 0.9907\n",
      "Epoch 4/300\n",
      "40/40 [==============================] - 1s 14ms/step - loss: 0.3756 - binary_accuracy: 0.8652 - val_loss: 0.0261 - val_binary_accuracy: 1.0000\n",
      "Epoch 5/300\n",
      "40/40 [==============================] - 1s 14ms/step - loss: 0.3412 - binary_accuracy: 0.8692 - val_loss: 0.0302 - val_binary_accuracy: 1.0000\n",
      "Epoch 6/300\n",
      "40/40 [==============================] - 1s 14ms/step - loss: 0.2987 - binary_accuracy: 0.8892 - val_loss: 0.0392 - val_binary_accuracy: 0.9981\n",
      "Epoch 7/300\n",
      "40/40 [==============================] - 1s 16ms/step - loss: 0.2663 - binary_accuracy: 0.8979 - val_loss: 0.0337 - val_binary_accuracy: 1.0000\n",
      "Epoch 8/300\n",
      "40/40 [==============================] - 1s 14ms/step - loss: 0.2766 - binary_accuracy: 0.8971 - val_loss: 0.1694 - val_binary_accuracy: 0.9312\n",
      "Epoch 9/300\n",
      "40/40 [==============================] - 1s 16ms/step - loss: 0.2426 - binary_accuracy: 0.9123 - val_loss: 0.0802 - val_binary_accuracy: 0.9740\n",
      "Epoch 10/300\n",
      "40/40 [==============================] - 1s 15ms/step - loss: 0.2323 - binary_accuracy: 0.9067 - val_loss: 0.0252 - val_binary_accuracy: 1.0000\n",
      "Epoch 11/300\n",
      "40/40 [==============================] - 1s 16ms/step - loss: 0.2637 - binary_accuracy: 0.9051 - val_loss: 0.1117 - val_binary_accuracy: 0.9647\n",
      "Epoch 12/300\n",
      "40/40 [==============================] - 1s 14ms/step - loss: 0.2098 - binary_accuracy: 0.9163 - val_loss: 0.0453 - val_binary_accuracy: 0.9926\n",
      "Epoch 13/300\n",
      "40/40 [==============================] - 1s 14ms/step - loss: 0.1985 - binary_accuracy: 0.9211 - val_loss: 0.0476 - val_binary_accuracy: 0.9870\n",
      "Epoch 14/300\n",
      "40/40 [==============================] - 1s 16ms/step - loss: 0.1755 - binary_accuracy: 0.9330 - val_loss: 0.0785 - val_binary_accuracy: 0.9740\n",
      "Epoch 15/300\n",
      "40/40 [==============================] - 1s 17ms/step - loss: 0.1705 - binary_accuracy: 0.9306 - val_loss: 0.0524 - val_binary_accuracy: 0.9888\n",
      "Epoch 16/300\n",
      "40/40 [==============================] - 1s 15ms/step - loss: 0.1823 - binary_accuracy: 0.9330 - val_loss: 0.0271 - val_binary_accuracy: 1.0000\n",
      "Epoch 17/300\n",
      "40/40 [==============================] - 1s 14ms/step - loss: 0.1626 - binary_accuracy: 0.9378 - val_loss: 0.0503 - val_binary_accuracy: 0.9907\n",
      "Epoch 18/300\n",
      "40/40 [==============================] - 1s 15ms/step - loss: 0.1617 - binary_accuracy: 0.9386 - val_loss: 0.0404 - val_binary_accuracy: 0.9926\n",
      "Epoch 19/300\n",
      "40/40 [==============================] - 1s 16ms/step - loss: 0.1499 - binary_accuracy: 0.9378 - val_loss: 0.0603 - val_binary_accuracy: 0.9740\n",
      "Epoch 20/300\n",
      "40/40 [==============================] - 1s 15ms/step - loss: 0.1260 - binary_accuracy: 0.9514 - val_loss: 0.0191 - val_binary_accuracy: 1.0000\n",
      "Epoch 21/300\n",
      "40/40 [==============================] - 1s 15ms/step - loss: 0.1277 - binary_accuracy: 0.9514 - val_loss: 0.0694 - val_binary_accuracy: 0.9758\n",
      "Epoch 22/300\n",
      "40/40 [==============================] - 1s 16ms/step - loss: 0.1179 - binary_accuracy: 0.9482 - val_loss: 0.0138 - val_binary_accuracy: 1.0000\n",
      "Epoch 23/300\n",
      "40/40 [==============================] - 1s 14ms/step - loss: 0.1361 - binary_accuracy: 0.9506 - val_loss: 0.0219 - val_binary_accuracy: 1.0000\n",
      "Epoch 24/300\n",
      "40/40 [==============================] - 1s 16ms/step - loss: 0.1129 - binary_accuracy: 0.9593 - val_loss: 0.0282 - val_binary_accuracy: 0.9963\n",
      "Epoch 25/300\n",
      "40/40 [==============================] - 1s 14ms/step - loss: 0.1044 - binary_accuracy: 0.9601 - val_loss: 0.0244 - val_binary_accuracy: 1.0000\n",
      "Epoch 26/300\n",
      "40/40 [==============================] - 1s 15ms/step - loss: 0.1061 - binary_accuracy: 0.9641 - val_loss: 0.0166 - val_binary_accuracy: 1.0000\n",
      "Epoch 27/300\n",
      "40/40 [==============================] - 1s 16ms/step - loss: 0.0782 - binary_accuracy: 0.9689 - val_loss: 0.0113 - val_binary_accuracy: 1.0000\n",
      "Epoch 28/300\n",
      "40/40 [==============================] - 1s 13ms/step - loss: 0.1076 - binary_accuracy: 0.9609 - val_loss: 0.0073 - val_binary_accuracy: 1.0000\n",
      "Epoch 29/300\n",
      "40/40 [==============================] - 1s 13ms/step - loss: 0.0799 - binary_accuracy: 0.9705 - val_loss: 0.0131 - val_binary_accuracy: 1.0000\n",
      "Epoch 30/300\n",
      "40/40 [==============================] - 1s 13ms/step - loss: 0.0696 - binary_accuracy: 0.9729 - val_loss: 0.0124 - val_binary_accuracy: 1.0000\n",
      "Epoch 31/300\n",
      "40/40 [==============================] - 1s 16ms/step - loss: 0.0840 - binary_accuracy: 0.9689 - val_loss: 0.0173 - val_binary_accuracy: 1.0000\n",
      "Epoch 32/300\n",
      "40/40 [==============================] - 1s 15ms/step - loss: 0.0832 - binary_accuracy: 0.9745 - val_loss: 0.0077 - val_binary_accuracy: 1.0000\n",
      "Epoch 33/300\n",
      "40/40 [==============================] - 1s 17ms/step - loss: 0.0610 - binary_accuracy: 0.9721 - val_loss: 0.0061 - val_binary_accuracy: 1.0000\n",
      "Epoch 34/300\n",
      "40/40 [==============================] - 1s 16ms/step - loss: 0.0554 - binary_accuracy: 0.9769 - val_loss: 0.0049 - val_binary_accuracy: 1.0000\n",
      "Epoch 35/300\n",
      "40/40 [==============================] - 1s 15ms/step - loss: 0.0643 - binary_accuracy: 0.9769 - val_loss: 0.0099 - val_binary_accuracy: 1.0000\n",
      "Epoch 36/300\n",
      "40/40 [==============================] - 1s 15ms/step - loss: 0.0768 - binary_accuracy: 0.9721 - val_loss: 0.0049 - val_binary_accuracy: 1.0000\n",
      "Epoch 37/300\n",
      "40/40 [==============================] - 1s 15ms/step - loss: 0.0706 - binary_accuracy: 0.9753 - val_loss: 0.0038 - val_binary_accuracy: 1.0000\n",
      "Epoch 38/300\n",
      "40/40 [==============================] - 1s 16ms/step - loss: 0.0554 - binary_accuracy: 0.9769 - val_loss: 0.0050 - val_binary_accuracy: 1.0000\n",
      "Epoch 39/300\n",
      "40/40 [==============================] - 1s 17ms/step - loss: 0.0543 - binary_accuracy: 0.9817 - val_loss: 0.0026 - val_binary_accuracy: 1.0000\n",
      "Epoch 40/300\n",
      "40/40 [==============================] - 1s 15ms/step - loss: 0.0367 - binary_accuracy: 0.9841 - val_loss: 0.0012 - val_binary_accuracy: 1.0000\n",
      "Epoch 41/300\n",
      "40/40 [==============================] - 1s 17ms/step - loss: 0.0507 - binary_accuracy: 0.9801 - val_loss: 0.0019 - val_binary_accuracy: 1.0000\n",
      "Epoch 42/300\n",
      "40/40 [==============================] - 1s 15ms/step - loss: 0.0382 - binary_accuracy: 0.9848 - val_loss: 5.3723e-04 - val_binary_accuracy: 1.0000\n",
      "Epoch 43/300\n",
      "40/40 [==============================] - 1s 14ms/step - loss: 0.0422 - binary_accuracy: 0.9841 - val_loss: 0.0010 - val_binary_accuracy: 1.0000\n",
      "Epoch 44/300\n",
      "40/40 [==============================] - 1s 16ms/step - loss: 0.0455 - binary_accuracy: 0.9856 - val_loss: 0.0026 - val_binary_accuracy: 1.0000\n",
      "Epoch 45/300\n",
      "40/40 [==============================] - 1s 14ms/step - loss: 0.0306 - binary_accuracy: 0.9864 - val_loss: 0.0040 - val_binary_accuracy: 1.0000\n",
      "Epoch 46/300\n",
      "40/40 [==============================] - 1s 14ms/step - loss: 0.0372 - binary_accuracy: 0.9856 - val_loss: 0.0018 - val_binary_accuracy: 1.0000\n",
      "Epoch 47/300\n",
      "40/40 [==============================] - 1s 13ms/step - loss: 0.0228 - binary_accuracy: 0.9912 - val_loss: 0.0023 - val_binary_accuracy: 1.0000\n",
      "Epoch 48/300\n",
      "40/40 [==============================] - 1s 14ms/step - loss: 0.0215 - binary_accuracy: 0.9920 - val_loss: 0.0025 - val_binary_accuracy: 1.0000\n",
      "Epoch 49/300\n",
      "40/40 [==============================] - 1s 15ms/step - loss: 0.0271 - binary_accuracy: 0.9912 - val_loss: 0.0016 - val_binary_accuracy: 1.0000\n",
      "Epoch 50/300\n",
      "40/40 [==============================] - 1s 14ms/step - loss: 0.0324 - binary_accuracy: 0.9904 - val_loss: 3.4971e-04 - val_binary_accuracy: 1.0000\n",
      "Epoch 51/300\n",
      "40/40 [==============================] - 1s 17ms/step - loss: 0.0284 - binary_accuracy: 0.9872 - val_loss: 0.0033 - val_binary_accuracy: 1.0000\n",
      "Epoch 52/300\n",
      "40/40 [==============================] - 1s 14ms/step - loss: 0.0193 - binary_accuracy: 0.9936 - val_loss: 6.5550e-04 - val_binary_accuracy: 1.0000\n",
      "Epoch 53/300\n",
      "40/40 [==============================] - 1s 19ms/step - loss: 0.0303 - binary_accuracy: 0.9896 - val_loss: 2.1143e-04 - val_binary_accuracy: 1.0000\n",
      "Epoch 54/300\n",
      "40/40 [==============================] - 1s 15ms/step - loss: 0.0199 - binary_accuracy: 0.9928 - val_loss: 1.5647e-04 - val_binary_accuracy: 1.0000\n",
      "Epoch 55/300\n",
      "40/40 [==============================] - 1s 14ms/step - loss: 0.0213 - binary_accuracy: 0.9928 - val_loss: 1.8791e-04 - val_binary_accuracy: 1.0000\n",
      "Epoch 56/300\n",
      "40/40 [==============================] - 1s 14ms/step - loss: 0.0185 - binary_accuracy: 0.9936 - val_loss: 6.6606e-04 - val_binary_accuracy: 1.0000\n",
      "Epoch 57/300\n",
      "40/40 [==============================] - 1s 14ms/step - loss: 0.0241 - binary_accuracy: 0.9904 - val_loss: 3.0793e-04 - val_binary_accuracy: 1.0000\n",
      "Epoch 58/300\n",
      "40/40 [==============================] - 1s 16ms/step - loss: 0.0119 - binary_accuracy: 0.9952 - val_loss: 3.2652e-04 - val_binary_accuracy: 1.0000\n",
      "Epoch 59/300\n",
      "40/40 [==============================] - 1s 16ms/step - loss: 0.0147 - binary_accuracy: 0.9952 - val_loss: 2.4141e-04 - val_binary_accuracy: 1.0000\n",
      "Epoch 60/300\n",
      "40/40 [==============================] - 1s 14ms/step - loss: 0.0150 - binary_accuracy: 0.9928 - val_loss: 4.5838e-04 - val_binary_accuracy: 1.0000\n",
      "Epoch 61/300\n",
      "40/40 [==============================] - 1s 15ms/step - loss: 0.0194 - binary_accuracy: 0.9952 - val_loss: 1.4592e-04 - val_binary_accuracy: 1.0000\n",
      "Epoch 62/300\n",
      "40/40 [==============================] - 1s 16ms/step - loss: 0.0091 - binary_accuracy: 0.9960 - val_loss: 6.7221e-05 - val_binary_accuracy: 1.0000\n",
      "Epoch 63/300\n",
      "40/40 [==============================] - 1s 14ms/step - loss: 0.0201 - binary_accuracy: 0.9928 - val_loss: 2.0180e-04 - val_binary_accuracy: 1.0000\n",
      "Epoch 64/300\n",
      "40/40 [==============================] - 1s 17ms/step - loss: 0.0221 - binary_accuracy: 0.9928 - val_loss: 8.4011e-05 - val_binary_accuracy: 1.0000\n",
      "Epoch 65/300\n",
      "40/40 [==============================] - 1s 16ms/step - loss: 0.0130 - binary_accuracy: 0.9960 - val_loss: 1.5338e-04 - val_binary_accuracy: 1.0000\n",
      "Epoch 66/300\n",
      "40/40 [==============================] - 1s 16ms/step - loss: 0.0166 - binary_accuracy: 0.9936 - val_loss: 7.9871e-05 - val_binary_accuracy: 1.0000\n",
      "Epoch 67/300\n",
      "40/40 [==============================] - 1s 14ms/step - loss: 0.0145 - binary_accuracy: 0.9928 - val_loss: 1.1865e-04 - val_binary_accuracy: 1.0000\n",
      "Epoch 68/300\n",
      "40/40 [==============================] - 1s 16ms/step - loss: 0.0095 - binary_accuracy: 0.9968 - val_loss: 7.8466e-05 - val_binary_accuracy: 1.0000\n",
      "Epoch 69/300\n",
      "40/40 [==============================] - 1s 17ms/step - loss: 0.0095 - binary_accuracy: 0.9960 - val_loss: 6.5942e-05 - val_binary_accuracy: 1.0000\n",
      "Epoch 70/300\n",
      "40/40 [==============================] - 1s 15ms/step - loss: 0.0164 - binary_accuracy: 0.9944 - val_loss: 2.7507e-04 - val_binary_accuracy: 1.0000\n",
      "Epoch 71/300\n",
      "40/40 [==============================] - 1s 17ms/step - loss: 0.0184 - binary_accuracy: 0.9928 - val_loss: 3.6506e-04 - val_binary_accuracy: 1.0000\n",
      "Epoch 72/300\n",
      "40/40 [==============================] - 1s 15ms/step - loss: 0.0206 - binary_accuracy: 0.9936 - val_loss: 2.9781e-05 - val_binary_accuracy: 1.0000\n",
      "Epoch 73/300\n",
      "40/40 [==============================] - 1s 15ms/step - loss: 0.0117 - binary_accuracy: 0.9952 - val_loss: 2.7109e-05 - val_binary_accuracy: 1.0000\n",
      "Epoch 74/300\n",
      "40/40 [==============================] - 1s 14ms/step - loss: 0.0186 - binary_accuracy: 0.9920 - val_loss: 2.3330e-04 - val_binary_accuracy: 1.0000\n",
      "Epoch 75/300\n",
      "40/40 [==============================] - 1s 14ms/step - loss: 0.0132 - binary_accuracy: 0.9952 - val_loss: 4.6494e-05 - val_binary_accuracy: 1.0000\n",
      "Epoch 76/300\n",
      "40/40 [==============================] - 1s 14ms/step - loss: 0.0067 - binary_accuracy: 0.9960 - val_loss: 4.6355e-05 - val_binary_accuracy: 1.0000\n",
      "Epoch 77/300\n",
      "40/40 [==============================] - 1s 14ms/step - loss: 0.0098 - binary_accuracy: 0.9968 - val_loss: 2.7228e-05 - val_binary_accuracy: 1.0000\n",
      "Epoch 78/300\n",
      "40/40 [==============================] - 1s 14ms/step - loss: 0.0099 - binary_accuracy: 0.9952 - val_loss: 5.8470e-05 - val_binary_accuracy: 1.0000\n",
      "Epoch 79/300\n",
      "40/40 [==============================] - 1s 14ms/step - loss: 0.0110 - binary_accuracy: 0.9952 - val_loss: 1.0337e-04 - val_binary_accuracy: 1.0000\n",
      "Epoch 80/300\n",
      "40/40 [==============================] - 1s 13ms/step - loss: 0.0100 - binary_accuracy: 0.9960 - val_loss: 7.2993e-05 - val_binary_accuracy: 1.0000\n",
      "Epoch 81/300\n",
      "40/40 [==============================] - 1s 16ms/step - loss: 0.0062 - binary_accuracy: 0.9976 - val_loss: 3.2692e-05 - val_binary_accuracy: 1.0000\n",
      "Epoch 82/300\n",
      "40/40 [==============================] - 1s 14ms/step - loss: 0.0101 - binary_accuracy: 0.9952 - val_loss: 2.2562e-04 - val_binary_accuracy: 1.0000\n",
      "Epoch 83/300\n",
      "40/40 [==============================] - 1s 13ms/step - loss: 0.0125 - binary_accuracy: 0.9976 - val_loss: 3.8502e-05 - val_binary_accuracy: 1.0000\n",
      "Epoch 84/300\n",
      "40/40 [==============================] - 1s 14ms/step - loss: 0.0193 - binary_accuracy: 0.9936 - val_loss: 1.8970e-05 - val_binary_accuracy: 1.0000\n",
      "Epoch 85/300\n",
      "40/40 [==============================] - 1s 16ms/step - loss: 0.0104 - binary_accuracy: 0.9960 - val_loss: 1.4382e-05 - val_binary_accuracy: 1.0000\n",
      "Epoch 86/300\n",
      "40/40 [==============================] - 1s 16ms/step - loss: 0.0019 - binary_accuracy: 1.0000 - val_loss: 3.5649e-05 - val_binary_accuracy: 1.0000\n",
      "Epoch 87/300\n",
      "40/40 [==============================] - 1s 15ms/step - loss: 0.0076 - binary_accuracy: 0.9968 - val_loss: 7.2106e-05 - val_binary_accuracy: 1.0000\n",
      "Epoch 88/300\n",
      "40/40 [==============================] - 1s 16ms/step - loss: 0.0059 - binary_accuracy: 0.9976 - val_loss: 4.1034e-04 - val_binary_accuracy: 1.0000\n",
      "Epoch 89/300\n",
      "40/40 [==============================] - 1s 16ms/step - loss: 0.0067 - binary_accuracy: 0.9968 - val_loss: 1.3916e-05 - val_binary_accuracy: 1.0000\n",
      "Epoch 90/300\n",
      "40/40 [==============================] - 1s 16ms/step - loss: 0.0066 - binary_accuracy: 0.9968 - val_loss: 2.2606e-05 - val_binary_accuracy: 1.0000\n",
      "Epoch 91/300\n",
      "40/40 [==============================] - 1s 14ms/step - loss: 0.0039 - binary_accuracy: 0.9984 - val_loss: 1.4276e-05 - val_binary_accuracy: 1.0000\n",
      "Epoch 92/300\n",
      "40/40 [==============================] - 1s 14ms/step - loss: 0.0042 - binary_accuracy: 0.9992 - val_loss: 4.9561e-05 - val_binary_accuracy: 1.0000\n",
      "Epoch 93/300\n",
      "40/40 [==============================] - 1s 14ms/step - loss: 0.0012 - binary_accuracy: 1.0000 - val_loss: 4.4032e-06 - val_binary_accuracy: 1.0000\n",
      "Epoch 94/300\n",
      "40/40 [==============================] - 1s 14ms/step - loss: 0.0059 - binary_accuracy: 0.9984 - val_loss: 1.5633e-05 - val_binary_accuracy: 1.0000\n",
      "Epoch 95/300\n",
      "40/40 [==============================] - 1s 14ms/step - loss: 0.0087 - binary_accuracy: 0.9976 - val_loss: 2.3532e-05 - val_binary_accuracy: 1.0000\n",
      "Epoch 96/300\n",
      "40/40 [==============================] - 1s 14ms/step - loss: 0.0092 - binary_accuracy: 0.9960 - val_loss: 1.7346e-06 - val_binary_accuracy: 1.0000\n",
      "Epoch 97/300\n",
      "40/40 [==============================] - 1s 14ms/step - loss: 0.0079 - binary_accuracy: 0.9984 - val_loss: 2.9578e-05 - val_binary_accuracy: 1.0000\n",
      "Epoch 98/300\n",
      "40/40 [==============================] - 1s 16ms/step - loss: 0.0063 - binary_accuracy: 0.9976 - val_loss: 2.7773e-05 - val_binary_accuracy: 1.0000\n",
      "Epoch 99/300\n",
      "40/40 [==============================] - 1s 14ms/step - loss: 0.0115 - binary_accuracy: 0.9976 - val_loss: 1.8506e-05 - val_binary_accuracy: 1.0000\n",
      "Epoch 100/300\n",
      "40/40 [==============================] - 1s 15ms/step - loss: 0.0079 - binary_accuracy: 0.9976 - val_loss: 2.0697e-04 - val_binary_accuracy: 1.0000\n",
      "Epoch 101/300\n",
      "40/40 [==============================] - 1s 15ms/step - loss: 0.0014 - binary_accuracy: 1.0000 - val_loss: 1.3705e-05 - val_binary_accuracy: 1.0000\n",
      "Epoch 102/300\n",
      "40/40 [==============================] - 1s 14ms/step - loss: 0.0021 - binary_accuracy: 0.9992 - val_loss: 1.5895e-04 - val_binary_accuracy: 1.0000\n",
      "Epoch 103/300\n",
      "40/40 [==============================] - 1s 14ms/step - loss: 0.0026 - binary_accuracy: 0.9992 - val_loss: 3.5113e-06 - val_binary_accuracy: 1.0000\n",
      "Epoch 104/300\n",
      "40/40 [==============================] - 1s 16ms/step - loss: 0.0052 - binary_accuracy: 0.9984 - val_loss: 4.4411e-05 - val_binary_accuracy: 1.0000\n",
      "Epoch 105/300\n",
      "40/40 [==============================] - 1s 16ms/step - loss: 0.0024 - binary_accuracy: 0.9992 - val_loss: 3.2530e-05 - val_binary_accuracy: 1.0000\n",
      "Epoch 106/300\n",
      "40/40 [==============================] - 1s 19ms/step - loss: 0.0101 - binary_accuracy: 0.9960 - val_loss: 1.0903e-05 - val_binary_accuracy: 1.0000\n",
      "Epoch 107/300\n",
      "40/40 [==============================] - 1s 14ms/step - loss: 0.0045 - binary_accuracy: 0.9984 - val_loss: 2.0032e-05 - val_binary_accuracy: 1.0000\n",
      "Epoch 108/300\n",
      "40/40 [==============================] - 1s 14ms/step - loss: 0.0018 - binary_accuracy: 1.0000 - val_loss: 1.5088e-06 - val_binary_accuracy: 1.0000\n",
      "Epoch 109/300\n",
      "40/40 [==============================] - 1s 14ms/step - loss: 0.0055 - binary_accuracy: 0.9992 - val_loss: 4.4761e-06 - val_binary_accuracy: 1.0000\n",
      "Epoch 110/300\n",
      "40/40 [==============================] - 1s 16ms/step - loss: 0.0059 - binary_accuracy: 0.9976 - val_loss: 2.5127e-06 - val_binary_accuracy: 1.0000\n",
      "Epoch 111/300\n",
      "40/40 [==============================] - 1s 14ms/step - loss: 0.0034 - binary_accuracy: 0.9992 - val_loss: 7.8163e-06 - val_binary_accuracy: 1.0000\n",
      "Epoch 112/300\n",
      "40/40 [==============================] - 1s 13ms/step - loss: 0.0026 - binary_accuracy: 0.9992 - val_loss: 1.4940e-05 - val_binary_accuracy: 1.0000\n",
      "Epoch 113/300\n",
      "40/40 [==============================] - 1s 13ms/step - loss: 0.0041 - binary_accuracy: 0.9992 - val_loss: 1.2404e-05 - val_binary_accuracy: 1.0000\n",
      "Epoch 114/300\n",
      "40/40 [==============================] - 1s 13ms/step - loss: 0.0039 - binary_accuracy: 0.9984 - val_loss: 7.2173e-07 - val_binary_accuracy: 1.0000\n",
      "Epoch 115/300\n",
      "40/40 [==============================] - 1s 16ms/step - loss: 0.0058 - binary_accuracy: 0.9960 - val_loss: 3.6835e-06 - val_binary_accuracy: 1.0000\n",
      "Epoch 116/300\n",
      "40/40 [==============================] - 1s 16ms/step - loss: 0.0066 - binary_accuracy: 0.9984 - val_loss: 1.9842e-06 - val_binary_accuracy: 1.0000\n",
      "Epoch 117/300\n",
      "40/40 [==============================] - 1s 16ms/step - loss: 9.4652e-04 - binary_accuracy: 0.9992 - val_loss: 9.3408e-07 - val_binary_accuracy: 1.0000\n",
      "Epoch 118/300\n",
      "40/40 [==============================] - 1s 14ms/step - loss: 0.0026 - binary_accuracy: 0.9992 - val_loss: 2.9340e-06 - val_binary_accuracy: 1.0000\n",
      "Epoch 119/300\n",
      "40/40 [==============================] - 1s 15ms/step - loss: 0.0056 - binary_accuracy: 0.9984 - val_loss: 4.3565e-05 - val_binary_accuracy: 1.0000\n",
      "Epoch 120/300\n",
      "40/40 [==============================] - 1s 14ms/step - loss: 0.0065 - binary_accuracy: 0.9976 - val_loss: 8.5449e-07 - val_binary_accuracy: 1.0000\n",
      "Epoch 121/300\n",
      "40/40 [==============================] - 1s 16ms/step - loss: 0.0044 - binary_accuracy: 0.9992 - val_loss: 6.0499e-06 - val_binary_accuracy: 1.0000\n",
      "Epoch 122/300\n",
      "40/40 [==============================] - 1s 16ms/step - loss: 0.0012 - binary_accuracy: 0.9992 - val_loss: 1.2129e-05 - val_binary_accuracy: 1.0000\n",
      "Epoch 123/300\n",
      "40/40 [==============================] - 1s 16ms/step - loss: 3.6282e-04 - binary_accuracy: 1.0000 - val_loss: 2.1006e-06 - val_binary_accuracy: 1.0000\n",
      "Epoch 124/300\n",
      "40/40 [==============================] - 1s 15ms/step - loss: 4.0864e-04 - binary_accuracy: 1.0000 - val_loss: 3.6050e-06 - val_binary_accuracy: 1.0000\n",
      "Epoch 125/300\n",
      "40/40 [==============================] - 1s 14ms/step - loss: 3.1450e-04 - binary_accuracy: 1.0000 - val_loss: 1.9852e-06 - val_binary_accuracy: 1.0000\n",
      "Epoch 126/300\n",
      "40/40 [==============================] - 1s 14ms/step - loss: 0.0035 - binary_accuracy: 0.9992 - val_loss: 3.1179e-06 - val_binary_accuracy: 1.0000\n",
      "Epoch 127/300\n",
      "40/40 [==============================] - 1s 13ms/step - loss: 0.0045 - binary_accuracy: 0.9984 - val_loss: 2.9887e-05 - val_binary_accuracy: 1.0000\n",
      "Epoch 128/300\n",
      "40/40 [==============================] - 1s 13ms/step - loss: 7.2774e-04 - binary_accuracy: 1.0000 - val_loss: 1.0365e-05 - val_binary_accuracy: 1.0000\n",
      "Epoch 129/300\n",
      "40/40 [==============================] - 1s 14ms/step - loss: 0.0020 - binary_accuracy: 1.0000 - val_loss: 3.3344e-05 - val_binary_accuracy: 1.0000\n",
      "Epoch 130/300\n",
      "40/40 [==============================] - 1s 13ms/step - loss: 0.0039 - binary_accuracy: 0.9984 - val_loss: 2.5385e-05 - val_binary_accuracy: 1.0000\n",
      "Epoch 131/300\n",
      "40/40 [==============================] - 1s 13ms/step - loss: 0.0021 - binary_accuracy: 0.9992 - val_loss: 1.5517e-06 - val_binary_accuracy: 1.0000\n",
      "Epoch 132/300\n",
      "40/40 [==============================] - 1s 14ms/step - loss: 0.0023 - binary_accuracy: 0.9992 - val_loss: 1.1560e-04 - val_binary_accuracy: 1.0000\n",
      "Epoch 133/300\n",
      "40/40 [==============================] - 1s 13ms/step - loss: 0.0063 - binary_accuracy: 0.9976 - val_loss: 2.2486e-06 - val_binary_accuracy: 1.0000\n",
      "Epoch 134/300\n",
      "40/40 [==============================] - 1s 14ms/step - loss: 2.5839e-04 - binary_accuracy: 1.0000 - val_loss: 6.6452e-06 - val_binary_accuracy: 1.0000\n",
      "Epoch 135/300\n",
      "40/40 [==============================] - 1s 14ms/step - loss: 0.0014 - binary_accuracy: 0.9992 - val_loss: 6.2466e-06 - val_binary_accuracy: 1.0000\n",
      "Epoch 136/300\n",
      "40/40 [==============================] - 1s 13ms/step - loss: 0.0022 - binary_accuracy: 0.9992 - val_loss: 3.4974e-06 - val_binary_accuracy: 1.0000\n",
      "Epoch 137/300\n",
      "40/40 [==============================] - 1s 13ms/step - loss: 0.0028 - binary_accuracy: 0.9992 - val_loss: 2.2466e-06 - val_binary_accuracy: 1.0000\n",
      "Epoch 138/300\n",
      "40/40 [==============================] - 1s 13ms/step - loss: 0.0097 - binary_accuracy: 0.9976 - val_loss: 7.1392e-07 - val_binary_accuracy: 1.0000\n",
      "Epoch 139/300\n",
      "40/40 [==============================] - 1s 13ms/step - loss: 0.0042 - binary_accuracy: 0.9992 - val_loss: 1.6402e-05 - val_binary_accuracy: 1.0000\n",
      "Epoch 140/300\n",
      "40/40 [==============================] - 1s 13ms/step - loss: 0.0101 - binary_accuracy: 0.9976 - val_loss: 7.5464e-06 - val_binary_accuracy: 1.0000\n",
      "Epoch 141/300\n",
      "40/40 [==============================] - 1s 13ms/step - loss: 0.0072 - binary_accuracy: 0.9976 - val_loss: 5.1109e-06 - val_binary_accuracy: 1.0000\n",
      "Epoch 142/300\n",
      "40/40 [==============================] - 1s 14ms/step - loss: 0.0039 - binary_accuracy: 0.9976 - val_loss: 2.6213e-06 - val_binary_accuracy: 1.0000\n",
      "Epoch 143/300\n",
      "40/40 [==============================] - 1s 14ms/step - loss: 0.0017 - binary_accuracy: 0.9992 - val_loss: 7.4036e-06 - val_binary_accuracy: 1.0000\n",
      "Epoch 144/300\n",
      "40/40 [==============================] - 1s 16ms/step - loss: 2.8630e-04 - binary_accuracy: 1.0000 - val_loss: 5.1917e-07 - val_binary_accuracy: 1.0000\n",
      "Epoch 145/300\n",
      "40/40 [==============================] - 1s 14ms/step - loss: 3.5805e-04 - binary_accuracy: 1.0000 - val_loss: 9.3346e-07 - val_binary_accuracy: 1.0000\n",
      "Epoch 146/300\n",
      "40/40 [==============================] - 1s 15ms/step - loss: 2.0130e-04 - binary_accuracy: 1.0000 - val_loss: 4.1504e-07 - val_binary_accuracy: 1.0000\n",
      "Epoch 147/300\n",
      "40/40 [==============================] - 1s 16ms/step - loss: 0.0014 - binary_accuracy: 0.9992 - val_loss: 1.5179e-06 - val_binary_accuracy: 1.0000\n",
      "Epoch 148/300\n",
      "40/40 [==============================] - 1s 13ms/step - loss: 3.8481e-04 - binary_accuracy: 1.0000 - val_loss: 5.3322e-07 - val_binary_accuracy: 1.0000\n",
      "Epoch 149/300\n",
      "40/40 [==============================] - 1s 16ms/step - loss: 0.0078 - binary_accuracy: 0.9976 - val_loss: 1.0359e-06 - val_binary_accuracy: 1.0000\n",
      "Epoch 150/300\n",
      "40/40 [==============================] - 1s 15ms/step - loss: 0.0014 - binary_accuracy: 0.9992 - val_loss: 2.4055e-05 - val_binary_accuracy: 1.0000\n",
      "Epoch 151/300\n",
      "40/40 [==============================] - 1s 14ms/step - loss: 0.0010 - binary_accuracy: 0.9992 - val_loss: 2.1822e-05 - val_binary_accuracy: 1.0000\n",
      "Epoch 152/300\n",
      "40/40 [==============================] - 1s 16ms/step - loss: 8.1009e-04 - binary_accuracy: 1.0000 - val_loss: 1.7769e-07 - val_binary_accuracy: 1.0000\n",
      "Epoch 153/300\n",
      "40/40 [==============================] - 1s 13ms/step - loss: 3.7395e-04 - binary_accuracy: 1.0000 - val_loss: 6.6424e-07 - val_binary_accuracy: 1.0000\n",
      "Epoch 154/300\n",
      "40/40 [==============================] - 1s 14ms/step - loss: 1.2800e-04 - binary_accuracy: 1.0000 - val_loss: 6.2419e-07 - val_binary_accuracy: 1.0000\n",
      "Epoch 155/300\n",
      "40/40 [==============================] - 1s 13ms/step - loss: 1.0582e-04 - binary_accuracy: 1.0000 - val_loss: 3.6753e-07 - val_binary_accuracy: 1.0000\n",
      "Epoch 156/300\n",
      "40/40 [==============================] - 1s 14ms/step - loss: 0.0034 - binary_accuracy: 0.9984 - val_loss: 9.7072e-06 - val_binary_accuracy: 1.0000\n",
      "Epoch 157/300\n",
      "40/40 [==============================] - 1s 15ms/step - loss: 0.0010 - binary_accuracy: 1.0000 - val_loss: 4.1987e-07 - val_binary_accuracy: 1.0000\n",
      "Epoch 158/300\n",
      "40/40 [==============================] - 1s 14ms/step - loss: 6.9932e-05 - binary_accuracy: 1.0000 - val_loss: 3.6218e-07 - val_binary_accuracy: 1.0000\n",
      "Epoch 159/300\n",
      "40/40 [==============================] - 1s 13ms/step - loss: 0.0071 - binary_accuracy: 0.9984 - val_loss: 3.7094e-08 - val_binary_accuracy: 1.0000\n",
      "Epoch 160/300\n",
      "40/40 [==============================] - 1s 15ms/step - loss: 0.0152 - binary_accuracy: 0.9952 - val_loss: 1.5674e-04 - val_binary_accuracy: 1.0000\n",
      "Epoch 161/300\n",
      "40/40 [==============================] - 1s 17ms/step - loss: 0.0011 - binary_accuracy: 0.9992 - val_loss: 2.0695e-06 - val_binary_accuracy: 1.0000\n",
      "Epoch 162/300\n",
      "40/40 [==============================] - 1s 14ms/step - loss: 3.1578e-04 - binary_accuracy: 1.0000 - val_loss: 3.4277e-06 - val_binary_accuracy: 1.0000\n",
      "Epoch 163/300\n",
      "40/40 [==============================] - 1s 16ms/step - loss: 0.0089 - binary_accuracy: 0.9976 - val_loss: 3.3868e-05 - val_binary_accuracy: 1.0000\n",
      "Epoch 164/300\n",
      "40/40 [==============================] - 1s 13ms/step - loss: 0.0023 - binary_accuracy: 0.9992 - val_loss: 2.7520e-07 - val_binary_accuracy: 1.0000\n",
      "Epoch 165/300\n",
      "40/40 [==============================] - 1s 14ms/step - loss: 8.0573e-05 - binary_accuracy: 1.0000 - val_loss: 6.2975e-07 - val_binary_accuracy: 1.0000\n",
      "Epoch 166/300\n",
      "40/40 [==============================] - 1s 14ms/step - loss: 6.2180e-05 - binary_accuracy: 1.0000 - val_loss: 5.3678e-07 - val_binary_accuracy: 1.0000\n",
      "Epoch 167/300\n",
      "40/40 [==============================] - 1s 14ms/step - loss: 2.2850e-04 - binary_accuracy: 1.0000 - val_loss: 9.4926e-07 - val_binary_accuracy: 1.0000\n",
      "Epoch 168/300\n",
      "40/40 [==============================] - 1s 13ms/step - loss: 9.8695e-05 - binary_accuracy: 1.0000 - val_loss: 5.3151e-07 - val_binary_accuracy: 1.0000\n",
      "Epoch 169/300\n",
      "40/40 [==============================] - 1s 14ms/step - loss: 2.5332e-05 - binary_accuracy: 1.0000 - val_loss: 5.2222e-07 - val_binary_accuracy: 1.0000\n",
      "Epoch 170/300\n",
      "40/40 [==============================] - 1s 13ms/step - loss: 9.4137e-05 - binary_accuracy: 1.0000 - val_loss: 2.2010e-07 - val_binary_accuracy: 1.0000\n",
      "Epoch 171/300\n",
      "40/40 [==============================] - 1s 13ms/step - loss: 1.6356e-04 - binary_accuracy: 1.0000 - val_loss: 4.3418e-07 - val_binary_accuracy: 1.0000\n",
      "Epoch 172/300\n",
      "40/40 [==============================] - 1s 13ms/step - loss: 9.6198e-04 - binary_accuracy: 1.0000 - val_loss: 2.9251e-07 - val_binary_accuracy: 1.0000\n",
      "Epoch 173/300\n",
      "40/40 [==============================] - 1s 14ms/step - loss: 1.0313e-04 - binary_accuracy: 1.0000 - val_loss: 1.7537e-07 - val_binary_accuracy: 1.0000\n",
      "Epoch 174/300\n",
      "40/40 [==============================] - 1s 13ms/step - loss: 1.1623e-04 - binary_accuracy: 1.0000 - val_loss: 8.0828e-07 - val_binary_accuracy: 1.0000\n",
      "Epoch 175/300\n",
      "40/40 [==============================] - 1s 13ms/step - loss: 0.0033 - binary_accuracy: 0.9984 - val_loss: 1.4414e-07 - val_binary_accuracy: 1.0000\n",
      "Epoch 176/300\n",
      "40/40 [==============================] - 1s 13ms/step - loss: 0.0026 - binary_accuracy: 0.9984 - val_loss: 5.6390e-07 - val_binary_accuracy: 1.0000\n",
      "Epoch 177/300\n",
      "40/40 [==============================] - 1s 15ms/step - loss: 2.7177e-04 - binary_accuracy: 1.0000 - val_loss: 7.7085e-07 - val_binary_accuracy: 1.0000\n",
      "Epoch 178/300\n",
      "40/40 [==============================] - 1s 14ms/step - loss: 2.0435e-04 - binary_accuracy: 1.0000 - val_loss: 2.2239e-07 - val_binary_accuracy: 1.0000\n",
      "Epoch 179/300\n",
      "40/40 [==============================] - 1s 14ms/step - loss: 2.2009e-04 - binary_accuracy: 1.0000 - val_loss: 2.8176e-07 - val_binary_accuracy: 1.0000\n",
      "Epoch 180/300\n",
      "40/40 [==============================] - 1s 13ms/step - loss: 7.3199e-04 - binary_accuracy: 1.0000 - val_loss: 3.3021e-06 - val_binary_accuracy: 1.0000\n",
      "Epoch 181/300\n",
      "40/40 [==============================] - 1s 14ms/step - loss: 1.0619e-04 - binary_accuracy: 1.0000 - val_loss: 1.2598e-06 - val_binary_accuracy: 1.0000\n",
      "Epoch 182/300\n",
      "40/40 [==============================] - 1s 15ms/step - loss: 9.3390e-05 - binary_accuracy: 1.0000 - val_loss: 1.4277e-06 - val_binary_accuracy: 1.0000\n",
      "Epoch 183/300\n",
      "40/40 [==============================] - 1s 14ms/step - loss: 2.5178e-04 - binary_accuracy: 1.0000 - val_loss: 5.0219e-07 - val_binary_accuracy: 1.0000\n",
      "Epoch 184/300\n",
      "40/40 [==============================] - 1s 14ms/step - loss: 3.8517e-05 - binary_accuracy: 1.0000 - val_loss: 4.8615e-07 - val_binary_accuracy: 1.0000\n"
     ]
    }
   ],
   "source": [
    "history=model.fit(\n",
    "    X_train_o,\n",
    "    y_train_o,\n",
    "    epochs=300,\n",
    "    validation_split=0.3,\n",
    "    callbacks=[\n",
    "        keras.callbacks.EarlyStopping(monitor=\"val_loss\", patience=25, mode=\"auto\")\n",
    "    ],\n",
    ")"
   ]
  },
  {
   "cell_type": "code",
   "execution_count": 48,
   "id": "c03fe5cd",
   "metadata": {
    "execution": {
     "iopub.execute_input": "2023-04-19T09:13:59.128675Z",
     "iopub.status.busy": "2023-04-19T09:13:59.127508Z",
     "iopub.status.idle": "2023-04-19T09:14:00.213903Z",
     "shell.execute_reply": "2023-04-19T09:14:00.212633Z"
    },
    "papermill": {
     "duration": 1.319481,
     "end_time": "2023-04-19T09:14:00.216635",
     "exception": false,
     "start_time": "2023-04-19T09:13:58.897154",
     "status": "completed"
    },
    "tags": []
   },
   "outputs": [
    {
     "name": "stdout",
     "output_type": "stream",
     "text": [
      "29/29 [==============================] - 0s 3ms/step\n",
      "10/10 [==============================] - 0s 5ms/step\n"
     ]
    },
    {
     "data": {
      "text/plain": [
       "<AxesSubplot:>"
      ]
     },
     "execution_count": 48,
     "metadata": {},
     "output_type": "execute_result"
    },
    {
     "data": {
      "image/png": "[encoded data removed]",
      "text/plain": [
       "<Figure size 640x480 with 1 Axes>"
      ]
     },
     "metadata": {},
     "output_type": "display_data"
    },
    {
     "data": {
      "image/png": "[encoded data removed]",
      "text/plain": [
       "<Figure size 640x480 with 1 Axes>"
      ]
     },
     "metadata": {},
     "output_type": "display_data"
    }
   ],
   "source": [
    "Y_train=model.predict(X_train)\n",
    "Y_train=np.squeeze(Y_train,axis=1)\n",
    "#Y_train=np.sort(Y_train)\n",
    "\n",
    "#plt.plot(Y_train)\n",
    "sns.scatterplot(x=range(903),y=Y_train,hue=y_train)\n",
    "plt.figure()\n",
    "\n",
    "Y_test=model.predict(X_test)\n",
    "Y_test=np.squeeze(Y_test,axis=1)\n",
    "#Y_test=np.sort(Y_test)\n",
    "\n",
    "sns.scatterplot(x=range(302),y=Y_test,hue=y_test)"
   ]
  },
  {
   "cell_type": "code",
   "execution_count": 49,
   "id": "e267ebce",
   "metadata": {
    "execution": {
     "iopub.execute_input": "2023-04-19T09:14:00.525035Z",
     "iopub.status.busy": "2023-04-19T09:14:00.523840Z",
     "iopub.status.idle": "2023-04-19T09:14:01.878309Z",
     "shell.execute_reply": "2023-04-19T09:14:01.877434Z"
    },
    "papermill": {
     "duration": 1.511776,
     "end_time": "2023-04-19T09:14:01.880549",
     "exception": false,
     "start_time": "2023-04-19T09:14:00.368773",
     "status": "completed"
    },
    "tags": []
   },
   "outputs": [
    {
     "name": "stdout",
     "output_type": "stream",
     "text": [
      "29/29 [==============================] - 0s 4ms/step\n",
      "10/10 [==============================] - 0s 4ms/step\n",
      "38/38 [==============================] - 0s 4ms/step\n",
      "0.4\n"
     ]
    },
    {
     "data": {
      "image/png": "[encoded data removed]",
      "text/plain": [
       "<Figure size 640x480 with 2 Axes>"
      ]
     },
     "metadata": {},
     "output_type": "display_data"
    },
    {
     "name": "stdout",
     "output_type": "stream",
     "text": [
      "1.0\n"
     ]
    },
    {
     "data": {
      "image/png": "[encoded data removed]",
      "text/plain": [
       "<Figure size 640x480 with 2 Axes>"
      ]
     },
     "metadata": {},
     "output_type": "display_data"
    }
   ],
   "source": [
    "decision_boundary=0.5\n",
    "\n",
    "y_train_pred=(model.predict(X_train)>decision_boundary).astype(int)\n",
    "y_test_pred=(model.predict(X_test)> decision_boundary).astype(int)\n",
    "y_pred=(model.predict(X)> decision_boundary).astype(int)\n",
    "\n",
    "#-------------------------------------------------------------------------------------------\n",
    "\n",
    "cf=confusion_matrix(y_test,y_test_pred)\n",
    "\n",
    "TN=cf[0][0]\n",
    "TP=cf[1][1]\n",
    "FP=cf[0][1]\n",
    "FN=cf[1][0]\n",
    "\n",
    "Recall=devide(TP,(TP+FN))\n",
    "Precision=devide(TP,(TP+FP))\n",
    "if ((Recall == 0) & (Precision == 0)):\n",
    "    F1=0\n",
    "else: \n",
    "    F1=2*devide((Recall*Precision),(Precision+Recall))\n",
    "        \n",
    "print(F1)\n",
    "\n",
    "cm_display = metrics.ConfusionMatrixDisplay(confusion_matrix = cf, display_labels = [False, True])\n",
    "\n",
    "cm_display.plot()\n",
    "plt.show()\n",
    "\n",
    "#--------------------------------------------------------------------------------------------------------\n",
    "\n",
    "cf=confusion_matrix(y_train,y_train_pred)\n",
    "\n",
    "TN=cf[0][0]\n",
    "TP=cf[1][1]\n",
    "FP=cf[0][1]\n",
    "FN=cf[1][0]\n",
    "\n",
    "Recall=devide(TP,(TP+FN))\n",
    "Precision=devide(TP,(TP+FP))\n",
    "if ((Recall == 0) & (Precision == 0)):\n",
    "    F1=0\n",
    "else: \n",
    "    F1=2*devide((Recall*Precision),(Precision+Recall))\n",
    "        \n",
    "print(F1)\n",
    "\n",
    "cm_display = metrics.ConfusionMatrixDisplay(confusion_matrix = cf, display_labels = [False, True])\n",
    "\n",
    "cm_display.plot()\n",
    "plt.show()"
   ]
  },
  {
   "cell_type": "code",
   "execution_count": 50,
   "id": "98e2615c",
   "metadata": {
    "execution": {
     "iopub.execute_input": "2023-04-19T09:14:02.189485Z",
     "iopub.status.busy": "2023-04-19T09:14:02.188992Z",
     "iopub.status.idle": "2023-04-19T09:14:02.195137Z",
     "shell.execute_reply": "2023-04-19T09:14:02.194262Z"
    },
    "papermill": {
     "duration": 0.164321,
     "end_time": "2023-04-19T09:14:02.197360",
     "exception": false,
     "start_time": "2023-04-19T09:14:02.033039",
     "status": "completed"
    },
    "tags": []
   },
   "outputs": [],
   "source": [
    "# train_arr=[]\n",
    "# test_arr=[]\n",
    "\n",
    "# train_arr=[]\n",
    "# test_arr=[]\n",
    "\n",
    "# i_arr=[]\n",
    "\n",
    "# hand=[0.9,0.99,0.999,0.9999]\n",
    "# for i in range(1,20,1):\n",
    "#     decision_boundary = 0.9 + (i*0.005)\n",
    "\n",
    "#     y_train_pred=(model.predict(X_train)>decision_boundary).astype(int)\n",
    "#     y_test_pred=(model.predict(X_test)> decision_boundary).astype(int)\n",
    "#     y_val_pred=(model.predict(X_val)> decision_boundary).astype(int)\n",
    "#     y_pred=(model.predict(X)> decision_boundary).astype(int)\n",
    "\n",
    "#     #-------------------------------------------------------------------------------------------\n",
    "\n",
    "#     cf=confusion_matrix(y_test,y_test_pred)\n",
    "\n",
    "#     TN=cf[0][0]\n",
    "#     TP=cf[1][1]\n",
    "#     FP=cf[0][1]\n",
    "#     FN=cf[1][0]\n",
    "\n",
    "#     Recall=devide(TP,(TP+FN))\n",
    "#     Precision=devide(TP,(TP+FP))\n",
    "#     if ((Recall == 0) & (Precision == 0)):\n",
    "#         F1=0\n",
    "#     else: \n",
    "#         F1=2*devide((Recall*Precision),(Precision+Recall))\n",
    "    \n",
    "#     train_arr.append(F1)\n",
    "#     #--------------------------------------------------------------------------------------------------------\n",
    "\n",
    "#     cf=confusion_matrix(y_train,y_train_pred)\n",
    "\n",
    "#     TN=cf[0][0]\n",
    "#     TP=cf[1][1]\n",
    "#     FP=cf[0][1]\n",
    "#     FN=cf[1][0]\n",
    "\n",
    "#     Recall=devide(TP,(TP+FN))\n",
    "#     Precision=devide(TP,(TP+FP))\n",
    "#     if ((Recall == 0) & (Precision == 0)):\n",
    "#         F1=0\n",
    "#     else: \n",
    "#         F1=2*devide((Recall*Precision),(Precision+Recall))\n",
    "        \n",
    "#     test_arr.append(F1)\n",
    "#     i_arr.append(decision_boundary)\n",
    "\n",
    "        \n",
    "\n",
    "# plt.plot(i_arr,train_arr,i_arr,test_arr)"
   ]
  },
  {
   "cell_type": "code",
   "execution_count": null,
   "id": "1df5b3c1",
   "metadata": {
    "papermill": {
     "duration": 0.154923,
     "end_time": "2023-04-19T09:14:02.509546",
     "exception": false,
     "start_time": "2023-04-19T09:14:02.354623",
     "status": "completed"
    },
    "tags": []
   },
   "outputs": [],
   "source": [
    "    \n"
   ]
  },
  {
   "cell_type": "code",
   "execution_count": 51,
   "id": "2c0ebc16",
   "metadata": {
    "execution": {
     "iopub.execute_input": "2023-04-19T09:14:02.821284Z",
     "iopub.status.busy": "2023-04-19T09:14:02.820472Z",
     "iopub.status.idle": "2023-04-19T09:14:02.826952Z",
     "shell.execute_reply": "2023-04-19T09:14:02.825594Z"
    },
    "papermill": {
     "duration": 0.165813,
     "end_time": "2023-04-19T09:14:02.830436",
     "exception": false,
     "start_time": "2023-04-19T09:14:02.664623",
     "status": "completed"
    },
    "tags": []
   },
   "outputs": [
    {
     "name": "stdout",
     "output_type": "stream",
     "text": [
      "(1205, 1)\n",
      "(1205,)\n"
     ]
    }
   ],
   "source": [
    "print(y_pred.shape)\n",
    "y_pred=np.squeeze(y_pred,axis=1)\n",
    "print(y_pred.shape)"
   ]
  },
  {
   "cell_type": "code",
   "execution_count": 52,
   "id": "7e1eef62",
   "metadata": {
    "execution": {
     "iopub.execute_input": "2023-04-19T09:14:03.139683Z",
     "iopub.status.busy": "2023-04-19T09:14:03.138525Z",
     "iopub.status.idle": "2023-04-19T09:14:03.514619Z",
     "shell.execute_reply": "2023-04-19T09:14:03.513362Z"
    },
    "papermill": {
     "duration": 0.533961,
     "end_time": "2023-04-19T09:14:03.517324",
     "exception": false,
     "start_time": "2023-04-19T09:14:02.983363",
     "status": "completed"
    },
    "tags": []
   },
   "outputs": [
    {
     "data": {
      "text/plain": [
       "<AxesSubplot:xlabel='PC159', ylabel='PC124'>"
      ]
     },
     "execution_count": 52,
     "metadata": {},
     "output_type": "execute_result"
    },
    {
     "data": {
      "image/png": "[encoded data removed]",
      "text/plain": [
       "<Figure size 640x480 with 1 Axes>"
      ]
     },
     "metadata": {},
     "output_type": "display_data"
    }
   ],
   "source": [
    "sns.scatterplot(x=X['PC159'] ,y=X['PC124'], hue=y_pred)"
   ]
  },
  {
   "cell_type": "code",
   "execution_count": 53,
   "id": "128855ca",
   "metadata": {
    "execution": {
     "iopub.execute_input": "2023-04-19T09:14:03.830461Z",
     "iopub.status.busy": "2023-04-19T09:14:03.829978Z",
     "iopub.status.idle": "2023-04-19T09:14:03.836984Z",
     "shell.execute_reply": "2023-04-19T09:14:03.836042Z"
    },
    "papermill": {
     "duration": 0.165899,
     "end_time": "2023-04-19T09:14:03.839212",
     "exception": false,
     "start_time": "2023-04-19T09:14:03.673313",
     "status": "completed"
    },
    "tags": []
   },
   "outputs": [],
   "source": [
    "# empty_arr=[]\n",
    "# depth_arr=[]\n",
    "\n",
    "# for depth in range(5,100,5):\n",
    "#     F1_arr=[]\n",
    "#     model = Sequential(\n",
    "#     [\n",
    "#         layers.Input(shape=(X_train.shape[1])),\n",
    "        \n",
    "#         layers.Dense(200, activation='relu', kernel_regularizer=regularizers.L1L2(l1=1e-5, l2=1e-4),\n",
    "#         bias_regularizer=regularizers.L2(1e-4),\n",
    "#         activity_regularizer=regularizers.L2(1e-5)),\n",
    "        \n",
    "#         layers.Dropout(rate=depth/100),\n",
    "        \n",
    "#         layers.Dense(200, activation='relu', kernel_regularizer=regularizers.L1L2(l1=1e-5, l2=1e-4),\n",
    "#         bias_regularizer=regularizers.L2(1e-4),\n",
    "#         activity_regularizer=regularizers.L2(1e-5)),\n",
    "        \n",
    "#         layers.Dropout(rate=depth/100),\n",
    "        \n",
    "#         layers.Dense(200, activation='relu', kernel_regularizer=regularizers.L1L2(l1=1e-5, l2=1e-4),\n",
    "#         bias_regularizer=regularizers.L2(1e-4),\n",
    "#         activity_regularizer=regularizers.L2(1e-5)),\n",
    "        \n",
    "#         layers.Dropout(rate=depth/100),\n",
    "        \n",
    "#         layers.Dense(200, activation='relu', kernel_regularizer=regularizers.L1L2(l1=1e-5, l2=1e-4),\n",
    "#         bias_regularizer=regularizers.L2(1e-4),\n",
    "#         activity_regularizer=regularizers.L2(1e-5)),\n",
    "        \n",
    "#         layers.Dropout(rate=depth/100),\n",
    "        \n",
    "#         layers.Dense(200, activation='relu', kernel_regularizer=regularizers.L1L2(l1=1e-5, l2=1e-4),\n",
    "#         bias_regularizer=regularizers.L2(1e-4),\n",
    "#         activity_regularizer=regularizers.L2(1e-5)),\n",
    "        \n",
    "#         layers.Dropout(rate=depth/100),\n",
    "        \n",
    "#         layers.Dense(1, activation='sigmoid')\n",
    "#     ])\n",
    "\n",
    "#     model.compile(optimizer='adam',loss='binary_crossentropy',metrics=['binary_accuracy'])\n",
    "#     for i in range(5):\n",
    "#         history=model.fit(\n",
    "#             X_train_o,\n",
    "#             y_train_o,\n",
    "#             epochs=50,\n",
    "#             validation_split=0.2,\n",
    "#             callbacks=[\n",
    "#                 keras.callbacks.EarlyStopping(monitor=\"val_loss\", patience=5, mode=\"auto\")\n",
    "#             ],\n",
    "#         )\n",
    "\n",
    "#         y_pred=(model.predict(X_test)> 0.5).astype(int)\n",
    "        \n",
    "#         cf=confusion_matrix(y_test,y_pred)\n",
    "#         TN=cf[0][0]\n",
    "#         TP=cf[1][1]\n",
    "#         FP=cf[0][1]\n",
    "#         FN=cf[1][0]\n",
    "\n",
    "#         Recall=devide(TP,(TP+FN))\n",
    "#         Precision=devide(TP,(TP+FP))\n",
    "#         F1=2*devide((Recall*Precision),(Precision+Recall))\n",
    "        \n",
    "#         F1_arr.append(F1)\n",
    "        \n",
    "        \n",
    "#     empty_arr.append(np.mean(F1_arr))\n",
    "#     depth_arr.append(depth)\n",
    "    \n",
    "# plt.plot(depth_arr,empty_arr)"
   ]
  },
  {
   "cell_type": "code",
   "execution_count": null,
   "id": "8f3d6646",
   "metadata": {
    "papermill": {
     "duration": 0.153184,
     "end_time": "2023-04-19T09:14:04.146820",
     "exception": false,
     "start_time": "2023-04-19T09:14:03.993636",
     "status": "completed"
    },
    "tags": []
   },
   "outputs": [],
   "source": []
  }
 ],
 "metadata": {
  "kernelspec": {
   "display_name": "Python 3",
   "language": "python",
   "name": "python3"
  },
  "language_info": {
   "codemirror_mode": {
    "name": "ipython",
    "version": 3
   },
   "file_extension": ".py",
   "mimetype": "text/x-python",
   "name": "python",
   "nbconvert_exporter": "python",
   "pygments_lexer": "ipython3",
   "version": "3.7.12"
  },
  "papermill": {
   "default_parameters": {},
   "duration": 193.404391,
   "end_time": "2023-04-19T09:14:07.817603",
   "environment_variables": {},
   "exception": null,
   "input_path": "__notebook__.ipynb",
   "output_path": "__notebook__.ipynb",
   "parameters": {},
   "start_time": "2023-04-19T09:10:54.413212",
   "version": "2.4.0"
  }
 },
 "nbformat": 4,
 "nbformat_minor": 5
}
