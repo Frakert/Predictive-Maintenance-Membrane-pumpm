{
 "cells": [
  {
   "cell_type": "markdown",
   "id": "a5cfc464-8909-40cc-be42-c58f2b6736c1",
   "metadata": {
    "tags": []
   },
   "source": [
    "# Importing Data & Packages"
   ]
  },
  {
   "cell_type": "code",
   "execution_count": 6,
   "id": "057ea267-ea27-4781-9d42-0481d81027ca",
   "metadata": {
    "tags": []
   },
   "outputs": [],
   "source": [
    "#pip install pandas"
   ]
  },
  {
   "cell_type": "code",
   "execution_count": 7,
   "id": "db8c595c-e25b-422f-9f0c-41dad955bd03",
   "metadata": {
    "tags": []
   },
   "outputs": [
    {
     "name": "stdout",
     "output_type": "stream",
     "text": [
      "Everything Imported Succesfully!\n"
     ]
    }
   ],
   "source": [
    "import numpy as np\n",
    "from datetime import datetime, timedelta\n",
    "import matplotlib.pyplot as plt\n",
    "import pandas as pd # data processing, CSV file I/O (e.g. pd.read_csv)\n",
    "\n",
    "import random\n",
    "\n",
    "print('Everything Imported Succesfully!')"
   ]
  },
  {
   "cell_type": "code",
   "execution_count": 8,
   "id": "19107181-898a-480e-bd35-6d8feef47cce",
   "metadata": {
    "tags": []
   },
   "outputs": [
    {
     "name": "stderr",
     "output_type": "stream",
     "text": [
      "/tmp/ipykernel_3702/186531266.py:1: DtypeWarning: Columns (14) have mixed types. Specify dtype option on import or set low_memory=False.\n",
      "  data=pd.read_csv('Data_%5IAL_3_%301%.csv',index_col=0,parse_dates=[1])\n"
     ]
    },
    {
     "data": {
      "text/html": [
       "<div>\n",
       "<style scoped>\n",
       "    .dataframe tbody tr th:only-of-type {\n",
       "        vertical-align: middle;\n",
       "    }\n",
       "\n",
       "    .dataframe tbody tr th {\n",
       "        vertical-align: top;\n",
       "    }\n",
       "\n",
       "    .dataframe thead th {\n",
       "        text-align: right;\n",
       "    }\n",
       "</style>\n",
       "<table border=\"1\" class=\"dataframe\">\n",
       "  <thead>\n",
       "    <tr style=\"text-align: right;\">\n",
       "      <th></th>\n",
       "      <th>Date</th>\n",
       "      <th>5IAL_3_TT301.50</th>\n",
       "      <th>5IAL_3_QIT301.52</th>\n",
       "      <th>5IAL_3_PIT 301.55</th>\n",
       "      <th>5IAL_3_QIT301.57</th>\n",
       "      <th>5IAL_3_PIT301.60</th>\n",
       "      <th>5IAL_3_FIT301.61MF</th>\n",
       "      <th>5IAL_3_FIT301.61VF</th>\n",
       "      <th>5IAL_3_FIT301.61D</th>\n",
       "      <th>5IAL_3_PIT301.63</th>\n",
       "      <th>...</th>\n",
       "      <th>5IAL_3_GSC301.44</th>\n",
       "      <th>5IAL_3_GSO301.44</th>\n",
       "      <th>5IAL_3_LSL301.64</th>\n",
       "      <th>5IAL_3_LSL301.68</th>\n",
       "      <th>5IAL_3_LSLL301.69</th>\n",
       "      <th>5IAL_3_301.OCCUPIED</th>\n",
       "      <th>5IAL_3_LIT301.54</th>\n",
       "      <th>5IAL_3_LSH301.56</th>\n",
       "      <th>5IAL_3_XPV301.13</th>\n",
       "      <th>5IAL_3_WY301.54</th>\n",
       "    </tr>\n",
       "  </thead>\n",
       "  <tbody>\n",
       "    <tr>\n",
       "      <th>0</th>\n",
       "      <td>2022-04-10 12:00:00</td>\n",
       "      <td>21.80</td>\n",
       "      <td>9.84</td>\n",
       "      <td>-0.02</td>\n",
       "      <td>0.0</td>\n",
       "      <td>0.0</td>\n",
       "      <td>0.0</td>\n",
       "      <td>0.0</td>\n",
       "      <td>0.00105</td>\n",
       "      <td>2.07</td>\n",
       "      <td>...</td>\n",
       "      <td>0</td>\n",
       "      <td>0</td>\n",
       "      <td>0</td>\n",
       "      <td>0</td>\n",
       "      <td>0</td>\n",
       "      <td>0</td>\n",
       "      <td>1.40</td>\n",
       "      <td>0</td>\n",
       "      <td>0.0</td>\n",
       "      <td>0.0</td>\n",
       "    </tr>\n",
       "    <tr>\n",
       "      <th>1</th>\n",
       "      <td>2022-04-10 12:01:00</td>\n",
       "      <td>21.80</td>\n",
       "      <td>9.84</td>\n",
       "      <td>-0.02</td>\n",
       "      <td>0.0</td>\n",
       "      <td>0.0</td>\n",
       "      <td>0.0</td>\n",
       "      <td>0.0</td>\n",
       "      <td>0.00106</td>\n",
       "      <td>2.07</td>\n",
       "      <td>...</td>\n",
       "      <td>0</td>\n",
       "      <td>0</td>\n",
       "      <td>0</td>\n",
       "      <td>0</td>\n",
       "      <td>0</td>\n",
       "      <td>0</td>\n",
       "      <td>1.40</td>\n",
       "      <td>0</td>\n",
       "      <td>0.0</td>\n",
       "      <td>0.0</td>\n",
       "    </tr>\n",
       "    <tr>\n",
       "      <th>2</th>\n",
       "      <td>2022-04-10 12:02:00</td>\n",
       "      <td>21.80</td>\n",
       "      <td>9.84</td>\n",
       "      <td>-0.02</td>\n",
       "      <td>0.0</td>\n",
       "      <td>0.0</td>\n",
       "      <td>0.0</td>\n",
       "      <td>0.0</td>\n",
       "      <td>0.00102</td>\n",
       "      <td>2.07</td>\n",
       "      <td>...</td>\n",
       "      <td>0</td>\n",
       "      <td>0</td>\n",
       "      <td>0</td>\n",
       "      <td>0</td>\n",
       "      <td>0</td>\n",
       "      <td>0</td>\n",
       "      <td>1.41</td>\n",
       "      <td>0</td>\n",
       "      <td>0.0</td>\n",
       "      <td>0.0</td>\n",
       "    </tr>\n",
       "    <tr>\n",
       "      <th>3</th>\n",
       "      <td>2022-04-10 12:03:00</td>\n",
       "      <td>21.78</td>\n",
       "      <td>9.84</td>\n",
       "      <td>-0.02</td>\n",
       "      <td>0.0</td>\n",
       "      <td>0.0</td>\n",
       "      <td>0.0</td>\n",
       "      <td>0.0</td>\n",
       "      <td>0.00105</td>\n",
       "      <td>2.07</td>\n",
       "      <td>...</td>\n",
       "      <td>0</td>\n",
       "      <td>0</td>\n",
       "      <td>0</td>\n",
       "      <td>0</td>\n",
       "      <td>0</td>\n",
       "      <td>0</td>\n",
       "      <td>1.40</td>\n",
       "      <td>0</td>\n",
       "      <td>0.0</td>\n",
       "      <td>0.0</td>\n",
       "    </tr>\n",
       "    <tr>\n",
       "      <th>4</th>\n",
       "      <td>2022-04-10 12:04:00</td>\n",
       "      <td>21.78</td>\n",
       "      <td>9.84</td>\n",
       "      <td>-0.02</td>\n",
       "      <td>0.0</td>\n",
       "      <td>0.0</td>\n",
       "      <td>0.0</td>\n",
       "      <td>0.0</td>\n",
       "      <td>0.00104</td>\n",
       "      <td>2.07</td>\n",
       "      <td>...</td>\n",
       "      <td>0</td>\n",
       "      <td>0</td>\n",
       "      <td>0</td>\n",
       "      <td>0</td>\n",
       "      <td>0</td>\n",
       "      <td>0</td>\n",
       "      <td>1.40</td>\n",
       "      <td>0</td>\n",
       "      <td>0.0</td>\n",
       "      <td>0.0</td>\n",
       "    </tr>\n",
       "  </tbody>\n",
       "</table>\n",
       "<p>5 rows × 39 columns</p>\n",
       "</div>"
      ],
      "text/plain": [
       "                 Date  5IAL_3_TT301.50  5IAL_3_QIT301.52  5IAL_3_PIT 301.55   \n",
       "0 2022-04-10 12:00:00            21.80              9.84              -0.02  \\\n",
       "1 2022-04-10 12:01:00            21.80              9.84              -0.02   \n",
       "2 2022-04-10 12:02:00            21.80              9.84              -0.02   \n",
       "3 2022-04-10 12:03:00            21.78              9.84              -0.02   \n",
       "4 2022-04-10 12:04:00            21.78              9.84              -0.02   \n",
       "\n",
       "   5IAL_3_QIT301.57  5IAL_3_PIT301.60  5IAL_3_FIT301.61MF  5IAL_3_FIT301.61VF   \n",
       "0               0.0               0.0                 0.0                 0.0  \\\n",
       "1               0.0               0.0                 0.0                 0.0   \n",
       "2               0.0               0.0                 0.0                 0.0   \n",
       "3               0.0               0.0                 0.0                 0.0   \n",
       "4               0.0               0.0                 0.0                 0.0   \n",
       "\n",
       "   5IAL_3_FIT301.61D  5IAL_3_PIT301.63  ...  5IAL_3_GSC301.44   \n",
       "0            0.00105              2.07  ...                 0  \\\n",
       "1            0.00106              2.07  ...                 0   \n",
       "2            0.00102              2.07  ...                 0   \n",
       "3            0.00105              2.07  ...                 0   \n",
       "4            0.00104              2.07  ...                 0   \n",
       "\n",
       "   5IAL_3_GSO301.44  5IAL_3_LSL301.64 5IAL_3_LSL301.68  5IAL_3_LSLL301.69   \n",
       "0                 0                 0                0                  0  \\\n",
       "1                 0                 0                0                  0   \n",
       "2                 0                 0                0                  0   \n",
       "3                 0                 0                0                  0   \n",
       "4                 0                 0                0                  0   \n",
       "\n",
       "   5IAL_3_301.OCCUPIED  5IAL_3_LIT301.54  5IAL_3_LSH301.56  5IAL_3_XPV301.13   \n",
       "0                    0              1.40                 0               0.0  \\\n",
       "1                    0              1.40                 0               0.0   \n",
       "2                    0              1.41                 0               0.0   \n",
       "3                    0              1.40                 0               0.0   \n",
       "4                    0              1.40                 0               0.0   \n",
       "\n",
       "   5IAL_3_WY301.54  \n",
       "0              0.0  \n",
       "1              0.0  \n",
       "2              0.0  \n",
       "3              0.0  \n",
       "4              0.0  \n",
       "\n",
       "[5 rows x 39 columns]"
      ]
     },
     "execution_count": 8,
     "metadata": {},
     "output_type": "execute_result"
    }
   ],
   "source": [
    "data=pd.read_csv('Data_%5IAL_3_%301%.csv',index_col=0,parse_dates=[1])\n",
    "data.rename(columns={'0':'Date'},inplace=True)\n",
    "data['5IAL_3_301.BatchName']=data['5IAL_3_301.BatchName'].fillna('No Batch Specified')\n",
    "data.head()"
   ]
  },
  {
   "cell_type": "markdown",
   "id": "96df6441-412a-4bc1-8238-a342ed1754a3",
   "metadata": {},
   "source": [
    "# Data Splitting and Grouping "
   ]
  },
  {
   "cell_type": "code",
   "execution_count": 9,
   "id": "9fe7803e-2779-4039-89dc-4539d569c0a6",
   "metadata": {
    "tags": []
   },
   "outputs": [
    {
     "name": "stdout",
     "output_type": "stream",
     "text": [
      "['No Batch Specified' 'YP5812210101' 'YP5812210102' ... 'KB212306501'\n",
      " 'NA KB212306501' 'KC112306501']\n"
     ]
    }
   ],
   "source": [
    "Batch_Names=data['5IAL_3_301.BatchName']\n",
    "unique_names=Batch_Names.unique()\n",
    "print(unique_names)"
   ]
  },
  {
   "cell_type": "code",
   "execution_count": 11,
   "id": "c3120f66-d534-45d6-af7a-8578d3fc4da9",
   "metadata": {
    "tags": []
   },
   "outputs": [
    {
     "name": "stdout",
     "output_type": "stream",
     "text": [
      "1629\n"
     ]
    }
   ],
   "source": [
    "print(unique_names.size)"
   ]
  },
  {
   "cell_type": "code",
   "execution_count": 12,
   "id": "064c3ffb-688f-440c-bd25-53bb33c30e1f",
   "metadata": {
    "tags": []
   },
   "outputs": [
    {
     "name": "stdout",
     "output_type": "stream",
     "text": [
      "1205\n"
     ]
    }
   ],
   "source": [
    "#Convert the unique_names numpy array to a pandas series\n",
    "temp_df=pd.Series(unique_names)\n",
    "\n",
    "# Create a boolean mask to select rows where the length of the specified column is between 11 and 12 characters (inclusive)\n",
    "mask = (temp_df.str.len() >= 11) & (temp_df.str.len() <= 12)\n",
    "\n",
    "# Use the boolean mask to select only the rows that meet the criteria\n",
    "Viable_Batches = unique_names[mask]\n",
    "\n",
    "print(Viable_Batches.size)\n",
    "\n",
    "del temp_df"
   ]
  },
  {
   "cell_type": "markdown",
   "id": "b99ada0a-c23b-4e2d-a042-f87f4720fc69",
   "metadata": {},
   "source": [
    "## Train Test Split\n",
    "\n",
    "Randomly pick the Test_Train_split fraction of data from the filterd unique name list.\\\n",
    "This way a percentage of batches are not used in training and thus can be used for testing."
   ]
  },
  {
   "cell_type": "code",
   "execution_count": 13,
   "id": "65160834-6b12-4391-9b3b-8968020ac562",
   "metadata": {
    "tags": []
   },
   "outputs": [
    {
     "name": "stdout",
     "output_type": "stream",
     "text": [
      "241\n",
      "964\n"
     ]
    }
   ],
   "source": [
    "To_split=Viable_Batches\n",
    "Test_Train_split=0.2\n",
    "\n",
    "Test_Batches=random.sample(To_split.tolist(), round(To_split.size*Test_Train_split))\n",
    "\n",
    "Train_Batches = [x for x in To_split if x not in Test_Batches]\n",
    "\n",
    "print(len(Test_Batches))\n",
    "print(len(Train_Batches))"
   ]
  },
  {
   "cell_type": "code",
   "execution_count": 14,
   "id": "ce5da707-d3a8-4cdf-a791-11515399b56b",
   "metadata": {},
   "outputs": [],
   "source": [
    "Train_Data=data[data['5IAL_3_301.BatchName'].isin(Train_Batches)]\n",
    "Test_Data=data[data['5IAL_3_301.BatchName'].isin(Test_Batches)]\n",
    "\n",
    "# Train_Grouped=Train_Data.groupby([\"5IAL_3_301.BatchName\"],as_index=True)\n",
    "# Test_Grouped=Test_Data.groupby([\"5IAL_3_301.BatchName\"],as_index=True)\n",
    "\n",
    "# Train_Grouped.size()\n",
    "# Test_Grouped.size()"
   ]
  },
  {
   "cell_type": "markdown",
   "id": "9be097f7-ca8d-470c-9145-a3fad7edd4e6",
   "metadata": {
    "tags": []
   },
   "source": [
    "## Normalise the selection with use of the Z-Score\n",
    "The Z-score can be described as:\\\n",
    "$Z=\\frac{x-\\mu}{\\sigma}$\n",
    "\n",
    "In this x is your value, μ is the average of the population that value is taken from, and σ is the standard deviation of the population. It is basicaly a measure of how far a given value is away from its mean in standard deviations. To give you a good feeling, in a normal distribution 66% of values are within 1 std of the mean. 99% are withing 2 std and 99.9 is within 3\n",
    "\n",
    "Note that i am not yet sure how representative all of this is for the data, it just allows me to use Massflow and resulting pressure more easaly because the range of values are simalar and i dont have to specify two seperate axis with values within 1 figure."
   ]
  },
  {
   "cell_type": "code",
   "execution_count": 15,
   "id": "13d01009-4abd-4da1-a54a-3529fd56b4b8",
   "metadata": {
    "tags": []
   },
   "outputs": [
    {
     "ename": "NameError",
     "evalue": "name 'Train_Grouped' is not defined",
     "output_type": "error",
     "traceback": [
      "\u001b[0;31m---------------------------------------------------------------------------\u001b[0m",
      "\u001b[0;31mNameError\u001b[0m                                 Traceback (most recent call last)",
      "Cell \u001b[0;32mIn[15], line 4\u001b[0m\n\u001b[1;32m      1\u001b[0m data_norm\u001b[38;5;241m=\u001b[39mpd\u001b[38;5;241m.\u001b[39mDataFrame()\n\u001b[1;32m      2\u001b[0m data_norm_values\u001b[38;5;241m=\u001b[39mpd\u001b[38;5;241m.\u001b[39mDataFrame()\n\u001b[0;32m----> 4\u001b[0m df\u001b[38;5;241m=\u001b[39m\u001b[43mTrain_Grouped\u001b[49m\n\u001b[1;32m      6\u001b[0m \u001b[38;5;28;01mfor\u001b[39;00m col \u001b[38;5;129;01min\u001b[39;00m Train_Grouped:\n\u001b[1;32m      7\u001b[0m     zval\u001b[38;5;241m=\u001b[39m(Train_Grouped[col]\u001b[38;5;241m-\u001b[39mnp\u001b[38;5;241m.\u001b[39mmean(Train_Grouped[col]))\u001b[38;5;241m/\u001b[39mnp\u001b[38;5;241m.\u001b[39mstd(Train_Grouped[col])\n",
      "\u001b[0;31mNameError\u001b[0m: name 'Train_Grouped' is not defined"
     ]
    }
   ],
   "source": [
    "data_norm=pd.DataFrame()\n",
    "data_norm_values=pd.DataFrame()\n",
    "\n",
    "df=Train_Grouped\n",
    "\n",
    "data_norm=(Train_Data-Train_Data.mean())/Train_Data.std()\n",
    "\n",
    "for col in Train_Grouped:\n",
    "    # zval=(Train_Grouped[col]-np.mean(Train_Grouped[col]))/np.std(Train_Grouped[col])\n",
    "    # data_norm=pd.concat([data_norm,zval],axis=1)\n",
    "    data_norm_values[col]=[np.mean(Train_Grouped[col]),np.std(Train_Grouped[col])]\n",
    "    "
   ]
  },
  {
   "cell_type": "code",
   "execution_count": null,
   "id": "1a4055e1-f751-4da3-bbe4-cb68eb6574c1",
   "metadata": {},
   "outputs": [],
   "source": []
  }
 ],
 "metadata": {
  "kernelspec": {
   "display_name": "Python 3 (ipykernel)",
   "language": "python",
   "name": "python3"
  },
  "language_info": {
   "codemirror_mode": {
    "name": "ipython",
    "version": 3
   },
   "file_extension": ".py",
   "mimetype": "text/x-python",
   "name": "python",
   "nbconvert_exporter": "python",
   "pygments_lexer": "ipython3",
   "version": "3.10.9"
  }
 },
 "nbformat": 4,
 "nbformat_minor": 5
}
