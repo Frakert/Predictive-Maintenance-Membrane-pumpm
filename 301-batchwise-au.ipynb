{
 "cells": [
  {
   "cell_type": "markdown",
   "id": "9b6ddc61",
   "metadata": {
    "papermill": {
     "duration": 0.008123,
     "end_time": "2023-04-04T14:30:58.593307",
     "exception": false,
     "start_time": "2023-04-04T14:30:58.585184",
     "status": "completed"
    },
    "tags": []
   },
   "source": [
    "# Importing Data & Packages"
   ]
  },
  {
   "cell_type": "code",
   "execution_count": 1,
   "id": "8d370f8b",
   "metadata": {
    "execution": {
     "iopub.execute_input": "2023-04-04T14:30:58.608716Z",
     "iopub.status.busy": "2023-04-04T14:30:58.608114Z",
     "iopub.status.idle": "2023-04-04T14:31:05.347562Z",
     "shell.execute_reply": "2023-04-04T14:31:05.346316Z"
    },
    "papermill": {
     "duration": 6.750018,
     "end_time": "2023-04-04T14:31:05.349940",
     "exception": false,
     "start_time": "2023-04-04T14:30:58.599922",
     "status": "completed"
    },
    "tags": []
   },
   "outputs": [
    {
     "name": "stdout",
     "output_type": "stream",
     "text": [
      "Everything Imported Succesfully!\n"
     ]
    }
   ],
   "source": [
    "# General purpose libraries\n",
    "import random\n",
    "import numpy as np\n",
    "import pandas as pd \n",
    "import matplotlib.pyplot as plt\n",
    "from datetime import datetime, timedelta\n",
    "\n",
    "# Deep learning library\n",
    "import keras \n",
    "from keras import layers\n",
    "\n",
    "print('Everything Imported Succesfully!')"
   ]
  },
  {
   "cell_type": "code",
   "execution_count": 2,
   "id": "360f3b6c",
   "metadata": {
    "execution": {
     "iopub.execute_input": "2023-04-04T14:31:05.362853Z",
     "iopub.status.busy": "2023-04-04T14:31:05.360798Z",
     "iopub.status.idle": "2023-04-04T14:31:08.958761Z",
     "shell.execute_reply": "2023-04-04T14:31:08.956878Z"
    },
    "papermill": {
     "duration": 3.609631,
     "end_time": "2023-04-04T14:31:08.964421",
     "exception": false,
     "start_time": "2023-04-04T14:31:05.354790",
     "status": "completed"
    },
    "tags": []
   },
   "outputs": [
    {
     "name": "stderr",
     "output_type": "stream",
     "text": [
      "/opt/conda/lib/python3.7/site-packages/IPython/core/interactiveshell.py:3553: DtypeWarning: Columns (14) have mixed types.Specify dtype option on import or set low_memory=False.\n",
      "  exec(code_obj, self.user_global_ns, self.user_ns)\n"
     ]
    },
    {
     "data": {
      "text/html": [
       "<div>\n",
       "<style scoped>\n",
       "    .dataframe tbody tr th:only-of-type {\n",
       "        vertical-align: middle;\n",
       "    }\n",
       "\n",
       "    .dataframe tbody tr th {\n",
       "        vertical-align: top;\n",
       "    }\n",
       "\n",
       "    .dataframe thead th {\n",
       "        text-align: right;\n",
       "    }\n",
       "</style>\n",
       "<table border=\"1\" class=\"dataframe\">\n",
       "  <thead>\n",
       "    <tr style=\"text-align: right;\">\n",
       "      <th></th>\n",
       "      <th>Date</th>\n",
       "      <th>5IAL_3_TT301.50</th>\n",
       "      <th>5IAL_3_QIT301.52</th>\n",
       "      <th>5IAL_3_PIT 301.55</th>\n",
       "      <th>5IAL_3_QIT301.57</th>\n",
       "      <th>5IAL_3_PIT301.60</th>\n",
       "      <th>5IAL_3_FIT301.61MF</th>\n",
       "      <th>5IAL_3_FIT301.61VF</th>\n",
       "      <th>5IAL_3_FIT301.61D</th>\n",
       "      <th>5IAL_3_PIT301.63</th>\n",
       "      <th>...</th>\n",
       "      <th>5IAL_3_GSC301.44</th>\n",
       "      <th>5IAL_3_GSO301.44</th>\n",
       "      <th>5IAL_3_LSL301.64</th>\n",
       "      <th>5IAL_3_LSL301.68</th>\n",
       "      <th>5IAL_3_LSLL301.69</th>\n",
       "      <th>5IAL_3_301.OCCUPIED</th>\n",
       "      <th>5IAL_3_LIT301.54</th>\n",
       "      <th>5IAL_3_LSH301.56</th>\n",
       "      <th>5IAL_3_XPV301.13</th>\n",
       "      <th>5IAL_3_WY301.54</th>\n",
       "    </tr>\n",
       "  </thead>\n",
       "  <tbody>\n",
       "    <tr>\n",
       "      <th>0</th>\n",
       "      <td>2022-04-10 12:00:00</td>\n",
       "      <td>21.80</td>\n",
       "      <td>9.84</td>\n",
       "      <td>-0.02</td>\n",
       "      <td>0.0</td>\n",
       "      <td>0.0</td>\n",
       "      <td>0.0</td>\n",
       "      <td>0.0</td>\n",
       "      <td>0.00105</td>\n",
       "      <td>2.07</td>\n",
       "      <td>...</td>\n",
       "      <td>0</td>\n",
       "      <td>0</td>\n",
       "      <td>0</td>\n",
       "      <td>0</td>\n",
       "      <td>0</td>\n",
       "      <td>0</td>\n",
       "      <td>1.40</td>\n",
       "      <td>0</td>\n",
       "      <td>0.0</td>\n",
       "      <td>0.0</td>\n",
       "    </tr>\n",
       "    <tr>\n",
       "      <th>1</th>\n",
       "      <td>2022-04-10 12:01:00</td>\n",
       "      <td>21.80</td>\n",
       "      <td>9.84</td>\n",
       "      <td>-0.02</td>\n",
       "      <td>0.0</td>\n",
       "      <td>0.0</td>\n",
       "      <td>0.0</td>\n",
       "      <td>0.0</td>\n",
       "      <td>0.00106</td>\n",
       "      <td>2.07</td>\n",
       "      <td>...</td>\n",
       "      <td>0</td>\n",
       "      <td>0</td>\n",
       "      <td>0</td>\n",
       "      <td>0</td>\n",
       "      <td>0</td>\n",
       "      <td>0</td>\n",
       "      <td>1.40</td>\n",
       "      <td>0</td>\n",
       "      <td>0.0</td>\n",
       "      <td>0.0</td>\n",
       "    </tr>\n",
       "    <tr>\n",
       "      <th>2</th>\n",
       "      <td>2022-04-10 12:02:00</td>\n",
       "      <td>21.80</td>\n",
       "      <td>9.84</td>\n",
       "      <td>-0.02</td>\n",
       "      <td>0.0</td>\n",
       "      <td>0.0</td>\n",
       "      <td>0.0</td>\n",
       "      <td>0.0</td>\n",
       "      <td>0.00102</td>\n",
       "      <td>2.07</td>\n",
       "      <td>...</td>\n",
       "      <td>0</td>\n",
       "      <td>0</td>\n",
       "      <td>0</td>\n",
       "      <td>0</td>\n",
       "      <td>0</td>\n",
       "      <td>0</td>\n",
       "      <td>1.41</td>\n",
       "      <td>0</td>\n",
       "      <td>0.0</td>\n",
       "      <td>0.0</td>\n",
       "    </tr>\n",
       "    <tr>\n",
       "      <th>3</th>\n",
       "      <td>2022-04-10 12:03:00</td>\n",
       "      <td>21.78</td>\n",
       "      <td>9.84</td>\n",
       "      <td>-0.02</td>\n",
       "      <td>0.0</td>\n",
       "      <td>0.0</td>\n",
       "      <td>0.0</td>\n",
       "      <td>0.0</td>\n",
       "      <td>0.00105</td>\n",
       "      <td>2.07</td>\n",
       "      <td>...</td>\n",
       "      <td>0</td>\n",
       "      <td>0</td>\n",
       "      <td>0</td>\n",
       "      <td>0</td>\n",
       "      <td>0</td>\n",
       "      <td>0</td>\n",
       "      <td>1.40</td>\n",
       "      <td>0</td>\n",
       "      <td>0.0</td>\n",
       "      <td>0.0</td>\n",
       "    </tr>\n",
       "    <tr>\n",
       "      <th>4</th>\n",
       "      <td>2022-04-10 12:04:00</td>\n",
       "      <td>21.78</td>\n",
       "      <td>9.84</td>\n",
       "      <td>-0.02</td>\n",
       "      <td>0.0</td>\n",
       "      <td>0.0</td>\n",
       "      <td>0.0</td>\n",
       "      <td>0.0</td>\n",
       "      <td>0.00104</td>\n",
       "      <td>2.07</td>\n",
       "      <td>...</td>\n",
       "      <td>0</td>\n",
       "      <td>0</td>\n",
       "      <td>0</td>\n",
       "      <td>0</td>\n",
       "      <td>0</td>\n",
       "      <td>0</td>\n",
       "      <td>1.40</td>\n",
       "      <td>0</td>\n",
       "      <td>0.0</td>\n",
       "      <td>0.0</td>\n",
       "    </tr>\n",
       "  </tbody>\n",
       "</table>\n",
       "<p>5 rows × 39 columns</p>\n",
       "</div>"
      ],
      "text/plain": [
       "                 Date  5IAL_3_TT301.50  5IAL_3_QIT301.52  5IAL_3_PIT 301.55  \\\n",
       "0 2022-04-10 12:00:00            21.80              9.84              -0.02   \n",
       "1 2022-04-10 12:01:00            21.80              9.84              -0.02   \n",
       "2 2022-04-10 12:02:00            21.80              9.84              -0.02   \n",
       "3 2022-04-10 12:03:00            21.78              9.84              -0.02   \n",
       "4 2022-04-10 12:04:00            21.78              9.84              -0.02   \n",
       "\n",
       "   5IAL_3_QIT301.57  5IAL_3_PIT301.60  5IAL_3_FIT301.61MF  5IAL_3_FIT301.61VF  \\\n",
       "0               0.0               0.0                 0.0                 0.0   \n",
       "1               0.0               0.0                 0.0                 0.0   \n",
       "2               0.0               0.0                 0.0                 0.0   \n",
       "3               0.0               0.0                 0.0                 0.0   \n",
       "4               0.0               0.0                 0.0                 0.0   \n",
       "\n",
       "   5IAL_3_FIT301.61D  5IAL_3_PIT301.63  ...  5IAL_3_GSC301.44  \\\n",
       "0            0.00105              2.07  ...                 0   \n",
       "1            0.00106              2.07  ...                 0   \n",
       "2            0.00102              2.07  ...                 0   \n",
       "3            0.00105              2.07  ...                 0   \n",
       "4            0.00104              2.07  ...                 0   \n",
       "\n",
       "   5IAL_3_GSO301.44  5IAL_3_LSL301.64 5IAL_3_LSL301.68  5IAL_3_LSLL301.69  \\\n",
       "0                 0                 0                0                  0   \n",
       "1                 0                 0                0                  0   \n",
       "2                 0                 0                0                  0   \n",
       "3                 0                 0                0                  0   \n",
       "4                 0                 0                0                  0   \n",
       "\n",
       "   5IAL_3_301.OCCUPIED  5IAL_3_LIT301.54  5IAL_3_LSH301.56  5IAL_3_XPV301.13  \\\n",
       "0                    0              1.40                 0               0.0   \n",
       "1                    0              1.40                 0               0.0   \n",
       "2                    0              1.41                 0               0.0   \n",
       "3                    0              1.40                 0               0.0   \n",
       "4                    0              1.40                 0               0.0   \n",
       "\n",
       "   5IAL_3_WY301.54  \n",
       "0              0.0  \n",
       "1              0.0  \n",
       "2              0.0  \n",
       "3              0.0  \n",
       "4              0.0  \n",
       "\n",
       "[5 rows x 39 columns]"
      ]
     },
     "execution_count": 2,
     "metadata": {},
     "output_type": "execute_result"
    }
   ],
   "source": [
    "data=pd.read_csv('/kaggle/input/301-330-days/Data_5IAL_3_301.csv',index_col=0,parse_dates=[1])  # Read data\n",
    "data.rename(columns={'0':'Date'},inplace=True)                                                  # Give date column a descriptive name\n",
    "data['5IAL_3_301.BatchName']=data['5IAL_3_301.BatchName'].fillna('No Batch Specified')          # Replace batchnames NaN's with 'no batch'\n",
    "data.head()"
   ]
  },
  {
   "cell_type": "markdown",
   "id": "2dbe6ba4",
   "metadata": {
    "papermill": {
     "duration": 0.011058,
     "end_time": "2023-04-04T14:31:08.986652",
     "exception": false,
     "start_time": "2023-04-04T14:31:08.975594",
     "status": "completed"
    },
    "tags": []
   },
   "source": [
    "# Data Splitting and Grouping "
   ]
  },
  {
   "cell_type": "code",
   "execution_count": 3,
   "id": "9626364b",
   "metadata": {
    "execution": {
     "iopub.execute_input": "2023-04-04T14:31:09.007750Z",
     "iopub.status.busy": "2023-04-04T14:31:09.007344Z",
     "iopub.status.idle": "2023-04-04T14:31:09.077188Z",
     "shell.execute_reply": "2023-04-04T14:31:09.075674Z"
    },
    "papermill": {
     "duration": 0.084077,
     "end_time": "2023-04-04T14:31:09.080353",
     "exception": false,
     "start_time": "2023-04-04T14:31:08.996276",
     "status": "completed"
    },
    "tags": []
   },
   "outputs": [
    {
     "name": "stdout",
     "output_type": "stream",
     "text": [
      "['No Batch Specified' 'YP5812210101' 'YP5812210102' ... 'KB212306501'\n",
      " 'NA KB212306501' 'KC112306501']\n"
     ]
    }
   ],
   "source": [
    "Batch_Names=data['5IAL_3_301.BatchName']\n",
    "unique_names=Batch_Names.unique()\n",
    "print(unique_names)"
   ]
  },
  {
   "cell_type": "code",
   "execution_count": 4,
   "id": "2890cc48",
   "metadata": {
    "execution": {
     "iopub.execute_input": "2023-04-04T14:31:09.101604Z",
     "iopub.status.busy": "2023-04-04T14:31:09.101193Z",
     "iopub.status.idle": "2023-04-04T14:31:09.107961Z",
     "shell.execute_reply": "2023-04-04T14:31:09.105811Z"
    },
    "papermill": {
     "duration": 0.0254,
     "end_time": "2023-04-04T14:31:09.114629",
     "exception": false,
     "start_time": "2023-04-04T14:31:09.089229",
     "status": "completed"
    },
    "tags": []
   },
   "outputs": [
    {
     "name": "stdout",
     "output_type": "stream",
     "text": [
      "1629\n"
     ]
    }
   ],
   "source": [
    "print(unique_names.size)"
   ]
  },
  {
   "cell_type": "markdown",
   "id": "95efb7a4",
   "metadata": {
    "papermill": {
     "duration": 0.006908,
     "end_time": "2023-04-04T14:31:09.128081",
     "exception": false,
     "start_time": "2023-04-04T14:31:09.121173",
     "status": "completed"
    },
    "tags": []
   },
   "source": [
    "## Filter out the batches\n",
    "In this step everything that is not a viable batch is filterd out.\\\n",
    "This way demi cleanings, CIP cleanings and downtime are no longer in the dataset."
   ]
  },
  {
   "cell_type": "code",
   "execution_count": 5,
   "id": "74bcb07c",
   "metadata": {
    "execution": {
     "iopub.execute_input": "2023-04-04T14:31:09.139363Z",
     "iopub.status.busy": "2023-04-04T14:31:09.139050Z",
     "iopub.status.idle": "2023-04-04T14:31:09.149364Z",
     "shell.execute_reply": "2023-04-04T14:31:09.148229Z"
    },
    "papermill": {
     "duration": 0.018589,
     "end_time": "2023-04-04T14:31:09.151817",
     "exception": false,
     "start_time": "2023-04-04T14:31:09.133228",
     "status": "completed"
    },
    "tags": []
   },
   "outputs": [
    {
     "name": "stdout",
     "output_type": "stream",
     "text": [
      "1205\n"
     ]
    }
   ],
   "source": [
    "#Convert the unique_names numpy array to a pandas series\n",
    "temp_df=pd.Series(unique_names)\n",
    "\n",
    "# Create a boolean mask to select rows where the length of the specified column is between 11 and 12 characters (inclusive)\n",
    "mask = (temp_df.str.len() >= 11) & (temp_df.str.len() <= 12)\n",
    "\n",
    "# Use the boolean mask to select only the rows that meet the criteria\n",
    "Viable_Batches = unique_names[mask]\n",
    "\n",
    "print(Viable_Batches.size)\n",
    "\n",
    "del temp_df"
   ]
  },
  {
   "cell_type": "markdown",
   "id": "b8cef03a",
   "metadata": {
    "papermill": {
     "duration": 0.005083,
     "end_time": "2023-04-04T14:31:09.162010",
     "exception": false,
     "start_time": "2023-04-04T14:31:09.156927",
     "status": "completed"
    },
    "tags": []
   },
   "source": [
    "## Train Test Split\n",
    "\n",
    "Randomly pick the Test_Train_split fraction of data from the filterd unique name list.\\\n",
    "This way a percentage of batches are not used in training and thus can be used for testing."
   ]
  },
  {
   "cell_type": "code",
   "execution_count": 6,
   "id": "f9a667ca",
   "metadata": {
    "execution": {
     "iopub.execute_input": "2023-04-04T14:31:09.174102Z",
     "iopub.status.busy": "2023-04-04T14:31:09.173264Z",
     "iopub.status.idle": "2023-04-04T14:31:09.184073Z",
     "shell.execute_reply": "2023-04-04T14:31:09.183007Z"
    },
    "papermill": {
     "duration": 0.019966,
     "end_time": "2023-04-04T14:31:09.186967",
     "exception": false,
     "start_time": "2023-04-04T14:31:09.167001",
     "status": "completed"
    },
    "tags": []
   },
   "outputs": [
    {
     "name": "stdout",
     "output_type": "stream",
     "text": [
      "241\n",
      "964\n"
     ]
    }
   ],
   "source": [
    "To_split=Viable_Batches\n",
    "Test_Train_split=0.2\n",
    "\n",
    "Test_Batches=random.sample(To_split.tolist(), round(To_split.size*Test_Train_split))\n",
    "\n",
    "Train_Batches = [x for x in To_split if x not in Test_Batches]\n",
    "\n",
    "print(len(Test_Batches))\n",
    "print(len(Train_Batches))"
   ]
  },
  {
   "cell_type": "code",
   "execution_count": 7,
   "id": "522cc3de",
   "metadata": {
    "execution": {
     "iopub.execute_input": "2023-04-04T14:31:09.198508Z",
     "iopub.status.busy": "2023-04-04T14:31:09.198249Z",
     "iopub.status.idle": "2023-04-04T14:31:09.250390Z",
     "shell.execute_reply": "2023-04-04T14:31:09.249394Z"
    },
    "papermill": {
     "duration": 0.060315,
     "end_time": "2023-04-04T14:31:09.252499",
     "exception": false,
     "start_time": "2023-04-04T14:31:09.192184",
     "status": "completed"
    },
    "tags": []
   },
   "outputs": [],
   "source": [
    "# Use 'isin' to only select datapoint that have a batch name that was selected by the Test_Train split\n",
    "Train_Data=data[data['5IAL_3_301.BatchName'].isin(Train_Batches)]\n",
    "Test_Data=data[data['5IAL_3_301.BatchName'].isin(Test_Batches)]"
   ]
  },
  {
   "cell_type": "markdown",
   "id": "ef9721f0",
   "metadata": {
    "papermill": {
     "duration": 0.006003,
     "end_time": "2023-04-04T14:31:09.263723",
     "exception": false,
     "start_time": "2023-04-04T14:31:09.257720",
     "status": "completed"
    },
    "tags": []
   },
   "source": [
    "## Normalise the selection with use of the Z-Score\n",
    "The Z-score can be described as:\\\n",
    "$Z=\\frac{x-\\mu}{\\sigma}$\n",
    "\n",
    "In this x is your value, μ is the average of the population that value is taken from, and σ is the standard deviation of the population. It is basicaly a measure of how far a given value is away from its mean in standard deviations. To give you a good feeling, in a normal distribution 66% of values are within 1 std of the mean. 99% are withing 2 std and 99.9 is within 3\n",
    "\n",
    "Note that the data does not represent a normal curve or bell curve at all. This is solely done to make sure the Neural network gives every value an equeal weigth.\\\n",
    "\n",
    "Also drop everything that turns into NaN's when normalizing"
   ]
  },
  {
   "cell_type": "code",
   "execution_count": 8,
   "id": "13e03251",
   "metadata": {
    "execution": {
     "iopub.execute_input": "2023-04-04T14:31:09.275249Z",
     "iopub.status.busy": "2023-04-04T14:31:09.274968Z",
     "iopub.status.idle": "2023-04-04T14:31:09.403023Z",
     "shell.execute_reply": "2023-04-04T14:31:09.402038Z"
    },
    "papermill": {
     "duration": 0.136744,
     "end_time": "2023-04-04T14:31:09.405512",
     "exception": false,
     "start_time": "2023-04-04T14:31:09.268768",
     "status": "completed"
    },
    "tags": []
   },
   "outputs": [],
   "source": [
    "names=Train_Data['5IAL_3_301.BatchName']\n",
    "\n",
    "col_2_drop=['Date','5IAL_3_301.BatchName','5IAL_3_LSH301.56','5IAL_3_XPV301.05','5IAL_3_XPV301.06','5IAL_3_XPV301.08','5IAL_3_XPV301.09','5IAL_3_XPV301.22','5IAL_3_XPV301.36','5IAL_3_XPV301.42','5IAL_3_XPV301.43','5IAL_3_XPV301.46','5IAL_3_LSL301.64']\n",
    "df=Train_Data.drop(col_2_drop,axis=1)\n",
    "\n",
    "data_norm=(df-df.mean())/df.std()\n",
    "\n",
    "data_norm=pd.concat([data_norm,names],axis=1)\n",
    "\n",
    "# Will need these values to normalise Test data in the same way as Train data\n",
    "data_norm_values=pd.DataFrame()\n",
    "for col in df:\n",
    "    data_norm_values[col]=[np.mean(df[col]),np.std(df[col])]"
   ]
  },
  {
   "cell_type": "code",
   "execution_count": 9,
   "id": "f0d77210",
   "metadata": {
    "execution": {
     "iopub.execute_input": "2023-04-04T14:31:09.417508Z",
     "iopub.status.busy": "2023-04-04T14:31:09.417213Z",
     "iopub.status.idle": "2023-04-04T14:31:09.442951Z",
     "shell.execute_reply": "2023-04-04T14:31:09.441810Z"
    },
    "papermill": {
     "duration": 0.034492,
     "end_time": "2023-04-04T14:31:09.445524",
     "exception": false,
     "start_time": "2023-04-04T14:31:09.411032",
     "status": "completed"
    },
    "tags": []
   },
   "outputs": [
    {
     "data": {
      "text/html": [
       "<div>\n",
       "<style scoped>\n",
       "    .dataframe tbody tr th:only-of-type {\n",
       "        vertical-align: middle;\n",
       "    }\n",
       "\n",
       "    .dataframe tbody tr th {\n",
       "        vertical-align: top;\n",
       "    }\n",
       "\n",
       "    .dataframe thead th {\n",
       "        text-align: right;\n",
       "    }\n",
       "</style>\n",
       "<table border=\"1\" class=\"dataframe\">\n",
       "  <thead>\n",
       "    <tr style=\"text-align: right;\">\n",
       "      <th></th>\n",
       "      <th>5IAL_3_TT301.50</th>\n",
       "      <th>5IAL_3_QIT301.52</th>\n",
       "      <th>5IAL_3_PIT 301.55</th>\n",
       "      <th>5IAL_3_QIT301.57</th>\n",
       "      <th>5IAL_3_PIT301.60</th>\n",
       "      <th>5IAL_3_FIT301.61MF</th>\n",
       "      <th>5IAL_3_FIT301.61VF</th>\n",
       "      <th>5IAL_3_FIT301.61D</th>\n",
       "      <th>5IAL_3_PIT301.63</th>\n",
       "      <th>5IAL_3_P301.70</th>\n",
       "      <th>...</th>\n",
       "      <th>5IAL_3_LSL301.53</th>\n",
       "      <th>5IAL_3_GSC301.44</th>\n",
       "      <th>5IAL_3_GSO301.44</th>\n",
       "      <th>5IAL_3_LSL301.68</th>\n",
       "      <th>5IAL_3_LSLL301.69</th>\n",
       "      <th>5IAL_3_301.OCCUPIED</th>\n",
       "      <th>5IAL_3_LIT301.54</th>\n",
       "      <th>5IAL_3_XPV301.13</th>\n",
       "      <th>5IAL_3_WY301.54</th>\n",
       "      <th>5IAL_3_301.BatchName</th>\n",
       "    </tr>\n",
       "  </thead>\n",
       "  <tbody>\n",
       "    <tr>\n",
       "      <th>1169</th>\n",
       "      <td>-1.993090</td>\n",
       "      <td>0.961468</td>\n",
       "      <td>-1.417571</td>\n",
       "      <td>-0.307287</td>\n",
       "      <td>-0.096493</td>\n",
       "      <td>-1.552433</td>\n",
       "      <td>-0.023936</td>\n",
       "      <td>-3.285042</td>\n",
       "      <td>-0.845628</td>\n",
       "      <td>-1.584270</td>\n",
       "      <td>...</td>\n",
       "      <td>3.405719</td>\n",
       "      <td>-3.366825</td>\n",
       "      <td>3.369357</td>\n",
       "      <td>-0.110356</td>\n",
       "      <td>-0.030598</td>\n",
       "      <td>-17.374176</td>\n",
       "      <td>-2.022573</td>\n",
       "      <td>-1.584141</td>\n",
       "      <td>-2.120951</td>\n",
       "      <td>YP5812210101</td>\n",
       "    </tr>\n",
       "    <tr>\n",
       "      <th>1170</th>\n",
       "      <td>-0.565065</td>\n",
       "      <td>0.961468</td>\n",
       "      <td>-1.417571</td>\n",
       "      <td>-0.307287</td>\n",
       "      <td>7.720591</td>\n",
       "      <td>-1.552433</td>\n",
       "      <td>-0.023936</td>\n",
       "      <td>-3.285142</td>\n",
       "      <td>-0.845628</td>\n",
       "      <td>-1.584270</td>\n",
       "      <td>...</td>\n",
       "      <td>3.405719</td>\n",
       "      <td>-3.366825</td>\n",
       "      <td>3.369357</td>\n",
       "      <td>-0.110356</td>\n",
       "      <td>-0.030598</td>\n",
       "      <td>0.057556</td>\n",
       "      <td>-1.884963</td>\n",
       "      <td>-1.584141</td>\n",
       "      <td>-2.002296</td>\n",
       "      <td>YP5812210101</td>\n",
       "    </tr>\n",
       "    <tr>\n",
       "      <th>1171</th>\n",
       "      <td>-0.585862</td>\n",
       "      <td>0.835982</td>\n",
       "      <td>1.693645</td>\n",
       "      <td>-0.295834</td>\n",
       "      <td>7.720591</td>\n",
       "      <td>0.230955</td>\n",
       "      <td>-0.007793</td>\n",
       "      <td>0.121795</td>\n",
       "      <td>-0.845628</td>\n",
       "      <td>0.667450</td>\n",
       "      <td>...</td>\n",
       "      <td>-0.293621</td>\n",
       "      <td>0.297013</td>\n",
       "      <td>-0.296790</td>\n",
       "      <td>-0.110356</td>\n",
       "      <td>-0.030598</td>\n",
       "      <td>0.057556</td>\n",
       "      <td>-1.398059</td>\n",
       "      <td>0.636393</td>\n",
       "      <td>-1.730218</td>\n",
       "      <td>YP5812210101</td>\n",
       "    </tr>\n",
       "    <tr>\n",
       "      <th>1172</th>\n",
       "      <td>-0.447219</td>\n",
       "      <td>0.850745</td>\n",
       "      <td>1.721929</td>\n",
       "      <td>-0.292880</td>\n",
       "      <td>7.720591</td>\n",
       "      <td>0.256032</td>\n",
       "      <td>-0.007529</td>\n",
       "      <td>0.116150</td>\n",
       "      <td>-0.845628</td>\n",
       "      <td>0.656358</td>\n",
       "      <td>...</td>\n",
       "      <td>-0.293621</td>\n",
       "      <td>0.297013</td>\n",
       "      <td>-0.296790</td>\n",
       "      <td>-0.110356</td>\n",
       "      <td>-0.030598</td>\n",
       "      <td>0.057556</td>\n",
       "      <td>-1.094635</td>\n",
       "      <td>0.569777</td>\n",
       "      <td>-1.446200</td>\n",
       "      <td>YP5812210101</td>\n",
       "    </tr>\n",
       "    <tr>\n",
       "      <th>1173</th>\n",
       "      <td>-0.228856</td>\n",
       "      <td>0.976232</td>\n",
       "      <td>0.420875</td>\n",
       "      <td>-0.291198</td>\n",
       "      <td>-0.096493</td>\n",
       "      <td>0.756482</td>\n",
       "      <td>-0.003188</td>\n",
       "      <td>0.145373</td>\n",
       "      <td>-0.845628</td>\n",
       "      <td>0.634173</td>\n",
       "      <td>...</td>\n",
       "      <td>-0.293621</td>\n",
       "      <td>0.297013</td>\n",
       "      <td>-0.296790</td>\n",
       "      <td>-0.110356</td>\n",
       "      <td>-0.030598</td>\n",
       "      <td>0.057556</td>\n",
       "      <td>-1.078519</td>\n",
       "      <td>0.625290</td>\n",
       "      <td>-1.329046</td>\n",
       "      <td>YP5812210101</td>\n",
       "    </tr>\n",
       "  </tbody>\n",
       "</table>\n",
       "<p>5 rows × 27 columns</p>\n",
       "</div>"
      ],
      "text/plain": [
       "      5IAL_3_TT301.50  5IAL_3_QIT301.52  5IAL_3_PIT 301.55  5IAL_3_QIT301.57  \\\n",
       "1169        -1.993090          0.961468          -1.417571         -0.307287   \n",
       "1170        -0.565065          0.961468          -1.417571         -0.307287   \n",
       "1171        -0.585862          0.835982           1.693645         -0.295834   \n",
       "1172        -0.447219          0.850745           1.721929         -0.292880   \n",
       "1173        -0.228856          0.976232           0.420875         -0.291198   \n",
       "\n",
       "      5IAL_3_PIT301.60  5IAL_3_FIT301.61MF  5IAL_3_FIT301.61VF  \\\n",
       "1169         -0.096493           -1.552433           -0.023936   \n",
       "1170          7.720591           -1.552433           -0.023936   \n",
       "1171          7.720591            0.230955           -0.007793   \n",
       "1172          7.720591            0.256032           -0.007529   \n",
       "1173         -0.096493            0.756482           -0.003188   \n",
       "\n",
       "      5IAL_3_FIT301.61D  5IAL_3_PIT301.63  5IAL_3_P301.70  ...  \\\n",
       "1169          -3.285042         -0.845628       -1.584270  ...   \n",
       "1170          -3.285142         -0.845628       -1.584270  ...   \n",
       "1171           0.121795         -0.845628        0.667450  ...   \n",
       "1172           0.116150         -0.845628        0.656358  ...   \n",
       "1173           0.145373         -0.845628        0.634173  ...   \n",
       "\n",
       "      5IAL_3_LSL301.53  5IAL_3_GSC301.44  5IAL_3_GSO301.44  5IAL_3_LSL301.68  \\\n",
       "1169          3.405719         -3.366825          3.369357         -0.110356   \n",
       "1170          3.405719         -3.366825          3.369357         -0.110356   \n",
       "1171         -0.293621          0.297013         -0.296790         -0.110356   \n",
       "1172         -0.293621          0.297013         -0.296790         -0.110356   \n",
       "1173         -0.293621          0.297013         -0.296790         -0.110356   \n",
       "\n",
       "      5IAL_3_LSLL301.69  5IAL_3_301.OCCUPIED  5IAL_3_LIT301.54  \\\n",
       "1169          -0.030598           -17.374176         -2.022573   \n",
       "1170          -0.030598             0.057556         -1.884963   \n",
       "1171          -0.030598             0.057556         -1.398059   \n",
       "1172          -0.030598             0.057556         -1.094635   \n",
       "1173          -0.030598             0.057556         -1.078519   \n",
       "\n",
       "      5IAL_3_XPV301.13  5IAL_3_WY301.54  5IAL_3_301.BatchName  \n",
       "1169         -1.584141        -2.120951          YP5812210101  \n",
       "1170         -1.584141        -2.002296          YP5812210101  \n",
       "1171          0.636393        -1.730218          YP5812210101  \n",
       "1172          0.569777        -1.446200          YP5812210101  \n",
       "1173          0.625290        -1.329046          YP5812210101  \n",
       "\n",
       "[5 rows x 27 columns]"
      ]
     },
     "execution_count": 9,
     "metadata": {},
     "output_type": "execute_result"
    }
   ],
   "source": [
    "data_norm.head()\n",
    "#data_norm_values.head()"
   ]
  },
  {
   "cell_type": "code",
   "execution_count": 10,
   "id": "76bd060b",
   "metadata": {
    "execution": {
     "iopub.execute_input": "2023-04-04T14:31:09.457907Z",
     "iopub.status.busy": "2023-04-04T14:31:09.457625Z",
     "iopub.status.idle": "2023-04-04T14:31:09.478036Z",
     "shell.execute_reply": "2023-04-04T14:31:09.476978Z"
    },
    "papermill": {
     "duration": 0.029251,
     "end_time": "2023-04-04T14:31:09.480450",
     "exception": false,
     "start_time": "2023-04-04T14:31:09.451199",
     "status": "completed"
    },
    "tags": []
   },
   "outputs": [
    {
     "data": {
      "text/plain": [
       "5IAL_3_TT301.50         0\n",
       "5IAL_3_QIT301.52        0\n",
       "5IAL_3_PIT 301.55       0\n",
       "5IAL_3_QIT301.57        0\n",
       "5IAL_3_PIT301.60        0\n",
       "5IAL_3_FIT301.61MF      0\n",
       "5IAL_3_FIT301.61VF      0\n",
       "5IAL_3_FIT301.61D       0\n",
       "5IAL_3_PIT301.63        0\n",
       "5IAL_3_P301.70          0\n",
       "5IAL_3_R301.71          0\n",
       "5IAL_3_P301.72          0\n",
       "5IAL_3_XPV301.35        0\n",
       "5IAL_3_XPV301.53        0\n",
       "5IAL_3_XPV301.54        0\n",
       "5IAL_3_XPV301.63        0\n",
       "5IAL_3_LSL301.51        0\n",
       "5IAL_3_LSL301.53        0\n",
       "5IAL_3_GSC301.44        0\n",
       "5IAL_3_GSO301.44        0\n",
       "5IAL_3_LSL301.68        0\n",
       "5IAL_3_LSLL301.69       0\n",
       "5IAL_3_301.OCCUPIED     0\n",
       "5IAL_3_LIT301.54        0\n",
       "5IAL_3_XPV301.13        0\n",
       "5IAL_3_WY301.54         0\n",
       "5IAL_3_301.BatchName    0\n",
       "dtype: int64"
      ]
     },
     "execution_count": 10,
     "metadata": {},
     "output_type": "execute_result"
    }
   ],
   "source": [
    "data_norm.isna().sum()"
   ]
  },
  {
   "cell_type": "code",
   "execution_count": 11,
   "id": "8f20205b",
   "metadata": {
    "execution": {
     "iopub.execute_input": "2023-04-04T14:31:09.492701Z",
     "iopub.status.busy": "2023-04-04T14:31:09.492424Z",
     "iopub.status.idle": "2023-04-04T14:31:09.510620Z",
     "shell.execute_reply": "2023-04-04T14:31:09.509462Z"
    },
    "papermill": {
     "duration": 0.026883,
     "end_time": "2023-04-04T14:31:09.512854",
     "exception": false,
     "start_time": "2023-04-04T14:31:09.485971",
     "status": "completed"
    },
    "tags": []
   },
   "outputs": [
    {
     "data": {
      "text/plain": [
       "5IAL_3_301.BatchName\n",
       "CB212211501     179\n",
       "CB212211502     124\n",
       "CB212215401     111\n",
       "CB212215402     113\n",
       "CB212220801     179\n",
       "               ... \n",
       "YP7012304801    115\n",
       "YP7012304802    142\n",
       "kP5512213801    170\n",
       "kp5502226203    154\n",
       "kp7012226605    136\n",
       "Length: 964, dtype: int64"
      ]
     },
     "execution_count": 11,
     "metadata": {},
     "output_type": "execute_result"
    }
   ],
   "source": [
    "Train_Grouped=data_norm.groupby([\"5IAL_3_301.BatchName\"],as_index=True)\n",
    "                                 \n",
    "Train_Grouped.size()"
   ]
  },
  {
   "cell_type": "markdown",
   "id": "7494d2c9",
   "metadata": {
    "papermill": {
     "duration": 0.005709,
     "end_time": "2023-04-04T14:31:09.524049",
     "exception": false,
     "start_time": "2023-04-04T14:31:09.518340",
     "status": "completed"
    },
    "tags": []
   },
   "source": [
    "# Model defining & Training\n",
    "## Define Keras Model\n",
    "This model can be described as a deep convolutional Auto-encoder."
   ]
  },
  {
   "cell_type": "code",
   "execution_count": 12,
   "id": "1f682149",
   "metadata": {
    "execution": {
     "iopub.execute_input": "2023-04-04T14:31:09.537447Z",
     "iopub.status.busy": "2023-04-04T14:31:09.537172Z",
     "iopub.status.idle": "2023-04-04T14:31:12.287834Z",
     "shell.execute_reply": "2023-04-04T14:31:12.286981Z"
    },
    "papermill": {
     "duration": 2.771471,
     "end_time": "2023-04-04T14:31:12.301374",
     "exception": false,
     "start_time": "2023-04-04T14:31:09.529903",
     "status": "completed"
    },
    "tags": []
   },
   "outputs": [
    {
     "name": "stdout",
     "output_type": "stream",
     "text": [
      "Model: \"sequential\"\n",
      "_________________________________________________________________\n",
      " Layer (type)                Output Shape              Param #   \n",
      "=================================================================\n",
      " conv2d (Conv2D)             (None, 26, 1, 32)         2080      \n",
      "                                                                 \n",
      " dropout (Dropout)           (None, 26, 1, 32)         0         \n",
      "                                                                 \n",
      " conv2d_1 (Conv2D)           (None, 26, 1, 16)         131088    \n",
      "                                                                 \n",
      " conv2d_transpose (Conv2DTra  (None, 26, 1, 16)        65552     \n",
      " nspose)                                                         \n",
      "                                                                 \n",
      " dropout_1 (Dropout)         (None, 26, 1, 16)         0         \n",
      "                                                                 \n",
      " conv2d_transpose_1 (Conv2DT  (None, 26, 1, 32)        32800     \n",
      " ranspose)                                                       \n",
      "                                                                 \n",
      " conv2d_transpose_2 (Conv2DT  (None, 26, 1, 1)         1153      \n",
      " ranspose)                                                       \n",
      "                                                                 \n",
      "=================================================================\n",
      "Total params: 232,673\n",
      "Trainable params: 232,673\n",
      "Non-trainable params: 0\n",
      "_________________________________________________________________\n"
     ]
    }
   ],
   "source": [
    "columns=26\n",
    "batches=964\n",
    "\n",
    "model = keras.Sequential(\n",
    "    [\n",
    "        layers.Input(shape=(columns,1,1)),\n",
    "        layers.Conv2D(\n",
    "            filters=32, kernel_size=8, padding=\"same\", strides=1, activation=\"relu\"\n",
    "        ),\n",
    "        layers.Dropout(rate=0.1),\n",
    "        layers.Conv2D(\n",
    "            filters=16, kernel_size=16, padding=\"same\", strides=1, activation=\"relu\"\n",
    "        ),\n",
    "        layers.Conv2DTranspose(\n",
    "            filters=16, kernel_size=16, padding=\"same\", strides=1, activation=\"relu\"\n",
    "        ),\n",
    "        layers.Dropout(rate=0.1),\n",
    "        layers.Conv2DTranspose(\n",
    "            filters=32, kernel_size=8, padding=\"same\", strides=1, activation=\"relu\"\n",
    "        ),\n",
    "        layers.Conv2DTranspose(filters=1, kernel_size=6, padding=\"same\"),\n",
    "    ]\n",
    ")\n",
    "model.compile(optimizer=keras.optimizers.Adam(learning_rate=0.001), loss=\"mse\")\n",
    "model.summary()"
   ]
  },
  {
   "cell_type": "markdown",
   "id": "a12fc545",
   "metadata": {
    "papermill": {
     "duration": 0.006725,
     "end_time": "2023-04-04T14:31:12.315334",
     "exception": false,
     "start_time": "2023-04-04T14:31:12.308609",
     "status": "completed"
    },
    "tags": []
   },
   "source": [
    "## Training the Autoencoder\n",
    "Train the autoencoder on 1 batch of data at a time.\n",
    "This is necceray for 2 reasons.\n",
    "1. The data has variable lenghts, this cant be stored in a numpy array.\n",
    "2. If you try to keep all values in memory at once, the RAM overflows and the kernel dies. This way that never happens"
   ]
  },
  {
   "cell_type": "code",
   "execution_count": 13,
   "id": "681f1963",
   "metadata": {
    "execution": {
     "iopub.execute_input": "2023-04-04T14:31:12.331182Z",
     "iopub.status.busy": "2023-04-04T14:31:12.330495Z",
     "iopub.status.idle": "2023-04-04T14:41:27.382297Z",
     "shell.execute_reply": "2023-04-04T14:41:27.381280Z"
    },
    "papermill": {
     "duration": 615.062511,
     "end_time": "2023-04-04T14:41:27.384904",
     "exception": false,
     "start_time": "2023-04-04T14:31:12.322393",
     "status": "completed"
    },
    "tags": []
   },
   "outputs": [
    {
     "name": "stderr",
     "output_type": "stream",
     "text": [
      "2023-04-04 14:31:13.034879: E tensorflow/core/grappler/optimizers/meta_optimizer.cc:954] layout failed: INVALID_ARGUMENT: Size of values 0 does not match size of permutation 4 @ fanin shape insequential/dropout/dropout/SelectV2-2-TransposeNHWCToNCHW-LayoutOptimizer\n"
     ]
    },
    {
     "name": "stdout",
     "output_type": "stream",
     "text": [
      "10 out of 964 batches used for training\n",
      "20 out of 964 batches used for training\n",
      "30 out of 964 batches used for training\n",
      "40 out of 964 batches used for training\n",
      "50 out of 964 batches used for training\n",
      "60 out of 964 batches used for training\n",
      "70 out of 964 batches used for training\n",
      "80 out of 964 batches used for training\n",
      "90 out of 964 batches used for training\n",
      "100 out of 964 batches used for training\n",
      "110 out of 964 batches used for training\n",
      "120 out of 964 batches used for training\n",
      "130 out of 964 batches used for training\n",
      "140 out of 964 batches used for training\n",
      "150 out of 964 batches used for training\n",
      "160 out of 964 batches used for training\n",
      "170 out of 964 batches used for training\n",
      "180 out of 964 batches used for training\n",
      "190 out of 964 batches used for training\n",
      "200 out of 964 batches used for training\n",
      "210 out of 964 batches used for training\n",
      "220 out of 964 batches used for training\n",
      "230 out of 964 batches used for training\n",
      "240 out of 964 batches used for training\n",
      "250 out of 964 batches used for training\n",
      "260 out of 964 batches used for training\n",
      "270 out of 964 batches used for training\n",
      "280 out of 964 batches used for training\n",
      "290 out of 964 batches used for training\n",
      "300 out of 964 batches used for training\n",
      "310 out of 964 batches used for training\n",
      "320 out of 964 batches used for training\n",
      "330 out of 964 batches used for training\n",
      "340 out of 964 batches used for training\n",
      "350 out of 964 batches used for training\n",
      "360 out of 964 batches used for training\n",
      "370 out of 964 batches used for training\n",
      "380 out of 964 batches used for training\n",
      "390 out of 964 batches used for training\n",
      "400 out of 964 batches used for training\n",
      "410 out of 964 batches used for training\n",
      "420 out of 964 batches used for training\n",
      "430 out of 964 batches used for training\n",
      "440 out of 964 batches used for training\n",
      "450 out of 964 batches used for training\n",
      "460 out of 964 batches used for training\n",
      "470 out of 964 batches used for training\n",
      "480 out of 964 batches used for training\n",
      "490 out of 964 batches used for training\n",
      "500 out of 964 batches used for training\n",
      "510 out of 964 batches used for training\n",
      "520 out of 964 batches used for training\n",
      "530 out of 964 batches used for training\n",
      "540 out of 964 batches used for training\n",
      "550 out of 964 batches used for training\n",
      "560 out of 964 batches used for training\n",
      "570 out of 964 batches used for training\n",
      "580 out of 964 batches used for training\n",
      "590 out of 964 batches used for training\n",
      "600 out of 964 batches used for training\n",
      "610 out of 964 batches used for training\n",
      "620 out of 964 batches used for training\n",
      "630 out of 964 batches used for training\n",
      "640 out of 964 batches used for training\n",
      "650 out of 964 batches used for training\n",
      "660 out of 964 batches used for training\n",
      "670 out of 964 batches used for training\n",
      "680 out of 964 batches used for training\n",
      "690 out of 964 batches used for training\n",
      "700 out of 964 batches used for training\n",
      "710 out of 964 batches used for training\n",
      "720 out of 964 batches used for training\n",
      "730 out of 964 batches used for training\n",
      "740 out of 964 batches used for training\n",
      "750 out of 964 batches used for training\n",
      "760 out of 964 batches used for training\n",
      "770 out of 964 batches used for training\n",
      "780 out of 964 batches used for training\n",
      "790 out of 964 batches used for training\n",
      "800 out of 964 batches used for training\n",
      "810 out of 964 batches used for training\n",
      "820 out of 964 batches used for training\n",
      "830 out of 964 batches used for training\n",
      "840 out of 964 batches used for training\n",
      "850 out of 964 batches used for training\n",
      "860 out of 964 batches used for training\n",
      "870 out of 964 batches used for training\n",
      "880 out of 964 batches used for training\n",
      "890 out of 964 batches used for training\n",
      "900 out of 964 batches used for training\n",
      "910 out of 964 batches used for training\n",
      "920 out of 964 batches used for training\n",
      "930 out of 964 batches used for training\n",
      "940 out of 964 batches used for training\n",
      "950 out of 964 batches used for training\n",
      "960 out of 964 batches used for training\n"
     ]
    }
   ],
   "source": [
    "i=0\n",
    "for row in Train_Batches:\n",
    "    X_batch=Train_Grouped.get_group(row)\n",
    "    X_batch=X_batch.drop(['5IAL_3_301.BatchName'],axis=1)\n",
    "    X_batch=np.expand_dims(X_batch,axis=2)\n",
    "    X_batch=np.expand_dims(X_batch,axis=3)\n",
    "    history = model.fit(\n",
    "        X_batch,\n",
    "        X_batch,\n",
    "        epochs=50,\n",
    "        verbose=0,\n",
    "        validation_split=0.1,\n",
    "        callbacks=[\n",
    "            keras.callbacks.EarlyStopping(monitor=\"val_loss\", patience=5, mode=\"min\")\n",
    "        ],\n",
    "    )\n",
    "    \n",
    "    i=i+1\n",
    "    \n",
    "    # Show only the tenth itteration to avoid clutter, but keep an eye on progress\n",
    "    if (i % 10)==9:\n",
    "        progress='{} out of {} batches used for training'.format(i+1,batches)\n",
    "        print(progress)"
   ]
  },
  {
   "cell_type": "code",
   "execution_count": 14,
   "id": "f5fab7b7",
   "metadata": {
    "execution": {
     "iopub.execute_input": "2023-04-04T14:41:27.410592Z",
     "iopub.status.busy": "2023-04-04T14:41:27.410256Z",
     "iopub.status.idle": "2023-04-04T14:41:27.415614Z",
     "shell.execute_reply": "2023-04-04T14:41:27.414600Z"
    },
    "papermill": {
     "duration": 0.020708,
     "end_time": "2023-04-04T14:41:27.417867",
     "exception": false,
     "start_time": "2023-04-04T14:41:27.397159",
     "status": "completed"
    },
    "tags": []
   },
   "outputs": [
    {
     "name": "stdout",
     "output_type": "stream",
     "text": [
      "Index(['5IAL_3_TT301.50', '5IAL_3_QIT301.52', '5IAL_3_PIT 301.55',\n",
      "       '5IAL_3_QIT301.57', '5IAL_3_PIT301.60', '5IAL_3_FIT301.61MF',\n",
      "       '5IAL_3_FIT301.61VF', '5IAL_3_FIT301.61D', '5IAL_3_PIT301.63',\n",
      "       '5IAL_3_P301.70', '5IAL_3_R301.71', '5IAL_3_P301.72',\n",
      "       '5IAL_3_XPV301.35', '5IAL_3_XPV301.53', '5IAL_3_XPV301.54',\n",
      "       '5IAL_3_XPV301.63', '5IAL_3_LSL301.51', '5IAL_3_LSL301.53',\n",
      "       '5IAL_3_GSC301.44', '5IAL_3_GSO301.44', '5IAL_3_LSL301.68',\n",
      "       '5IAL_3_LSLL301.69', '5IAL_3_301.OCCUPIED', '5IAL_3_LIT301.54',\n",
      "       '5IAL_3_XPV301.13', '5IAL_3_WY301.54', '5IAL_3_301.BatchName'],\n",
      "      dtype='object')\n"
     ]
    }
   ],
   "source": [
    "print(data_norm.columns)"
   ]
  },
  {
   "cell_type": "markdown",
   "id": "13d6eb4e",
   "metadata": {
    "papermill": {
     "duration": 0.011958,
     "end_time": "2023-04-04T14:41:27.441762",
     "exception": false,
     "start_time": "2023-04-04T14:41:27.429804",
     "status": "completed"
    },
    "tags": []
   },
   "source": [
    "# Get a random batch from the train set and display it here\n",
    "everytime you run this cel it gets a random batch, be sure to run it a couple of times"
   ]
  },
  {
   "cell_type": "code",
   "execution_count": 15,
   "id": "86b3eadc",
   "metadata": {
    "execution": {
     "iopub.execute_input": "2023-04-04T14:41:27.466492Z",
     "iopub.status.busy": "2023-04-04T14:41:27.466220Z",
     "iopub.status.idle": "2023-04-04T14:41:27.963457Z",
     "shell.execute_reply": "2023-04-04T14:41:27.962439Z"
    },
    "papermill": {
     "duration": 0.512233,
     "end_time": "2023-04-04T14:41:27.965724",
     "exception": false,
     "start_time": "2023-04-04T14:41:27.453491",
     "status": "completed"
    },
    "tags": []
   },
   "outputs": [
    {
     "name": "stdout",
     "output_type": "stream",
     "text": [
      "4/4 [==============================] - 0s 3ms/step\n"
     ]
    },
    {
     "data": {
      "text/plain": [
       "Text(0.5, 1.0, '5IAL_3_PIT 301.55')"
      ]
     },
     "execution_count": 15,
     "metadata": {},
     "output_type": "execute_result"
    },
    {
     "data": {
      "image/png": "[encoded data removed]",
      "text/plain": [
       "<Figure size 640x480 with 1 Axes>"
      ]
     },
     "metadata": {},
     "output_type": "display_data"
    }
   ],
   "source": [
    "Random_Batch=Train_Grouped.get_group(random.sample(Train_Batches,1)[0])\n",
    "\n",
    "Random_Batch=Random_Batch.drop(['5IAL_3_301.BatchName'],axis=1)\n",
    "Random_Batch=np.expand_dims(Random_Batch,axis=2)\n",
    "Random_Batch=np.expand_dims(Random_Batch,axis=3)\n",
    "\n",
    "\n",
    "Random_Batch_Pred= model.predict(Random_Batch)\n",
    "\n",
    "var=2\n",
    "\n",
    "plt.plot(Random_Batch[:,var,0,0])\n",
    "plt.plot(Random_Batch_Pred[:,var,0,0])\n",
    "plt.legend(['Real data','Predicted Data'])\n",
    "plt.xlabel('Time passed since begining of Batch [min]')\n",
    "plt.ylabel('Normalised Data')\n",
    "plt.title(data_norm.columns[var])"
   ]
  }
 ],
 "metadata": {
  "kernelspec": {
   "display_name": "Python 3",
   "language": "python",
   "name": "python3"
  },
  "language_info": {
   "codemirror_mode": {
    "name": "ipython",
    "version": 3
   },
   "file_extension": ".py",
   "mimetype": "text/x-python",
   "name": "python",
   "nbconvert_exporter": "python",
   "pygments_lexer": "ipython3",
   "version": "3.7.12"
  },
  "papermill": {
   "default_parameters": {},
   "duration": 642.080579,
   "end_time": "2023-04-04T14:41:31.449966",
   "environment_variables": {},
   "exception": null,
   "input_path": "__notebook__.ipynb",
   "output_path": "__notebook__.ipynb",
   "parameters": {},
   "start_time": "2023-04-04T14:30:49.369387",
   "version": "2.4.0"
  }
 },
 "nbformat": 4,
 "nbformat_minor": 5
}
