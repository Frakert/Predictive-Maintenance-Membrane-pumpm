{
 "cells": [
  {
   "cell_type": "markdown",
   "id": "138a4f14",
   "metadata": {
    "papermill": {
     "duration": 0.00887,
     "end_time": "2023-04-19T10:07:26.917978",
     "exception": false,
     "start_time": "2023-04-19T10:07:26.909108",
     "status": "completed"
    },
    "tags": []
   },
   "source": [
    "# Importing Data & Packages"
   ]
  },
  {
   "cell_type": "code",
   "execution_count": 1,
   "id": "acd7ab0a",
   "metadata": {
    "execution": {
     "iopub.execute_input": "2023-04-19T10:07:26.936259Z",
     "iopub.status.busy": "2023-04-19T10:07:26.935779Z",
     "iopub.status.idle": "2023-04-19T10:07:40.769358Z",
     "shell.execute_reply": "2023-04-19T10:07:40.767447Z"
    },
    "papermill": {
     "duration": 13.846335,
     "end_time": "2023-04-19T10:07:40.772476",
     "exception": false,
     "start_time": "2023-04-19T10:07:26.926141",
     "status": "completed"
    },
    "tags": []
   },
   "outputs": [
    {
     "data": {
      "text/html": [
       "<style type='text/css'>\n",
       ".datatable table.frame { margin-bottom: 0; }\n",
       ".datatable table.frame thead { border-bottom: none; }\n",
       ".datatable table.frame tr.coltypes td {  color: #FFFFFF;  line-height: 6px;  padding: 0 0.5em;}\n",
       ".datatable .bool    { background: #DDDD99; }\n",
       ".datatable .object  { background: #565656; }\n",
       ".datatable .int     { background: #5D9E5D; }\n",
       ".datatable .float   { background: #4040CC; }\n",
       ".datatable .str     { background: #CC4040; }\n",
       ".datatable .time    { background: #40CC40; }\n",
       ".datatable .row_index {  background: var(--jp-border-color3);  border-right: 1px solid var(--jp-border-color0);  color: var(--jp-ui-font-color3);  font-size: 9px;}\n",
       ".datatable .frame tbody td { text-align: left; }\n",
       ".datatable .frame tr.coltypes .row_index {  background: var(--jp-border-color0);}\n",
       ".datatable th:nth-child(2) { padding-left: 12px; }\n",
       ".datatable .hellipsis {  color: var(--jp-cell-editor-border-color);}\n",
       ".datatable .vellipsis {  background: var(--jp-layout-color0);  color: var(--jp-cell-editor-border-color);}\n",
       ".datatable .na {  color: var(--jp-cell-editor-border-color);  font-size: 80%;}\n",
       ".datatable .sp {  opacity: 0.25;}\n",
       ".datatable .footer { font-size: 9px; }\n",
       ".datatable .frame_dimensions {  background: var(--jp-border-color3);  border-top: 1px solid var(--jp-border-color0);  color: var(--jp-ui-font-color3);  display: inline-block;  opacity: 0.6;  padding: 1px 10px 1px 5px;}\n",
       "</style>\n"
      ],
      "text/plain": [
       "<IPython.core.display.HTML object>"
      ]
     },
     "metadata": {},
     "output_type": "display_data"
    },
    {
     "name": "stdout",
     "output_type": "stream",
     "text": [
      "Everything Imported Succesfully!\n"
     ]
    }
   ],
   "source": [
    "# General purpose libraries\n",
    "import random\n",
    "import numpy as np\n",
    "import pandas as pd \n",
    "import matplotlib.pyplot as plt\n",
    "from datetime import datetime, timedelta\n",
    "import datetime\n",
    "\n",
    "# Deep learning library\n",
    "import keras \n",
    "from keras import layers\n",
    "\n",
    "from sklearn.metrics import confusion_matrix\n",
    "from sklearn import metrics \n",
    "from imblearn.over_sampling import SMOTE\n",
    "import eli5\n",
    "from eli5.sklearn import PermutationImportance\n",
    "\n",
    "import shap\n",
    "\n",
    "print('Everything Imported Succesfully!')"
   ]
  },
  {
   "cell_type": "markdown",
   "id": "a21962ce",
   "metadata": {
    "papermill": {
     "duration": 0.009209,
     "end_time": "2023-04-19T10:07:40.793301",
     "exception": false,
     "start_time": "2023-04-19T10:07:40.784092",
     "status": "completed"
    },
    "tags": []
   },
   "source": [
    "## importing tha data from a csv file\n",
    "import with date parsed and indexes set. fix the name of the data time column and fill NaN in batch names with 'no batch specified'"
   ]
  },
  {
   "cell_type": "code",
   "execution_count": 2,
   "id": "a5cf00bd",
   "metadata": {
    "execution": {
     "iopub.execute_input": "2023-04-19T10:07:40.814726Z",
     "iopub.status.busy": "2023-04-19T10:07:40.813576Z",
     "iopub.status.idle": "2023-04-19T10:07:44.278971Z",
     "shell.execute_reply": "2023-04-19T10:07:44.277698Z"
    },
    "papermill": {
     "duration": 3.479459,
     "end_time": "2023-04-19T10:07:44.282399",
     "exception": false,
     "start_time": "2023-04-19T10:07:40.802940",
     "status": "completed"
    },
    "tags": []
   },
   "outputs": [
    {
     "name": "stderr",
     "output_type": "stream",
     "text": [
      "Columns (14) have mixed types.Specify dtype option on import or set low_memory=False.\n"
     ]
    },
    {
     "data": {
      "text/html": [
       "<div>\n",
       "<style scoped>\n",
       "    .dataframe tbody tr th:only-of-type {\n",
       "        vertical-align: middle;\n",
       "    }\n",
       "\n",
       "    .dataframe tbody tr th {\n",
       "        vertical-align: top;\n",
       "    }\n",
       "\n",
       "    .dataframe thead th {\n",
       "        text-align: right;\n",
       "    }\n",
       "</style>\n",
       "<table border=\"1\" class=\"dataframe\">\n",
       "  <thead>\n",
       "    <tr style=\"text-align: right;\">\n",
       "      <th></th>\n",
       "      <th>Date</th>\n",
       "      <th>5IAL_3_TT301.50</th>\n",
       "      <th>5IAL_3_QIT301.52</th>\n",
       "      <th>5IAL_3_PIT 301.55</th>\n",
       "      <th>5IAL_3_QIT301.57</th>\n",
       "      <th>5IAL_3_PIT301.60</th>\n",
       "      <th>5IAL_3_FIT301.61MF</th>\n",
       "      <th>5IAL_3_FIT301.61VF</th>\n",
       "      <th>5IAL_3_FIT301.61D</th>\n",
       "      <th>5IAL_3_PIT301.63</th>\n",
       "      <th>...</th>\n",
       "      <th>5IAL_3_GSC301.44</th>\n",
       "      <th>5IAL_3_GSO301.44</th>\n",
       "      <th>5IAL_3_LSL301.64</th>\n",
       "      <th>5IAL_3_LSL301.68</th>\n",
       "      <th>5IAL_3_LSLL301.69</th>\n",
       "      <th>5IAL_3_301.OCCUPIED</th>\n",
       "      <th>5IAL_3_LIT301.54</th>\n",
       "      <th>5IAL_3_LSH301.56</th>\n",
       "      <th>5IAL_3_XPV301.13</th>\n",
       "      <th>5IAL_3_WY301.54</th>\n",
       "    </tr>\n",
       "  </thead>\n",
       "  <tbody>\n",
       "    <tr>\n",
       "      <th>0</th>\n",
       "      <td>2022-04-10 12:00:00</td>\n",
       "      <td>21.80</td>\n",
       "      <td>9.84</td>\n",
       "      <td>-0.02</td>\n",
       "      <td>0.0</td>\n",
       "      <td>0.0</td>\n",
       "      <td>0.0</td>\n",
       "      <td>0.0</td>\n",
       "      <td>0.00105</td>\n",
       "      <td>2.07</td>\n",
       "      <td>...</td>\n",
       "      <td>0</td>\n",
       "      <td>0</td>\n",
       "      <td>0</td>\n",
       "      <td>0</td>\n",
       "      <td>0</td>\n",
       "      <td>0</td>\n",
       "      <td>1.40</td>\n",
       "      <td>0</td>\n",
       "      <td>0.0</td>\n",
       "      <td>0.0</td>\n",
       "    </tr>\n",
       "    <tr>\n",
       "      <th>1</th>\n",
       "      <td>2022-04-10 12:01:00</td>\n",
       "      <td>21.80</td>\n",
       "      <td>9.84</td>\n",
       "      <td>-0.02</td>\n",
       "      <td>0.0</td>\n",
       "      <td>0.0</td>\n",
       "      <td>0.0</td>\n",
       "      <td>0.0</td>\n",
       "      <td>0.00106</td>\n",
       "      <td>2.07</td>\n",
       "      <td>...</td>\n",
       "      <td>0</td>\n",
       "      <td>0</td>\n",
       "      <td>0</td>\n",
       "      <td>0</td>\n",
       "      <td>0</td>\n",
       "      <td>0</td>\n",
       "      <td>1.40</td>\n",
       "      <td>0</td>\n",
       "      <td>0.0</td>\n",
       "      <td>0.0</td>\n",
       "    </tr>\n",
       "    <tr>\n",
       "      <th>2</th>\n",
       "      <td>2022-04-10 12:02:00</td>\n",
       "      <td>21.80</td>\n",
       "      <td>9.84</td>\n",
       "      <td>-0.02</td>\n",
       "      <td>0.0</td>\n",
       "      <td>0.0</td>\n",
       "      <td>0.0</td>\n",
       "      <td>0.0</td>\n",
       "      <td>0.00102</td>\n",
       "      <td>2.07</td>\n",
       "      <td>...</td>\n",
       "      <td>0</td>\n",
       "      <td>0</td>\n",
       "      <td>0</td>\n",
       "      <td>0</td>\n",
       "      <td>0</td>\n",
       "      <td>0</td>\n",
       "      <td>1.41</td>\n",
       "      <td>0</td>\n",
       "      <td>0.0</td>\n",
       "      <td>0.0</td>\n",
       "    </tr>\n",
       "    <tr>\n",
       "      <th>3</th>\n",
       "      <td>2022-04-10 12:03:00</td>\n",
       "      <td>21.78</td>\n",
       "      <td>9.84</td>\n",
       "      <td>-0.02</td>\n",
       "      <td>0.0</td>\n",
       "      <td>0.0</td>\n",
       "      <td>0.0</td>\n",
       "      <td>0.0</td>\n",
       "      <td>0.00105</td>\n",
       "      <td>2.07</td>\n",
       "      <td>...</td>\n",
       "      <td>0</td>\n",
       "      <td>0</td>\n",
       "      <td>0</td>\n",
       "      <td>0</td>\n",
       "      <td>0</td>\n",
       "      <td>0</td>\n",
       "      <td>1.40</td>\n",
       "      <td>0</td>\n",
       "      <td>0.0</td>\n",
       "      <td>0.0</td>\n",
       "    </tr>\n",
       "    <tr>\n",
       "      <th>4</th>\n",
       "      <td>2022-04-10 12:04:00</td>\n",
       "      <td>21.78</td>\n",
       "      <td>9.84</td>\n",
       "      <td>-0.02</td>\n",
       "      <td>0.0</td>\n",
       "      <td>0.0</td>\n",
       "      <td>0.0</td>\n",
       "      <td>0.0</td>\n",
       "      <td>0.00104</td>\n",
       "      <td>2.07</td>\n",
       "      <td>...</td>\n",
       "      <td>0</td>\n",
       "      <td>0</td>\n",
       "      <td>0</td>\n",
       "      <td>0</td>\n",
       "      <td>0</td>\n",
       "      <td>0</td>\n",
       "      <td>1.40</td>\n",
       "      <td>0</td>\n",
       "      <td>0.0</td>\n",
       "      <td>0.0</td>\n",
       "    </tr>\n",
       "  </tbody>\n",
       "</table>\n",
       "<p>5 rows × 39 columns</p>\n",
       "</div>"
      ],
      "text/plain": [
       "                 Date  5IAL_3_TT301.50  5IAL_3_QIT301.52  5IAL_3_PIT 301.55  \\\n",
       "0 2022-04-10 12:00:00            21.80              9.84              -0.02   \n",
       "1 2022-04-10 12:01:00            21.80              9.84              -0.02   \n",
       "2 2022-04-10 12:02:00            21.80              9.84              -0.02   \n",
       "3 2022-04-10 12:03:00            21.78              9.84              -0.02   \n",
       "4 2022-04-10 12:04:00            21.78              9.84              -0.02   \n",
       "\n",
       "   5IAL_3_QIT301.57  5IAL_3_PIT301.60  5IAL_3_FIT301.61MF  5IAL_3_FIT301.61VF  \\\n",
       "0               0.0               0.0                 0.0                 0.0   \n",
       "1               0.0               0.0                 0.0                 0.0   \n",
       "2               0.0               0.0                 0.0                 0.0   \n",
       "3               0.0               0.0                 0.0                 0.0   \n",
       "4               0.0               0.0                 0.0                 0.0   \n",
       "\n",
       "   5IAL_3_FIT301.61D  5IAL_3_PIT301.63  ...  5IAL_3_GSC301.44  \\\n",
       "0            0.00105              2.07  ...                 0   \n",
       "1            0.00106              2.07  ...                 0   \n",
       "2            0.00102              2.07  ...                 0   \n",
       "3            0.00105              2.07  ...                 0   \n",
       "4            0.00104              2.07  ...                 0   \n",
       "\n",
       "   5IAL_3_GSO301.44  5IAL_3_LSL301.64 5IAL_3_LSL301.68  5IAL_3_LSLL301.69  \\\n",
       "0                 0                 0                0                  0   \n",
       "1                 0                 0                0                  0   \n",
       "2                 0                 0                0                  0   \n",
       "3                 0                 0                0                  0   \n",
       "4                 0                 0                0                  0   \n",
       "\n",
       "   5IAL_3_301.OCCUPIED  5IAL_3_LIT301.54  5IAL_3_LSH301.56  5IAL_3_XPV301.13  \\\n",
       "0                    0              1.40                 0               0.0   \n",
       "1                    0              1.40                 0               0.0   \n",
       "2                    0              1.41                 0               0.0   \n",
       "3                    0              1.40                 0               0.0   \n",
       "4                    0              1.40                 0               0.0   \n",
       "\n",
       "   5IAL_3_WY301.54  \n",
       "0              0.0  \n",
       "1              0.0  \n",
       "2              0.0  \n",
       "3              0.0  \n",
       "4              0.0  \n",
       "\n",
       "[5 rows x 39 columns]"
      ]
     },
     "execution_count": 2,
     "metadata": {},
     "output_type": "execute_result"
    }
   ],
   "source": [
    "data=pd.read_csv('/kaggle/input/301-330-days/Data_5IAL_3_301.csv',index_col=0,parse_dates=[1])  # Read data\n",
    "data.rename(columns={'0':'Date'},inplace=True)                                                  # Give date column a descriptive name\n",
    "data['5IAL_3_301.BatchName']=data['5IAL_3_301.BatchName'].fillna('No Batch Specified')          # Replace batchnames NaN's with 'no batch'\n",
    "data.head()"
   ]
  },
  {
   "cell_type": "markdown",
   "id": "59ad2908",
   "metadata": {
    "papermill": {
     "duration": 0.008335,
     "end_time": "2023-04-19T10:07:44.300744",
     "exception": false,
     "start_time": "2023-04-19T10:07:44.292409",
     "status": "completed"
    },
    "tags": []
   },
   "source": [
    "### Batchcode date checker"
   ]
  },
  {
   "cell_type": "code",
   "execution_count": 3,
   "id": "600cfca4",
   "metadata": {
    "execution": {
     "iopub.execute_input": "2023-04-19T10:07:44.319523Z",
     "iopub.status.busy": "2023-04-19T10:07:44.319164Z",
     "iopub.status.idle": "2023-04-19T10:07:44.365526Z",
     "shell.execute_reply": "2023-04-19T10:07:44.364268Z"
    },
    "papermill": {
     "duration": 0.058326,
     "end_time": "2023-04-19T10:07:44.367813",
     "exception": false,
     "start_time": "2023-04-19T10:07:44.309487",
     "status": "completed"
    },
    "tags": []
   },
   "outputs": [
    {
     "name": "stdout",
     "output_type": "stream",
     "text": [
      "2022-10-13 14:47:00\n"
     ]
    }
   ],
   "source": [
    "pd_data=(data['5IAL_3_301.BatchName']=='IU7012228605')\n",
    "\n",
    "#print(np.sum(pd_data))\n",
    "#print(pd_data[pd_data].index[0])\n",
    "\n",
    "print(data['Date'][pd_data[pd_data].index[0]])"
   ]
  },
  {
   "cell_type": "code",
   "execution_count": 4,
   "id": "6f851047",
   "metadata": {
    "execution": {
     "iopub.execute_input": "2023-04-19T10:07:44.386090Z",
     "iopub.status.busy": "2023-04-19T10:07:44.385793Z",
     "iopub.status.idle": "2023-04-19T10:07:44.760931Z",
     "shell.execute_reply": "2023-04-19T10:07:44.759569Z"
    },
    "papermill": {
     "duration": 0.386608,
     "end_time": "2023-04-19T10:07:44.763216",
     "exception": false,
     "start_time": "2023-04-19T10:07:44.376608",
     "status": "completed"
    },
    "tags": []
   },
   "outputs": [
    {
     "name": "stdout",
     "output_type": "stream",
     "text": [
      "['IU7012218701' 'Na IU7012218701' 'Na IU7012218701 CIP'\n",
      " 'Na IU7012218701 Demi' 'IU7012218702' 'Na IU7012218702' 'IU7012225501'\n",
      " 'IU7012225502' 'IU7012225503' 'IU7012225503-1' 'IU7012225504'\n",
      " 'IU7012225505' 'Na IU7012225501' 'IU7012225601' 'IU7012225602'\n",
      " 'IU702225603' 'IU702225604' 'IU701222605' 'IU7012225606' 'IU7012225701'\n",
      " 'IU7012225702' 'IU7012225703' 'IU7012225704' 'IU7012225705'\n",
      " 'IU7012225706' 'IU7012225707' 'IU7012225708' 'IU7012225709'\n",
      " 'IU7012225710' 'IU7012225711' 'IU7012225712' 'IU7012225713'\n",
      " 'IU7012225801' 'IU7012225802' 'IU7012225803' 'IU7012225804'\n",
      " 'IU7012225805' 'IU7012225806' 'IU7012225807' 'IU7012225808'\n",
      " 'IU7012225809' 'IU7012225810' 'IU7012225811' 'IU7012225812'\n",
      " 'IU7012225813-1' 'IU7012225814' 'IU7012225815' 'IU7012225901'\n",
      " 'Na IU7012225901' 'IU7012228401' 'IU7012228402' 'IU7012228403'\n",
      " 'IU7012228404' 'IU7012228405' 'IU7012228501' 'IU7012228502'\n",
      " 'IU7012228503' 'NA IU7012228503' 'IU7012228504' 'IU7012228505'\n",
      " 'IU7012228506' 'IU7012228507' 'IU7012228508' 'IU7012228509'\n",
      " 'IU7012228510' 'IU7012228601' 'IU7012228602' 'IU7012228603'\n",
      " 'IU7012228604' 'IU7012228605' 'Na IU7012228605']\n"
     ]
    }
   ],
   "source": [
    "batch_IU=data.loc[data['5IAL_3_301.BatchName'].str.contains(\"IU\", case=False)]\n",
    "print(batch_IU['5IAL_3_301.BatchName'].unique())"
   ]
  },
  {
   "cell_type": "markdown",
   "id": "4c19d79f",
   "metadata": {
    "papermill": {
     "duration": 0.009171,
     "end_time": "2023-04-19T10:07:44.781869",
     "exception": false,
     "start_time": "2023-04-19T10:07:44.772698",
     "status": "completed"
    },
    "tags": []
   },
   "source": [
    "# Data Splitting and Grouping "
   ]
  },
  {
   "cell_type": "code",
   "execution_count": 5,
   "id": "19a6c247",
   "metadata": {
    "execution": {
     "iopub.execute_input": "2023-04-19T10:07:44.802488Z",
     "iopub.status.busy": "2023-04-19T10:07:44.801490Z",
     "iopub.status.idle": "2023-04-19T10:07:44.845742Z",
     "shell.execute_reply": "2023-04-19T10:07:44.844692Z"
    },
    "papermill": {
     "duration": 0.057132,
     "end_time": "2023-04-19T10:07:44.848155",
     "exception": false,
     "start_time": "2023-04-19T10:07:44.791023",
     "status": "completed"
    },
    "tags": []
   },
   "outputs": [
    {
     "name": "stdout",
     "output_type": "stream",
     "text": [
      "['No Batch Specified' 'YP5812210101' 'YP5812210102' ... 'KB212306501'\n",
      " 'NA KB212306501' 'KC112306501']\n"
     ]
    }
   ],
   "source": [
    "#give unique batch names\n",
    "Batch_Names=data['5IAL_3_301.BatchName']\n",
    "unique_names=Batch_Names.unique()\n",
    "print(unique_names)"
   ]
  },
  {
   "cell_type": "code",
   "execution_count": 6,
   "id": "6e38a7ae",
   "metadata": {
    "execution": {
     "iopub.execute_input": "2023-04-19T10:07:44.871925Z",
     "iopub.status.busy": "2023-04-19T10:07:44.871573Z",
     "iopub.status.idle": "2023-04-19T10:07:44.878480Z",
     "shell.execute_reply": "2023-04-19T10:07:44.877444Z"
    },
    "papermill": {
     "duration": 0.028161,
     "end_time": "2023-04-19T10:07:44.885435",
     "exception": false,
     "start_time": "2023-04-19T10:07:44.857274",
     "status": "completed"
    },
    "tags": []
   },
   "outputs": [
    {
     "name": "stdout",
     "output_type": "stream",
     "text": [
      "1629\n"
     ]
    }
   ],
   "source": [
    "print(unique_names.size)"
   ]
  },
  {
   "cell_type": "markdown",
   "id": "d9ee942e",
   "metadata": {
    "papermill": {
     "duration": 0.008206,
     "end_time": "2023-04-19T10:07:44.906223",
     "exception": false,
     "start_time": "2023-04-19T10:07:44.898017",
     "status": "completed"
    },
    "tags": []
   },
   "source": [
    "## Filter out the batches\n",
    "In this step everything that is not a viable batch is filterd out.\\\n",
    "This way demi cleanings, CIP cleanings and downtime are no longer in the dataset."
   ]
  },
  {
   "cell_type": "code",
   "execution_count": 7,
   "id": "1ec17170",
   "metadata": {
    "execution": {
     "iopub.execute_input": "2023-04-19T10:07:44.923992Z",
     "iopub.status.busy": "2023-04-19T10:07:44.923703Z",
     "iopub.status.idle": "2023-04-19T10:07:44.937674Z",
     "shell.execute_reply": "2023-04-19T10:07:44.936699Z"
    },
    "papermill": {
     "duration": 0.025307,
     "end_time": "2023-04-19T10:07:44.939787",
     "exception": false,
     "start_time": "2023-04-19T10:07:44.914480",
     "status": "completed"
    },
    "tags": []
   },
   "outputs": [
    {
     "name": "stdout",
     "output_type": "stream",
     "text": [
      "1119\n"
     ]
    }
   ],
   "source": [
    "#Convert the unique_names numpy array to a pandas series\n",
    "temp_df=pd.Series(unique_names)\n",
    "\n",
    "\n",
    "submask_IU=temp_df.str.contains(\"CGD\", case=False) | temp_df.str.contains(\"IU\", case=False)\n",
    "\n",
    "submask_length=((temp_df.str.len() >= 11) & (temp_df.str.len() <= 12))\n",
    "\n",
    "# Create a boolean mask to select rows where the length of the specified column is between 11 and 12 characters (inclusive)\n",
    "mask = ~submask_IU & submask_length\n",
    "\n",
    "# Use the boolean mask to select only the rows that meet the criteria\n",
    "Viable_Batches = unique_names[mask]\n",
    "\n",
    "print(Viable_Batches.size)\n",
    "\n",
    "del temp_df"
   ]
  },
  {
   "cell_type": "code",
   "execution_count": 8,
   "id": "2081bfe7",
   "metadata": {
    "execution": {
     "iopub.execute_input": "2023-04-19T10:07:44.957514Z",
     "iopub.status.busy": "2023-04-19T10:07:44.957233Z",
     "iopub.status.idle": "2023-04-19T10:07:44.962473Z",
     "shell.execute_reply": "2023-04-19T10:07:44.961361Z"
    },
    "papermill": {
     "duration": 0.017928,
     "end_time": "2023-04-19T10:07:44.965986",
     "exception": false,
     "start_time": "2023-04-19T10:07:44.948058",
     "status": "completed"
    },
    "tags": []
   },
   "outputs": [
    {
     "name": "stdout",
     "output_type": "stream",
     "text": [
      "['YP5812210101' 'YP5812210102' 'CD112210101' ... 'KB212306202'\n",
      " 'KB212306501' 'KC112306501']\n"
     ]
    }
   ],
   "source": [
    "print(Viable_Batches)"
   ]
  },
  {
   "cell_type": "code",
   "execution_count": 9,
   "id": "3563edd0",
   "metadata": {
    "execution": {
     "iopub.execute_input": "2023-04-19T10:07:44.983955Z",
     "iopub.status.busy": "2023-04-19T10:07:44.983695Z",
     "iopub.status.idle": "2023-04-19T10:07:44.988871Z",
     "shell.execute_reply": "2023-04-19T10:07:44.987847Z"
    },
    "papermill": {
     "duration": 0.01682,
     "end_time": "2023-04-19T10:07:44.991135",
     "exception": false,
     "start_time": "2023-04-19T10:07:44.974315",
     "status": "completed"
    },
    "tags": []
   },
   "outputs": [
    {
     "name": "stdout",
     "output_type": "stream",
     "text": [
      "98\n"
     ]
    }
   ],
   "source": [
    "print(np.sum(submask_IU))"
   ]
  },
  {
   "cell_type": "markdown",
   "id": "463795db",
   "metadata": {
    "papermill": {
     "duration": 0.008346,
     "end_time": "2023-04-19T10:07:45.007782",
     "exception": false,
     "start_time": "2023-04-19T10:07:44.999436",
     "status": "completed"
    },
    "tags": []
   },
   "source": [
    "## Train Test Split\n",
    "\n",
    "Randomly pick the Test_Train_split fraction of data from the filterd unique name list.\\\n",
    "This way a percentage of batches are not used in training and thus can be used for testing."
   ]
  },
  {
   "cell_type": "code",
   "execution_count": 10,
   "id": "be8281bd",
   "metadata": {
    "execution": {
     "iopub.execute_input": "2023-04-19T10:07:45.027295Z",
     "iopub.status.busy": "2023-04-19T10:07:45.025808Z",
     "iopub.status.idle": "2023-04-19T10:07:45.076497Z",
     "shell.execute_reply": "2023-04-19T10:07:45.075512Z"
    },
    "papermill": {
     "duration": 0.062713,
     "end_time": "2023-04-19T10:07:45.078885",
     "exception": false,
     "start_time": "2023-04-19T10:07:45.016172",
     "status": "completed"
    },
    "tags": []
   },
   "outputs": [
    {
     "name": "stdout",
     "output_type": "stream",
     "text": [
      "224\n",
      "895\n"
     ]
    }
   ],
   "source": [
    "To_split=Viable_Batches\n",
    "Test_Train_split=0.2\n",
    "\n",
    "Test_Batches=random.sample(To_split.tolist(), round(To_split.size*Test_Train_split))\n",
    "\n",
    "Train_Batches = [x for x in To_split if x not in Test_Batches]\n",
    "\n",
    "print(len(Test_Batches))\n",
    "print(len(Train_Batches))\n",
    "\n",
    "# Use 'isin' to only select datapoint that have a batch name that was selected by the Test_Train split\n",
    "Train_Data=data[data['5IAL_3_301.BatchName'].isin(Train_Batches)]\n",
    "Test_Data=data[data['5IAL_3_301.BatchName'].isin(Test_Batches)]"
   ]
  },
  {
   "cell_type": "markdown",
   "id": "3fa0b3e8",
   "metadata": {
    "papermill": {
     "duration": 0.008695,
     "end_time": "2023-04-19T10:07:45.096334",
     "exception": false,
     "start_time": "2023-04-19T10:07:45.087639",
     "status": "completed"
    },
    "tags": []
   },
   "source": [
    "## Normalise the selection with use of the Z-Score\n",
    "The Z-score can be described as:\\\n",
    "$Z=\\frac{x-\\mu}{\\sigma}$\n",
    "\n",
    "In this x is your value, μ is the average of the population that value is taken from, and σ is the standard deviation of the population. It is basicaly a measure of how far a given value is away from its mean in standard deviations. To give you a good feeling, in a normal distribution 66% of values are within 1 std of the mean. 99% are withing 2 std and 99.9 is within 3\n",
    "\n",
    "Note that the data does not represent a normal curve or bell curve at all. This is solely done to make sure the Neural network gives every value an equeal weigth.\\\n",
    "\n",
    "Also drop everything that turns into NaN's when normalizing"
   ]
  },
  {
   "cell_type": "code",
   "execution_count": 11,
   "id": "5ffcf677",
   "metadata": {
    "execution": {
     "iopub.execute_input": "2023-04-19T10:07:45.115610Z",
     "iopub.status.busy": "2023-04-19T10:07:45.114688Z",
     "iopub.status.idle": "2023-04-19T10:07:45.227638Z",
     "shell.execute_reply": "2023-04-19T10:07:45.226454Z"
    },
    "papermill": {
     "duration": 0.125639,
     "end_time": "2023-04-19T10:07:45.230625",
     "exception": false,
     "start_time": "2023-04-19T10:07:45.104986",
     "status": "completed"
    },
    "tags": []
   },
   "outputs": [
    {
     "data": {
      "text/html": [
       "<div>\n",
       "<style scoped>\n",
       "    .dataframe tbody tr th:only-of-type {\n",
       "        vertical-align: middle;\n",
       "    }\n",
       "\n",
       "    .dataframe tbody tr th {\n",
       "        vertical-align: top;\n",
       "    }\n",
       "\n",
       "    .dataframe thead th {\n",
       "        text-align: right;\n",
       "    }\n",
       "</style>\n",
       "<table border=\"1\" class=\"dataframe\">\n",
       "  <thead>\n",
       "    <tr style=\"text-align: right;\">\n",
       "      <th></th>\n",
       "      <th>5IAL_3_TT301.50</th>\n",
       "      <th>5IAL_3_QIT301.52</th>\n",
       "      <th>5IAL_3_PIT 301.55</th>\n",
       "      <th>5IAL_3_QIT301.57</th>\n",
       "      <th>5IAL_3_PIT301.60</th>\n",
       "      <th>5IAL_3_FIT301.61MF</th>\n",
       "      <th>5IAL_3_FIT301.61VF</th>\n",
       "      <th>5IAL_3_FIT301.61D</th>\n",
       "      <th>5IAL_3_PIT301.63</th>\n",
       "      <th>5IAL_3_P301.70</th>\n",
       "      <th>...</th>\n",
       "      <th>5IAL_3_LSL301.51</th>\n",
       "      <th>5IAL_3_LSL301.53</th>\n",
       "      <th>5IAL_3_GSC301.44</th>\n",
       "      <th>5IAL_3_GSO301.44</th>\n",
       "      <th>5IAL_3_LSL301.68</th>\n",
       "      <th>5IAL_3_LSLL301.69</th>\n",
       "      <th>5IAL_3_301.OCCUPIED</th>\n",
       "      <th>5IAL_3_LIT301.54</th>\n",
       "      <th>5IAL_3_XPV301.13</th>\n",
       "      <th>5IAL_3_WY301.54</th>\n",
       "    </tr>\n",
       "  </thead>\n",
       "  <tbody>\n",
       "    <tr>\n",
       "      <th>mean</th>\n",
       "      <td>27.576267</td>\n",
       "      <td>8.935846</td>\n",
       "      <td>0.488308</td>\n",
       "      <td>922.025797</td>\n",
       "      <td>0.000107</td>\n",
       "      <td>101.639795</td>\n",
       "      <td>10.460080</td>\n",
       "      <td>0.985846</td>\n",
       "      <td>2.172083</td>\n",
       "      <td>1.446550</td>\n",
       "      <td>...</td>\n",
       "      <td>0.083152</td>\n",
       "      <td>0.081930</td>\n",
       "      <td>0.919190</td>\n",
       "      <td>0.080690</td>\n",
       "      <td>0.013034</td>\n",
       "      <td>0.000974</td>\n",
       "      <td>0.996487</td>\n",
       "      <td>66.865203</td>\n",
       "      <td>1.444874</td>\n",
       "      <td>1355.285081</td>\n",
       "    </tr>\n",
       "    <tr>\n",
       "      <th>std</th>\n",
       "      <td>2.875519</td>\n",
       "      <td>1.042747</td>\n",
       "      <td>0.348969</td>\n",
       "      <td>1468.838253</td>\n",
       "      <td>0.001274</td>\n",
       "      <td>63.850809</td>\n",
       "      <td>455.073884</td>\n",
       "      <td>0.296531</td>\n",
       "      <td>0.119612</td>\n",
       "      <td>0.892467</td>\n",
       "      <td>...</td>\n",
       "      <td>0.276111</td>\n",
       "      <td>0.274257</td>\n",
       "      <td>0.272543</td>\n",
       "      <td>0.272359</td>\n",
       "      <td>0.113419</td>\n",
       "      <td>0.031199</td>\n",
       "      <td>0.059164</td>\n",
       "      <td>31.912068</td>\n",
       "      <td>0.891658</td>\n",
       "      <td>639.574055</td>\n",
       "    </tr>\n",
       "  </tbody>\n",
       "</table>\n",
       "<p>2 rows × 25 columns</p>\n",
       "</div>"
      ],
      "text/plain": [
       "      5IAL_3_TT301.50  5IAL_3_QIT301.52  5IAL_3_PIT 301.55  5IAL_3_QIT301.57  \\\n",
       "mean        27.576267          8.935846           0.488308        922.025797   \n",
       "std          2.875519          1.042747           0.348969       1468.838253   \n",
       "\n",
       "      5IAL_3_PIT301.60  5IAL_3_FIT301.61MF  5IAL_3_FIT301.61VF  \\\n",
       "mean          0.000107          101.639795           10.460080   \n",
       "std           0.001274           63.850809          455.073884   \n",
       "\n",
       "      5IAL_3_FIT301.61D  5IAL_3_PIT301.63  5IAL_3_P301.70  ...  \\\n",
       "mean           0.985846          2.172083        1.446550  ...   \n",
       "std            0.296531          0.119612        0.892467  ...   \n",
       "\n",
       "      5IAL_3_LSL301.51  5IAL_3_LSL301.53  5IAL_3_GSC301.44  5IAL_3_GSO301.44  \\\n",
       "mean          0.083152          0.081930          0.919190          0.080690   \n",
       "std           0.276111          0.274257          0.272543          0.272359   \n",
       "\n",
       "      5IAL_3_LSL301.68  5IAL_3_LSLL301.69  5IAL_3_301.OCCUPIED  \\\n",
       "mean          0.013034           0.000974             0.996487   \n",
       "std           0.113419           0.031199             0.059164   \n",
       "\n",
       "      5IAL_3_LIT301.54  5IAL_3_XPV301.13  5IAL_3_WY301.54  \n",
       "mean         66.865203          1.444874      1355.285081  \n",
       "std          31.912068          0.891658       639.574055  \n",
       "\n",
       "[2 rows x 25 columns]"
      ]
     },
     "execution_count": 11,
     "metadata": {},
     "output_type": "execute_result"
    }
   ],
   "source": [
    "names=Train_Data['5IAL_3_301.BatchName']\n",
    "\n",
    "col_2_drop=['Date','5IAL_3_301.BatchName','5IAL_3_LSH301.56','5IAL_3_XPV301.05','5IAL_3_XPV301.06','5IAL_3_XPV301.08','5IAL_3_XPV301.09','5IAL_3_XPV301.22','5IAL_3_XPV301.36','5IAL_3_XPV301.42','5IAL_3_XPV301.43','5IAL_3_XPV301.46','5IAL_3_LSL301.64','5IAL_3_XPV301.35']\n",
    "df=Train_Data.drop(col_2_drop,axis=1)\n",
    "\n",
    "data_norm=(df-df.mean())/df.std()\n",
    "\n",
    "data_norm=pd.concat([data_norm,names],axis=1)\n",
    "\n",
    "# Will need these values to normalise Test data in the same way as Train data\n",
    "data_norm_values=pd.DataFrame()\n",
    "for col in df:\n",
    "    data_norm_values[col]=[np.mean(df[col]),np.std(df[col])]\n",
    "\n",
    "data_norm_values=data_norm_values.rename(index={0:'mean', 1:'std'})\n",
    "#data_norm.head()\n",
    "#data_norm.isna().sum()\n",
    "data_norm_values.head()"
   ]
  },
  {
   "cell_type": "markdown",
   "id": "3f4f880f",
   "metadata": {
    "papermill": {
     "duration": 0.008964,
     "end_time": "2023-04-19T10:07:45.248643",
     "exception": false,
     "start_time": "2023-04-19T10:07:45.239679",
     "status": "completed"
    },
    "tags": []
   },
   "source": [
    "## Normalizing the test data with train values\n",
    "use the values of mean and std from the train set to standardize the test set the same way."
   ]
  },
  {
   "cell_type": "code",
   "execution_count": 12,
   "id": "6e39d5ac",
   "metadata": {
    "execution": {
     "iopub.execute_input": "2023-04-19T10:07:45.267403Z",
     "iopub.status.busy": "2023-04-19T10:07:45.267091Z",
     "iopub.status.idle": "2023-04-19T10:07:45.322653Z",
     "shell.execute_reply": "2023-04-19T10:07:45.321448Z"
    },
    "papermill": {
     "duration": 0.06757,
     "end_time": "2023-04-19T10:07:45.324968",
     "exception": false,
     "start_time": "2023-04-19T10:07:45.257398",
     "status": "completed"
    },
    "tags": []
   },
   "outputs": [
    {
     "data": {
      "text/html": [
       "<div>\n",
       "<style scoped>\n",
       "    .dataframe tbody tr th:only-of-type {\n",
       "        vertical-align: middle;\n",
       "    }\n",
       "\n",
       "    .dataframe tbody tr th {\n",
       "        vertical-align: top;\n",
       "    }\n",
       "\n",
       "    .dataframe thead th {\n",
       "        text-align: right;\n",
       "    }\n",
       "</style>\n",
       "<table border=\"1\" class=\"dataframe\">\n",
       "  <thead>\n",
       "    <tr style=\"text-align: right;\">\n",
       "      <th></th>\n",
       "      <th>5IAL_3_TT301.50</th>\n",
       "      <th>5IAL_3_QIT301.52</th>\n",
       "      <th>5IAL_3_PIT 301.55</th>\n",
       "      <th>5IAL_3_QIT301.57</th>\n",
       "      <th>5IAL_3_PIT301.60</th>\n",
       "      <th>5IAL_3_FIT301.61MF</th>\n",
       "      <th>5IAL_3_FIT301.61VF</th>\n",
       "      <th>5IAL_3_FIT301.61D</th>\n",
       "      <th>5IAL_3_PIT301.63</th>\n",
       "      <th>5IAL_3_P301.70</th>\n",
       "      <th>...</th>\n",
       "      <th>5IAL_3_LSL301.53</th>\n",
       "      <th>5IAL_3_GSC301.44</th>\n",
       "      <th>5IAL_3_GSO301.44</th>\n",
       "      <th>5IAL_3_LSL301.68</th>\n",
       "      <th>5IAL_3_LSLL301.69</th>\n",
       "      <th>5IAL_3_301.OCCUPIED</th>\n",
       "      <th>5IAL_3_LIT301.54</th>\n",
       "      <th>5IAL_3_XPV301.13</th>\n",
       "      <th>5IAL_3_WY301.54</th>\n",
       "      <th>5IAL_3_301.BatchName</th>\n",
       "    </tr>\n",
       "  </thead>\n",
       "  <tbody>\n",
       "    <tr>\n",
       "      <th>2062</th>\n",
       "      <td>-1.365412</td>\n",
       "      <td>-2.335989</td>\n",
       "      <td>-1.284665</td>\n",
       "      <td>-0.626996</td>\n",
       "      <td>-0.083912</td>\n",
       "      <td>-1.591833</td>\n",
       "      <td>-0.022985</td>\n",
       "      <td>-3.320210</td>\n",
       "      <td>-0.937062</td>\n",
       "      <td>-1.620843</td>\n",
       "      <td>...</td>\n",
       "      <td>3.347479</td>\n",
       "      <td>-3.372643</td>\n",
       "      <td>3.375363</td>\n",
       "      <td>-0.114917</td>\n",
       "      <td>-0.03123</td>\n",
       "      <td>0.059373</td>\n",
       "      <td>-2.069600</td>\n",
       "      <td>-1.620435</td>\n",
       "      <td>-2.119043</td>\n",
       "      <td>CD112210102</td>\n",
       "    </tr>\n",
       "    <tr>\n",
       "      <th>2063</th>\n",
       "      <td>-1.532338</td>\n",
       "      <td>-2.335989</td>\n",
       "      <td>-1.284665</td>\n",
       "      <td>-0.626969</td>\n",
       "      <td>-0.083912</td>\n",
       "      <td>-1.591833</td>\n",
       "      <td>-0.022985</td>\n",
       "      <td>-3.320177</td>\n",
       "      <td>-0.937062</td>\n",
       "      <td>-1.620843</td>\n",
       "      <td>...</td>\n",
       "      <td>3.347479</td>\n",
       "      <td>-3.372643</td>\n",
       "      <td>3.375363</td>\n",
       "      <td>-0.114917</td>\n",
       "      <td>-0.03123</td>\n",
       "      <td>0.059373</td>\n",
       "      <td>-1.934541</td>\n",
       "      <td>-1.620435</td>\n",
       "      <td>-2.087835</td>\n",
       "      <td>CD112210102</td>\n",
       "    </tr>\n",
       "    <tr>\n",
       "      <th>2064</th>\n",
       "      <td>-2.290462</td>\n",
       "      <td>2.257647</td>\n",
       "      <td>1.380328</td>\n",
       "      <td>0.708706</td>\n",
       "      <td>-0.083912</td>\n",
       "      <td>0.318088</td>\n",
       "      <td>-0.006922</td>\n",
       "      <td>0.049756</td>\n",
       "      <td>-0.937062</td>\n",
       "      <td>0.586520</td>\n",
       "      <td>...</td>\n",
       "      <td>-0.298732</td>\n",
       "      <td>0.296503</td>\n",
       "      <td>-0.296264</td>\n",
       "      <td>-0.114917</td>\n",
       "      <td>-0.03123</td>\n",
       "      <td>0.059373</td>\n",
       "      <td>-1.582010</td>\n",
       "      <td>0.622577</td>\n",
       "      <td>-1.851865</td>\n",
       "      <td>CD112210102</td>\n",
       "    </tr>\n",
       "    <tr>\n",
       "      <th>2065</th>\n",
       "      <td>-2.241775</td>\n",
       "      <td>2.574119</td>\n",
       "      <td>0.062160</td>\n",
       "      <td>1.541473</td>\n",
       "      <td>-0.083912</td>\n",
       "      <td>0.783079</td>\n",
       "      <td>-0.003077</td>\n",
       "      <td>0.061560</td>\n",
       "      <td>-0.937062</td>\n",
       "      <td>0.631340</td>\n",
       "      <td>...</td>\n",
       "      <td>-0.298732</td>\n",
       "      <td>0.296503</td>\n",
       "      <td>-0.296264</td>\n",
       "      <td>-0.114917</td>\n",
       "      <td>-0.03123</td>\n",
       "      <td>0.059373</td>\n",
       "      <td>-1.615853</td>\n",
       "      <td>0.622577</td>\n",
       "      <td>-1.825426</td>\n",
       "      <td>CD112210102</td>\n",
       "    </tr>\n",
       "    <tr>\n",
       "      <th>2066</th>\n",
       "      <td>-2.210476</td>\n",
       "      <td>2.564528</td>\n",
       "      <td>0.033504</td>\n",
       "      <td>1.552434</td>\n",
       "      <td>-0.083912</td>\n",
       "      <td>0.736877</td>\n",
       "      <td>-0.003428</td>\n",
       "      <td>0.056164</td>\n",
       "      <td>-0.937062</td>\n",
       "      <td>0.631340</td>\n",
       "      <td>...</td>\n",
       "      <td>-0.298732</td>\n",
       "      <td>0.296503</td>\n",
       "      <td>-0.296264</td>\n",
       "      <td>-0.114917</td>\n",
       "      <td>-0.03123</td>\n",
       "      <td>0.059373</td>\n",
       "      <td>-1.618986</td>\n",
       "      <td>0.633792</td>\n",
       "      <td>-1.825426</td>\n",
       "      <td>CD112210102</td>\n",
       "    </tr>\n",
       "  </tbody>\n",
       "</table>\n",
       "<p>5 rows × 26 columns</p>\n",
       "</div>"
      ],
      "text/plain": [
       "      5IAL_3_TT301.50  5IAL_3_QIT301.52  5IAL_3_PIT 301.55  5IAL_3_QIT301.57  \\\n",
       "2062        -1.365412         -2.335989          -1.284665         -0.626996   \n",
       "2063        -1.532338         -2.335989          -1.284665         -0.626969   \n",
       "2064        -2.290462          2.257647           1.380328          0.708706   \n",
       "2065        -2.241775          2.574119           0.062160          1.541473   \n",
       "2066        -2.210476          2.564528           0.033504          1.552434   \n",
       "\n",
       "      5IAL_3_PIT301.60  5IAL_3_FIT301.61MF  5IAL_3_FIT301.61VF  \\\n",
       "2062         -0.083912           -1.591833           -0.022985   \n",
       "2063         -0.083912           -1.591833           -0.022985   \n",
       "2064         -0.083912            0.318088           -0.006922   \n",
       "2065         -0.083912            0.783079           -0.003077   \n",
       "2066         -0.083912            0.736877           -0.003428   \n",
       "\n",
       "      5IAL_3_FIT301.61D  5IAL_3_PIT301.63  5IAL_3_P301.70  ...  \\\n",
       "2062          -3.320210         -0.937062       -1.620843  ...   \n",
       "2063          -3.320177         -0.937062       -1.620843  ...   \n",
       "2064           0.049756         -0.937062        0.586520  ...   \n",
       "2065           0.061560         -0.937062        0.631340  ...   \n",
       "2066           0.056164         -0.937062        0.631340  ...   \n",
       "\n",
       "      5IAL_3_LSL301.53  5IAL_3_GSC301.44  5IAL_3_GSO301.44  5IAL_3_LSL301.68  \\\n",
       "2062          3.347479         -3.372643          3.375363         -0.114917   \n",
       "2063          3.347479         -3.372643          3.375363         -0.114917   \n",
       "2064         -0.298732          0.296503         -0.296264         -0.114917   \n",
       "2065         -0.298732          0.296503         -0.296264         -0.114917   \n",
       "2066         -0.298732          0.296503         -0.296264         -0.114917   \n",
       "\n",
       "      5IAL_3_LSLL301.69  5IAL_3_301.OCCUPIED  5IAL_3_LIT301.54  \\\n",
       "2062           -0.03123             0.059373         -2.069600   \n",
       "2063           -0.03123             0.059373         -1.934541   \n",
       "2064           -0.03123             0.059373         -1.582010   \n",
       "2065           -0.03123             0.059373         -1.615853   \n",
       "2066           -0.03123             0.059373         -1.618986   \n",
       "\n",
       "      5IAL_3_XPV301.13  5IAL_3_WY301.54  5IAL_3_301.BatchName  \n",
       "2062         -1.620435        -2.119043           CD112210102  \n",
       "2063         -1.620435        -2.087835           CD112210102  \n",
       "2064          0.622577        -1.851865           CD112210102  \n",
       "2065          0.622577        -1.825426           CD112210102  \n",
       "2066          0.633792        -1.825426           CD112210102  \n",
       "\n",
       "[5 rows x 26 columns]"
      ]
     },
     "execution_count": 12,
     "metadata": {},
     "output_type": "execute_result"
    }
   ],
   "source": [
    "names=Test_Data['5IAL_3_301.BatchName']\n",
    "col_2_drop=['Date','5IAL_3_301.BatchName','5IAL_3_LSH301.56','5IAL_3_XPV301.05','5IAL_3_XPV301.06','5IAL_3_XPV301.08','5IAL_3_XPV301.09','5IAL_3_XPV301.22','5IAL_3_XPV301.36','5IAL_3_XPV301.42','5IAL_3_XPV301.43','5IAL_3_XPV301.46','5IAL_3_LSL301.64','5IAL_3_XPV301.35']\n",
    "df=Test_Data.drop(col_2_drop,axis=1)\n",
    "\n",
    "Test_Data_Norm=pd.DataFrame()\n",
    "\n",
    "for col in df:\n",
    "    Test_Data_Norm[col]=(df[col]-data_norm_values[col][0])/data_norm_values[col][1]\n",
    "    \n",
    "Test_Data_Norm=pd.concat([Test_Data_Norm,names],axis=1)\n",
    "Test_Data_Norm.head()    "
   ]
  },
  {
   "cell_type": "code",
   "execution_count": 13,
   "id": "9716ef00",
   "metadata": {
    "execution": {
     "iopub.execute_input": "2023-04-19T10:07:45.350808Z",
     "iopub.status.busy": "2023-04-19T10:07:45.349070Z",
     "iopub.status.idle": "2023-04-19T10:07:45.680313Z",
     "shell.execute_reply": "2023-04-19T10:07:45.678935Z"
    },
    "papermill": {
     "duration": 0.345473,
     "end_time": "2023-04-19T10:07:45.682844",
     "exception": false,
     "start_time": "2023-04-19T10:07:45.337371",
     "status": "completed"
    },
    "tags": []
   },
   "outputs": [
    {
     "name": "stdout",
     "output_type": "stream",
     "text": [
      "                 0  contains_search_string\n",
      "0     YP5812210101                   False\n",
      "1     YP5812210102                   False\n",
      "2      CD112210101                   False\n",
      "3      CD112210102                   False\n",
      "4      CD112210103                   False\n",
      "...            ...                     ...\n",
      "1114   CB212306201                   False\n",
      "1115   KB212306201                   False\n",
      "1116   KB212306202                   False\n",
      "1117   KB212306501                   False\n",
      "1118   KC112306501                   False\n",
      "\n",
      "[1119 rows x 2 columns]\n",
      "30\n",
      "2\n"
     ]
    }
   ],
   "source": [
    "unieque_names=pd.DataFrame(Viable_Batches)\n",
    "\n",
    "\n",
    "search_strings = ['MD112304504','MD112227901','CP7012217502'] # ['MD112304504','MD112227901', 'CP7012217502'] -MD112227901\n",
    "\n",
    "# # Create a new column with boolean values\n",
    "unieque_names['contains_search_string'] = False\n",
    "\n",
    "print(unieque_names)\n",
    "\n",
    "\n",
    "for i in range(len(unieque_names)):\n",
    "    for j in range(i+1, min(i+11, len(unieque_names))):\n",
    "        if any([search_str == unieque_names.loc[j, 0] for search_str in search_strings]):\n",
    "            unieque_names.loc[i, 'contains_search_string'] = True\n",
    "            break\n",
    "            \n",
    "print(np.sum(unieque_names['contains_search_string']))\n",
    "\n",
    "print(len(np.unique(unieque_names['contains_search_string'])))"
   ]
  },
  {
   "cell_type": "code",
   "execution_count": 14,
   "id": "50fa88be",
   "metadata": {
    "execution": {
     "iopub.execute_input": "2023-04-19T10:07:45.703942Z",
     "iopub.status.busy": "2023-04-19T10:07:45.703640Z",
     "iopub.status.idle": "2023-04-19T10:07:45.746365Z",
     "shell.execute_reply": "2023-04-19T10:07:45.745225Z"
    },
    "papermill": {
     "duration": 0.056075,
     "end_time": "2023-04-19T10:07:45.748881",
     "exception": false,
     "start_time": "2023-04-19T10:07:45.692806",
     "status": "completed"
    },
    "tags": []
   },
   "outputs": [
    {
     "data": {
      "text/plain": [
       "5IAL_3_301.BatchName\n",
       "CB212211501     179\n",
       "CB212211502     124\n",
       "CB212215401     111\n",
       "CB212215402     113\n",
       "CB212220801     179\n",
       "               ... \n",
       "YP7012304802    142\n",
       "kC112219301     136\n",
       "kP5512213801    170\n",
       "kp5502226203    154\n",
       "kp7012226605    136\n",
       "Length: 1119, dtype: int64"
      ]
     },
     "execution_count": 14,
     "metadata": {},
     "output_type": "execute_result"
    }
   ],
   "source": [
    "All_Data_Norm=pd.concat([data_norm,Test_Data_Norm])\n",
    "\n",
    "Train_Grouped=data_norm.groupby([\"5IAL_3_301.BatchName\"],as_index=True)\n",
    "Test_Grouped=Test_Data_Norm.groupby([\"5IAL_3_301.BatchName\"],as_index=True)\n",
    "All_Grouped=All_Data_Norm.groupby([\"5IAL_3_301.BatchName\"],as_index=True)\n",
    "                                 \n",
    "Train_Grouped.size()\n",
    "Test_Grouped.size()\n",
    "All_Grouped.size()"
   ]
  },
  {
   "cell_type": "code",
   "execution_count": 15,
   "id": "384e7008",
   "metadata": {
    "execution": {
     "iopub.execute_input": "2023-04-19T10:07:45.769440Z",
     "iopub.status.busy": "2023-04-19T10:07:45.769123Z",
     "iopub.status.idle": "2023-04-19T10:07:45.834283Z",
     "shell.execute_reply": "2023-04-19T10:07:45.833222Z"
    },
    "papermill": {
     "duration": 0.078034,
     "end_time": "2023-04-19T10:07:45.836565",
     "exception": false,
     "start_time": "2023-04-19T10:07:45.758531",
     "status": "completed"
    },
    "tags": []
   },
   "outputs": [
    {
     "data": {
      "text/html": [
       "<div>\n",
       "<style scoped>\n",
       "    .dataframe tbody tr th:only-of-type {\n",
       "        vertical-align: middle;\n",
       "    }\n",
       "\n",
       "    .dataframe tbody tr th {\n",
       "        vertical-align: top;\n",
       "    }\n",
       "\n",
       "    .dataframe thead th {\n",
       "        text-align: right;\n",
       "    }\n",
       "</style>\n",
       "<table border=\"1\" class=\"dataframe\">\n",
       "  <thead>\n",
       "    <tr style=\"text-align: right;\">\n",
       "      <th></th>\n",
       "      <th>5IAL_3_TT301.50</th>\n",
       "      <th>5IAL_3_QIT301.52</th>\n",
       "      <th>5IAL_3_PIT 301.55</th>\n",
       "      <th>5IAL_3_QIT301.57</th>\n",
       "      <th>5IAL_3_PIT301.60</th>\n",
       "      <th>5IAL_3_FIT301.61MF</th>\n",
       "      <th>5IAL_3_FIT301.61VF</th>\n",
       "      <th>5IAL_3_FIT301.61D</th>\n",
       "      <th>5IAL_3_PIT301.63</th>\n",
       "      <th>5IAL_3_P301.70</th>\n",
       "      <th>...</th>\n",
       "      <th>5IAL_3_LSL301.53</th>\n",
       "      <th>5IAL_3_GSC301.44</th>\n",
       "      <th>5IAL_3_GSO301.44</th>\n",
       "      <th>5IAL_3_LSL301.68</th>\n",
       "      <th>5IAL_3_LSLL301.69</th>\n",
       "      <th>5IAL_3_301.OCCUPIED</th>\n",
       "      <th>5IAL_3_LIT301.54</th>\n",
       "      <th>5IAL_3_XPV301.13</th>\n",
       "      <th>5IAL_3_WY301.54</th>\n",
       "      <th>5IAL_3_301.BatchName</th>\n",
       "    </tr>\n",
       "  </thead>\n",
       "  <tbody>\n",
       "    <tr>\n",
       "      <th>1169</th>\n",
       "      <td>-2.026153</td>\n",
       "      <td>1.087655</td>\n",
       "      <td>-1.456594</td>\n",
       "      <td>-0.627722</td>\n",
       "      <td>-0.083912</td>\n",
       "      <td>-1.591826</td>\n",
       "      <td>-0.022985</td>\n",
       "      <td>-3.320264</td>\n",
       "      <td>-0.853454</td>\n",
       "      <td>-1.620836</td>\n",
       "      <td>...</td>\n",
       "      <td>3.347464</td>\n",
       "      <td>-3.372629</td>\n",
       "      <td>3.375348</td>\n",
       "      <td>-0.114917</td>\n",
       "      <td>-0.031229</td>\n",
       "      <td>-16.842696</td>\n",
       "      <td>-2.027287</td>\n",
       "      <td>-1.620428</td>\n",
       "      <td>-2.119034</td>\n",
       "      <td>YP5812210101</td>\n",
       "    </tr>\n",
       "    <tr>\n",
       "      <th>1170</th>\n",
       "      <td>-0.593375</td>\n",
       "      <td>1.087655</td>\n",
       "      <td>-1.456594</td>\n",
       "      <td>-0.627722</td>\n",
       "      <td>7.764157</td>\n",
       "      <td>-1.591826</td>\n",
       "      <td>-0.022985</td>\n",
       "      <td>-3.320365</td>\n",
       "      <td>-0.853454</td>\n",
       "      <td>-1.620836</td>\n",
       "      <td>...</td>\n",
       "      <td>3.347464</td>\n",
       "      <td>-3.372629</td>\n",
       "      <td>3.375348</td>\n",
       "      <td>-0.114917</td>\n",
       "      <td>-0.031229</td>\n",
       "      <td>0.059372</td>\n",
       "      <td>-1.888155</td>\n",
       "      <td>-1.620428</td>\n",
       "      <td>-1.999236</td>\n",
       "      <td>YP5812210101</td>\n",
       "    </tr>\n",
       "    <tr>\n",
       "      <th>1171</th>\n",
       "      <td>-0.614240</td>\n",
       "      <td>0.924625</td>\n",
       "      <td>1.695535</td>\n",
       "      <td>-0.536902</td>\n",
       "      <td>7.764157</td>\n",
       "      <td>0.212529</td>\n",
       "      <td>-0.008197</td>\n",
       "      <td>0.139460</td>\n",
       "      <td>-0.853454</td>\n",
       "      <td>0.653747</td>\n",
       "      <td>...</td>\n",
       "      <td>-0.298731</td>\n",
       "      <td>0.296502</td>\n",
       "      <td>-0.296263</td>\n",
       "      <td>-0.114917</td>\n",
       "      <td>-0.031229</td>\n",
       "      <td>0.059372</td>\n",
       "      <td>-1.395867</td>\n",
       "      <td>0.622574</td>\n",
       "      <td>-1.724539</td>\n",
       "      <td>YP5812210101</td>\n",
       "    </tr>\n",
       "    <tr>\n",
       "      <th>1172</th>\n",
       "      <td>-0.475136</td>\n",
       "      <td>0.943805</td>\n",
       "      <td>1.724191</td>\n",
       "      <td>-0.513476</td>\n",
       "      <td>7.764157</td>\n",
       "      <td>0.237901</td>\n",
       "      <td>-0.007955</td>\n",
       "      <td>0.133727</td>\n",
       "      <td>-0.853454</td>\n",
       "      <td>0.642542</td>\n",
       "      <td>...</td>\n",
       "      <td>-0.298731</td>\n",
       "      <td>0.296502</td>\n",
       "      <td>-0.296263</td>\n",
       "      <td>-0.114917</td>\n",
       "      <td>-0.031229</td>\n",
       "      <td>0.059372</td>\n",
       "      <td>-1.089088</td>\n",
       "      <td>0.555284</td>\n",
       "      <td>-1.437787</td>\n",
       "      <td>YP5812210101</td>\n",
       "    </tr>\n",
       "    <tr>\n",
       "      <th>1173</th>\n",
       "      <td>-0.256046</td>\n",
       "      <td>1.106836</td>\n",
       "      <td>0.406028</td>\n",
       "      <td>-0.500139</td>\n",
       "      <td>-0.083912</td>\n",
       "      <td>0.744235</td>\n",
       "      <td>-0.003978</td>\n",
       "      <td>0.163403</td>\n",
       "      <td>-0.853454</td>\n",
       "      <td>0.620132</td>\n",
       "      <td>...</td>\n",
       "      <td>-0.298731</td>\n",
       "      <td>0.296502</td>\n",
       "      <td>-0.296263</td>\n",
       "      <td>-0.114917</td>\n",
       "      <td>-0.031229</td>\n",
       "      <td>0.059372</td>\n",
       "      <td>-1.072793</td>\n",
       "      <td>0.611359</td>\n",
       "      <td>-1.319505</td>\n",
       "      <td>YP5812210101</td>\n",
       "    </tr>\n",
       "    <tr>\n",
       "      <th>...</th>\n",
       "      <td>...</td>\n",
       "      <td>...</td>\n",
       "      <td>...</td>\n",
       "      <td>...</td>\n",
       "      <td>...</td>\n",
       "      <td>...</td>\n",
       "      <td>...</td>\n",
       "      <td>...</td>\n",
       "      <td>...</td>\n",
       "      <td>...</td>\n",
       "      <td>...</td>\n",
       "      <td>...</td>\n",
       "      <td>...</td>\n",
       "      <td>...</td>\n",
       "      <td>...</td>\n",
       "      <td>...</td>\n",
       "      <td>...</td>\n",
       "      <td>...</td>\n",
       "      <td>...</td>\n",
       "      <td>...</td>\n",
       "      <td>...</td>\n",
       "    </tr>\n",
       "    <tr>\n",
       "      <th>475172</th>\n",
       "      <td>-2.530408</td>\n",
       "      <td>-2.029099</td>\n",
       "      <td>-1.370627</td>\n",
       "      <td>-0.627722</td>\n",
       "      <td>-0.083912</td>\n",
       "      <td>-1.591826</td>\n",
       "      <td>-0.022985</td>\n",
       "      <td>-3.318206</td>\n",
       "      <td>1.487446</td>\n",
       "      <td>-1.620836</td>\n",
       "      <td>...</td>\n",
       "      <td>3.347464</td>\n",
       "      <td>-3.372629</td>\n",
       "      <td>3.375348</td>\n",
       "      <td>-0.114917</td>\n",
       "      <td>-0.031229</td>\n",
       "      <td>0.059372</td>\n",
       "      <td>-1.989684</td>\n",
       "      <td>-1.620428</td>\n",
       "      <td>-2.118956</td>\n",
       "      <td>KC112306501</td>\n",
       "    </tr>\n",
       "    <tr>\n",
       "      <th>475173</th>\n",
       "      <td>-2.697333</td>\n",
       "      <td>-2.019509</td>\n",
       "      <td>-1.370627</td>\n",
       "      <td>-0.627722</td>\n",
       "      <td>-0.083912</td>\n",
       "      <td>-1.591826</td>\n",
       "      <td>-0.022985</td>\n",
       "      <td>-3.318173</td>\n",
       "      <td>1.487446</td>\n",
       "      <td>-1.620836</td>\n",
       "      <td>...</td>\n",
       "      <td>3.347464</td>\n",
       "      <td>-3.372629</td>\n",
       "      <td>3.375348</td>\n",
       "      <td>-0.114917</td>\n",
       "      <td>-0.031229</td>\n",
       "      <td>0.059372</td>\n",
       "      <td>-1.920745</td>\n",
       "      <td>-1.620428</td>\n",
       "      <td>-2.065061</td>\n",
       "      <td>KC112306501</td>\n",
       "    </tr>\n",
       "    <tr>\n",
       "      <th>475174</th>\n",
       "      <td>-3.163334</td>\n",
       "      <td>0.550615</td>\n",
       "      <td>1.237044</td>\n",
       "      <td>-0.603982</td>\n",
       "      <td>-0.083912</td>\n",
       "      <td>0.093032</td>\n",
       "      <td>-0.008724</td>\n",
       "      <td>0.030703</td>\n",
       "      <td>1.487446</td>\n",
       "      <td>0.608928</td>\n",
       "      <td>...</td>\n",
       "      <td>-0.298731</td>\n",
       "      <td>0.296502</td>\n",
       "      <td>-0.296263</td>\n",
       "      <td>-0.114917</td>\n",
       "      <td>-0.031229</td>\n",
       "      <td>0.059372</td>\n",
       "      <td>-1.555681</td>\n",
       "      <td>0.600144</td>\n",
       "      <td>-1.831657</td>\n",
       "      <td>KC112306501</td>\n",
       "    </tr>\n",
       "    <tr>\n",
       "      <th>475175</th>\n",
       "      <td>-3.163334</td>\n",
       "      <td>0.253324</td>\n",
       "      <td>1.294355</td>\n",
       "      <td>-0.608686</td>\n",
       "      <td>-0.083912</td>\n",
       "      <td>0.138764</td>\n",
       "      <td>-0.008416</td>\n",
       "      <td>0.046789</td>\n",
       "      <td>1.487446</td>\n",
       "      <td>0.642542</td>\n",
       "      <td>...</td>\n",
       "      <td>-0.298731</td>\n",
       "      <td>0.296502</td>\n",
       "      <td>-0.296263</td>\n",
       "      <td>-0.114917</td>\n",
       "      <td>-0.031229</td>\n",
       "      <td>0.059372</td>\n",
       "      <td>-1.253602</td>\n",
       "      <td>0.611359</td>\n",
       "      <td>-1.597220</td>\n",
       "      <td>KC112306501</td>\n",
       "    </tr>\n",
       "    <tr>\n",
       "      <th>475176</th>\n",
       "      <td>-3.152901</td>\n",
       "      <td>0.349224</td>\n",
       "      <td>0.062159</td>\n",
       "      <td>-0.610838</td>\n",
       "      <td>-0.083912</td>\n",
       "      <td>0.630220</td>\n",
       "      <td>-0.004263</td>\n",
       "      <td>0.046519</td>\n",
       "      <td>1.487446</td>\n",
       "      <td>0.631337</td>\n",
       "      <td>...</td>\n",
       "      <td>-0.298731</td>\n",
       "      <td>0.296502</td>\n",
       "      <td>-0.296263</td>\n",
       "      <td>-0.114917</td>\n",
       "      <td>-0.031229</td>\n",
       "      <td>0.059372</td>\n",
       "      <td>-1.281178</td>\n",
       "      <td>0.611359</td>\n",
       "      <td>-1.535820</td>\n",
       "      <td>KC112306501</td>\n",
       "    </tr>\n",
       "  </tbody>\n",
       "</table>\n",
       "<p>4475 rows × 26 columns</p>\n",
       "</div>"
      ],
      "text/plain": [
       "        5IAL_3_TT301.50  5IAL_3_QIT301.52  5IAL_3_PIT 301.55  \\\n",
       "1169          -2.026153          1.087655          -1.456594   \n",
       "1170          -0.593375          1.087655          -1.456594   \n",
       "1171          -0.614240          0.924625           1.695535   \n",
       "1172          -0.475136          0.943805           1.724191   \n",
       "1173          -0.256046          1.106836           0.406028   \n",
       "...                 ...               ...                ...   \n",
       "475172        -2.530408         -2.029099          -1.370627   \n",
       "475173        -2.697333         -2.019509          -1.370627   \n",
       "475174        -3.163334          0.550615           1.237044   \n",
       "475175        -3.163334          0.253324           1.294355   \n",
       "475176        -3.152901          0.349224           0.062159   \n",
       "\n",
       "        5IAL_3_QIT301.57  5IAL_3_PIT301.60  5IAL_3_FIT301.61MF  \\\n",
       "1169           -0.627722         -0.083912           -1.591826   \n",
       "1170           -0.627722          7.764157           -1.591826   \n",
       "1171           -0.536902          7.764157            0.212529   \n",
       "1172           -0.513476          7.764157            0.237901   \n",
       "1173           -0.500139         -0.083912            0.744235   \n",
       "...                  ...               ...                 ...   \n",
       "475172         -0.627722         -0.083912           -1.591826   \n",
       "475173         -0.627722         -0.083912           -1.591826   \n",
       "475174         -0.603982         -0.083912            0.093032   \n",
       "475175         -0.608686         -0.083912            0.138764   \n",
       "475176         -0.610838         -0.083912            0.630220   \n",
       "\n",
       "        5IAL_3_FIT301.61VF  5IAL_3_FIT301.61D  5IAL_3_PIT301.63  \\\n",
       "1169             -0.022985          -3.320264         -0.853454   \n",
       "1170             -0.022985          -3.320365         -0.853454   \n",
       "1171             -0.008197           0.139460         -0.853454   \n",
       "1172             -0.007955           0.133727         -0.853454   \n",
       "1173             -0.003978           0.163403         -0.853454   \n",
       "...                    ...                ...               ...   \n",
       "475172           -0.022985          -3.318206          1.487446   \n",
       "475173           -0.022985          -3.318173          1.487446   \n",
       "475174           -0.008724           0.030703          1.487446   \n",
       "475175           -0.008416           0.046789          1.487446   \n",
       "475176           -0.004263           0.046519          1.487446   \n",
       "\n",
       "        5IAL_3_P301.70  ...  5IAL_3_LSL301.53  5IAL_3_GSC301.44  \\\n",
       "1169         -1.620836  ...          3.347464         -3.372629   \n",
       "1170         -1.620836  ...          3.347464         -3.372629   \n",
       "1171          0.653747  ...         -0.298731          0.296502   \n",
       "1172          0.642542  ...         -0.298731          0.296502   \n",
       "1173          0.620132  ...         -0.298731          0.296502   \n",
       "...                ...  ...               ...               ...   \n",
       "475172       -1.620836  ...          3.347464         -3.372629   \n",
       "475173       -1.620836  ...          3.347464         -3.372629   \n",
       "475174        0.608928  ...         -0.298731          0.296502   \n",
       "475175        0.642542  ...         -0.298731          0.296502   \n",
       "475176        0.631337  ...         -0.298731          0.296502   \n",
       "\n",
       "        5IAL_3_GSO301.44  5IAL_3_LSL301.68  5IAL_3_LSLL301.69  \\\n",
       "1169            3.375348         -0.114917          -0.031229   \n",
       "1170            3.375348         -0.114917          -0.031229   \n",
       "1171           -0.296263         -0.114917          -0.031229   \n",
       "1172           -0.296263         -0.114917          -0.031229   \n",
       "1173           -0.296263         -0.114917          -0.031229   \n",
       "...                  ...               ...                ...   \n",
       "475172          3.375348         -0.114917          -0.031229   \n",
       "475173          3.375348         -0.114917          -0.031229   \n",
       "475174         -0.296263         -0.114917          -0.031229   \n",
       "475175         -0.296263         -0.114917          -0.031229   \n",
       "475176         -0.296263         -0.114917          -0.031229   \n",
       "\n",
       "        5IAL_3_301.OCCUPIED  5IAL_3_LIT301.54  5IAL_3_XPV301.13  \\\n",
       "1169             -16.842696         -2.027287         -1.620428   \n",
       "1170               0.059372         -1.888155         -1.620428   \n",
       "1171               0.059372         -1.395867          0.622574   \n",
       "1172               0.059372         -1.089088          0.555284   \n",
       "1173               0.059372         -1.072793          0.611359   \n",
       "...                     ...               ...               ...   \n",
       "475172             0.059372         -1.989684         -1.620428   \n",
       "475173             0.059372         -1.920745         -1.620428   \n",
       "475174             0.059372         -1.555681          0.600144   \n",
       "475175             0.059372         -1.253602          0.611359   \n",
       "475176             0.059372         -1.281178          0.611359   \n",
       "\n",
       "        5IAL_3_WY301.54  5IAL_3_301.BatchName  \n",
       "1169          -2.119034          YP5812210101  \n",
       "1170          -1.999236          YP5812210101  \n",
       "1171          -1.724539          YP5812210101  \n",
       "1172          -1.437787          YP5812210101  \n",
       "1173          -1.319505          YP5812210101  \n",
       "...                 ...                   ...  \n",
       "475172        -2.118956           KC112306501  \n",
       "475173        -2.065061           KC112306501  \n",
       "475174        -1.831657           KC112306501  \n",
       "475175        -1.597220           KC112306501  \n",
       "475176        -1.535820           KC112306501  \n",
       "\n",
       "[4475 rows x 26 columns]"
      ]
     },
     "execution_count": 15,
     "metadata": {},
     "output_type": "execute_result"
    }
   ],
   "source": [
    "len_Train=len(Train_Grouped)\n",
    "len_Test=len(Test_Grouped)\n",
    "len_All=len(All_Grouped)\n",
    "\n",
    "Train_Grouped.head()"
   ]
  },
  {
   "cell_type": "code",
   "execution_count": null,
   "id": "5ebde0e5",
   "metadata": {
    "papermill": {
     "duration": 0.010709,
     "end_time": "2023-04-19T10:07:45.857620",
     "exception": false,
     "start_time": "2023-04-19T10:07:45.846911",
     "status": "completed"
    },
    "tags": []
   },
   "outputs": [],
   "source": []
  },
  {
   "cell_type": "markdown",
   "id": "2fad851d",
   "metadata": {
    "papermill": {
     "duration": 0.009577,
     "end_time": "2023-04-19T10:07:45.876848",
     "exception": false,
     "start_time": "2023-04-19T10:07:45.867271",
     "status": "completed"
    },
    "tags": []
   },
   "source": [
    "# Model defining & Training\n",
    "## Define Keras Model\n",
    "This model can be described as a deep convolutional Auto-encoder."
   ]
  },
  {
   "cell_type": "code",
   "execution_count": 16,
   "id": "b42071b8",
   "metadata": {
    "execution": {
     "iopub.execute_input": "2023-04-19T10:07:45.897977Z",
     "iopub.status.busy": "2023-04-19T10:07:45.897623Z",
     "iopub.status.idle": "2023-04-19T10:07:51.882863Z",
     "shell.execute_reply": "2023-04-19T10:07:51.881591Z"
    },
    "papermill": {
     "duration": 5.999399,
     "end_time": "2023-04-19T10:07:51.886081",
     "exception": false,
     "start_time": "2023-04-19T10:07:45.886682",
     "status": "completed"
    },
    "tags": []
   },
   "outputs": [
    {
     "data": {
      "image/png": "[encoded data removed]",
      "text/plain": [
       "<IPython.core.display.Image object>"
      ]
     },
     "execution_count": 16,
     "metadata": {},
     "output_type": "execute_result"
    }
   ],
   "source": [
    "import tensorflow.keras as keras\n",
    "columns=25\n",
    "batches=len(Train_Batches)\n",
    "num_classes=len(np.unique(unieque_names['contains_search_string']))\n",
    "\n",
    "def make_model(input_shape):\n",
    "    input_layer = keras.layers.Input([None,columns])\n",
    "\n",
    "    conv1 = keras.layers.Conv1D(filters=64, kernel_size=3, padding=\"same\")(input_layer)\n",
    "    conv1 = keras.layers.BatchNormalization()(conv1)\n",
    "    conv1 = keras.layers.ReLU()(conv1)\n",
    "\n",
    "    conv2 = keras.layers.Conv1D(filters=64, kernel_size=3, padding=\"same\")(conv1)\n",
    "    conv2 = keras.layers.BatchNormalization()(conv2)\n",
    "    conv2 = keras.layers.ReLU()(conv2)\n",
    "\n",
    "    conv3 = keras.layers.Conv1D(filters=64, kernel_size=3, padding=\"same\")(conv2)\n",
    "    conv3 = keras.layers.BatchNormalization()(conv3)\n",
    "    conv3 = keras.layers.ReLU()(conv3)\n",
    "\n",
    "    gap = keras.layers.GlobalAveragePooling1D()(conv3)\n",
    "\n",
    "    output_layer = keras.layers.Dense(num_classes, activation=\"softmax\")(gap)\n",
    "\n",
    "    return keras.models.Model(inputs=input_layer, outputs=output_layer)\n",
    "\n",
    "\n",
    "model = make_model(input_shape=[25,1])\n",
    "keras.utils.plot_model(model, show_shapes=True)"
   ]
  },
  {
   "cell_type": "code",
   "execution_count": 17,
   "id": "8e2f2f08",
   "metadata": {
    "execution": {
     "iopub.execute_input": "2023-04-19T10:07:51.910985Z",
     "iopub.status.busy": "2023-04-19T10:07:51.910292Z",
     "iopub.status.idle": "2023-04-19T10:07:51.932855Z",
     "shell.execute_reply": "2023-04-19T10:07:51.931873Z"
    },
    "papermill": {
     "duration": 0.037227,
     "end_time": "2023-04-19T10:07:51.935082",
     "exception": false,
     "start_time": "2023-04-19T10:07:51.897855",
     "status": "completed"
    },
    "tags": []
   },
   "outputs": [],
   "source": [
    "epochs = 500\n",
    "batch_size = 32\n",
    "\n",
    "callbacks = [\n",
    "    keras.callbacks.ModelCheckpoint(\n",
    "        \"best_model.h5\", save_best_only=True, monitor=\"val_loss\"\n",
    "    ),\n",
    "    keras.callbacks.ReduceLROnPlateau(\n",
    "        monitor=\"val_loss\", factor=0.5, patience=20, min_lr=0.0001\n",
    "    ),\n",
    "    keras.callbacks.EarlyStopping(monitor=\"val_loss\", patience=50, verbose=1),\n",
    "]\n",
    "\n",
    "model.compile(\n",
    "    optimizer=\"adam\",\n",
    "    loss=\"sparse_categorical_crossentropy\",\n",
    "    metrics=[\"sparse_categorical_accuracy\"],\n",
    ")"
   ]
  },
  {
   "cell_type": "markdown",
   "id": "a3838806",
   "metadata": {
    "papermill": {
     "duration": 0.0109,
     "end_time": "2023-04-19T10:07:51.957268",
     "exception": false,
     "start_time": "2023-04-19T10:07:51.946368",
     "status": "completed"
    },
    "tags": []
   },
   "source": [
    "1D Keras model for feature extraction from timeseries data. Might work well on the clasification algorithm which currently is not doing too well."
   ]
  },
  {
   "cell_type": "markdown",
   "id": "753ac8bb",
   "metadata": {
    "papermill": {
     "duration": 0.010892,
     "end_time": "2023-04-19T10:07:51.979317",
     "exception": false,
     "start_time": "2023-04-19T10:07:51.968425",
     "status": "completed"
    },
    "tags": []
   },
   "source": [
    "## Training the Neural network\n",
    "Train the autoencoder on 1 batch of data at a time.\n",
    "This is necceray for 2 reasons.\n",
    "1. The data has variable lenghts, this cant be stored in a numpy array.\n",
    "2. If you try to keep all values in memory at once, the RAM overflows and the kernel dies. This way that never happens"
   ]
  },
  {
   "cell_type": "code",
   "execution_count": 18,
   "id": "d1c34a06",
   "metadata": {
    "execution": {
     "iopub.execute_input": "2023-04-19T10:07:52.005563Z",
     "iopub.status.busy": "2023-04-19T10:07:52.004543Z",
     "iopub.status.idle": "2023-04-19T10:07:52.013343Z",
     "shell.execute_reply": "2023-04-19T10:07:52.011782Z"
    },
    "papermill": {
     "duration": 0.024505,
     "end_time": "2023-04-19T10:07:52.015409",
     "exception": false,
     "start_time": "2023-04-19T10:07:51.990904",
     "status": "completed"
    },
    "tags": []
   },
   "outputs": [
    {
     "name": "stdout",
     "output_type": "stream",
     "text": [
      "0       False\n",
      "1       False\n",
      "2       False\n",
      "3       False\n",
      "4       False\n",
      "        ...  \n",
      "1114    False\n",
      "1115    False\n",
      "1116    False\n",
      "1117    False\n",
      "1118    False\n",
      "Name: contains_search_string, Length: 1119, dtype: bool\n"
     ]
    }
   ],
   "source": [
    "y=unieque_names['contains_search_string']\n",
    "print(y)"
   ]
  },
  {
   "cell_type": "code",
   "execution_count": 19,
   "id": "0aa8ae2a",
   "metadata": {
    "execution": {
     "iopub.execute_input": "2023-04-19T10:07:52.039991Z",
     "iopub.status.busy": "2023-04-19T10:07:52.038961Z",
     "iopub.status.idle": "2023-04-19T10:07:52.049722Z",
     "shell.execute_reply": "2023-04-19T10:07:52.048692Z"
    },
    "papermill": {
     "duration": 0.025342,
     "end_time": "2023-04-19T10:07:52.051960",
     "exception": false,
     "start_time": "2023-04-19T10:07:52.026618",
     "status": "completed"
    },
    "tags": []
   },
   "outputs": [
    {
     "name": "stdout",
     "output_type": "stream",
     "text": [
      "0       0\n",
      "1       0\n",
      "2       0\n",
      "4       0\n",
      "5       0\n",
      "       ..\n",
      "1111    0\n",
      "1114    0\n",
      "1115    0\n",
      "1116    0\n",
      "1118    0\n",
      "Name: contains_search_string, Length: 895, dtype: int64\n"
     ]
    }
   ],
   "source": [
    "y_train=unieque_names[unieque_names[0].isin(Train_Batches)]['contains_search_string'].astype(int)\n",
    "y_test=unieque_names[unieque_names[0].isin(Test_Batches)]['contains_search_string'].astype(int)\n",
    "\n",
    "print(y_train)"
   ]
  },
  {
   "cell_type": "code",
   "execution_count": 20,
   "id": "0cc7d776",
   "metadata": {
    "execution": {
     "iopub.execute_input": "2023-04-19T10:07:52.075921Z",
     "iopub.status.busy": "2023-04-19T10:07:52.075619Z",
     "iopub.status.idle": "2023-04-19T10:07:53.129991Z",
     "shell.execute_reply": "2023-04-19T10:07:53.128752Z"
    },
    "papermill": {
     "duration": 1.070107,
     "end_time": "2023-04-19T10:07:53.133365",
     "exception": false,
     "start_time": "2023-04-19T10:07:52.063258",
     "status": "completed"
    },
    "tags": []
   },
   "outputs": [
    {
     "name": "stdout",
     "output_type": "stream",
     "text": [
      "10 out of 895 batches used for training\n",
      "20 out of 895 batches used for training\n",
      "30 out of 895 batches used for training\n",
      "40 out of 895 batches used for training\n",
      "50 out of 895 batches used for training\n",
      "60 out of 895 batches used for training\n",
      "70 out of 895 batches used for training\n",
      "80 out of 895 batches used for training\n",
      "90 out of 895 batches used for training\n",
      "100 out of 895 batches used for training\n",
      "110 out of 895 batches used for training\n",
      "120 out of 895 batches used for training\n",
      "130 out of 895 batches used for training\n",
      "140 out of 895 batches used for training\n",
      "150 out of 895 batches used for training\n",
      "160 out of 895 batches used for training\n",
      "170 out of 895 batches used for training\n",
      "180 out of 895 batches used for training\n",
      "190 out of 895 batches used for training\n",
      "200 out of 895 batches used for training\n",
      "210 out of 895 batches used for training\n",
      "220 out of 895 batches used for training\n",
      "230 out of 895 batches used for training\n",
      "240 out of 895 batches used for training\n",
      "250 out of 895 batches used for training\n",
      "260 out of 895 batches used for training\n",
      "270 out of 895 batches used for training\n",
      "280 out of 895 batches used for training\n",
      "290 out of 895 batches used for training\n",
      "300 out of 895 batches used for training\n",
      "310 out of 895 batches used for training\n",
      "320 out of 895 batches used for training\n",
      "330 out of 895 batches used for training\n",
      "340 out of 895 batches used for training\n",
      "350 out of 895 batches used for training\n",
      "360 out of 895 batches used for training\n",
      "370 out of 895 batches used for training\n",
      "380 out of 895 batches used for training\n",
      "390 out of 895 batches used for training\n",
      "400 out of 895 batches used for training\n",
      "410 out of 895 batches used for training\n",
      "420 out of 895 batches used for training\n",
      "430 out of 895 batches used for training\n",
      "440 out of 895 batches used for training\n",
      "450 out of 895 batches used for training\n",
      "460 out of 895 batches used for training\n",
      "470 out of 895 batches used for training\n",
      "480 out of 895 batches used for training\n",
      "490 out of 895 batches used for training\n",
      "500 out of 895 batches used for training\n",
      "510 out of 895 batches used for training\n",
      "520 out of 895 batches used for training\n",
      "530 out of 895 batches used for training\n",
      "540 out of 895 batches used for training\n",
      "550 out of 895 batches used for training\n",
      "560 out of 895 batches used for training\n",
      "570 out of 895 batches used for training\n",
      "580 out of 895 batches used for training\n",
      "590 out of 895 batches used for training\n",
      "600 out of 895 batches used for training\n",
      "610 out of 895 batches used for training\n",
      "620 out of 895 batches used for training\n",
      "630 out of 895 batches used for training\n",
      "640 out of 895 batches used for training\n",
      "650 out of 895 batches used for training\n",
      "660 out of 895 batches used for training\n",
      "670 out of 895 batches used for training\n",
      "680 out of 895 batches used for training\n",
      "690 out of 895 batches used for training\n",
      "700 out of 895 batches used for training\n",
      "710 out of 895 batches used for training\n",
      "720 out of 895 batches used for training\n",
      "730 out of 895 batches used for training\n",
      "740 out of 895 batches used for training\n",
      "750 out of 895 batches used for training\n",
      "760 out of 895 batches used for training\n",
      "770 out of 895 batches used for training\n",
      "780 out of 895 batches used for training\n",
      "790 out of 895 batches used for training\n",
      "800 out of 895 batches used for training\n",
      "810 out of 895 batches used for training\n",
      "820 out of 895 batches used for training\n",
      "830 out of 895 batches used for training\n",
      "840 out of 895 batches used for training\n",
      "850 out of 895 batches used for training\n",
      "860 out of 895 batches used for training\n",
      "870 out of 895 batches used for training\n",
      "880 out of 895 batches used for training\n",
      "890 out of 895 batches used for training\n"
     ]
    }
   ],
   "source": [
    "i=0 #itteration counter\n",
    "X=[]\n",
    "for row in Train_Batches:\n",
    "    \n",
    "    X_batch=Train_Grouped.get_group(row)\n",
    "    X_batch=X_batch.drop(['5IAL_3_301.BatchName'],axis=1)\n",
    "    X_batch=X_batch.values.tolist()\n",
    "\n",
    "    X.append(X_batch)\n",
    "    \n",
    "    i=i+1\n",
    "    # Show only the tenth itteration to avoid clutter, but keep an eye on progress\n",
    "    if (i % 10)==9:\n",
    "        progress='{} out of {} batches used for training'.format(i+1,batches)\n",
    "        print(progress)"
   ]
  },
  {
   "cell_type": "code",
   "execution_count": 21,
   "id": "f4c732b8",
   "metadata": {
    "execution": {
     "iopub.execute_input": "2023-04-19T10:07:53.159658Z",
     "iopub.status.busy": "2023-04-19T10:07:53.159300Z",
     "iopub.status.idle": "2023-04-19T10:07:53.163627Z",
     "shell.execute_reply": "2023-04-19T10:07:53.162508Z"
    },
    "papermill": {
     "duration": 0.020118,
     "end_time": "2023-04-19T10:07:53.165978",
     "exception": false,
     "start_time": "2023-04-19T10:07:53.145860",
     "status": "completed"
    },
    "tags": []
   },
   "outputs": [],
   "source": [
    "# import tensorflow as tf\n",
    "\n",
    "# dataset = tf.ragged.constant(X)"
   ]
  },
  {
   "cell_type": "code",
   "execution_count": 22,
   "id": "8b56e3f3",
   "metadata": {
    "execution": {
     "iopub.execute_input": "2023-04-19T10:07:53.190747Z",
     "iopub.status.busy": "2023-04-19T10:07:53.190447Z",
     "iopub.status.idle": "2023-04-19T10:07:53.194915Z",
     "shell.execute_reply": "2023-04-19T10:07:53.193814Z"
    },
    "papermill": {
     "duration": 0.019363,
     "end_time": "2023-04-19T10:07:53.197114",
     "exception": false,
     "start_time": "2023-04-19T10:07:53.177751",
     "status": "completed"
    },
    "tags": []
   },
   "outputs": [],
   "source": [
    "# history = model.fit(\n",
    "#     dataset,\n",
    "#     y_train,\n",
    "#     epochs=50,\n",
    "#     callbacks=[\n",
    "#         keras.callbacks.EarlyStopping(monitor=\"val_loss\", patience=5, mode=\"min\")\n",
    "#     ],\n",
    "# )\n"
   ]
  },
  {
   "cell_type": "code",
   "execution_count": 23,
   "id": "27e67137",
   "metadata": {
    "execution": {
     "iopub.execute_input": "2023-04-19T10:07:53.221671Z",
     "iopub.status.busy": "2023-04-19T10:07:53.221355Z",
     "iopub.status.idle": "2023-04-19T10:16:57.398955Z",
     "shell.execute_reply": "2023-04-19T10:16:57.397858Z"
    },
    "papermill": {
     "duration": 544.192889,
     "end_time": "2023-04-19T10:16:57.401604",
     "exception": false,
     "start_time": "2023-04-19T10:07:53.208715",
     "status": "completed"
    },
    "tags": []
   },
   "outputs": [
    {
     "name": "stdout",
     "output_type": "stream",
     "text": [
      "10 out of 895 batches used for training\n",
      "20 out of 895 batches used for training\n",
      "30 out of 895 batches used for training\n",
      "40 out of 895 batches used for training\n",
      "50 out of 895 batches used for training\n",
      "60 out of 895 batches used for training\n",
      "70 out of 895 batches used for training\n",
      "80 out of 895 batches used for training\n",
      "90 out of 895 batches used for training\n",
      "100 out of 895 batches used for training\n",
      "110 out of 895 batches used for training\n",
      "120 out of 895 batches used for training\n",
      "130 out of 895 batches used for training\n",
      "140 out of 895 batches used for training\n",
      "150 out of 895 batches used for training\n",
      "160 out of 895 batches used for training\n",
      "170 out of 895 batches used for training\n",
      "180 out of 895 batches used for training\n",
      "190 out of 895 batches used for training\n",
      "200 out of 895 batches used for training\n",
      "210 out of 895 batches used for training\n",
      "220 out of 895 batches used for training\n",
      "230 out of 895 batches used for training\n",
      "240 out of 895 batches used for training\n",
      "250 out of 895 batches used for training\n",
      "260 out of 895 batches used for training\n",
      "270 out of 895 batches used for training\n",
      "280 out of 895 batches used for training\n",
      "290 out of 895 batches used for training\n",
      "300 out of 895 batches used for training\n",
      "310 out of 895 batches used for training\n",
      "320 out of 895 batches used for training\n",
      "330 out of 895 batches used for training\n",
      "340 out of 895 batches used for training\n",
      "350 out of 895 batches used for training\n",
      "360 out of 895 batches used for training\n",
      "370 out of 895 batches used for training\n",
      "380 out of 895 batches used for training\n",
      "390 out of 895 batches used for training\n",
      "400 out of 895 batches used for training\n",
      "410 out of 895 batches used for training\n",
      "420 out of 895 batches used for training\n",
      "430 out of 895 batches used for training\n",
      "440 out of 895 batches used for training\n",
      "450 out of 895 batches used for training\n",
      "460 out of 895 batches used for training\n",
      "470 out of 895 batches used for training\n",
      "480 out of 895 batches used for training\n",
      "490 out of 895 batches used for training\n",
      "500 out of 895 batches used for training\n",
      "510 out of 895 batches used for training\n",
      "520 out of 895 batches used for training\n",
      "530 out of 895 batches used for training\n",
      "540 out of 895 batches used for training\n",
      "550 out of 895 batches used for training\n",
      "560 out of 895 batches used for training\n",
      "570 out of 895 batches used for training\n",
      "580 out of 895 batches used for training\n",
      "590 out of 895 batches used for training\n",
      "600 out of 895 batches used for training\n",
      "610 out of 895 batches used for training\n",
      "620 out of 895 batches used for training\n",
      "630 out of 895 batches used for training\n",
      "640 out of 895 batches used for training\n",
      "650 out of 895 batches used for training\n",
      "660 out of 895 batches used for training\n",
      "670 out of 895 batches used for training\n",
      "680 out of 895 batches used for training\n",
      "690 out of 895 batches used for training\n",
      "700 out of 895 batches used for training\n",
      "710 out of 895 batches used for training\n",
      "720 out of 895 batches used for training\n",
      "730 out of 895 batches used for training\n",
      "740 out of 895 batches used for training\n",
      "750 out of 895 batches used for training\n",
      "760 out of 895 batches used for training\n",
      "770 out of 895 batches used for training\n",
      "780 out of 895 batches used for training\n",
      "790 out of 895 batches used for training\n",
      "800 out of 895 batches used for training\n",
      "810 out of 895 batches used for training\n",
      "820 out of 895 batches used for training\n",
      "830 out of 895 batches used for training\n",
      "840 out of 895 batches used for training\n",
      "850 out of 895 batches used for training\n",
      "860 out of 895 batches used for training\n",
      "870 out of 895 batches used for training\n",
      "880 out of 895 batches used for training\n",
      "890 out of 895 batches used for training\n"
     ]
    }
   ],
   "source": [
    "i=0 #itteration counter\n",
    "for row in Train_Batches:\n",
    "    \n",
    "    #Get 1 batch, make the data fit in the model\n",
    "    X_batch=Train_Grouped.get_group(row)\n",
    "    X_batch=X_batch.drop(['5IAL_3_301.BatchName'],axis=1)\n",
    "    X_batch=np.expand_dims(X_batch,axis=0)\n",
    "    \n",
    "    y_batch=unieque_names['contains_search_string'][(unieque_names[0]==row)]\n",
    "    \n",
    "    #fit the model with the fetched batch\n",
    "    history = model.fit(\n",
    "        X_batch,\n",
    "        y_batch,\n",
    "        epochs=50,\n",
    "        verbose=0,\n",
    "        callbacks=[\n",
    "            keras.callbacks.EarlyStopping(monitor=\"val_loss\", patience=5, mode=\"min\")\n",
    "        ],\n",
    "    )\n",
    "    \n",
    "    \n",
    "    i=i+1\n",
    "    # Show only the tenth itteration to avoid clutter, but keep an eye on progress\n",
    "    if (i % 10)==9:\n",
    "        progress='{} out of {} batches used for training'.format(i+1,batches)\n",
    "        print(progress)"
   ]
  },
  {
   "cell_type": "code",
   "execution_count": 24,
   "id": "5c7e4e46",
   "metadata": {
    "execution": {
     "iopub.execute_input": "2023-04-19T10:16:57.436189Z",
     "iopub.status.busy": "2023-04-19T10:16:57.435858Z",
     "iopub.status.idle": "2023-04-19T10:16:57.441844Z",
     "shell.execute_reply": "2023-04-19T10:16:57.440736Z"
    },
    "papermill": {
     "duration": 0.026419,
     "end_time": "2023-04-19T10:16:57.444715",
     "exception": false,
     "start_time": "2023-04-19T10:16:57.418296",
     "status": "completed"
    },
    "tags": []
   },
   "outputs": [
    {
     "name": "stdout",
     "output_type": "stream",
     "text": [
      "Index(['5IAL_3_TT301.50', '5IAL_3_QIT301.52', '5IAL_3_PIT 301.55',\n",
      "       '5IAL_3_QIT301.57', '5IAL_3_PIT301.60', '5IAL_3_FIT301.61MF',\n",
      "       '5IAL_3_FIT301.61VF', '5IAL_3_FIT301.61D', '5IAL_3_PIT301.63',\n",
      "       '5IAL_3_P301.70', '5IAL_3_R301.71', '5IAL_3_P301.72',\n",
      "       '5IAL_3_XPV301.53', '5IAL_3_XPV301.54', '5IAL_3_XPV301.63',\n",
      "       '5IAL_3_LSL301.51', '5IAL_3_LSL301.53', '5IAL_3_GSC301.44',\n",
      "       '5IAL_3_GSO301.44', '5IAL_3_LSL301.68', '5IAL_3_LSLL301.69',\n",
      "       '5IAL_3_301.OCCUPIED', '5IAL_3_LIT301.54', '5IAL_3_XPV301.13',\n",
      "       '5IAL_3_WY301.54', '5IAL_3_301.BatchName'],\n",
      "      dtype='object')\n"
     ]
    }
   ],
   "source": [
    "print(data_norm.columns)"
   ]
  },
  {
   "cell_type": "markdown",
   "id": "03a03b72",
   "metadata": {
    "papermill": {
     "duration": 0.016107,
     "end_time": "2023-04-19T10:16:57.476819",
     "exception": false,
     "start_time": "2023-04-19T10:16:57.460712",
     "status": "completed"
    },
    "tags": []
   },
   "source": [
    "# Get a random batch from the train set and display it here\n",
    "everytime you run this cel it gets a random batch, be sure to run it a couple of times"
   ]
  },
  {
   "cell_type": "code",
   "execution_count": 25,
   "id": "09766d50",
   "metadata": {
    "execution": {
     "iopub.execute_input": "2023-04-19T10:16:57.512064Z",
     "iopub.status.busy": "2023-04-19T10:16:57.510954Z",
     "iopub.status.idle": "2023-04-19T10:16:57.732422Z",
     "shell.execute_reply": "2023-04-19T10:16:57.731439Z"
    },
    "papermill": {
     "duration": 0.241477,
     "end_time": "2023-04-19T10:16:57.734577",
     "exception": false,
     "start_time": "2023-04-19T10:16:57.493100",
     "status": "completed"
    },
    "tags": []
   },
   "outputs": [
    {
     "name": "stdout",
     "output_type": "stream",
     "text": [
      "1/1 [==============================] - 0s 159ms/step\n",
      "[[ True False]]\n",
      "[0]\n"
     ]
    }
   ],
   "source": [
    "#Get random batch\n",
    "Random_Batch=Train_Grouped.get_group(random.sample(Train_Batches,1)[0])\n",
    "Random_Batch=Random_Batch.drop(['5IAL_3_301.BatchName'],axis=1)\n",
    "Random_Batch=np.expand_dims(Random_Batch,axis=0)\n",
    "\n",
    "# Fit the batch using the model\n",
    "Random_Batch_Pred= model.predict(Random_Batch)\n",
    "\n",
    "t=Random_Batch_Pred>0.5\n",
    "print(t)\n",
    "print([i for i, x in enumerate(t.tolist()) if x])"
   ]
  },
  {
   "cell_type": "markdown",
   "id": "a4150aa7",
   "metadata": {
    "papermill": {
     "duration": 0.016446,
     "end_time": "2023-04-19T10:16:57.768264",
     "exception": false,
     "start_time": "2023-04-19T10:16:57.751818",
     "status": "completed"
    },
    "tags": []
   },
   "source": [
    "## Calculate"
   ]
  },
  {
   "cell_type": "code",
   "execution_count": 26,
   "id": "b9c2913c",
   "metadata": {
    "execution": {
     "iopub.execute_input": "2023-04-19T10:16:57.803173Z",
     "iopub.status.busy": "2023-04-19T10:16:57.802473Z",
     "iopub.status.idle": "2023-04-19T10:17:10.653436Z",
     "shell.execute_reply": "2023-04-19T10:17:10.652402Z"
    },
    "papermill": {
     "duration": 12.870675,
     "end_time": "2023-04-19T10:17:10.655703",
     "exception": false,
     "start_time": "2023-04-19T10:16:57.785028",
     "status": "completed"
    },
    "tags": []
   },
   "outputs": [
    {
     "name": "stdout",
     "output_type": "stream",
     "text": [
      "Done fitting\n"
     ]
    }
   ],
   "source": [
    "# Initalise empy lists\n",
    "pred_array_test=[]\n",
    "y_array_test=[]\n",
    "\n",
    "#len(Test_Batches)\n",
    "for i in range(len(Test_Batches)):\n",
    "    \n",
    "    # Get i-th test batch name\n",
    "    batch_name_loop=Test_Batches[i]\n",
    "    Random_Batch=Test_Grouped.get_group(batch_name_loop)\n",
    "    Random_Batch=Random_Batch.drop(['5IAL_3_301.BatchName'],axis=1)\n",
    "    Random_Batch=np.expand_dims(Random_Batch,axis=0)\n",
    "\n",
    "    \n",
    "    # Fit the batch on the trained model \n",
    "    Random_Batch_Pred= model.predict(Random_Batch,verbose=0)\n",
    "    \n",
    "    t=Random_Batch_Pred>0.5\n",
    "    pred=[i for i, x in enumerate(t.tolist()) if x]\n",
    "    \n",
    "    y_batch=unieque_names['contains_search_string'][(unieque_names[0]==batch_name_loop)]\n",
    "    \n",
    "    pred_array_test.append(pred[0])\n",
    "    y_array_test.append(int(y_batch))\n",
    "    \n",
    "print('Done fitting')\n",
    "\n"
   ]
  },
  {
   "cell_type": "code",
   "execution_count": 27,
   "id": "7ecae86d",
   "metadata": {
    "execution": {
     "iopub.execute_input": "2023-04-19T10:17:10.690586Z",
     "iopub.status.busy": "2023-04-19T10:17:10.690254Z",
     "iopub.status.idle": "2023-04-19T10:17:10.948184Z",
     "shell.execute_reply": "2023-04-19T10:17:10.947458Z"
    },
    "papermill": {
     "duration": 0.277666,
     "end_time": "2023-04-19T10:17:10.950311",
     "exception": false,
     "start_time": "2023-04-19T10:17:10.672645",
     "status": "completed"
    },
    "tags": []
   },
   "outputs": [
    {
     "name": "stdout",
     "output_type": "stream",
     "text": [
      "Test peformance\n",
      "[[222   0]\n",
      " [  2   0]]\n"
     ]
    },
    {
     "data": {
      "image/png": "[encoded data removed]",
      "text/plain": [
       "<Figure size 640x480 with 2 Axes>"
      ]
     },
     "metadata": {},
     "output_type": "display_data"
    }
   ],
   "source": [
    "print('Test peformance')\n",
    "cf=confusion_matrix(y_array_test,pred_array_test)\n",
    "\n",
    "print(cf)\n",
    "cm_display = metrics.ConfusionMatrixDisplay(confusion_matrix = cf, display_labels = [False, True])\n",
    "\n",
    "cm_display.plot()\n",
    "plt.show()"
   ]
  },
  {
   "cell_type": "markdown",
   "id": "9807acae",
   "metadata": {
    "papermill": {
     "duration": 0.016706,
     "end_time": "2023-04-19T10:17:10.984364",
     "exception": false,
     "start_time": "2023-04-19T10:17:10.967658",
     "status": "completed"
    },
    "tags": []
   },
   "source": [
    "## Maak predictie van alle data, dus test+Train"
   ]
  },
  {
   "cell_type": "code",
   "execution_count": 28,
   "id": "89b20463",
   "metadata": {
    "execution": {
     "iopub.execute_input": "2023-04-19T10:17:11.019763Z",
     "iopub.status.busy": "2023-04-19T10:17:11.019019Z",
     "iopub.status.idle": "2023-04-19T10:18:25.239097Z",
     "shell.execute_reply": "2023-04-19T10:18:25.236369Z"
    },
    "papermill": {
     "duration": 74.256427,
     "end_time": "2023-04-19T10:18:25.257573",
     "exception": false,
     "start_time": "2023-04-19T10:17:11.001146",
     "status": "completed"
    },
    "tags": []
   },
   "outputs": [
    {
     "name": "stdout",
     "output_type": "stream",
     "text": [
      "fit on traindata done\n"
     ]
    }
   ],
   "source": [
    "pred_array_train=[]\n",
    "y_array_train=[]\n",
    "\n",
    "\n",
    "for row in Train_Batches:\n",
    "    \n",
    "    pd_data=(data['5IAL_3_301.BatchName']==row)\n",
    "    batch_date=(data['Date'][pd_data[pd_data].index[0]])\n",
    "\n",
    "    \n",
    "    Random_Batch=All_Grouped.get_group(row)\n",
    "    Random_Batch=Random_Batch.drop(['5IAL_3_301.BatchName'],axis=1)\n",
    "    Random_Batch=np.expand_dims(Random_Batch,axis=0)\n",
    "    \n",
    "    Random_Batch_Pred=model.predict(Random_Batch, verbose=0)\n",
    "\n",
    "    t=Random_Batch_Pred>0.5\n",
    "    pred=[i for i, x in enumerate(t.tolist()) if x]\n",
    "    \n",
    "    y_batch=unieque_names['contains_search_string'][(unieque_names[0]==row)]\n",
    "    \n",
    "    pred_array_train.append(pred[0])\n",
    "    y_array_train.append(int(y_batch))\n",
    "    \n",
    "print('fit on traindata done')"
   ]
  },
  {
   "cell_type": "code",
   "execution_count": 29,
   "id": "aad64879",
   "metadata": {
    "execution": {
     "iopub.execute_input": "2023-04-19T10:18:25.293255Z",
     "iopub.status.busy": "2023-04-19T10:18:25.292922Z",
     "iopub.status.idle": "2023-04-19T10:18:25.574900Z",
     "shell.execute_reply": "2023-04-19T10:18:25.573840Z"
    },
    "papermill": {
     "duration": 0.303186,
     "end_time": "2023-04-19T10:18:25.578061",
     "exception": false,
     "start_time": "2023-04-19T10:18:25.274875",
     "status": "completed"
    },
    "tags": []
   },
   "outputs": [
    {
     "name": "stdout",
     "output_type": "stream",
     "text": [
      "train peformance\n",
      "[[867   0]\n",
      " [ 28   0]]\n"
     ]
    },
    {
     "data": {
      "image/png": "[encoded data removed]",
      "text/plain": [
       "<Figure size 640x480 with 2 Axes>"
      ]
     },
     "metadata": {},
     "output_type": "display_data"
    }
   ],
   "source": [
    "print('train peformance')\n",
    "cf=confusion_matrix(y_array_train,pred_array_train)\n",
    "\n",
    "print(cf)\n",
    "cm_display = metrics.ConfusionMatrixDisplay(confusion_matrix = cf, display_labels = [False, True])\n",
    "\n",
    "cm_display.plot()\n",
    "plt.show()"
   ]
  },
  {
   "cell_type": "code",
   "execution_count": 30,
   "id": "347c2e51",
   "metadata": {
    "execution": {
     "iopub.execute_input": "2023-04-19T10:18:25.633226Z",
     "iopub.status.busy": "2023-04-19T10:18:25.632729Z",
     "iopub.status.idle": "2023-04-19T10:18:25.637869Z",
     "shell.execute_reply": "2023-04-19T10:18:25.636929Z"
    },
    "papermill": {
     "duration": 0.036538,
     "end_time": "2023-04-19T10:18:25.642201",
     "exception": false,
     "start_time": "2023-04-19T10:18:25.605663",
     "status": "completed"
    },
    "tags": []
   },
   "outputs": [],
   "source": [
    "pred_array_all = pred_array_train + pred_array_test\n",
    "y_array_all = y_array_train+ y_array_test"
   ]
  },
  {
   "cell_type": "code",
   "execution_count": 31,
   "id": "5566ab3e",
   "metadata": {
    "execution": {
     "iopub.execute_input": "2023-04-19T10:18:25.697471Z",
     "iopub.status.busy": "2023-04-19T10:18:25.696954Z",
     "iopub.status.idle": "2023-04-19T10:18:26.001399Z",
     "shell.execute_reply": "2023-04-19T10:18:26.000452Z"
    },
    "papermill": {
     "duration": 0.340043,
     "end_time": "2023-04-19T10:18:26.008663",
     "exception": false,
     "start_time": "2023-04-19T10:18:25.668620",
     "status": "completed"
    },
    "tags": []
   },
   "outputs": [
    {
     "name": "stdout",
     "output_type": "stream",
     "text": [
      "All peformance\n",
      "[[1089    0]\n",
      " [  30    0]]\n"
     ]
    },
    {
     "data": {
      "image/png": "[encoded data removed]",
      "text/plain": [
       "<Figure size 640x480 with 2 Axes>"
      ]
     },
     "metadata": {},
     "output_type": "display_data"
    }
   ],
   "source": [
    "print('All peformance')\n",
    "cf=confusion_matrix(y_array_all,pred_array_all)\n",
    "\n",
    "print(cf)\n",
    "cm_display = metrics.ConfusionMatrixDisplay(confusion_matrix = cf, display_labels = [False, True])\n",
    "\n",
    "cm_display.plot()\n",
    "plt.show()"
   ]
  }
 ],
 "metadata": {
  "kernelspec": {
   "display_name": "Python 3",
   "language": "python",
   "name": "python3"
  },
  "language_info": {
   "codemirror_mode": {
    "name": "ipython",
    "version": 3
   },
   "file_extension": ".py",
   "mimetype": "text/x-python",
   "name": "python",
   "nbconvert_exporter": "python",
   "pygments_lexer": "ipython3",
   "version": "3.7.12"
  },
  "papermill": {
   "default_parameters": {},
   "duration": 672.026869,
   "end_time": "2023-04-19T10:18:29.686877",
   "environment_variables": {},
   "exception": null,
   "input_path": "__notebook__.ipynb",
   "output_path": "__notebook__.ipynb",
   "parameters": {},
   "start_time": "2023-04-19T10:07:17.660008",
   "version": "2.4.0"
  }
 },
 "nbformat": 4,
 "nbformat_minor": 5
}
